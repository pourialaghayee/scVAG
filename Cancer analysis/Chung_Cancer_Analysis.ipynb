{
  "cells": [
    {
      "cell_type": "code",
      "execution_count": 1,
      "metadata": {
        "colab": {
          "base_uri": "https://localhost:8080/"
        },
        "id": "egZUQsk1T0En",
        "outputId": "443ca03d-b243-492f-8932-a3cb27f1c9b6"
      },
      "outputs": [
        {
          "output_type": "stream",
          "name": "stderr",
          "text": [
            "Installing package into ‘/usr/local/lib/R/site-library’\n",
            "(as ‘lib’ is unspecified)\n",
            "\n",
            "'getOption(\"repos\")' replaces Bioconductor standard repositories, see\n",
            "'help(\"repositories\", package = \"BiocManager\")' for details.\n",
            "Replacement repositories:\n",
            "    CRAN: https://cran.rstudio.com\n",
            "\n",
            "Bioconductor version 3.18 (BiocManager 1.30.22), R 4.3.3 (2024-02-29)\n",
            "\n",
            "Installing package(s) 'BiocVersion', 'DESeq2'\n",
            "\n",
            "also installing the dependencies ‘bitops’, ‘formatR’, ‘RCurl’, ‘GenomeInfoDbData’, ‘zlibbioc’, ‘abind’, ‘SparseArray’, ‘lambda.r’, ‘futile.options’, ‘GenomeInfoDb’, ‘XVector’, ‘S4Arrays’, ‘DelayedArray’, ‘futile.logger’, ‘snow’, ‘BH’, ‘S4Vectors’, ‘IRanges’, ‘GenomicRanges’, ‘SummarizedExperiment’, ‘BiocGenerics’, ‘Biobase’, ‘BiocParallel’, ‘matrixStats’, ‘locfit’, ‘Rcpp’, ‘MatrixGenerics’, ‘RcppArmadillo’\n",
            "\n",
            "\n",
            "Old packages: 'bit', 'bslib', 'callr', 'curl', 'data.table', 'DBI', 'dbplyr',\n",
            "  'devtools', 'digest', 'gargle', 'ggplot2', 'gh', 'gtable', 'highr',\n",
            "  'htmltools', 'httr2', 'isoband', 'knitr', 'munsell', 'openssl', 'pkgbuild',\n",
            "  'processx', 'ragg', 'remotes', 'rmarkdown', 'rstudioapi', 'rvest', 'sass',\n",
            "  'systemfonts', 'testthat', 'textshaping', 'tidyselect', 'tinytex', 'usethis',\n",
            "  'whisker', 'xfun', 'zip', 'codetools', 'lattice', 'nlme', 'survival'\n",
            "\n"
          ]
        }
      ],
      "source": [
        "# Install DESeq2\n",
        "if (!require(\"BiocManager\", quietly = TRUE))\n",
        "  install.packages(\"BiocManager\")\n",
        "BiocManager::install(\"DESeq2\")"
      ]
    },
    {
      "cell_type": "code",
      "execution_count": 2,
      "metadata": {
        "colab": {
          "base_uri": "https://localhost:8080/"
        },
        "id": "ilrZyrsJUnlE",
        "outputId": "d0fd301d-1f38-41a7-d2b9-0f2c1047f62f"
      },
      "outputs": [
        {
          "output_type": "stream",
          "name": "stderr",
          "text": [
            "'getOption(\"repos\")' replaces Bioconductor standard repositories, see\n",
            "'help(\"repositories\", package = \"BiocManager\")' for details.\n",
            "Replacement repositories:\n",
            "    CRAN: https://cran.rstudio.com\n",
            "\n",
            "Bioconductor version 3.18 (BiocManager 1.30.22), R 4.3.3 (2024-02-29)\n",
            "\n",
            "Installing package(s) 'biomaRt'\n",
            "\n",
            "also installing the dependencies ‘plogr’, ‘png’, ‘Biostrings’, ‘RSQLite’, ‘KEGGREST’, ‘filelock’, ‘XML’, ‘AnnotationDbi’, ‘BiocFileCache’\n",
            "\n",
            "\n",
            "Old packages: 'bit', 'bslib', 'callr', 'curl', 'data.table', 'DBI', 'dbplyr',\n",
            "  'devtools', 'digest', 'gargle', 'ggplot2', 'gh', 'gtable', 'highr',\n",
            "  'htmltools', 'httr2', 'isoband', 'knitr', 'munsell', 'openssl', 'pkgbuild',\n",
            "  'processx', 'ragg', 'remotes', 'rmarkdown', 'rstudioapi', 'rvest', 'sass',\n",
            "  'systemfonts', 'testthat', 'textshaping', 'tidyselect', 'tinytex', 'usethis',\n",
            "  'whisker', 'xfun', 'zip', 'codetools', 'lattice', 'nlme', 'survival'\n",
            "\n"
          ]
        }
      ],
      "source": [
        "# a helper function to convert Genes to Entrez IDs\n",
        "if(!requireNamespace(\"BiocManager\", quietly = TRUE))\n",
        "    install.packages(\"BiocManager\")\n",
        "BiocManager::install(\"biomaRt\")"
      ]
    },
    {
      "cell_type": "code",
      "execution_count": 3,
      "metadata": {
        "colab": {
          "base_uri": "https://localhost:8080/"
        },
        "id": "ySbUQCYBUp2q",
        "outputId": "4477b988-1e22-4d89-da30-f210572eb369"
      },
      "outputs": [
        {
          "output_type": "stream",
          "name": "stderr",
          "text": [
            "'getOption(\"repos\")' replaces Bioconductor standard repositories, see\n",
            "'help(\"repositories\", package = \"BiocManager\")' for details.\n",
            "Replacement repositories:\n",
            "    CRAN: https://cran.rstudio.com\n",
            "\n",
            "Bioconductor version 3.18 (BiocManager 1.30.22), R 4.3.3 (2024-02-29)\n",
            "\n",
            "Installing package(s) 'limma'\n",
            "\n",
            "also installing the dependency ‘statmod’\n",
            "\n",
            "\n",
            "Old packages: 'bit', 'bslib', 'callr', 'curl', 'data.table', 'DBI', 'dbplyr',\n",
            "  'devtools', 'digest', 'gargle', 'ggplot2', 'gh', 'gtable', 'highr',\n",
            "  'htmltools', 'httr2', 'isoband', 'knitr', 'munsell', 'openssl', 'pkgbuild',\n",
            "  'processx', 'ragg', 'remotes', 'rmarkdown', 'rstudioapi', 'rvest', 'sass',\n",
            "  'systemfonts', 'testthat', 'textshaping', 'tidyselect', 'tinytex', 'usethis',\n",
            "  'whisker', 'xfun', 'zip', 'codetools', 'lattice', 'nlme', 'survival'\n",
            "\n"
          ]
        }
      ],
      "source": [
        "if (!require(\"BiocManager\", quietly = TRUE))\n",
        "    install.packages(\"BiocManager\")\n",
        "BiocManager::install(\"limma\")"
      ]
    },
    {
      "cell_type": "code",
      "execution_count": 4,
      "metadata": {
        "colab": {
          "base_uri": "https://localhost:8080/"
        },
        "id": "Tg6FGKYuVUzN",
        "outputId": "0b9a04bd-8cbe-4a85-b96c-89e632044f42"
      },
      "outputs": [
        {
          "output_type": "stream",
          "name": "stderr",
          "text": [
            "Loading required package: S4Vectors\n",
            "\n",
            "Loading required package: stats4\n",
            "\n",
            "Loading required package: BiocGenerics\n",
            "\n",
            "\n",
            "Attaching package: ‘BiocGenerics’\n",
            "\n",
            "\n",
            "The following objects are masked from ‘package:stats’:\n",
            "\n",
            "    IQR, mad, sd, var, xtabs\n",
            "\n",
            "\n",
            "The following objects are masked from ‘package:base’:\n",
            "\n",
            "    anyDuplicated, aperm, append, as.data.frame, basename, cbind,\n",
            "    colnames, dirname, do.call, duplicated, eval, evalq, Filter, Find,\n",
            "    get, grep, grepl, intersect, is.unsorted, lapply, Map, mapply,\n",
            "    match, mget, order, paste, pmax, pmax.int, pmin, pmin.int,\n",
            "    Position, rank, rbind, Reduce, rownames, sapply, setdiff, sort,\n",
            "    table, tapply, union, unique, unsplit, which.max, which.min\n",
            "\n",
            "\n",
            "\n",
            "Attaching package: ‘S4Vectors’\n",
            "\n",
            "\n",
            "The following object is masked from ‘package:utils’:\n",
            "\n",
            "    findMatches\n",
            "\n",
            "\n",
            "The following objects are masked from ‘package:base’:\n",
            "\n",
            "    expand.grid, I, unname\n",
            "\n",
            "\n",
            "Loading required package: IRanges\n",
            "\n",
            "Loading required package: GenomicRanges\n",
            "\n",
            "Loading required package: GenomeInfoDb\n",
            "\n",
            "Loading required package: SummarizedExperiment\n",
            "\n",
            "Loading required package: MatrixGenerics\n",
            "\n",
            "Loading required package: matrixStats\n",
            "\n",
            "\n",
            "Attaching package: ‘MatrixGenerics’\n",
            "\n",
            "\n",
            "The following objects are masked from ‘package:matrixStats’:\n",
            "\n",
            "    colAlls, colAnyNAs, colAnys, colAvgsPerRowSet, colCollapse,\n",
            "    colCounts, colCummaxs, colCummins, colCumprods, colCumsums,\n",
            "    colDiffs, colIQRDiffs, colIQRs, colLogSumExps, colMadDiffs,\n",
            "    colMads, colMaxs, colMeans2, colMedians, colMins, colOrderStats,\n",
            "    colProds, colQuantiles, colRanges, colRanks, colSdDiffs, colSds,\n",
            "    colSums2, colTabulates, colVarDiffs, colVars, colWeightedMads,\n",
            "    colWeightedMeans, colWeightedMedians, colWeightedSds,\n",
            "    colWeightedVars, rowAlls, rowAnyNAs, rowAnys, rowAvgsPerColSet,\n",
            "    rowCollapse, rowCounts, rowCummaxs, rowCummins, rowCumprods,\n",
            "    rowCumsums, rowDiffs, rowIQRDiffs, rowIQRs, rowLogSumExps,\n",
            "    rowMadDiffs, rowMads, rowMaxs, rowMeans2, rowMedians, rowMins,\n",
            "    rowOrderStats, rowProds, rowQuantiles, rowRanges, rowRanks,\n",
            "    rowSdDiffs, rowSds, rowSums2, rowTabulates, rowVarDiffs, rowVars,\n",
            "    rowWeightedMads, rowWeightedMeans, rowWeightedMedians,\n",
            "    rowWeightedSds, rowWeightedVars\n",
            "\n",
            "\n",
            "Loading required package: Biobase\n",
            "\n",
            "Welcome to Bioconductor\n",
            "\n",
            "    Vignettes contain introductory material; view with\n",
            "    'browseVignettes()'. To cite Bioconductor, see\n",
            "    'citation(\"Biobase\")', and for packages 'citation(\"pkgname\")'.\n",
            "\n",
            "\n",
            "\n",
            "Attaching package: ‘Biobase’\n",
            "\n",
            "\n",
            "The following object is masked from ‘package:MatrixGenerics’:\n",
            "\n",
            "    rowMedians\n",
            "\n",
            "\n",
            "The following objects are masked from ‘package:matrixStats’:\n",
            "\n",
            "    anyMissing, rowMedians\n",
            "\n",
            "\n"
          ]
        }
      ],
      "source": [
        "# Load DESeq2 package\n",
        "library(DESeq2)"
      ]
    },
    {
      "cell_type": "code",
      "execution_count": 5,
      "metadata": {
        "id": "x_65FZE-VVWl"
      },
      "outputs": [],
      "source": [
        "library(biomaRt)"
      ]
    },
    {
      "cell_type": "code",
      "execution_count": 6,
      "metadata": {
        "id": "z-JKr8_gVY8z",
        "colab": {
          "base_uri": "https://localhost:8080/"
        },
        "outputId": "1609bdec-0e5d-4f9f-d606-240b593b91ae"
      },
      "outputs": [
        {
          "output_type": "stream",
          "name": "stderr",
          "text": [
            "\n",
            "Attaching package: ‘limma’\n",
            "\n",
            "\n",
            "The following object is masked from ‘package:DESeq2’:\n",
            "\n",
            "    plotMA\n",
            "\n",
            "\n",
            "The following object is masked from ‘package:BiocGenerics’:\n",
            "\n",
            "    plotMA\n",
            "\n",
            "\n",
            "starting httpd help server ...\n",
            " done\n",
            "\n"
          ]
        }
      ],
      "source": [
        "library(limma)\n",
        "browseVignettes(\"limma\")"
      ]
    },
    {
      "cell_type": "code",
      "execution_count": 7,
      "metadata": {
        "id": "DTZ-dcoFVbAa",
        "colab": {
          "base_uri": "https://localhost:8080/"
        },
        "outputId": "ff52f842-61ae-4180-c0a4-94f353d48c1e"
      },
      "outputs": [
        {
          "output_type": "stream",
          "name": "stderr",
          "text": [
            "\n",
            "Attaching package: ‘dplyr’\n",
            "\n",
            "\n",
            "The following object is masked from ‘package:biomaRt’:\n",
            "\n",
            "    select\n",
            "\n",
            "\n",
            "The following object is masked from ‘package:Biobase’:\n",
            "\n",
            "    combine\n",
            "\n",
            "\n",
            "The following object is masked from ‘package:matrixStats’:\n",
            "\n",
            "    count\n",
            "\n",
            "\n",
            "The following objects are masked from ‘package:GenomicRanges’:\n",
            "\n",
            "    intersect, setdiff, union\n",
            "\n",
            "\n",
            "The following object is masked from ‘package:GenomeInfoDb’:\n",
            "\n",
            "    intersect\n",
            "\n",
            "\n",
            "The following objects are masked from ‘package:IRanges’:\n",
            "\n",
            "    collapse, desc, intersect, setdiff, slice, union\n",
            "\n",
            "\n",
            "The following objects are masked from ‘package:S4Vectors’:\n",
            "\n",
            "    first, intersect, rename, setdiff, setequal, union\n",
            "\n",
            "\n",
            "The following objects are masked from ‘package:BiocGenerics’:\n",
            "\n",
            "    combine, intersect, setdiff, union\n",
            "\n",
            "\n",
            "The following objects are masked from ‘package:stats’:\n",
            "\n",
            "    filter, lag\n",
            "\n",
            "\n",
            "The following objects are masked from ‘package:base’:\n",
            "\n",
            "    intersect, setdiff, setequal, union\n",
            "\n",
            "\n"
          ]
        }
      ],
      "source": [
        "library(dplyr)"
      ]
    },
    {
      "cell_type": "code",
      "source": [
        "system(\"! gdown 13ELwJURDlaqGkU4F_A4i75VgAv2N-JDG\")"
      ],
      "metadata": {
        "id": "1rYcmNZ0M4BQ"
      },
      "execution_count": 8,
      "outputs": []
    },
    {
      "cell_type": "code",
      "source": [
        "system(\"! gdown 14IlSP8iE0W5xMhHG0vow0SOEI8nh1MY4\")"
      ],
      "metadata": {
        "id": "__Aahr7ydqYg"
      },
      "execution_count": 9,
      "outputs": []
    },
    {
      "cell_type": "code",
      "source": [
        "# Read Expression data\n",
        "data <- read.table(\"data.tsv\", sep=\"\\t\", header=TRUE)\n",
        "row.names(data) = data$X\n",
        "data = select(data, -X)\n",
        "head(data)"
      ],
      "metadata": {
        "colab": {
          "base_uri": "https://localhost:8080/",
          "height": 306
        },
        "id": "WJ_vlHodNC35",
        "outputId": "09c3703a-5bc4-45e5-966b-d7eb917dc2c6"
      },
      "execution_count": 10,
      "outputs": [
        {
          "output_type": "display_data",
          "data": {
            "text/html": [
              "<table class=\"dataframe\">\n",
              "<caption>A data.frame: 6 × 515</caption>\n",
              "<thead>\n",
              "\t<tr><th></th><th scope=col>BC01_02</th><th scope=col>BC01_03</th><th scope=col>BC01_04</th><th scope=col>BC01_05</th><th scope=col>BC01_06</th><th scope=col>BC01_08</th><th scope=col>BC01_10</th><th scope=col>BC01_12</th><th scope=col>BC01_33</th><th scope=col>BC01_34</th><th scope=col>⋯</th><th scope=col>BC06_28</th><th scope=col>BC06_29</th><th scope=col>BC06_32</th><th scope=col>BC06_39</th><th scope=col>BC06_40</th><th scope=col>BC06_43</th><th scope=col>BC06_58</th><th scope=col>BC06_60</th><th scope=col>BC06_61</th><th scope=col>BC06_74</th></tr>\n",
              "\t<tr><th></th><th scope=col>&lt;dbl&gt;</th><th scope=col>&lt;dbl&gt;</th><th scope=col>&lt;dbl&gt;</th><th scope=col>&lt;dbl&gt;</th><th scope=col>&lt;dbl&gt;</th><th scope=col>&lt;dbl&gt;</th><th scope=col>&lt;dbl&gt;</th><th scope=col>&lt;dbl&gt;</th><th scope=col>&lt;dbl&gt;</th><th scope=col>&lt;dbl&gt;</th><th scope=col>⋯</th><th scope=col>&lt;dbl&gt;</th><th scope=col>&lt;dbl&gt;</th><th scope=col>&lt;dbl&gt;</th><th scope=col>&lt;dbl&gt;</th><th scope=col>&lt;dbl&gt;</th><th scope=col>&lt;dbl&gt;</th><th scope=col>&lt;dbl&gt;</th><th scope=col>&lt;dbl&gt;</th><th scope=col>&lt;dbl&gt;</th><th scope=col>&lt;dbl&gt;</th></tr>\n",
              "</thead>\n",
              "<tbody>\n",
              "\t<tr><th scope=row>ENSG00000000003.10</th><td> 0.00</td><td>  0.00</td><td> 0.00</td><td>  0.00</td><td> 0.00</td><td> 19.38</td><td>  0.00</td><td> 0.00</td><td>  0.00</td><td> 0.00</td><td>⋯</td><td> 5.91</td><td> 0.0</td><td>40.94</td><td> 48.29</td><td>  0.00</td><td>94.55</td><td>0</td><td>  0.00</td><td>  0.00</td><td>134.37</td></tr>\n",
              "\t<tr><th scope=row>ENSG00000000419.8</th><td>50.73</td><td>120.46</td><td> 6.97</td><td>180.85</td><td>32.09</td><td>140.00</td><td> 38.06</td><td>10.77</td><td>122.08</td><td>49.06</td><td>⋯</td><td>90.55</td><td>19.6</td><td>98.88</td><td>301.39</td><td>378.47</td><td> 6.26</td><td>0</td><td>349.99</td><td>113.86</td><td>215.40</td></tr>\n",
              "\t<tr><th scope=row>ENSG00000000457.9</th><td> 3.28</td><td>  0.81</td><td>92.23</td><td>  6.44</td><td>59.78</td><td> 37.75</td><td>117.92</td><td> 0.00</td><td> 29.99</td><td> 7.11</td><td>⋯</td><td>72.17</td><td> 0.0</td><td> 0.00</td><td>  5.45</td><td>  0.00</td><td> 0.00</td><td>0</td><td>  1.10</td><td>  0.00</td><td>  4.21</td></tr>\n",
              "\t<tr><th scope=row>ENSG00000000460.12</th><td> 0.00</td><td> 13.42</td><td> 0.34</td><td>  0.26</td><td> 0.00</td><td>  0.00</td><td>  0.67</td><td> 0.00</td><td>  0.00</td><td> 0.00</td><td>⋯</td><td> 0.09</td><td> 0.0</td><td> 7.84</td><td>  0.00</td><td> 89.45</td><td> 0.00</td><td>0</td><td>  0.00</td><td>  0.00</td><td>  0.00</td></tr>\n",
              "\t<tr><th scope=row>ENSG00000000938.8</th><td> 0.00</td><td>  0.00</td><td> 0.00</td><td>  0.00</td><td> 0.00</td><td>  0.00</td><td>  0.00</td><td> 0.00</td><td>  0.00</td><td> 0.00</td><td>⋯</td><td> 0.00</td><td> 0.0</td><td> 0.00</td><td>  0.00</td><td>  0.00</td><td> 0.00</td><td>0</td><td>  0.00</td><td>  0.00</td><td>  0.00</td></tr>\n",
              "\t<tr><th scope=row>ENSG00000000971.11</th><td> 0.00</td><td>  0.00</td><td> 0.00</td><td>  0.00</td><td> 0.33</td><td>  0.00</td><td>  0.00</td><td> 0.00</td><td>  0.00</td><td> 0.00</td><td>⋯</td><td> 0.00</td><td> 0.0</td><td> 0.00</td><td>  0.00</td><td>  0.00</td><td> 0.09</td><td>0</td><td>  0.00</td><td>  0.00</td><td>  0.00</td></tr>\n",
              "</tbody>\n",
              "</table>\n"
            ],
            "text/markdown": "\nA data.frame: 6 × 515\n\n| <!--/--> | BC01_02 &lt;dbl&gt; | BC01_03 &lt;dbl&gt; | BC01_04 &lt;dbl&gt; | BC01_05 &lt;dbl&gt; | BC01_06 &lt;dbl&gt; | BC01_08 &lt;dbl&gt; | BC01_10 &lt;dbl&gt; | BC01_12 &lt;dbl&gt; | BC01_33 &lt;dbl&gt; | BC01_34 &lt;dbl&gt; | ⋯ ⋯ | BC06_28 &lt;dbl&gt; | BC06_29 &lt;dbl&gt; | BC06_32 &lt;dbl&gt; | BC06_39 &lt;dbl&gt; | BC06_40 &lt;dbl&gt; | BC06_43 &lt;dbl&gt; | BC06_58 &lt;dbl&gt; | BC06_60 &lt;dbl&gt; | BC06_61 &lt;dbl&gt; | BC06_74 &lt;dbl&gt; |\n|---|---|---|---|---|---|---|---|---|---|---|---|---|---|---|---|---|---|---|---|---|---|\n| ENSG00000000003.10 |  0.00 |   0.00 |  0.00 |   0.00 |  0.00 |  19.38 |   0.00 |  0.00 |   0.00 |  0.00 | ⋯ |  5.91 |  0.0 | 40.94 |  48.29 |   0.00 | 94.55 | 0 |   0.00 |   0.00 | 134.37 |\n| ENSG00000000419.8 | 50.73 | 120.46 |  6.97 | 180.85 | 32.09 | 140.00 |  38.06 | 10.77 | 122.08 | 49.06 | ⋯ | 90.55 | 19.6 | 98.88 | 301.39 | 378.47 |  6.26 | 0 | 349.99 | 113.86 | 215.40 |\n| ENSG00000000457.9 |  3.28 |   0.81 | 92.23 |   6.44 | 59.78 |  37.75 | 117.92 |  0.00 |  29.99 |  7.11 | ⋯ | 72.17 |  0.0 |  0.00 |   5.45 |   0.00 |  0.00 | 0 |   1.10 |   0.00 |   4.21 |\n| ENSG00000000460.12 |  0.00 |  13.42 |  0.34 |   0.26 |  0.00 |   0.00 |   0.67 |  0.00 |   0.00 |  0.00 | ⋯ |  0.09 |  0.0 |  7.84 |   0.00 |  89.45 |  0.00 | 0 |   0.00 |   0.00 |   0.00 |\n| ENSG00000000938.8 |  0.00 |   0.00 |  0.00 |   0.00 |  0.00 |   0.00 |   0.00 |  0.00 |   0.00 |  0.00 | ⋯ |  0.00 |  0.0 |  0.00 |   0.00 |   0.00 |  0.00 | 0 |   0.00 |   0.00 |   0.00 |\n| ENSG00000000971.11 |  0.00 |   0.00 |  0.00 |   0.00 |  0.33 |   0.00 |   0.00 |  0.00 |   0.00 |  0.00 | ⋯ |  0.00 |  0.0 |  0.00 |   0.00 |   0.00 |  0.09 | 0 |   0.00 |   0.00 |   0.00 |\n\n",
            "text/latex": "A data.frame: 6 × 515\n\\begin{tabular}{r|lllllllllllllllllllll}\n  & BC01\\_02 & BC01\\_03 & BC01\\_04 & BC01\\_05 & BC01\\_06 & BC01\\_08 & BC01\\_10 & BC01\\_12 & BC01\\_33 & BC01\\_34 & ⋯ & BC06\\_28 & BC06\\_29 & BC06\\_32 & BC06\\_39 & BC06\\_40 & BC06\\_43 & BC06\\_58 & BC06\\_60 & BC06\\_61 & BC06\\_74\\\\\n  & <dbl> & <dbl> & <dbl> & <dbl> & <dbl> & <dbl> & <dbl> & <dbl> & <dbl> & <dbl> & ⋯ & <dbl> & <dbl> & <dbl> & <dbl> & <dbl> & <dbl> & <dbl> & <dbl> & <dbl> & <dbl>\\\\\n\\hline\n\tENSG00000000003.10 &  0.00 &   0.00 &  0.00 &   0.00 &  0.00 &  19.38 &   0.00 &  0.00 &   0.00 &  0.00 & ⋯ &  5.91 &  0.0 & 40.94 &  48.29 &   0.00 & 94.55 & 0 &   0.00 &   0.00 & 134.37\\\\\n\tENSG00000000419.8 & 50.73 & 120.46 &  6.97 & 180.85 & 32.09 & 140.00 &  38.06 & 10.77 & 122.08 & 49.06 & ⋯ & 90.55 & 19.6 & 98.88 & 301.39 & 378.47 &  6.26 & 0 & 349.99 & 113.86 & 215.40\\\\\n\tENSG00000000457.9 &  3.28 &   0.81 & 92.23 &   6.44 & 59.78 &  37.75 & 117.92 &  0.00 &  29.99 &  7.11 & ⋯ & 72.17 &  0.0 &  0.00 &   5.45 &   0.00 &  0.00 & 0 &   1.10 &   0.00 &   4.21\\\\\n\tENSG00000000460.12 &  0.00 &  13.42 &  0.34 &   0.26 &  0.00 &   0.00 &   0.67 &  0.00 &   0.00 &  0.00 & ⋯ &  0.09 &  0.0 &  7.84 &   0.00 &  89.45 &  0.00 & 0 &   0.00 &   0.00 &   0.00\\\\\n\tENSG00000000938.8 &  0.00 &   0.00 &  0.00 &   0.00 &  0.00 &   0.00 &   0.00 &  0.00 &   0.00 &  0.00 & ⋯ &  0.00 &  0.0 &  0.00 &   0.00 &   0.00 &  0.00 & 0 &   0.00 &   0.00 &   0.00\\\\\n\tENSG00000000971.11 &  0.00 &   0.00 &  0.00 &   0.00 &  0.33 &   0.00 &   0.00 &  0.00 &   0.00 &  0.00 & ⋯ &  0.00 &  0.0 &  0.00 &   0.00 &   0.00 &  0.09 & 0 &   0.00 &   0.00 &   0.00\\\\\n\\end{tabular}\n",
            "text/plain": [
              "                   BC01_02 BC01_03 BC01_04 BC01_05 BC01_06 BC01_08 BC01_10\n",
              "ENSG00000000003.10  0.00     0.00   0.00     0.00   0.00    19.38    0.00 \n",
              "ENSG00000000419.8  50.73   120.46   6.97   180.85  32.09   140.00   38.06 \n",
              "ENSG00000000457.9   3.28     0.81  92.23     6.44  59.78    37.75  117.92 \n",
              "ENSG00000000460.12  0.00    13.42   0.34     0.26   0.00     0.00    0.67 \n",
              "ENSG00000000938.8   0.00     0.00   0.00     0.00   0.00     0.00    0.00 \n",
              "ENSG00000000971.11  0.00     0.00   0.00     0.00   0.33     0.00    0.00 \n",
              "                   BC01_12 BC01_33 BC01_34 ⋯ BC06_28 BC06_29 BC06_32 BC06_39\n",
              "ENSG00000000003.10  0.00     0.00   0.00   ⋯  5.91    0.0    40.94    48.29 \n",
              "ENSG00000000419.8  10.77   122.08  49.06   ⋯ 90.55   19.6    98.88   301.39 \n",
              "ENSG00000000457.9   0.00    29.99   7.11   ⋯ 72.17    0.0     0.00     5.45 \n",
              "ENSG00000000460.12  0.00     0.00   0.00   ⋯  0.09    0.0     7.84     0.00 \n",
              "ENSG00000000938.8   0.00     0.00   0.00   ⋯  0.00    0.0     0.00     0.00 \n",
              "ENSG00000000971.11  0.00     0.00   0.00   ⋯  0.00    0.0     0.00     0.00 \n",
              "                   BC06_40 BC06_43 BC06_58 BC06_60 BC06_61 BC06_74\n",
              "ENSG00000000003.10   0.00  94.55   0         0.00    0.00  134.37 \n",
              "ENSG00000000419.8  378.47   6.26   0       349.99  113.86  215.40 \n",
              "ENSG00000000457.9    0.00   0.00   0         1.10    0.00    4.21 \n",
              "ENSG00000000460.12  89.45   0.00   0         0.00    0.00    0.00 \n",
              "ENSG00000000938.8    0.00   0.00   0         0.00    0.00    0.00 \n",
              "ENSG00000000971.11   0.00   0.09   0         0.00    0.00    0.00 "
            ]
          },
          "metadata": {}
        }
      ]
    },
    {
      "cell_type": "code",
      "source": [
        "dim(data)"
      ],
      "metadata": {
        "colab": {
          "base_uri": "https://localhost:8080/",
          "height": 34
        },
        "id": "dQt5sCePNv2O",
        "outputId": "8eb93792-e791-40c8-87da-20cb147067ac"
      },
      "execution_count": 11,
      "outputs": [
        {
          "output_type": "display_data",
          "data": {
            "text/html": [
              "<style>\n",
              ".list-inline {list-style: none; margin:0; padding: 0}\n",
              ".list-inline>li {display: inline-block}\n",
              ".list-inline>li:not(:last-child)::after {content: \"\\00b7\"; padding: 0 .5ex}\n",
              "</style>\n",
              "<ol class=list-inline><li>27420</li><li>515</li></ol>\n"
            ],
            "text/markdown": "1. 27420\n2. 515\n\n\n",
            "text/latex": "\\begin{enumerate*}\n\\item 27420\n\\item 515\n\\end{enumerate*}\n",
            "text/plain": [
              "[1] 27420   515"
            ]
          },
          "metadata": {}
        }
      ]
    },
    {
      "cell_type": "code",
      "source": [
        "label <- read.csv(\"pred_Chung.txt\", sep=\"\\t\")\n",
        "head(label)"
      ],
      "metadata": {
        "colab": {
          "base_uri": "https://localhost:8080/",
          "height": 286
        },
        "id": "J2z61xArN9z-",
        "outputId": "4f9bb595-385a-4b9f-e7ba-5296d06a980a"
      },
      "execution_count": 12,
      "outputs": [
        {
          "output_type": "display_data",
          "data": {
            "text/html": [
              "<table class=\"dataframe\">\n",
              "<caption>A data.frame: 6 × 2</caption>\n",
              "<thead>\n",
              "\t<tr><th></th><th scope=col>cell</th><th scope=col>label</th></tr>\n",
              "\t<tr><th></th><th scope=col>&lt;chr&gt;</th><th scope=col>&lt;int&gt;</th></tr>\n",
              "</thead>\n",
              "<tbody>\n",
              "\t<tr><th scope=row>1</th><td>BC01_02</td><td>4</td></tr>\n",
              "\t<tr><th scope=row>2</th><td>BC01_03</td><td>4</td></tr>\n",
              "\t<tr><th scope=row>3</th><td>BC01_04</td><td>4</td></tr>\n",
              "\t<tr><th scope=row>4</th><td>BC01_05</td><td>4</td></tr>\n",
              "\t<tr><th scope=row>5</th><td>BC01_06</td><td>4</td></tr>\n",
              "\t<tr><th scope=row>6</th><td>BC01_08</td><td>4</td></tr>\n",
              "</tbody>\n",
              "</table>\n"
            ],
            "text/markdown": "\nA data.frame: 6 × 2\n\n| <!--/--> | cell &lt;chr&gt; | label &lt;int&gt; |\n|---|---|---|\n| 1 | BC01_02 | 4 |\n| 2 | BC01_03 | 4 |\n| 3 | BC01_04 | 4 |\n| 4 | BC01_05 | 4 |\n| 5 | BC01_06 | 4 |\n| 6 | BC01_08 | 4 |\n\n",
            "text/latex": "A data.frame: 6 × 2\n\\begin{tabular}{r|ll}\n  & cell & label\\\\\n  & <chr> & <int>\\\\\n\\hline\n\t1 & BC01\\_02 & 4\\\\\n\t2 & BC01\\_03 & 4\\\\\n\t3 & BC01\\_04 & 4\\\\\n\t4 & BC01\\_05 & 4\\\\\n\t5 & BC01\\_06 & 4\\\\\n\t6 & BC01\\_08 & 4\\\\\n\\end{tabular}\n",
            "text/plain": [
              "  cell    label\n",
              "1 BC01_02 4    \n",
              "2 BC01_03 4    \n",
              "3 BC01_04 4    \n",
              "4 BC01_05 4    \n",
              "5 BC01_06 4    \n",
              "6 BC01_08 4    "
            ]
          },
          "metadata": {}
        }
      ]
    },
    {
      "cell_type": "code",
      "source": [
        "head(data)"
      ],
      "metadata": {
        "id": "Y_LiCNazOv1x",
        "colab": {
          "base_uri": "https://localhost:8080/",
          "height": 306
        },
        "outputId": "ac04ef46-a1d6-4eeb-e7d3-c670b22ebe69"
      },
      "execution_count": 13,
      "outputs": [
        {
          "output_type": "display_data",
          "data": {
            "text/html": [
              "<table class=\"dataframe\">\n",
              "<caption>A data.frame: 6 × 515</caption>\n",
              "<thead>\n",
              "\t<tr><th></th><th scope=col>BC01_02</th><th scope=col>BC01_03</th><th scope=col>BC01_04</th><th scope=col>BC01_05</th><th scope=col>BC01_06</th><th scope=col>BC01_08</th><th scope=col>BC01_10</th><th scope=col>BC01_12</th><th scope=col>BC01_33</th><th scope=col>BC01_34</th><th scope=col>⋯</th><th scope=col>BC06_28</th><th scope=col>BC06_29</th><th scope=col>BC06_32</th><th scope=col>BC06_39</th><th scope=col>BC06_40</th><th scope=col>BC06_43</th><th scope=col>BC06_58</th><th scope=col>BC06_60</th><th scope=col>BC06_61</th><th scope=col>BC06_74</th></tr>\n",
              "\t<tr><th></th><th scope=col>&lt;dbl&gt;</th><th scope=col>&lt;dbl&gt;</th><th scope=col>&lt;dbl&gt;</th><th scope=col>&lt;dbl&gt;</th><th scope=col>&lt;dbl&gt;</th><th scope=col>&lt;dbl&gt;</th><th scope=col>&lt;dbl&gt;</th><th scope=col>&lt;dbl&gt;</th><th scope=col>&lt;dbl&gt;</th><th scope=col>&lt;dbl&gt;</th><th scope=col>⋯</th><th scope=col>&lt;dbl&gt;</th><th scope=col>&lt;dbl&gt;</th><th scope=col>&lt;dbl&gt;</th><th scope=col>&lt;dbl&gt;</th><th scope=col>&lt;dbl&gt;</th><th scope=col>&lt;dbl&gt;</th><th scope=col>&lt;dbl&gt;</th><th scope=col>&lt;dbl&gt;</th><th scope=col>&lt;dbl&gt;</th><th scope=col>&lt;dbl&gt;</th></tr>\n",
              "</thead>\n",
              "<tbody>\n",
              "\t<tr><th scope=row>ENSG00000000003.10</th><td> 0.00</td><td>  0.00</td><td> 0.00</td><td>  0.00</td><td> 0.00</td><td> 19.38</td><td>  0.00</td><td> 0.00</td><td>  0.00</td><td> 0.00</td><td>⋯</td><td> 5.91</td><td> 0.0</td><td>40.94</td><td> 48.29</td><td>  0.00</td><td>94.55</td><td>0</td><td>  0.00</td><td>  0.00</td><td>134.37</td></tr>\n",
              "\t<tr><th scope=row>ENSG00000000419.8</th><td>50.73</td><td>120.46</td><td> 6.97</td><td>180.85</td><td>32.09</td><td>140.00</td><td> 38.06</td><td>10.77</td><td>122.08</td><td>49.06</td><td>⋯</td><td>90.55</td><td>19.6</td><td>98.88</td><td>301.39</td><td>378.47</td><td> 6.26</td><td>0</td><td>349.99</td><td>113.86</td><td>215.40</td></tr>\n",
              "\t<tr><th scope=row>ENSG00000000457.9</th><td> 3.28</td><td>  0.81</td><td>92.23</td><td>  6.44</td><td>59.78</td><td> 37.75</td><td>117.92</td><td> 0.00</td><td> 29.99</td><td> 7.11</td><td>⋯</td><td>72.17</td><td> 0.0</td><td> 0.00</td><td>  5.45</td><td>  0.00</td><td> 0.00</td><td>0</td><td>  1.10</td><td>  0.00</td><td>  4.21</td></tr>\n",
              "\t<tr><th scope=row>ENSG00000000460.12</th><td> 0.00</td><td> 13.42</td><td> 0.34</td><td>  0.26</td><td> 0.00</td><td>  0.00</td><td>  0.67</td><td> 0.00</td><td>  0.00</td><td> 0.00</td><td>⋯</td><td> 0.09</td><td> 0.0</td><td> 7.84</td><td>  0.00</td><td> 89.45</td><td> 0.00</td><td>0</td><td>  0.00</td><td>  0.00</td><td>  0.00</td></tr>\n",
              "\t<tr><th scope=row>ENSG00000000938.8</th><td> 0.00</td><td>  0.00</td><td> 0.00</td><td>  0.00</td><td> 0.00</td><td>  0.00</td><td>  0.00</td><td> 0.00</td><td>  0.00</td><td> 0.00</td><td>⋯</td><td> 0.00</td><td> 0.0</td><td> 0.00</td><td>  0.00</td><td>  0.00</td><td> 0.00</td><td>0</td><td>  0.00</td><td>  0.00</td><td>  0.00</td></tr>\n",
              "\t<tr><th scope=row>ENSG00000000971.11</th><td> 0.00</td><td>  0.00</td><td> 0.00</td><td>  0.00</td><td> 0.33</td><td>  0.00</td><td>  0.00</td><td> 0.00</td><td>  0.00</td><td> 0.00</td><td>⋯</td><td> 0.00</td><td> 0.0</td><td> 0.00</td><td>  0.00</td><td>  0.00</td><td> 0.09</td><td>0</td><td>  0.00</td><td>  0.00</td><td>  0.00</td></tr>\n",
              "</tbody>\n",
              "</table>\n"
            ],
            "text/markdown": "\nA data.frame: 6 × 515\n\n| <!--/--> | BC01_02 &lt;dbl&gt; | BC01_03 &lt;dbl&gt; | BC01_04 &lt;dbl&gt; | BC01_05 &lt;dbl&gt; | BC01_06 &lt;dbl&gt; | BC01_08 &lt;dbl&gt; | BC01_10 &lt;dbl&gt; | BC01_12 &lt;dbl&gt; | BC01_33 &lt;dbl&gt; | BC01_34 &lt;dbl&gt; | ⋯ ⋯ | BC06_28 &lt;dbl&gt; | BC06_29 &lt;dbl&gt; | BC06_32 &lt;dbl&gt; | BC06_39 &lt;dbl&gt; | BC06_40 &lt;dbl&gt; | BC06_43 &lt;dbl&gt; | BC06_58 &lt;dbl&gt; | BC06_60 &lt;dbl&gt; | BC06_61 &lt;dbl&gt; | BC06_74 &lt;dbl&gt; |\n|---|---|---|---|---|---|---|---|---|---|---|---|---|---|---|---|---|---|---|---|---|---|\n| ENSG00000000003.10 |  0.00 |   0.00 |  0.00 |   0.00 |  0.00 |  19.38 |   0.00 |  0.00 |   0.00 |  0.00 | ⋯ |  5.91 |  0.0 | 40.94 |  48.29 |   0.00 | 94.55 | 0 |   0.00 |   0.00 | 134.37 |\n| ENSG00000000419.8 | 50.73 | 120.46 |  6.97 | 180.85 | 32.09 | 140.00 |  38.06 | 10.77 | 122.08 | 49.06 | ⋯ | 90.55 | 19.6 | 98.88 | 301.39 | 378.47 |  6.26 | 0 | 349.99 | 113.86 | 215.40 |\n| ENSG00000000457.9 |  3.28 |   0.81 | 92.23 |   6.44 | 59.78 |  37.75 | 117.92 |  0.00 |  29.99 |  7.11 | ⋯ | 72.17 |  0.0 |  0.00 |   5.45 |   0.00 |  0.00 | 0 |   1.10 |   0.00 |   4.21 |\n| ENSG00000000460.12 |  0.00 |  13.42 |  0.34 |   0.26 |  0.00 |   0.00 |   0.67 |  0.00 |   0.00 |  0.00 | ⋯ |  0.09 |  0.0 |  7.84 |   0.00 |  89.45 |  0.00 | 0 |   0.00 |   0.00 |   0.00 |\n| ENSG00000000938.8 |  0.00 |   0.00 |  0.00 |   0.00 |  0.00 |   0.00 |   0.00 |  0.00 |   0.00 |  0.00 | ⋯ |  0.00 |  0.0 |  0.00 |   0.00 |   0.00 |  0.00 | 0 |   0.00 |   0.00 |   0.00 |\n| ENSG00000000971.11 |  0.00 |   0.00 |  0.00 |   0.00 |  0.33 |   0.00 |   0.00 |  0.00 |   0.00 |  0.00 | ⋯ |  0.00 |  0.0 |  0.00 |   0.00 |   0.00 |  0.09 | 0 |   0.00 |   0.00 |   0.00 |\n\n",
            "text/latex": "A data.frame: 6 × 515\n\\begin{tabular}{r|lllllllllllllllllllll}\n  & BC01\\_02 & BC01\\_03 & BC01\\_04 & BC01\\_05 & BC01\\_06 & BC01\\_08 & BC01\\_10 & BC01\\_12 & BC01\\_33 & BC01\\_34 & ⋯ & BC06\\_28 & BC06\\_29 & BC06\\_32 & BC06\\_39 & BC06\\_40 & BC06\\_43 & BC06\\_58 & BC06\\_60 & BC06\\_61 & BC06\\_74\\\\\n  & <dbl> & <dbl> & <dbl> & <dbl> & <dbl> & <dbl> & <dbl> & <dbl> & <dbl> & <dbl> & ⋯ & <dbl> & <dbl> & <dbl> & <dbl> & <dbl> & <dbl> & <dbl> & <dbl> & <dbl> & <dbl>\\\\\n\\hline\n\tENSG00000000003.10 &  0.00 &   0.00 &  0.00 &   0.00 &  0.00 &  19.38 &   0.00 &  0.00 &   0.00 &  0.00 & ⋯ &  5.91 &  0.0 & 40.94 &  48.29 &   0.00 & 94.55 & 0 &   0.00 &   0.00 & 134.37\\\\\n\tENSG00000000419.8 & 50.73 & 120.46 &  6.97 & 180.85 & 32.09 & 140.00 &  38.06 & 10.77 & 122.08 & 49.06 & ⋯ & 90.55 & 19.6 & 98.88 & 301.39 & 378.47 &  6.26 & 0 & 349.99 & 113.86 & 215.40\\\\\n\tENSG00000000457.9 &  3.28 &   0.81 & 92.23 &   6.44 & 59.78 &  37.75 & 117.92 &  0.00 &  29.99 &  7.11 & ⋯ & 72.17 &  0.0 &  0.00 &   5.45 &   0.00 &  0.00 & 0 &   1.10 &   0.00 &   4.21\\\\\n\tENSG00000000460.12 &  0.00 &  13.42 &  0.34 &   0.26 &  0.00 &   0.00 &   0.67 &  0.00 &   0.00 &  0.00 & ⋯ &  0.09 &  0.0 &  7.84 &   0.00 &  89.45 &  0.00 & 0 &   0.00 &   0.00 &   0.00\\\\\n\tENSG00000000938.8 &  0.00 &   0.00 &  0.00 &   0.00 &  0.00 &   0.00 &   0.00 &  0.00 &   0.00 &  0.00 & ⋯ &  0.00 &  0.0 &  0.00 &   0.00 &   0.00 &  0.00 & 0 &   0.00 &   0.00 &   0.00\\\\\n\tENSG00000000971.11 &  0.00 &   0.00 &  0.00 &   0.00 &  0.33 &   0.00 &   0.00 &  0.00 &   0.00 &  0.00 & ⋯ &  0.00 &  0.0 &  0.00 &   0.00 &   0.00 &  0.09 & 0 &   0.00 &   0.00 &   0.00\\\\\n\\end{tabular}\n",
            "text/plain": [
              "                   BC01_02 BC01_03 BC01_04 BC01_05 BC01_06 BC01_08 BC01_10\n",
              "ENSG00000000003.10  0.00     0.00   0.00     0.00   0.00    19.38    0.00 \n",
              "ENSG00000000419.8  50.73   120.46   6.97   180.85  32.09   140.00   38.06 \n",
              "ENSG00000000457.9   3.28     0.81  92.23     6.44  59.78    37.75  117.92 \n",
              "ENSG00000000460.12  0.00    13.42   0.34     0.26   0.00     0.00    0.67 \n",
              "ENSG00000000938.8   0.00     0.00   0.00     0.00   0.00     0.00    0.00 \n",
              "ENSG00000000971.11  0.00     0.00   0.00     0.00   0.33     0.00    0.00 \n",
              "                   BC01_12 BC01_33 BC01_34 ⋯ BC06_28 BC06_29 BC06_32 BC06_39\n",
              "ENSG00000000003.10  0.00     0.00   0.00   ⋯  5.91    0.0    40.94    48.29 \n",
              "ENSG00000000419.8  10.77   122.08  49.06   ⋯ 90.55   19.6    98.88   301.39 \n",
              "ENSG00000000457.9   0.00    29.99   7.11   ⋯ 72.17    0.0     0.00     5.45 \n",
              "ENSG00000000460.12  0.00     0.00   0.00   ⋯  0.09    0.0     7.84     0.00 \n",
              "ENSG00000000938.8   0.00     0.00   0.00   ⋯  0.00    0.0     0.00     0.00 \n",
              "ENSG00000000971.11  0.00     0.00   0.00   ⋯  0.00    0.0     0.00     0.00 \n",
              "                   BC06_40 BC06_43 BC06_58 BC06_60 BC06_61 BC06_74\n",
              "ENSG00000000003.10   0.00  94.55   0         0.00    0.00  134.37 \n",
              "ENSG00000000419.8  378.47   6.26   0       349.99  113.86  215.40 \n",
              "ENSG00000000457.9    0.00   0.00   0         1.10    0.00    4.21 \n",
              "ENSG00000000460.12  89.45   0.00   0         0.00    0.00    0.00 \n",
              "ENSG00000000938.8    0.00   0.00   0         0.00    0.00    0.00 \n",
              "ENSG00000000971.11   0.00   0.09   0         0.00    0.00    0.00 "
            ]
          },
          "metadata": {}
        }
      ]
    },
    {
      "cell_type": "code",
      "source": [
        "# Replace \"4\" with \"tumor\" and other digits with \"healthy\"\n",
        "transformed_vector <- gsub(\"4\", \"tumor\", label$label)\n",
        "transformed_vector <- gsub(\"[^tumor]\", \"healthy\", transformed_vector)\n",
        "\n",
        "# Display transformed vector\n",
        "head(transformed_vector)"
      ],
      "metadata": {
        "colab": {
          "base_uri": "https://localhost:8080/",
          "height": 34
        },
        "id": "m5rQAa8S3PDL",
        "outputId": "ae35b86a-ec28-4c7c-8e79-a92d1528dbef"
      },
      "execution_count": 14,
      "outputs": [
        {
          "output_type": "display_data",
          "data": {
            "text/html": [
              "<style>\n",
              ".list-inline {list-style: none; margin:0; padding: 0}\n",
              ".list-inline>li {display: inline-block}\n",
              ".list-inline>li:not(:last-child)::after {content: \"\\00b7\"; padding: 0 .5ex}\n",
              "</style>\n",
              "<ol class=list-inline><li>'tumor'</li><li>'tumor'</li><li>'tumor'</li><li>'tumor'</li><li>'tumor'</li><li>'tumor'</li></ol>\n"
            ],
            "text/markdown": "1. 'tumor'\n2. 'tumor'\n3. 'tumor'\n4. 'tumor'\n5. 'tumor'\n6. 'tumor'\n\n\n",
            "text/latex": "\\begin{enumerate*}\n\\item 'tumor'\n\\item 'tumor'\n\\item 'tumor'\n\\item 'tumor'\n\\item 'tumor'\n\\item 'tumor'\n\\end{enumerate*}\n",
            "text/plain": [
              "[1] \"tumor\" \"tumor\" \"tumor\" \"tumor\" \"tumor\" \"tumor\""
            ]
          },
          "metadata": {}
        }
      ]
    },
    {
      "cell_type": "code",
      "source": [
        "condition <- factor(c(transformed_vector))"
      ],
      "metadata": {
        "id": "Pp38vfhvOxym"
      },
      "execution_count": 15,
      "outputs": []
    },
    {
      "cell_type": "code",
      "source": [
        "condition"
      ],
      "metadata": {
        "colab": {
          "base_uri": "https://localhost:8080/",
          "height": 312
        },
        "id": "l1zAKmmuP_ee",
        "outputId": "7832db1b-975c-44eb-b33e-4c99e655e1df"
      },
      "execution_count": 16,
      "outputs": [
        {
          "output_type": "display_data",
          "data": {
            "text/html": [
              "<style>\n",
              ".list-inline {list-style: none; margin:0; padding: 0}\n",
              ".list-inline>li {display: inline-block}\n",
              ".list-inline>li:not(:last-child)::after {content: \"\\00b7\"; padding: 0 .5ex}\n",
              "</style>\n",
              "<ol class=list-inline><li>tumor</li><li>tumor</li><li>tumor</li><li>tumor</li><li>tumor</li><li>tumor</li><li>tumor</li><li>tumor</li><li>tumor</li><li>tumor</li><li>tumor</li><li>tumor</li><li>tumor</li><li>tumor</li><li>tumor</li><li>tumor</li><li>tumor</li><li>tumor</li><li>tumor</li><li>tumor</li><li>tumor</li><li>tumor</li><li>tumor</li><li>tumor</li><li>tumor</li><li>tumor</li><li>tumor</li><li>tumor</li><li>tumor</li><li>tumor</li><li>tumor</li><li>tumor</li><li>tumor</li><li>tumor</li><li>tumor</li><li>tumor</li><li>tumor</li><li>tumor</li><li>tumor</li><li>tumor</li><li>tumor</li><li>tumor</li><li>tumor</li><li>tumor</li><li>tumor</li><li>tumor</li><li>tumor</li><li>tumor</li><li>tumor</li><li>tumor</li><li>tumor</li><li>tumor</li><li>tumor</li><li>tumor</li><li>tumor</li><li>tumor</li><li>tumor</li><li>tumor</li><li>tumor</li><li>tumor</li><li>tumor</li><li>tumor</li><li>tumor</li><li>tumor</li><li>healthy</li><li>tumor</li><li>tumor</li><li>tumor</li><li>tumor</li><li>tumor</li><li>tumor</li><li>healthy</li><li>tumor</li><li>tumor</li><li>tumor</li><li>tumor</li><li>healthy</li><li>tumor</li><li>healthy</li><li>healthy</li><li>tumor</li><li>tumor</li><li>tumor</li><li>healthy</li><li>tumor</li><li>tumor</li><li>tumor</li><li>tumor</li><li>tumor</li><li>tumor</li><li>tumor</li><li>tumor</li><li>healthy</li><li>tumor</li><li>tumor</li><li>tumor</li><li>tumor</li><li>tumor</li><li>healthy</li><li>tumor</li><li>tumor</li><li>healthy</li><li>healthy</li><li>healthy</li><li>healthy</li><li>tumor</li><li>tumor</li><li>tumor</li><li>healthy</li><li>healthy</li><li>healthy</li><li>tumor</li><li>tumor</li><li>tumor</li><li>healthy</li><li>healthy</li><li>healthy</li><li>tumor</li><li>tumor</li><li>tumor</li><li>healthy</li><li>healthy</li><li>healthy</li><li>tumor</li><li>tumor</li><li>healthy</li><li>healthy</li><li>tumor</li><li>healthy</li><li>healthy</li><li>healthy</li><li>tumor</li><li>tumor</li><li>tumor</li><li>tumor</li><li>healthy</li><li>healthy</li><li>healthy</li><li>healthy</li><li>tumor</li><li>tumor</li><li>healthy</li><li>tumor</li><li>tumor</li><li>tumor</li><li>tumor</li><li>tumor</li><li>tumor</li><li>tumor</li><li>tumor</li><li>tumor</li><li>healthy</li><li>healthy</li><li>tumor</li><li>tumor</li><li>healthy</li><li>healthy</li><li>tumor</li><li>healthy</li><li>tumor</li><li>healthy</li><li>healthy</li><li>healthy</li><li>healthy</li><li>healthy</li><li>tumor</li><li>tumor</li><li>tumor</li><li>healthy</li><li>tumor</li><li>healthy</li><li>healthy</li><li>tumor</li><li>healthy</li><li>healthy</li><li>tumor</li><li>healthy</li><li>tumor</li><li>healthy</li><li>healthy</li><li>healthy</li><li>tumor</li><li>tumor</li><li>tumor</li><li>tumor</li><li>tumor</li><li>tumor</li><li>tumor</li><li>tumor</li><li>tumor</li><li>healthy</li><li>healthy</li><li>tumor</li><li>healthy</li><li>tumor</li><li>tumor</li><li>tumor</li><li>tumor</li><li>tumor</li><li>healthy</li><li>⋯</li><li>tumor</li><li>healthy</li><li>healthy</li><li>tumor</li><li>healthy</li><li>healthy</li><li>healthy</li><li>healthy</li><li>healthy</li><li>healthy</li><li>healthy</li><li>healthy</li><li>healthy</li><li>healthy</li><li>healthy</li><li>healthy</li><li>healthy</li><li>healthy</li><li>healthy</li><li>healthy</li><li>healthy</li><li>healthy</li><li>healthy</li><li>healthy</li><li>healthy</li><li>healthy</li><li>healthy</li><li>healthy</li><li>tumor</li><li>tumor</li><li>healthy</li><li>healthy</li><li>tumor</li><li>tumor</li><li>tumor</li><li>healthy</li><li>tumor</li><li>tumor</li><li>tumor</li><li>tumor</li><li>tumor</li><li>tumor</li><li>healthy</li><li>healthy</li><li>healthy</li><li>healthy</li><li>healthy</li><li>healthy</li><li>healthy</li><li>healthy</li><li>healthy</li><li>healthy</li><li>healthy</li><li>healthy</li><li>healthy</li><li>healthy</li><li>healthy</li><li>healthy</li><li>healthy</li><li>healthy</li><li>healthy</li><li>healthy</li><li>healthy</li><li>healthy</li><li>healthy</li><li>healthy</li><li>healthy</li><li>healthy</li><li>healthy</li><li>healthy</li><li>healthy</li><li>healthy</li><li>healthy</li><li>healthy</li><li>healthy</li><li>healthy</li><li>tumor</li><li>healthy</li><li>healthy</li><li>healthy</li><li>healthy</li><li>healthy</li><li>healthy</li><li>healthy</li><li>healthy</li><li>healthy</li><li>healthy</li><li>healthy</li><li>healthy</li><li>healthy</li><li>healthy</li><li>healthy</li><li>healthy</li><li>healthy</li><li>healthy</li><li>healthy</li><li>healthy</li><li>healthy</li><li>healthy</li><li>healthy</li><li>healthy</li><li>healthy</li><li>healthy</li><li>healthy</li><li>healthy</li><li>healthy</li><li>healthy</li><li>healthy</li><li>healthy</li><li>healthy</li><li>healthy</li><li>healthy</li><li>healthy</li><li>healthy</li><li>healthy</li><li>healthy</li><li>healthy</li><li>healthy</li><li>healthy</li><li>healthy</li><li>healthy</li><li>healthy</li><li>healthy</li><li>healthy</li><li>healthy</li><li>healthy</li><li>healthy</li><li>healthy</li><li>healthy</li><li>healthy</li><li>healthy</li><li>healthy</li><li>healthy</li><li>healthy</li><li>healthy</li><li>healthy</li><li>healthy</li><li>healthy</li><li>healthy</li><li>healthy</li><li>healthy</li><li>healthy</li><li>healthy</li><li>healthy</li><li>healthy</li><li>healthy</li><li>healthy</li><li>healthy</li><li>healthy</li><li>healthy</li><li>healthy</li><li>healthy</li><li>healthy</li><li>healthy</li><li>healthy</li><li>healthy</li><li>healthy</li><li>healthy</li><li>healthy</li><li>healthy</li><li>healthy</li><li>healthy</li><li>healthy</li><li>healthy</li><li>healthy</li><li>healthy</li><li>healthy</li><li>healthy</li><li>healthy</li><li>healthy</li><li>healthy</li><li>tumor</li><li>tumor</li><li>tumor</li><li>tumor</li><li>tumor</li><li>tumor</li><li>tumor</li><li>tumor</li><li>tumor</li><li>tumor</li><li>tumor</li><li>healthy</li><li>tumor</li><li>tumor</li><li>healthy</li><li>tumor</li><li>healthy</li><li>healthy</li><li>tumor</li><li>tumor</li><li>healthy</li><li>tumor</li><li>tumor</li><li>healthy</li><li>tumor</li><li>healthy</li><li>tumor</li><li>healthy</li><li>tumor</li></ol>\n",
              "\n",
              "<details>\n",
              "\t<summary style=display:list-item;cursor:pointer>\n",
              "\t\t<strong>Levels</strong>:\n",
              "\t</summary>\n",
              "\t<style>\n",
              "\t.list-inline {list-style: none; margin:0; padding: 0}\n",
              "\t.list-inline>li {display: inline-block}\n",
              "\t.list-inline>li:not(:last-child)::after {content: \"\\00b7\"; padding: 0 .5ex}\n",
              "\t</style>\n",
              "\t<ol class=list-inline><li>'healthy'</li><li>'tumor'</li></ol>\n",
              "</details>"
            ],
            "text/markdown": "1. tumor\n2. tumor\n3. tumor\n4. tumor\n5. tumor\n6. tumor\n7. tumor\n8. tumor\n9. tumor\n10. tumor\n11. tumor\n12. tumor\n13. tumor\n14. tumor\n15. tumor\n16. tumor\n17. tumor\n18. tumor\n19. tumor\n20. tumor\n21. tumor\n22. tumor\n23. tumor\n24. tumor\n25. tumor\n26. tumor\n27. tumor\n28. tumor\n29. tumor\n30. tumor\n31. tumor\n32. tumor\n33. tumor\n34. tumor\n35. tumor\n36. tumor\n37. tumor\n38. tumor\n39. tumor\n40. tumor\n41. tumor\n42. tumor\n43. tumor\n44. tumor\n45. tumor\n46. tumor\n47. tumor\n48. tumor\n49. tumor\n50. tumor\n51. tumor\n52. tumor\n53. tumor\n54. tumor\n55. tumor\n56. tumor\n57. tumor\n58. tumor\n59. tumor\n60. tumor\n61. tumor\n62. tumor\n63. tumor\n64. tumor\n65. healthy\n66. tumor\n67. tumor\n68. tumor\n69. tumor\n70. tumor\n71. tumor\n72. healthy\n73. tumor\n74. tumor\n75. tumor\n76. tumor\n77. healthy\n78. tumor\n79. healthy\n80. healthy\n81. tumor\n82. tumor\n83. tumor\n84. healthy\n85. tumor\n86. tumor\n87. tumor\n88. tumor\n89. tumor\n90. tumor\n91. tumor\n92. tumor\n93. healthy\n94. tumor\n95. tumor\n96. tumor\n97. tumor\n98. tumor\n99. healthy\n100. tumor\n101. tumor\n102. healthy\n103. healthy\n104. healthy\n105. healthy\n106. tumor\n107. tumor\n108. tumor\n109. healthy\n110. healthy\n111. healthy\n112. tumor\n113. tumor\n114. tumor\n115. healthy\n116. healthy\n117. healthy\n118. tumor\n119. tumor\n120. tumor\n121. healthy\n122. healthy\n123. healthy\n124. tumor\n125. tumor\n126. healthy\n127. healthy\n128. tumor\n129. healthy\n130. healthy\n131. healthy\n132. tumor\n133. tumor\n134. tumor\n135. tumor\n136. healthy\n137. healthy\n138. healthy\n139. healthy\n140. tumor\n141. tumor\n142. healthy\n143. tumor\n144. tumor\n145. tumor\n146. tumor\n147. tumor\n148. tumor\n149. tumor\n150. tumor\n151. tumor\n152. healthy\n153. healthy\n154. tumor\n155. tumor\n156. healthy\n157. healthy\n158. tumor\n159. healthy\n160. tumor\n161. healthy\n162. healthy\n163. healthy\n164. healthy\n165. healthy\n166. tumor\n167. tumor\n168. tumor\n169. healthy\n170. tumor\n171. healthy\n172. healthy\n173. tumor\n174. healthy\n175. healthy\n176. tumor\n177. healthy\n178. tumor\n179. healthy\n180. healthy\n181. healthy\n182. tumor\n183. tumor\n184. tumor\n185. tumor\n186. tumor\n187. tumor\n188. tumor\n189. tumor\n190. tumor\n191. healthy\n192. healthy\n193. tumor\n194. healthy\n195. tumor\n196. tumor\n197. tumor\n198. tumor\n199. tumor\n200. healthy\n201. ⋯\n202. tumor\n203. healthy\n204. healthy\n205. tumor\n206. healthy\n207. healthy\n208. healthy\n209. healthy\n210. healthy\n211. healthy\n212. healthy\n213. healthy\n214. healthy\n215. healthy\n216. healthy\n217. healthy\n218. healthy\n219. healthy\n220. healthy\n221. healthy\n222. healthy\n223. healthy\n224. healthy\n225. healthy\n226. healthy\n227. healthy\n228. healthy\n229. healthy\n230. tumor\n231. tumor\n232. healthy\n233. healthy\n234. tumor\n235. tumor\n236. tumor\n237. healthy\n238. tumor\n239. tumor\n240. tumor\n241. tumor\n242. tumor\n243. tumor\n244. healthy\n245. healthy\n246. healthy\n247. healthy\n248. healthy\n249. healthy\n250. healthy\n251. healthy\n252. healthy\n253. healthy\n254. healthy\n255. healthy\n256. healthy\n257. healthy\n258. healthy\n259. healthy\n260. healthy\n261. healthy\n262. healthy\n263. healthy\n264. healthy\n265. healthy\n266. healthy\n267. healthy\n268. healthy\n269. healthy\n270. healthy\n271. healthy\n272. healthy\n273. healthy\n274. healthy\n275. healthy\n276. healthy\n277. healthy\n278. tumor\n279. healthy\n280. healthy\n281. healthy\n282. healthy\n283. healthy\n284. healthy\n285. healthy\n286. healthy\n287. healthy\n288. healthy\n289. healthy\n290. healthy\n291. healthy\n292. healthy\n293. healthy\n294. healthy\n295. healthy\n296. healthy\n297. healthy\n298. healthy\n299. healthy\n300. healthy\n301. healthy\n302. healthy\n303. healthy\n304. healthy\n305. healthy\n306. healthy\n307. healthy\n308. healthy\n309. healthy\n310. healthy\n311. healthy\n312. healthy\n313. healthy\n314. healthy\n315. healthy\n316. healthy\n317. healthy\n318. healthy\n319. healthy\n320. healthy\n321. healthy\n322. healthy\n323. healthy\n324. healthy\n325. healthy\n326. healthy\n327. healthy\n328. healthy\n329. healthy\n330. healthy\n331. healthy\n332. healthy\n333. healthy\n334. healthy\n335. healthy\n336. healthy\n337. healthy\n338. healthy\n339. healthy\n340. healthy\n341. healthy\n342. healthy\n343. healthy\n344. healthy\n345. healthy\n346. healthy\n347. healthy\n348. healthy\n349. healthy\n350. healthy\n351. healthy\n352. healthy\n353. healthy\n354. healthy\n355. healthy\n356. healthy\n357. healthy\n358. healthy\n359. healthy\n360. healthy\n361. healthy\n362. healthy\n363. healthy\n364. healthy\n365. healthy\n366. healthy\n367. healthy\n368. healthy\n369. healthy\n370. healthy\n371. healthy\n372. healthy\n373. tumor\n374. tumor\n375. tumor\n376. tumor\n377. tumor\n378. tumor\n379. tumor\n380. tumor\n381. tumor\n382. tumor\n383. tumor\n384. healthy\n385. tumor\n386. tumor\n387. healthy\n388. tumor\n389. healthy\n390. healthy\n391. tumor\n392. tumor\n393. healthy\n394. tumor\n395. tumor\n396. healthy\n397. tumor\n398. healthy\n399. tumor\n400. healthy\n401. tumor\n\n\n\n**Levels**: 1. 'healthy'\n2. 'tumor'\n\n\n",
            "text/latex": "\\begin{enumerate*}\n\\item tumor\n\\item tumor\n\\item tumor\n\\item tumor\n\\item tumor\n\\item tumor\n\\item tumor\n\\item tumor\n\\item tumor\n\\item tumor\n\\item tumor\n\\item tumor\n\\item tumor\n\\item tumor\n\\item tumor\n\\item tumor\n\\item tumor\n\\item tumor\n\\item tumor\n\\item tumor\n\\item tumor\n\\item tumor\n\\item tumor\n\\item tumor\n\\item tumor\n\\item tumor\n\\item tumor\n\\item tumor\n\\item tumor\n\\item tumor\n\\item tumor\n\\item tumor\n\\item tumor\n\\item tumor\n\\item tumor\n\\item tumor\n\\item tumor\n\\item tumor\n\\item tumor\n\\item tumor\n\\item tumor\n\\item tumor\n\\item tumor\n\\item tumor\n\\item tumor\n\\item tumor\n\\item tumor\n\\item tumor\n\\item tumor\n\\item tumor\n\\item tumor\n\\item tumor\n\\item tumor\n\\item tumor\n\\item tumor\n\\item tumor\n\\item tumor\n\\item tumor\n\\item tumor\n\\item tumor\n\\item tumor\n\\item tumor\n\\item tumor\n\\item tumor\n\\item healthy\n\\item tumor\n\\item tumor\n\\item tumor\n\\item tumor\n\\item tumor\n\\item tumor\n\\item healthy\n\\item tumor\n\\item tumor\n\\item tumor\n\\item tumor\n\\item healthy\n\\item tumor\n\\item healthy\n\\item healthy\n\\item tumor\n\\item tumor\n\\item tumor\n\\item healthy\n\\item tumor\n\\item tumor\n\\item tumor\n\\item tumor\n\\item tumor\n\\item tumor\n\\item tumor\n\\item tumor\n\\item healthy\n\\item tumor\n\\item tumor\n\\item tumor\n\\item tumor\n\\item tumor\n\\item healthy\n\\item tumor\n\\item tumor\n\\item healthy\n\\item healthy\n\\item healthy\n\\item healthy\n\\item tumor\n\\item tumor\n\\item tumor\n\\item healthy\n\\item healthy\n\\item healthy\n\\item tumor\n\\item tumor\n\\item tumor\n\\item healthy\n\\item healthy\n\\item healthy\n\\item tumor\n\\item tumor\n\\item tumor\n\\item healthy\n\\item healthy\n\\item healthy\n\\item tumor\n\\item tumor\n\\item healthy\n\\item healthy\n\\item tumor\n\\item healthy\n\\item healthy\n\\item healthy\n\\item tumor\n\\item tumor\n\\item tumor\n\\item tumor\n\\item healthy\n\\item healthy\n\\item healthy\n\\item healthy\n\\item tumor\n\\item tumor\n\\item healthy\n\\item tumor\n\\item tumor\n\\item tumor\n\\item tumor\n\\item tumor\n\\item tumor\n\\item tumor\n\\item tumor\n\\item tumor\n\\item healthy\n\\item healthy\n\\item tumor\n\\item tumor\n\\item healthy\n\\item healthy\n\\item tumor\n\\item healthy\n\\item tumor\n\\item healthy\n\\item healthy\n\\item healthy\n\\item healthy\n\\item healthy\n\\item tumor\n\\item tumor\n\\item tumor\n\\item healthy\n\\item tumor\n\\item healthy\n\\item healthy\n\\item tumor\n\\item healthy\n\\item healthy\n\\item tumor\n\\item healthy\n\\item tumor\n\\item healthy\n\\item healthy\n\\item healthy\n\\item tumor\n\\item tumor\n\\item tumor\n\\item tumor\n\\item tumor\n\\item tumor\n\\item tumor\n\\item tumor\n\\item tumor\n\\item healthy\n\\item healthy\n\\item tumor\n\\item healthy\n\\item tumor\n\\item tumor\n\\item tumor\n\\item tumor\n\\item tumor\n\\item healthy\n\\item ⋯\n\\item tumor\n\\item healthy\n\\item healthy\n\\item tumor\n\\item healthy\n\\item healthy\n\\item healthy\n\\item healthy\n\\item healthy\n\\item healthy\n\\item healthy\n\\item healthy\n\\item healthy\n\\item healthy\n\\item healthy\n\\item healthy\n\\item healthy\n\\item healthy\n\\item healthy\n\\item healthy\n\\item healthy\n\\item healthy\n\\item healthy\n\\item healthy\n\\item healthy\n\\item healthy\n\\item healthy\n\\item healthy\n\\item tumor\n\\item tumor\n\\item healthy\n\\item healthy\n\\item tumor\n\\item tumor\n\\item tumor\n\\item healthy\n\\item tumor\n\\item tumor\n\\item tumor\n\\item tumor\n\\item tumor\n\\item tumor\n\\item healthy\n\\item healthy\n\\item healthy\n\\item healthy\n\\item healthy\n\\item healthy\n\\item healthy\n\\item healthy\n\\item healthy\n\\item healthy\n\\item healthy\n\\item healthy\n\\item healthy\n\\item healthy\n\\item healthy\n\\item healthy\n\\item healthy\n\\item healthy\n\\item healthy\n\\item healthy\n\\item healthy\n\\item healthy\n\\item healthy\n\\item healthy\n\\item healthy\n\\item healthy\n\\item healthy\n\\item healthy\n\\item healthy\n\\item healthy\n\\item healthy\n\\item healthy\n\\item healthy\n\\item healthy\n\\item tumor\n\\item healthy\n\\item healthy\n\\item healthy\n\\item healthy\n\\item healthy\n\\item healthy\n\\item healthy\n\\item healthy\n\\item healthy\n\\item healthy\n\\item healthy\n\\item healthy\n\\item healthy\n\\item healthy\n\\item healthy\n\\item healthy\n\\item healthy\n\\item healthy\n\\item healthy\n\\item healthy\n\\item healthy\n\\item healthy\n\\item healthy\n\\item healthy\n\\item healthy\n\\item healthy\n\\item healthy\n\\item healthy\n\\item healthy\n\\item healthy\n\\item healthy\n\\item healthy\n\\item healthy\n\\item healthy\n\\item healthy\n\\item healthy\n\\item healthy\n\\item healthy\n\\item healthy\n\\item healthy\n\\item healthy\n\\item healthy\n\\item healthy\n\\item healthy\n\\item healthy\n\\item healthy\n\\item healthy\n\\item healthy\n\\item healthy\n\\item healthy\n\\item healthy\n\\item healthy\n\\item healthy\n\\item healthy\n\\item healthy\n\\item healthy\n\\item healthy\n\\item healthy\n\\item healthy\n\\item healthy\n\\item healthy\n\\item healthy\n\\item healthy\n\\item healthy\n\\item healthy\n\\item healthy\n\\item healthy\n\\item healthy\n\\item healthy\n\\item healthy\n\\item healthy\n\\item healthy\n\\item healthy\n\\item healthy\n\\item healthy\n\\item healthy\n\\item healthy\n\\item healthy\n\\item healthy\n\\item healthy\n\\item healthy\n\\item healthy\n\\item healthy\n\\item healthy\n\\item healthy\n\\item healthy\n\\item healthy\n\\item healthy\n\\item healthy\n\\item healthy\n\\item healthy\n\\item healthy\n\\item healthy\n\\item healthy\n\\item tumor\n\\item tumor\n\\item tumor\n\\item tumor\n\\item tumor\n\\item tumor\n\\item tumor\n\\item tumor\n\\item tumor\n\\item tumor\n\\item tumor\n\\item healthy\n\\item tumor\n\\item tumor\n\\item healthy\n\\item tumor\n\\item healthy\n\\item healthy\n\\item tumor\n\\item tumor\n\\item healthy\n\\item tumor\n\\item tumor\n\\item healthy\n\\item tumor\n\\item healthy\n\\item tumor\n\\item healthy\n\\item tumor\n\\end{enumerate*}\n\n\\emph{Levels}: \\begin{enumerate*}\n\\item 'healthy'\n\\item 'tumor'\n\\end{enumerate*}\n",
            "text/plain": [
              "  [1] tumor   tumor   tumor   tumor   tumor   tumor   tumor   tumor   tumor  \n",
              " [10] tumor   tumor   tumor   tumor   tumor   tumor   tumor   tumor   tumor  \n",
              " [19] tumor   tumor   tumor   tumor   tumor   tumor   tumor   tumor   tumor  \n",
              " [28] tumor   tumor   tumor   tumor   tumor   tumor   tumor   tumor   tumor  \n",
              " [37] tumor   tumor   tumor   tumor   tumor   tumor   tumor   tumor   tumor  \n",
              " [46] tumor   tumor   tumor   tumor   tumor   tumor   tumor   tumor   tumor  \n",
              " [55] tumor   tumor   tumor   tumor   tumor   tumor   tumor   tumor   tumor  \n",
              " [64] tumor   healthy tumor   tumor   tumor   tumor   tumor   tumor   healthy\n",
              " [73] tumor   tumor   tumor   tumor   healthy tumor   healthy healthy tumor  \n",
              " [82] tumor   tumor   healthy tumor   tumor   tumor   tumor   tumor   tumor  \n",
              " [91] tumor   tumor   healthy tumor   tumor   tumor   tumor   tumor   healthy\n",
              "[100] tumor   tumor   healthy healthy healthy healthy tumor   tumor   tumor  \n",
              "[109] healthy healthy healthy tumor   tumor   tumor   healthy healthy healthy\n",
              "[118] tumor   tumor   tumor   healthy healthy healthy tumor   tumor   healthy\n",
              "[127] healthy tumor   healthy healthy healthy tumor   tumor   tumor   tumor  \n",
              "[136] healthy healthy healthy healthy tumor   tumor   healthy tumor   tumor  \n",
              "[145] tumor   tumor   tumor   tumor   tumor   tumor   tumor   healthy healthy\n",
              "[154] tumor   tumor   healthy healthy tumor   healthy tumor   healthy healthy\n",
              "[163] healthy healthy healthy tumor   tumor   tumor   healthy tumor   healthy\n",
              "[172] healthy tumor   healthy healthy tumor   healthy tumor   healthy healthy\n",
              "[181] healthy tumor   tumor   tumor   tumor   tumor   tumor   tumor   tumor  \n",
              "[190] tumor   healthy healthy tumor   healthy tumor   tumor   tumor   tumor  \n",
              "[199] tumor   healthy healthy healthy healthy healthy healthy healthy healthy\n",
              "[208] healthy healthy healthy healthy healthy healthy healthy tumor   healthy\n",
              "[217] healthy healthy healthy healthy healthy tumor   healthy healthy tumor  \n",
              "[226] tumor   healthy healthy healthy healthy healthy healthy tumor   healthy\n",
              "[235] healthy healthy healthy tumor   healthy healthy healthy healthy healthy\n",
              "[244] healthy tumor   healthy tumor   healthy healthy healthy healthy healthy\n",
              "[253] healthy healthy healthy healthy healthy healthy healthy healthy healthy\n",
              "[262] tumor   healthy healthy healthy healthy healthy healthy tumor   healthy\n",
              "[271] tumor   tumor   tumor   healthy tumor   tumor   tumor   tumor   healthy\n",
              "[280] tumor   tumor   tumor   tumor   healthy healthy tumor   tumor   healthy\n",
              "[289] tumor   healthy healthy healthy healthy healthy healthy healthy healthy\n",
              "[298] healthy tumor   healthy healthy healthy healthy tumor   healthy healthy\n",
              "[307] healthy healthy healthy healthy healthy healthy healthy tumor   healthy\n",
              "[316] tumor   healthy healthy tumor   healthy healthy healthy healthy healthy\n",
              "[325] healthy healthy healthy healthy healthy healthy healthy healthy healthy\n",
              "[334] healthy healthy healthy healthy healthy healthy healthy healthy healthy\n",
              "[343] healthy tumor   tumor   healthy healthy tumor   tumor   tumor   healthy\n",
              "[352] tumor   tumor   tumor   tumor   tumor   tumor   healthy healthy healthy\n",
              "[361] healthy healthy healthy healthy healthy healthy healthy healthy healthy\n",
              "[370] healthy healthy healthy healthy healthy healthy healthy healthy healthy\n",
              "[379] healthy healthy healthy healthy healthy healthy healthy healthy healthy\n",
              "[388] healthy healthy healthy healthy tumor   healthy healthy healthy healthy\n",
              "[397] healthy healthy healthy healthy healthy healthy healthy healthy healthy\n",
              "[406] healthy healthy healthy healthy healthy healthy healthy healthy healthy\n",
              "[415] healthy healthy healthy healthy healthy healthy healthy healthy healthy\n",
              "[424] healthy healthy healthy healthy healthy healthy healthy healthy healthy\n",
              "[433] healthy healthy healthy healthy healthy healthy healthy healthy healthy\n",
              "[442] healthy healthy healthy healthy healthy healthy healthy healthy healthy\n",
              "[451] healthy healthy healthy healthy healthy healthy healthy healthy healthy\n",
              "[460] healthy healthy healthy healthy healthy healthy healthy healthy healthy\n",
              "[469] healthy healthy healthy healthy healthy healthy healthy healthy healthy\n",
              "[478] healthy healthy healthy healthy healthy healthy healthy healthy healthy\n",
              "[487] tumor   tumor   tumor   tumor   tumor   tumor   tumor   tumor   tumor  \n",
              "[496] tumor   tumor   healthy tumor   tumor   healthy tumor   healthy healthy\n",
              "[505] tumor   tumor   healthy tumor   tumor   healthy tumor   healthy tumor  \n",
              "[514] healthy tumor  \n",
              "Levels: healthy tumor"
            ]
          },
          "metadata": {}
        }
      ]
    },
    {
      "cell_type": "code",
      "source": [
        "dim(data)"
      ],
      "metadata": {
        "colab": {
          "base_uri": "https://localhost:8080/",
          "height": 34
        },
        "id": "iHyG3JdBSs6G",
        "outputId": "f4813480-130c-41d3-b3da-8639a2dfb463"
      },
      "execution_count": 17,
      "outputs": [
        {
          "output_type": "display_data",
          "data": {
            "text/html": [
              "<style>\n",
              ".list-inline {list-style: none; margin:0; padding: 0}\n",
              ".list-inline>li {display: inline-block}\n",
              ".list-inline>li:not(:last-child)::after {content: \"\\00b7\"; padding: 0 .5ex}\n",
              "</style>\n",
              "<ol class=list-inline><li>27420</li><li>515</li></ol>\n"
            ],
            "text/markdown": "1. 27420\n2. 515\n\n\n",
            "text/latex": "\\begin{enumerate*}\n\\item 27420\n\\item 515\n\\end{enumerate*}\n",
            "text/plain": [
              "[1] 27420   515"
            ]
          },
          "metadata": {}
        }
      ]
    },
    {
      "cell_type": "code",
      "source": [
        "colData <- data.frame(condition = condition, row.names = colnames(data))"
      ],
      "metadata": {
        "id": "nEuUHkSuSvkm"
      },
      "execution_count": 18,
      "outputs": []
    },
    {
      "cell_type": "code",
      "source": [
        "head(colData)"
      ],
      "metadata": {
        "colab": {
          "base_uri": "https://localhost:8080/",
          "height": 286
        },
        "id": "N5Hd2vIcTD5F",
        "outputId": "c9990dd3-3ac5-4fd3-f165-e985c0afca04"
      },
      "execution_count": 19,
      "outputs": [
        {
          "output_type": "display_data",
          "data": {
            "text/html": [
              "<table class=\"dataframe\">\n",
              "<caption>A data.frame: 6 × 1</caption>\n",
              "<thead>\n",
              "\t<tr><th></th><th scope=col>condition</th></tr>\n",
              "\t<tr><th></th><th scope=col>&lt;fct&gt;</th></tr>\n",
              "</thead>\n",
              "<tbody>\n",
              "\t<tr><th scope=row>BC01_02</th><td>tumor</td></tr>\n",
              "\t<tr><th scope=row>BC01_03</th><td>tumor</td></tr>\n",
              "\t<tr><th scope=row>BC01_04</th><td>tumor</td></tr>\n",
              "\t<tr><th scope=row>BC01_05</th><td>tumor</td></tr>\n",
              "\t<tr><th scope=row>BC01_06</th><td>tumor</td></tr>\n",
              "\t<tr><th scope=row>BC01_08</th><td>tumor</td></tr>\n",
              "</tbody>\n",
              "</table>\n"
            ],
            "text/markdown": "\nA data.frame: 6 × 1\n\n| <!--/--> | condition &lt;fct&gt; |\n|---|---|\n| BC01_02 | tumor |\n| BC01_03 | tumor |\n| BC01_04 | tumor |\n| BC01_05 | tumor |\n| BC01_06 | tumor |\n| BC01_08 | tumor |\n\n",
            "text/latex": "A data.frame: 6 × 1\n\\begin{tabular}{r|l}\n  & condition\\\\\n  & <fct>\\\\\n\\hline\n\tBC01\\_02 & tumor\\\\\n\tBC01\\_03 & tumor\\\\\n\tBC01\\_04 & tumor\\\\\n\tBC01\\_05 & tumor\\\\\n\tBC01\\_06 & tumor\\\\\n\tBC01\\_08 & tumor\\\\\n\\end{tabular}\n",
            "text/plain": [
              "        condition\n",
              "BC01_02 tumor    \n",
              "BC01_03 tumor    \n",
              "BC01_04 tumor    \n",
              "BC01_05 tumor    \n",
              "BC01_06 tumor    \n",
              "BC01_08 tumor    "
            ]
          },
          "metadata": {}
        }
      ]
    },
    {
      "cell_type": "code",
      "source": [
        "# Round count data to integers\n",
        "rounded_data <- round(data)"
      ],
      "metadata": {
        "id": "Fto4AZNTgqyM"
      },
      "execution_count": 20,
      "outputs": []
    },
    {
      "cell_type": "code",
      "source": [
        "# Create a DESeqDataSet object\n",
        "dds <- DESeqDataSetFromMatrix(countData = rounded_data,\n",
        "                              colData = colData,\n",
        "                              design = ~ condition)"
      ],
      "metadata": {
        "colab": {
          "base_uri": "https://localhost:8080/"
        },
        "id": "j8_Ib8-WTG7m",
        "outputId": "c154986c-f9c4-46ed-ae86-c772982cabab"
      },
      "execution_count": 21,
      "outputs": [
        {
          "output_type": "stream",
          "name": "stderr",
          "text": [
            "converting counts to integer mode\n",
            "\n"
          ]
        }
      ]
    },
    {
      "cell_type": "code",
      "source": [
        "# Run differential expression pipeline\n",
        "dds <- DESeq(dds)"
      ],
      "metadata": {
        "colab": {
          "base_uri": "https://localhost:8080/"
        },
        "id": "SvqDrHv0TNuG",
        "outputId": "b4b349f0-674d-4d41-f787-0d453ce83ccc"
      },
      "execution_count": 22,
      "outputs": [
        {
          "output_type": "stream",
          "name": "stderr",
          "text": [
            "estimating size factors\n",
            "\n",
            "estimating dispersions\n",
            "\n",
            "gene-wise dispersion estimates\n",
            "\n",
            "mean-dispersion relationship\n",
            "\n",
            "final dispersion estimates\n",
            "\n",
            "fitting model and testing\n",
            "\n",
            "-- replacing outliers and refitting for 18110 genes\n",
            "-- DESeq argument 'minReplicatesForReplace' = 7 \n",
            "-- original counts are preserved in counts(dds)\n",
            "\n",
            "estimating dispersions\n",
            "\n",
            "fitting model and testing\n",
            "\n"
          ]
        }
      ]
    },
    {
      "cell_type": "code",
      "source": [
        "# Get results table\n",
        "res <- results(dds)"
      ],
      "metadata": {
        "id": "hxj7p2N-gxPi"
      },
      "execution_count": 23,
      "outputs": []
    },
    {
      "cell_type": "code",
      "source": [
        "# Order by adjusted p-value\n",
        "resOrdered <- res[order(res$padj),]"
      ],
      "metadata": {
        "id": "NPm_46vFrIjB"
      },
      "execution_count": 24,
      "outputs": []
    },
    {
      "cell_type": "code",
      "source": [
        "head(resOrdered)"
      ],
      "metadata": {
        "colab": {
          "base_uri": "https://localhost:8080/",
          "height": 362
        },
        "id": "KL5v21z7rLBQ",
        "outputId": "4c348a52-82f5-4984-857b-aca23790649f"
      },
      "execution_count": 25,
      "outputs": [
        {
          "output_type": "display_data",
          "data": {
            "text/plain": [
              "log2 fold change (MLE): condition tumor vs healthy \n",
              "Wald test p-value: condition tumor vs healthy \n",
              "DataFrame with 6 rows and 6 columns\n",
              "                    baseMean log2FoldChange     lfcSE      stat      pvalue\n",
              "                   <numeric>      <numeric> <numeric> <numeric>   <numeric>\n",
              "ENSG00000225630.1  602.57092        3.27336  0.181511   18.0340 1.05432e-72\n",
              "ENSG00000125691.8 8171.22030       -2.71628  0.155006  -17.5237 9.45245e-69\n",
              "ENSG00000161634.7  199.64566      -14.04388  0.818055  -17.1674 4.65730e-66\n",
              "ENSG00000201076.1    8.78064      -26.55977  1.584186  -16.7656 4.35834e-63\n",
              "ENSG00000164756.8   44.53408      -12.64121  0.780085  -16.2049 4.65504e-59\n",
              "ENSG00000178372.6   30.18816        7.76203  0.511314   15.1806 4.75692e-52\n",
              "                         padj\n",
              "                    <numeric>\n",
              "ENSG00000225630.1 1.58402e-68\n",
              "ENSG00000125691.8 7.10068e-65\n",
              "ENSG00000161634.7 2.33237e-62\n",
              "ENSG00000201076.1 1.63699e-59\n",
              "ENSG00000164756.8 1.39875e-55\n",
              "ENSG00000178372.6 1.19113e-48"
            ]
          },
          "metadata": {}
        }
      ]
    },
    {
      "cell_type": "code",
      "source": [
        "# Subset the DESeq2 result for p-values less than 0.05\n",
        "selected_genes <- subset(resOrdered, padj < 0.05 & log2FoldChange > 0)"
      ],
      "metadata": {
        "id": "R4T8mStZrM6A"
      },
      "execution_count": 26,
      "outputs": []
    },
    {
      "cell_type": "code",
      "source": [
        "selected_genes"
      ],
      "metadata": {
        "colab": {
          "base_uri": "https://localhost:8080/",
          "height": 543
        },
        "id": "8Jy3pCCYrSl7",
        "outputId": "a9e70a57-32fb-4f2a-c04f-77ce0debba31"
      },
      "execution_count": 27,
      "outputs": [
        {
          "output_type": "display_data",
          "data": {
            "text/plain": [
              "log2 fold change (MLE): condition tumor vs healthy \n",
              "Wald test p-value: condition tumor vs healthy \n",
              "DataFrame with 2251 rows and 6 columns\n",
              "                    baseMean log2FoldChange     lfcSE      stat      pvalue\n",
              "                   <numeric>      <numeric> <numeric> <numeric>   <numeric>\n",
              "ENSG00000225630.1  602.57092        3.27336  0.181511   18.0340 1.05432e-72\n",
              "ENSG00000178372.6   30.18816        7.76203  0.511314   15.1806 4.75692e-52\n",
              "ENSG00000154639.14  53.80189        5.06226  0.375764   13.4719 2.28909e-41\n",
              "ENSG00000243955.1    9.37002       11.38510  0.877079   12.9807 1.57449e-38\n",
              "ENSG00000138653.5   10.51885        9.46992  0.783879   12.0809 1.33330e-33\n",
              "...                      ...            ...       ...       ...         ...\n",
              "ENSG00000123815.7   1.962282        1.76037  0.705274   2.49600   0.0125602\n",
              "ENSG00000131914.6   0.487869        2.37110  0.949941   2.49605   0.0125586\n",
              "ENSG00000185164.10  4.053902        1.15192  0.461574   2.49564   0.0125730\n",
              "ENSG00000169131.6   4.796538        1.46744  0.588353   2.49414   0.0126261\n",
              "ENSG00000173926.5   6.656159        1.79019  0.717825   2.49391   0.0126344\n",
              "                          padj\n",
              "                     <numeric>\n",
              "ENSG00000225630.1  1.58402e-68\n",
              "ENSG00000178372.6  1.19113e-48\n",
              "ENSG00000154639.14 3.82126e-38\n",
              "ENSG00000243955.1  2.15046e-35\n",
              "ENSG00000138653.5  1.43082e-30\n",
              "...                        ...\n",
              "ENSG00000123815.7    0.0496329\n",
              "ENSG00000131914.6    0.0496329\n",
              "ENSG00000185164.10   0.0496706\n",
              "ENSG00000169131.6    0.0498541\n",
              "ENSG00000173926.5    0.0498605"
            ]
          },
          "metadata": {}
        }
      ]
    },
    {
      "cell_type": "code",
      "source": [
        "dim(selected_genes)"
      ],
      "metadata": {
        "colab": {
          "base_uri": "https://localhost:8080/",
          "height": 34
        },
        "id": "AiEhiy2-rTRT",
        "outputId": "bd8a0162-220d-48f1-dbbb-e06160eb4f17"
      },
      "execution_count": 28,
      "outputs": [
        {
          "output_type": "display_data",
          "data": {
            "text/html": [
              "<style>\n",
              ".list-inline {list-style: none; margin:0; padding: 0}\n",
              ".list-inline>li {display: inline-block}\n",
              ".list-inline>li:not(:last-child)::after {content: \"\\00b7\"; padding: 0 .5ex}\n",
              "</style>\n",
              "<ol class=list-inline><li>2251</li><li>6</li></ol>\n"
            ],
            "text/markdown": "1. 2251\n2. 6\n\n\n",
            "text/latex": "\\begin{enumerate*}\n\\item 2251\n\\item 6\n\\end{enumerate*}\n",
            "text/plain": [
              "[1] 2251    6"
            ]
          },
          "metadata": {}
        }
      ]
    },
    {
      "cell_type": "code",
      "source": [
        "# Write results to file\n",
        "write.csv(resOrdered, file=\"deseq2_all_results.csv\")\n",
        "write.csv(selected_genes, file=\"deseq2_selected_genes.csv\")"
      ],
      "metadata": {
        "id": "C9AO-e5xrTUk"
      },
      "execution_count": 29,
      "outputs": []
    },
    {
      "cell_type": "code",
      "source": [
        "# Make volcano plot\n",
        "plot( res$log2FoldChange, -log(res$padj), xlab=\"Log2 Fold Change\", ylab=\"-Log10 Adjusted p-value\")\n",
        "abline(v=c(-2,2), col=\"gray\", lty=2)"
      ],
      "metadata": {
        "colab": {
          "base_uri": "https://localhost:8080/",
          "height": 437
        },
        "id": "EK_5HXHo6T2o",
        "outputId": "309913bd-fda1-49de-a491-96c4d41e0608"
      },
      "execution_count": 30,
      "outputs": [
        {
          "output_type": "display_data",
          "data": {
            "text/plain": [
              "plot without title"
            ],
            "image/png": "[encoded data removed]"
          },
          "metadata": {
            "image/png": {
              "width": 420,
              "height": 420
            }
          }
        }
      ]
    },
    {
      "cell_type": "markdown",
      "source": [
        "#Finding the Pathways"
      ],
      "metadata": {
        "id": "uCMLCI096bgS"
      }
    },
    {
      "cell_type": "code",
      "source": [
        "# Install DESeq2\n",
        "if (!require(\"BiocManager\", quietly = TRUE))\n",
        "  install.packages(\"BiocManager\")\n",
        "BiocManager::install(\"org.Hs.eg.db\")"
      ],
      "metadata": {
        "colab": {
          "base_uri": "https://localhost:8080/"
        },
        "id": "WjEksKvC6n_V",
        "outputId": "d48661e6-7ec2-458b-bd13-15d577bea7ff"
      },
      "execution_count": 31,
      "outputs": [
        {
          "output_type": "stream",
          "name": "stderr",
          "text": [
            "'getOption(\"repos\")' replaces Bioconductor standard repositories, see\n",
            "'help(\"repositories\", package = \"BiocManager\")' for details.\n",
            "Replacement repositories:\n",
            "    CRAN: https://cran.rstudio.com\n",
            "\n",
            "Bioconductor version 3.18 (BiocManager 1.30.22), R 4.3.3 (2024-02-29)\n",
            "\n",
            "Installing package(s) 'org.Hs.eg.db'\n",
            "\n",
            "Old packages: 'bit', 'bslib', 'callr', 'curl', 'data.table', 'DBI', 'dbplyr',\n",
            "  'devtools', 'digest', 'gargle', 'ggplot2', 'gh', 'gtable', 'highr',\n",
            "  'htmltools', 'httr2', 'isoband', 'knitr', 'munsell', 'openssl', 'pkgbuild',\n",
            "  'processx', 'ragg', 'remotes', 'rmarkdown', 'rstudioapi', 'rvest', 'sass',\n",
            "  'systemfonts', 'testthat', 'textshaping', 'tidyselect', 'tinytex', 'usethis',\n",
            "  'whisker', 'xfun', 'zip', 'codetools', 'lattice', 'nlme', 'survival'\n",
            "\n"
          ]
        }
      ]
    },
    {
      "cell_type": "code",
      "source": [
        "library(org.Hs.eg.db)"
      ],
      "metadata": {
        "colab": {
          "base_uri": "https://localhost:8080/"
        },
        "id": "Xt83VvLV6peN",
        "outputId": "3e9635c4-8ab2-4528-dd51-24eb72348f7b"
      },
      "execution_count": 32,
      "outputs": [
        {
          "output_type": "stream",
          "name": "stderr",
          "text": [
            "Loading required package: AnnotationDbi\n",
            "\n",
            "\n",
            "Attaching package: ‘AnnotationDbi’\n",
            "\n",
            "\n",
            "The following object is masked from ‘package:dplyr’:\n",
            "\n",
            "    select\n",
            "\n",
            "\n",
            "\n",
            "\n"
          ]
        }
      ]
    },
    {
      "cell_type": "code",
      "source": [
        "ensembl <- useEnsembl(biomart = \"ensembl\", dataset = \"hsapiens_gene_ensembl\")"
      ],
      "metadata": {
        "id": "avaKg5u56WQt"
      },
      "execution_count": 33,
      "outputs": []
    },
    {
      "cell_type": "code",
      "source": [
        "genes = row.names(selected_genes)"
      ],
      "metadata": {
        "id": "oK5-xs696g7s"
      },
      "execution_count": 34,
      "outputs": []
    },
    {
      "cell_type": "code",
      "source": [
        "genes <- gsub(\"\\\\.\\\\d+$\", \"\", genes)"
      ],
      "metadata": {
        "id": "U77xLtI98D56"
      },
      "execution_count": 35,
      "outputs": []
    },
    {
      "cell_type": "code",
      "source": [
        "mapping <- getBM(\n",
        "  attributes = c('ensembl_gene_id', 'external_gene_name'),\n",
        "  filters = 'ensembl_gene_id',\n",
        "  values = genes,\n",
        "  mart = ensembl\n",
        ")"
      ],
      "metadata": {
        "id": "4Q30mJpm71e8"
      },
      "execution_count": 36,
      "outputs": []
    },
    {
      "cell_type": "code",
      "source": [
        "geneSymbols <- mapping$external_gene_name"
      ],
      "metadata": {
        "id": "oT3I5nAR77C5"
      },
      "execution_count": 37,
      "outputs": []
    },
    {
      "cell_type": "code",
      "source": [
        "geneSymbols <- geneSymbols[nzchar(geneSymbols)]"
      ],
      "metadata": {
        "id": "Zt2JBrBb797s"
      },
      "execution_count": 38,
      "outputs": []
    },
    {
      "cell_type": "code",
      "source": [
        "geneSymbols"
      ],
      "metadata": {
        "colab": {
          "base_uri": "https://localhost:8080/",
          "height": 381
        },
        "id": "Dj12Giy28BT0",
        "outputId": "32573580-983d-4089-bce5-49bd8ec0b540"
      },
      "execution_count": 39,
      "outputs": [
        {
          "output_type": "display_data",
          "data": {
            "text/html": [
              "<style>\n",
              ".list-inline {list-style: none; margin:0; padding: 0}\n",
              ".list-inline>li {display: inline-block}\n",
              ".list-inline>li:not(:last-child)::after {content: \"\\00b7\"; padding: 0 .5ex}\n",
              "</style>\n",
              "<ol class=list-inline><li>'TSPAN6'</li><li>'SCYL3'</li><li>'NFYA'</li><li>'KRIT1'</li><li>'DBNDD1'</li><li>'AK2'</li><li>'FKBP4'</li><li>'CROT'</li><li>'IBTK'</li><li>'ITGA3'</li><li>'LAMP2'</li><li>'ZNF263'</li><li>'CX3CL1'</li><li>'TNFRSF12A'</li><li>'BAIAP2L1'</li><li>'AGK'</li><li>'TTC22'</li><li>'GTF2IRD1'</li><li>'PAX6'</li><li>'TSR3'</li><li>'TEAD3'</li><li>'CDKL5'</li><li>'CYB561'</li><li>'AASS'</li><li>'PLEKHG6'</li><li>'NFIX'</li><li>'CD9'</li><li>'HFE'</li><li>'HIVEP2'</li><li>'LYPLA2'</li><li>'TSPAN9'</li><li>'MBTD1'</li><li>'SYT7'</li><li>'LTF'</li><li>'CALCOCO1'</li><li>'PGM3'</li><li>'RWDD2A'</li><li>'GPRC5A'</li><li>'MTMR11'</li><li>'CHDH'</li><li>'WWTR1'</li><li>'ZFP64'</li><li>'MNAT1'</li><li>'RB1CC1'</li><li>'GLRX2'</li><li>'ABCC2'</li><li>'RRAGD'</li><li>'SEC63'</li><li>'IFNGR1'</li><li>'MAP2K3'</li><li>'SH3YL1'</li><li>'VCL'</li><li>'NSUN2'</li><li>'CDH1'</li><li>'RAI14'</li><li>'PNKP'</li><li>'RAB27B'</li><li>'TNC'</li><li>'BARX2'</li><li>'CUL7'</li><li>'CTNNA1'</li><li>'PHKA2'</li><li>'HSPA5'</li><li>'DSG2'</li><li>'GPM6B'</li><li>'CP'</li><li>'MRPS10'</li><li>'LTBP1'</li><li>'RCN1'</li><li>'CLPTM1L'</li><li>'ARHGEF5'</li><li>'MAPK9'</li><li>'PIK3CB'</li><li>'THOC3'</li><li>'HEBP2'</li><li>'PRSS8'</li><li>'RRP12'</li><li>'LAMA3'</li><li>'KIF1B'</li><li>'FOXC1'</li><li>'ATP9A'</li><li>'FAM168A'</li><li>'GYG2'</li><li>'PKP2'</li><li>'USP13'</li><li>'LAMC2'</li><li>'MXD1'</li><li>'YBX3'</li><li>'NCKAP1'</li><li>'CDH3'</li><li>'MRPS24'</li><li>'VMP1'</li><li>'DLX3'</li><li>'LPAR2'</li><li>'CHI3L2'</li><li>'ANKS1A'</li><li>'BLTP3A'</li><li>'ERBB3'</li><li>'ROPN1'</li><li>'PDIA5'</li><li>'MYLK'</li><li>'SLK'</li><li>'FOXJ2'</li><li>'FGFR2'</li><li>'MTFR1'</li><li>'KLF6'</li><li>'PHKA1'</li><li>'TNFRSF1A'</li><li>'LAPTM4A'</li><li>'PSME4'</li><li>'PITX1'</li><li>'NUCKS1'</li><li>'VPS35'</li><li>'MAPK6'</li><li>'HDHD5'</li><li>'LRP6'</li><li>'PFN2'</li><li>'MNT'</li><li>'ZXDC'</li><li>'ST6GALNAC1'</li><li>'WIPI1'</li><li>'ST6GALNAC2'</li><li>'NCK2'</li><li>'LMCD1'</li><li>'FAM50A'</li><li>'CYBRD1'</li><li>'PDCD2'</li><li>'LNX1'</li><li>'ALDH3A2'</li><li>'SREBF1'</li><li>'LLGL2'</li><li>'PPP2R3A'</li><li>'IGF2BP2'</li><li>'MAP3K13'</li><li>'TEAD2'</li><li>'MGLL'</li><li>'SLC12A1'</li><li>'MYDGF'</li><li>'SEMA3C'</li><li>'RASAL2'</li><li>'FNDC3B'</li><li>'PLD1'</li><li>'PLXNA2'</li><li>'TPD52'</li><li>'TRAF4'</li><li>'MCAM'</li><li>'GTF3C1'</li><li>'SLC25A43'</li><li>'NEBL'</li><li>'HOXA9'</li><li>'EDN1'</li><li>'CBFA2T2'</li><li>'BPIFB2'</li><li>'TNS1'</li><li>'OPHN1'</li><li>'CRYBG3'</li><li>'MID2'</li><li>'DLGAP4'</li><li>'MAGI3'</li><li>'UBA5'</li><li>'LRP2'</li><li>'AACS'</li><li>'CADPS2'</li><li>'ATP8B1'</li><li>'SMARCD3'</li><li>'DLG3'</li><li>'SERTAD4'</li><li>'NFE2L1'</li><li>'DOP1A'</li><li>'ULK2'</li><li>'GRHL2'</li><li>'SLC27A5'</li><li>'ZNF446'</li><li>'ZNF264'</li><li>'FAT1'</li><li>'AGBL5'</li><li>'KIF3C'</li><li>'RAB10'</li><li>'CAD'</li><li>'CD59'</li><li>'MYNN'</li><li>'MAP3K4'</li><li>'IGSF9'</li><li>'TTC39A'</li><li>'SEPHS1'</li><li>'ITPKC'</li><li>'CEACAM6'</li><li>'TMED2'</li><li>'TRIP6'</li><li>'SF3B2'</li><li>'GNAS'</li><li>'TFAP2C'</li><li>'PIR'</li><li>'GNA11'</li><li>'ASAP3'</li><li>'FER1L4'</li><li>'SLC15A1'</li><li>'SMOX'</li><li>'NSFL1C'</li><li>'SLC4A11'</li><li>⋯</li><li>'CEBPD'</li><li>'ZNF880'</li><li>'TRIM16'</li><li>'FTH1P10'</li><li>'NUTM2A-AS1'</li><li>'VPS52'</li><li>'ZNF844'</li><li>'TINCR'</li><li>'UBE2FP1'</li><li>'LINC01133'</li><li>'EPIC1'</li><li>'MSL3P1'</li><li>'SMIM13'</li><li>'SNRPGP15'</li><li>'RPS27AP16'</li><li>'NPIPA3'</li><li>'GOLGA2P7'</li><li>'RPS12P26'</li><li>'DUXAP9'</li><li>'RBMS1P1'</li><li>'ATP13A4-AS1'</li><li>'MTND2P28'</li><li>'MCRIP1'</li><li>'RUSC1-AS1'</li><li>'ZNF567-DT'</li><li>'WASH8P'</li><li>'GTF2H2B'</li><li>'NUP50-DT'</li><li>'TPI1P1'</li><li>'TMEM185B'</li><li>'FTH1P20'</li><li>'LINC01535'</li><li>'HSBP1L1'</li><li>'C14orf132'</li><li>'WDR46'</li><li>'AKR1B15'</li><li>'NPM1P30'</li><li>'LINC00578'</li><li>'GAPDHP1'</li><li>'MT-ATP8'</li><li>'PCAT6'</li><li>'ROCR'</li><li>'OR2A9P'</li><li>'PERPP2'</li><li>'MTCO2P12'</li><li>'LINC01315'</li><li>'TFAP2A-AS1'</li><li>'RPL29P4'</li><li>'LINC01001'</li><li>'RPL10P3'</li><li>'MIR205HG'</li><li>'HSBP1'</li><li>'RPL7P32'</li><li>'LINC01436'</li><li>'HMGB1P7'</li><li>'RPS18'</li><li>'FAHD2CP'</li><li>'DLG3-AS1'</li><li>'RPS27AP5'</li><li>'ANXA2P2'</li><li>'FTH1P7'</li><li>'MHENCR'</li><li>'EMSLR'</li><li>'EEF1B2P3'</li><li>'LINC00665'</li><li>'PET117'</li><li>'RPS11P5'</li><li>'LINC00342'</li><li>'HCG25'</li><li>'GTF2IP4'</li><li>'H2BC15'</li><li>'RPL5P34'</li><li>'ZNF736'</li><li>'CCT6P3'</li><li>'JRK'</li><li>'GAS5'</li><li>'SOX9-AS1'</li><li>'FTH1P2'</li><li>'ZSCAN31'</li><li>'RPL39P3'</li><li>'MRPS10P1'</li><li>'LINC01278'</li><li>'FAM157A'</li><li>'CBR3-AS1'</li><li>'CKMT1B'</li><li>'NDUFA9P1'</li><li>'CECR7'</li><li>'LINC02984'</li><li>'DGUOK-AS1'</li><li>'LINC00649'</li><li>'MTCO1P12'</li><li>'RNF103'</li><li>'NME1'</li><li>'GET4'</li><li>'LY6G5B'</li><li>'RPL36AP44'</li><li>'SMKR1'</li><li>'CPHL1P'</li><li>'RPS2P5'</li><li>'TM4SF1-AS1'</li><li>'KRBOX1'</li><li>'PEDS1'</li><li>'PLCXD2'</li><li>'MIF'</li><li>'RPP21'</li><li>'LINC00635'</li><li>'ARPC1A'</li><li>'HYPK'</li><li>'PEG10'</li><li>'ARPIN'</li><li>'FTH1P4'</li><li>'EFNA4'</li><li>'CFB'</li><li>'NME2'</li><li>'HLA-L'</li><li>'OR2A7'</li><li>'GSTA1'</li><li>'ACY1'</li><li>'RPL13AP2'</li><li>'RPL7P23'</li><li>'TM4SF18-AS1'</li><li>'OR2A1-AS1'</li><li>'RPL17P7'</li><li>'RNF139-DT'</li><li>'NEAT1'</li><li>'CRNDE'</li><li>'DRAIC'</li><li>'RAB30-DT'</li><li>'UBR5-DT'</li><li>'MIR4458HG'</li><li>'GASK1B-AS1'</li><li>'ABHD14A'</li><li>'MTATP6P1'</li><li>'COPB2-DT'</li><li>'TMEM150C'</li><li>'CASC9'</li><li>'ARPIN-AP3S2'</li><li>'LINC02197'</li><li>'GMPSP1'</li><li>'CHCHD10'</li><li>'GMDS-DT'</li><li>'TMEM108-AS1'</li><li>'RIPK2-DT'</li><li>'ZNF345'</li><li>'RTN3P1'</li><li>'MALAT1'</li><li>'GUSBP3'</li><li>'HOXA10'</li><li>'TUG1'</li><li>'ATXN7L3B'</li><li>'KRT8P3'</li><li>'CSNK2A3'</li><li>'FPGT'</li><li>'MEX3A'</li><li>'PRR13P2'</li><li>'CHMP1B'</li><li>'ZNF432'</li><li>'CYP2B7P'</li><li>'CNPY2'</li><li>'SRMP2'</li><li>'DNAJC19P9'</li><li>'MAP3K9-DT'</li><li>'ZNF710-AS1'</li><li>'LINC01833'</li><li>'SORD2P'</li><li>'HOXB7'</li><li>'NORAD'</li><li>'SNHG19'</li><li>'LINC02562'</li><li>'FTLP14'</li><li>'FAM157C'</li><li>'DSP-AS1'</li><li>'GAN'</li><li>'H2BC20P'</li><li>'LINC00662'</li><li>'MIA'</li><li>'LINC00667'</li><li>'RN7SL731P'</li><li>'GACAT2'</li><li>'NDUFV2-AS1'</li><li>'ZNF561-AS1'</li><li>'CHMP1B-AS1'</li><li>'ZNF790-AS1'</li><li>'PARD6G-AS1'</li><li>'SNHG30'</li><li>'BSG-AS1'</li><li>'ZNF587B'</li><li>'KCNQ1OT1'</li><li>'ZNF528-AS1'</li><li>'NCBP2AS2'</li><li>'UBE2CP5'</li><li>'HERPUD2-AS1'</li><li>'ITGB8-AS1'</li><li>'SRXN1'</li><li>'GTF2H5'</li><li>'CASC15'</li><li>'WASL-DT'</li><li>'ADIRF-AS1'</li><li>'MIOS-DT'</li><li>'LINC00938'</li></ol>\n"
            ],
            "text/markdown": "1. 'TSPAN6'\n2. 'SCYL3'\n3. 'NFYA'\n4. 'KRIT1'\n5. 'DBNDD1'\n6. 'AK2'\n7. 'FKBP4'\n8. 'CROT'\n9. 'IBTK'\n10. 'ITGA3'\n11. 'LAMP2'\n12. 'ZNF263'\n13. 'CX3CL1'\n14. 'TNFRSF12A'\n15. 'BAIAP2L1'\n16. 'AGK'\n17. 'TTC22'\n18. 'GTF2IRD1'\n19. 'PAX6'\n20. 'TSR3'\n21. 'TEAD3'\n22. 'CDKL5'\n23. 'CYB561'\n24. 'AASS'\n25. 'PLEKHG6'\n26. 'NFIX'\n27. 'CD9'\n28. 'HFE'\n29. 'HIVEP2'\n30. 'LYPLA2'\n31. 'TSPAN9'\n32. 'MBTD1'\n33. 'SYT7'\n34. 'LTF'\n35. 'CALCOCO1'\n36. 'PGM3'\n37. 'RWDD2A'\n38. 'GPRC5A'\n39. 'MTMR11'\n40. 'CHDH'\n41. 'WWTR1'\n42. 'ZFP64'\n43. 'MNAT1'\n44. 'RB1CC1'\n45. 'GLRX2'\n46. 'ABCC2'\n47. 'RRAGD'\n48. 'SEC63'\n49. 'IFNGR1'\n50. 'MAP2K3'\n51. 'SH3YL1'\n52. 'VCL'\n53. 'NSUN2'\n54. 'CDH1'\n55. 'RAI14'\n56. 'PNKP'\n57. 'RAB27B'\n58. 'TNC'\n59. 'BARX2'\n60. 'CUL7'\n61. 'CTNNA1'\n62. 'PHKA2'\n63. 'HSPA5'\n64. 'DSG2'\n65. 'GPM6B'\n66. 'CP'\n67. 'MRPS10'\n68. 'LTBP1'\n69. 'RCN1'\n70. 'CLPTM1L'\n71. 'ARHGEF5'\n72. 'MAPK9'\n73. 'PIK3CB'\n74. 'THOC3'\n75. 'HEBP2'\n76. 'PRSS8'\n77. 'RRP12'\n78. 'LAMA3'\n79. 'KIF1B'\n80. 'FOXC1'\n81. 'ATP9A'\n82. 'FAM168A'\n83. 'GYG2'\n84. 'PKP2'\n85. 'USP13'\n86. 'LAMC2'\n87. 'MXD1'\n88. 'YBX3'\n89. 'NCKAP1'\n90. 'CDH3'\n91. 'MRPS24'\n92. 'VMP1'\n93. 'DLX3'\n94. 'LPAR2'\n95. 'CHI3L2'\n96. 'ANKS1A'\n97. 'BLTP3A'\n98. 'ERBB3'\n99. 'ROPN1'\n100. 'PDIA5'\n101. 'MYLK'\n102. 'SLK'\n103. 'FOXJ2'\n104. 'FGFR2'\n105. 'MTFR1'\n106. 'KLF6'\n107. 'PHKA1'\n108. 'TNFRSF1A'\n109. 'LAPTM4A'\n110. 'PSME4'\n111. 'PITX1'\n112. 'NUCKS1'\n113. 'VPS35'\n114. 'MAPK6'\n115. 'HDHD5'\n116. 'LRP6'\n117. 'PFN2'\n118. 'MNT'\n119. 'ZXDC'\n120. 'ST6GALNAC1'\n121. 'WIPI1'\n122. 'ST6GALNAC2'\n123. 'NCK2'\n124. 'LMCD1'\n125. 'FAM50A'\n126. 'CYBRD1'\n127. 'PDCD2'\n128. 'LNX1'\n129. 'ALDH3A2'\n130. 'SREBF1'\n131. 'LLGL2'\n132. 'PPP2R3A'\n133. 'IGF2BP2'\n134. 'MAP3K13'\n135. 'TEAD2'\n136. 'MGLL'\n137. 'SLC12A1'\n138. 'MYDGF'\n139. 'SEMA3C'\n140. 'RASAL2'\n141. 'FNDC3B'\n142. 'PLD1'\n143. 'PLXNA2'\n144. 'TPD52'\n145. 'TRAF4'\n146. 'MCAM'\n147. 'GTF3C1'\n148. 'SLC25A43'\n149. 'NEBL'\n150. 'HOXA9'\n151. 'EDN1'\n152. 'CBFA2T2'\n153. 'BPIFB2'\n154. 'TNS1'\n155. 'OPHN1'\n156. 'CRYBG3'\n157. 'MID2'\n158. 'DLGAP4'\n159. 'MAGI3'\n160. 'UBA5'\n161. 'LRP2'\n162. 'AACS'\n163. 'CADPS2'\n164. 'ATP8B1'\n165. 'SMARCD3'\n166. 'DLG3'\n167. 'SERTAD4'\n168. 'NFE2L1'\n169. 'DOP1A'\n170. 'ULK2'\n171. 'GRHL2'\n172. 'SLC27A5'\n173. 'ZNF446'\n174. 'ZNF264'\n175. 'FAT1'\n176. 'AGBL5'\n177. 'KIF3C'\n178. 'RAB10'\n179. 'CAD'\n180. 'CD59'\n181. 'MYNN'\n182. 'MAP3K4'\n183. 'IGSF9'\n184. 'TTC39A'\n185. 'SEPHS1'\n186. 'ITPKC'\n187. 'CEACAM6'\n188. 'TMED2'\n189. 'TRIP6'\n190. 'SF3B2'\n191. 'GNAS'\n192. 'TFAP2C'\n193. 'PIR'\n194. 'GNA11'\n195. 'ASAP3'\n196. 'FER1L4'\n197. 'SLC15A1'\n198. 'SMOX'\n199. 'NSFL1C'\n200. 'SLC4A11'\n201. ⋯\n202. 'CEBPD'\n203. 'ZNF880'\n204. 'TRIM16'\n205. 'FTH1P10'\n206. 'NUTM2A-AS1'\n207. 'VPS52'\n208. 'ZNF844'\n209. 'TINCR'\n210. 'UBE2FP1'\n211. 'LINC01133'\n212. 'EPIC1'\n213. 'MSL3P1'\n214. 'SMIM13'\n215. 'SNRPGP15'\n216. 'RPS27AP16'\n217. 'NPIPA3'\n218. 'GOLGA2P7'\n219. 'RPS12P26'\n220. 'DUXAP9'\n221. 'RBMS1P1'\n222. 'ATP13A4-AS1'\n223. 'MTND2P28'\n224. 'MCRIP1'\n225. 'RUSC1-AS1'\n226. 'ZNF567-DT'\n227. 'WASH8P'\n228. 'GTF2H2B'\n229. 'NUP50-DT'\n230. 'TPI1P1'\n231. 'TMEM185B'\n232. 'FTH1P20'\n233. 'LINC01535'\n234. 'HSBP1L1'\n235. 'C14orf132'\n236. 'WDR46'\n237. 'AKR1B15'\n238. 'NPM1P30'\n239. 'LINC00578'\n240. 'GAPDHP1'\n241. 'MT-ATP8'\n242. 'PCAT6'\n243. 'ROCR'\n244. 'OR2A9P'\n245. 'PERPP2'\n246. 'MTCO2P12'\n247. 'LINC01315'\n248. 'TFAP2A-AS1'\n249. 'RPL29P4'\n250. 'LINC01001'\n251. 'RPL10P3'\n252. 'MIR205HG'\n253. 'HSBP1'\n254. 'RPL7P32'\n255. 'LINC01436'\n256. 'HMGB1P7'\n257. 'RPS18'\n258. 'FAHD2CP'\n259. 'DLG3-AS1'\n260. 'RPS27AP5'\n261. 'ANXA2P2'\n262. 'FTH1P7'\n263. 'MHENCR'\n264. 'EMSLR'\n265. 'EEF1B2P3'\n266. 'LINC00665'\n267. 'PET117'\n268. 'RPS11P5'\n269. 'LINC00342'\n270. 'HCG25'\n271. 'GTF2IP4'\n272. 'H2BC15'\n273. 'RPL5P34'\n274. 'ZNF736'\n275. 'CCT6P3'\n276. 'JRK'\n277. 'GAS5'\n278. 'SOX9-AS1'\n279. 'FTH1P2'\n280. 'ZSCAN31'\n281. 'RPL39P3'\n282. 'MRPS10P1'\n283. 'LINC01278'\n284. 'FAM157A'\n285. 'CBR3-AS1'\n286. 'CKMT1B'\n287. 'NDUFA9P1'\n288. 'CECR7'\n289. 'LINC02984'\n290. 'DGUOK-AS1'\n291. 'LINC00649'\n292. 'MTCO1P12'\n293. 'RNF103'\n294. 'NME1'\n295. 'GET4'\n296. 'LY6G5B'\n297. 'RPL36AP44'\n298. 'SMKR1'\n299. 'CPHL1P'\n300. 'RPS2P5'\n301. 'TM4SF1-AS1'\n302. 'KRBOX1'\n303. 'PEDS1'\n304. 'PLCXD2'\n305. 'MIF'\n306. 'RPP21'\n307. 'LINC00635'\n308. 'ARPC1A'\n309. 'HYPK'\n310. 'PEG10'\n311. 'ARPIN'\n312. 'FTH1P4'\n313. 'EFNA4'\n314. 'CFB'\n315. 'NME2'\n316. 'HLA-L'\n317. 'OR2A7'\n318. 'GSTA1'\n319. 'ACY1'\n320. 'RPL13AP2'\n321. 'RPL7P23'\n322. 'TM4SF18-AS1'\n323. 'OR2A1-AS1'\n324. 'RPL17P7'\n325. 'RNF139-DT'\n326. 'NEAT1'\n327. 'CRNDE'\n328. 'DRAIC'\n329. 'RAB30-DT'\n330. 'UBR5-DT'\n331. 'MIR4458HG'\n332. 'GASK1B-AS1'\n333. 'ABHD14A'\n334. 'MTATP6P1'\n335. 'COPB2-DT'\n336. 'TMEM150C'\n337. 'CASC9'\n338. 'ARPIN-AP3S2'\n339. 'LINC02197'\n340. 'GMPSP1'\n341. 'CHCHD10'\n342. 'GMDS-DT'\n343. 'TMEM108-AS1'\n344. 'RIPK2-DT'\n345. 'ZNF345'\n346. 'RTN3P1'\n347. 'MALAT1'\n348. 'GUSBP3'\n349. 'HOXA10'\n350. 'TUG1'\n351. 'ATXN7L3B'\n352. 'KRT8P3'\n353. 'CSNK2A3'\n354. 'FPGT'\n355. 'MEX3A'\n356. 'PRR13P2'\n357. 'CHMP1B'\n358. 'ZNF432'\n359. 'CYP2B7P'\n360. 'CNPY2'\n361. 'SRMP2'\n362. 'DNAJC19P9'\n363. 'MAP3K9-DT'\n364. 'ZNF710-AS1'\n365. 'LINC01833'\n366. 'SORD2P'\n367. 'HOXB7'\n368. 'NORAD'\n369. 'SNHG19'\n370. 'LINC02562'\n371. 'FTLP14'\n372. 'FAM157C'\n373. 'DSP-AS1'\n374. 'GAN'\n375. 'H2BC20P'\n376. 'LINC00662'\n377. 'MIA'\n378. 'LINC00667'\n379. 'RN7SL731P'\n380. 'GACAT2'\n381. 'NDUFV2-AS1'\n382. 'ZNF561-AS1'\n383. 'CHMP1B-AS1'\n384. 'ZNF790-AS1'\n385. 'PARD6G-AS1'\n386. 'SNHG30'\n387. 'BSG-AS1'\n388. 'ZNF587B'\n389. 'KCNQ1OT1'\n390. 'ZNF528-AS1'\n391. 'NCBP2AS2'\n392. 'UBE2CP5'\n393. 'HERPUD2-AS1'\n394. 'ITGB8-AS1'\n395. 'SRXN1'\n396. 'GTF2H5'\n397. 'CASC15'\n398. 'WASL-DT'\n399. 'ADIRF-AS1'\n400. 'MIOS-DT'\n401. 'LINC00938'\n\n\n",
            "text/latex": "\\begin{enumerate*}\n\\item 'TSPAN6'\n\\item 'SCYL3'\n\\item 'NFYA'\n\\item 'KRIT1'\n\\item 'DBNDD1'\n\\item 'AK2'\n\\item 'FKBP4'\n\\item 'CROT'\n\\item 'IBTK'\n\\item 'ITGA3'\n\\item 'LAMP2'\n\\item 'ZNF263'\n\\item 'CX3CL1'\n\\item 'TNFRSF12A'\n\\item 'BAIAP2L1'\n\\item 'AGK'\n\\item 'TTC22'\n\\item 'GTF2IRD1'\n\\item 'PAX6'\n\\item 'TSR3'\n\\item 'TEAD3'\n\\item 'CDKL5'\n\\item 'CYB561'\n\\item 'AASS'\n\\item 'PLEKHG6'\n\\item 'NFIX'\n\\item 'CD9'\n\\item 'HFE'\n\\item 'HIVEP2'\n\\item 'LYPLA2'\n\\item 'TSPAN9'\n\\item 'MBTD1'\n\\item 'SYT7'\n\\item 'LTF'\n\\item 'CALCOCO1'\n\\item 'PGM3'\n\\item 'RWDD2A'\n\\item 'GPRC5A'\n\\item 'MTMR11'\n\\item 'CHDH'\n\\item 'WWTR1'\n\\item 'ZFP64'\n\\item 'MNAT1'\n\\item 'RB1CC1'\n\\item 'GLRX2'\n\\item 'ABCC2'\n\\item 'RRAGD'\n\\item 'SEC63'\n\\item 'IFNGR1'\n\\item 'MAP2K3'\n\\item 'SH3YL1'\n\\item 'VCL'\n\\item 'NSUN2'\n\\item 'CDH1'\n\\item 'RAI14'\n\\item 'PNKP'\n\\item 'RAB27B'\n\\item 'TNC'\n\\item 'BARX2'\n\\item 'CUL7'\n\\item 'CTNNA1'\n\\item 'PHKA2'\n\\item 'HSPA5'\n\\item 'DSG2'\n\\item 'GPM6B'\n\\item 'CP'\n\\item 'MRPS10'\n\\item 'LTBP1'\n\\item 'RCN1'\n\\item 'CLPTM1L'\n\\item 'ARHGEF5'\n\\item 'MAPK9'\n\\item 'PIK3CB'\n\\item 'THOC3'\n\\item 'HEBP2'\n\\item 'PRSS8'\n\\item 'RRP12'\n\\item 'LAMA3'\n\\item 'KIF1B'\n\\item 'FOXC1'\n\\item 'ATP9A'\n\\item 'FAM168A'\n\\item 'GYG2'\n\\item 'PKP2'\n\\item 'USP13'\n\\item 'LAMC2'\n\\item 'MXD1'\n\\item 'YBX3'\n\\item 'NCKAP1'\n\\item 'CDH3'\n\\item 'MRPS24'\n\\item 'VMP1'\n\\item 'DLX3'\n\\item 'LPAR2'\n\\item 'CHI3L2'\n\\item 'ANKS1A'\n\\item 'BLTP3A'\n\\item 'ERBB3'\n\\item 'ROPN1'\n\\item 'PDIA5'\n\\item 'MYLK'\n\\item 'SLK'\n\\item 'FOXJ2'\n\\item 'FGFR2'\n\\item 'MTFR1'\n\\item 'KLF6'\n\\item 'PHKA1'\n\\item 'TNFRSF1A'\n\\item 'LAPTM4A'\n\\item 'PSME4'\n\\item 'PITX1'\n\\item 'NUCKS1'\n\\item 'VPS35'\n\\item 'MAPK6'\n\\item 'HDHD5'\n\\item 'LRP6'\n\\item 'PFN2'\n\\item 'MNT'\n\\item 'ZXDC'\n\\item 'ST6GALNAC1'\n\\item 'WIPI1'\n\\item 'ST6GALNAC2'\n\\item 'NCK2'\n\\item 'LMCD1'\n\\item 'FAM50A'\n\\item 'CYBRD1'\n\\item 'PDCD2'\n\\item 'LNX1'\n\\item 'ALDH3A2'\n\\item 'SREBF1'\n\\item 'LLGL2'\n\\item 'PPP2R3A'\n\\item 'IGF2BP2'\n\\item 'MAP3K13'\n\\item 'TEAD2'\n\\item 'MGLL'\n\\item 'SLC12A1'\n\\item 'MYDGF'\n\\item 'SEMA3C'\n\\item 'RASAL2'\n\\item 'FNDC3B'\n\\item 'PLD1'\n\\item 'PLXNA2'\n\\item 'TPD52'\n\\item 'TRAF4'\n\\item 'MCAM'\n\\item 'GTF3C1'\n\\item 'SLC25A43'\n\\item 'NEBL'\n\\item 'HOXA9'\n\\item 'EDN1'\n\\item 'CBFA2T2'\n\\item 'BPIFB2'\n\\item 'TNS1'\n\\item 'OPHN1'\n\\item 'CRYBG3'\n\\item 'MID2'\n\\item 'DLGAP4'\n\\item 'MAGI3'\n\\item 'UBA5'\n\\item 'LRP2'\n\\item 'AACS'\n\\item 'CADPS2'\n\\item 'ATP8B1'\n\\item 'SMARCD3'\n\\item 'DLG3'\n\\item 'SERTAD4'\n\\item 'NFE2L1'\n\\item 'DOP1A'\n\\item 'ULK2'\n\\item 'GRHL2'\n\\item 'SLC27A5'\n\\item 'ZNF446'\n\\item 'ZNF264'\n\\item 'FAT1'\n\\item 'AGBL5'\n\\item 'KIF3C'\n\\item 'RAB10'\n\\item 'CAD'\n\\item 'CD59'\n\\item 'MYNN'\n\\item 'MAP3K4'\n\\item 'IGSF9'\n\\item 'TTC39A'\n\\item 'SEPHS1'\n\\item 'ITPKC'\n\\item 'CEACAM6'\n\\item 'TMED2'\n\\item 'TRIP6'\n\\item 'SF3B2'\n\\item 'GNAS'\n\\item 'TFAP2C'\n\\item 'PIR'\n\\item 'GNA11'\n\\item 'ASAP3'\n\\item 'FER1L4'\n\\item 'SLC15A1'\n\\item 'SMOX'\n\\item 'NSFL1C'\n\\item 'SLC4A11'\n\\item ⋯\n\\item 'CEBPD'\n\\item 'ZNF880'\n\\item 'TRIM16'\n\\item 'FTH1P10'\n\\item 'NUTM2A-AS1'\n\\item 'VPS52'\n\\item 'ZNF844'\n\\item 'TINCR'\n\\item 'UBE2FP1'\n\\item 'LINC01133'\n\\item 'EPIC1'\n\\item 'MSL3P1'\n\\item 'SMIM13'\n\\item 'SNRPGP15'\n\\item 'RPS27AP16'\n\\item 'NPIPA3'\n\\item 'GOLGA2P7'\n\\item 'RPS12P26'\n\\item 'DUXAP9'\n\\item 'RBMS1P1'\n\\item 'ATP13A4-AS1'\n\\item 'MTND2P28'\n\\item 'MCRIP1'\n\\item 'RUSC1-AS1'\n\\item 'ZNF567-DT'\n\\item 'WASH8P'\n\\item 'GTF2H2B'\n\\item 'NUP50-DT'\n\\item 'TPI1P1'\n\\item 'TMEM185B'\n\\item 'FTH1P20'\n\\item 'LINC01535'\n\\item 'HSBP1L1'\n\\item 'C14orf132'\n\\item 'WDR46'\n\\item 'AKR1B15'\n\\item 'NPM1P30'\n\\item 'LINC00578'\n\\item 'GAPDHP1'\n\\item 'MT-ATP8'\n\\item 'PCAT6'\n\\item 'ROCR'\n\\item 'OR2A9P'\n\\item 'PERPP2'\n\\item 'MTCO2P12'\n\\item 'LINC01315'\n\\item 'TFAP2A-AS1'\n\\item 'RPL29P4'\n\\item 'LINC01001'\n\\item 'RPL10P3'\n\\item 'MIR205HG'\n\\item 'HSBP1'\n\\item 'RPL7P32'\n\\item 'LINC01436'\n\\item 'HMGB1P7'\n\\item 'RPS18'\n\\item 'FAHD2CP'\n\\item 'DLG3-AS1'\n\\item 'RPS27AP5'\n\\item 'ANXA2P2'\n\\item 'FTH1P7'\n\\item 'MHENCR'\n\\item 'EMSLR'\n\\item 'EEF1B2P3'\n\\item 'LINC00665'\n\\item 'PET117'\n\\item 'RPS11P5'\n\\item 'LINC00342'\n\\item 'HCG25'\n\\item 'GTF2IP4'\n\\item 'H2BC15'\n\\item 'RPL5P34'\n\\item 'ZNF736'\n\\item 'CCT6P3'\n\\item 'JRK'\n\\item 'GAS5'\n\\item 'SOX9-AS1'\n\\item 'FTH1P2'\n\\item 'ZSCAN31'\n\\item 'RPL39P3'\n\\item 'MRPS10P1'\n\\item 'LINC01278'\n\\item 'FAM157A'\n\\item 'CBR3-AS1'\n\\item 'CKMT1B'\n\\item 'NDUFA9P1'\n\\item 'CECR7'\n\\item 'LINC02984'\n\\item 'DGUOK-AS1'\n\\item 'LINC00649'\n\\item 'MTCO1P12'\n\\item 'RNF103'\n\\item 'NME1'\n\\item 'GET4'\n\\item 'LY6G5B'\n\\item 'RPL36AP44'\n\\item 'SMKR1'\n\\item 'CPHL1P'\n\\item 'RPS2P5'\n\\item 'TM4SF1-AS1'\n\\item 'KRBOX1'\n\\item 'PEDS1'\n\\item 'PLCXD2'\n\\item 'MIF'\n\\item 'RPP21'\n\\item 'LINC00635'\n\\item 'ARPC1A'\n\\item 'HYPK'\n\\item 'PEG10'\n\\item 'ARPIN'\n\\item 'FTH1P4'\n\\item 'EFNA4'\n\\item 'CFB'\n\\item 'NME2'\n\\item 'HLA-L'\n\\item 'OR2A7'\n\\item 'GSTA1'\n\\item 'ACY1'\n\\item 'RPL13AP2'\n\\item 'RPL7P23'\n\\item 'TM4SF18-AS1'\n\\item 'OR2A1-AS1'\n\\item 'RPL17P7'\n\\item 'RNF139-DT'\n\\item 'NEAT1'\n\\item 'CRNDE'\n\\item 'DRAIC'\n\\item 'RAB30-DT'\n\\item 'UBR5-DT'\n\\item 'MIR4458HG'\n\\item 'GASK1B-AS1'\n\\item 'ABHD14A'\n\\item 'MTATP6P1'\n\\item 'COPB2-DT'\n\\item 'TMEM150C'\n\\item 'CASC9'\n\\item 'ARPIN-AP3S2'\n\\item 'LINC02197'\n\\item 'GMPSP1'\n\\item 'CHCHD10'\n\\item 'GMDS-DT'\n\\item 'TMEM108-AS1'\n\\item 'RIPK2-DT'\n\\item 'ZNF345'\n\\item 'RTN3P1'\n\\item 'MALAT1'\n\\item 'GUSBP3'\n\\item 'HOXA10'\n\\item 'TUG1'\n\\item 'ATXN7L3B'\n\\item 'KRT8P3'\n\\item 'CSNK2A3'\n\\item 'FPGT'\n\\item 'MEX3A'\n\\item 'PRR13P2'\n\\item 'CHMP1B'\n\\item 'ZNF432'\n\\item 'CYP2B7P'\n\\item 'CNPY2'\n\\item 'SRMP2'\n\\item 'DNAJC19P9'\n\\item 'MAP3K9-DT'\n\\item 'ZNF710-AS1'\n\\item 'LINC01833'\n\\item 'SORD2P'\n\\item 'HOXB7'\n\\item 'NORAD'\n\\item 'SNHG19'\n\\item 'LINC02562'\n\\item 'FTLP14'\n\\item 'FAM157C'\n\\item 'DSP-AS1'\n\\item 'GAN'\n\\item 'H2BC20P'\n\\item 'LINC00662'\n\\item 'MIA'\n\\item 'LINC00667'\n\\item 'RN7SL731P'\n\\item 'GACAT2'\n\\item 'NDUFV2-AS1'\n\\item 'ZNF561-AS1'\n\\item 'CHMP1B-AS1'\n\\item 'ZNF790-AS1'\n\\item 'PARD6G-AS1'\n\\item 'SNHG30'\n\\item 'BSG-AS1'\n\\item 'ZNF587B'\n\\item 'KCNQ1OT1'\n\\item 'ZNF528-AS1'\n\\item 'NCBP2AS2'\n\\item 'UBE2CP5'\n\\item 'HERPUD2-AS1'\n\\item 'ITGB8-AS1'\n\\item 'SRXN1'\n\\item 'GTF2H5'\n\\item 'CASC15'\n\\item 'WASL-DT'\n\\item 'ADIRF-AS1'\n\\item 'MIOS-DT'\n\\item 'LINC00938'\n\\end{enumerate*}\n",
            "text/plain": [
              "   [1] \"TSPAN6\"      \"SCYL3\"       \"NFYA\"        \"KRIT1\"       \"DBNDD1\"     \n",
              "   [6] \"AK2\"         \"FKBP4\"       \"CROT\"        \"IBTK\"        \"ITGA3\"      \n",
              "  [11] \"LAMP2\"       \"ZNF263\"      \"CX3CL1\"      \"TNFRSF12A\"   \"BAIAP2L1\"   \n",
              "  [16] \"AGK\"         \"TTC22\"       \"GTF2IRD1\"    \"PAX6\"        \"TSR3\"       \n",
              "  [21] \"TEAD3\"       \"CDKL5\"       \"CYB561\"      \"AASS\"        \"PLEKHG6\"    \n",
              "  [26] \"NFIX\"        \"CD9\"         \"HFE\"         \"HIVEP2\"      \"LYPLA2\"     \n",
              "  [31] \"TSPAN9\"      \"MBTD1\"       \"SYT7\"        \"LTF\"         \"CALCOCO1\"   \n",
              "  [36] \"PGM3\"        \"RWDD2A\"      \"GPRC5A\"      \"MTMR11\"      \"CHDH\"       \n",
              "  [41] \"WWTR1\"       \"ZFP64\"       \"MNAT1\"       \"RB1CC1\"      \"GLRX2\"      \n",
              "  [46] \"ABCC2\"       \"RRAGD\"       \"SEC63\"       \"IFNGR1\"      \"MAP2K3\"     \n",
              "  [51] \"SH3YL1\"      \"VCL\"         \"NSUN2\"       \"CDH1\"        \"RAI14\"      \n",
              "  [56] \"PNKP\"        \"RAB27B\"      \"TNC\"         \"BARX2\"       \"CUL7\"       \n",
              "  [61] \"CTNNA1\"      \"PHKA2\"       \"HSPA5\"       \"DSG2\"        \"GPM6B\"      \n",
              "  [66] \"CP\"          \"MRPS10\"      \"LTBP1\"       \"RCN1\"        \"CLPTM1L\"    \n",
              "  [71] \"ARHGEF5\"     \"MAPK9\"       \"PIK3CB\"      \"THOC3\"       \"HEBP2\"      \n",
              "  [76] \"PRSS8\"       \"RRP12\"       \"LAMA3\"       \"KIF1B\"       \"FOXC1\"      \n",
              "  [81] \"ATP9A\"       \"FAM168A\"     \"GYG2\"        \"PKP2\"        \"USP13\"      \n",
              "  [86] \"LAMC2\"       \"MXD1\"        \"YBX3\"        \"NCKAP1\"      \"CDH3\"       \n",
              "  [91] \"MRPS24\"      \"VMP1\"        \"DLX3\"        \"LPAR2\"       \"CHI3L2\"     \n",
              "  [96] \"ANKS1A\"      \"BLTP3A\"      \"ERBB3\"       \"ROPN1\"       \"PDIA5\"      \n",
              " [101] \"MYLK\"        \"SLK\"         \"FOXJ2\"       \"FGFR2\"       \"MTFR1\"      \n",
              " [106] \"KLF6\"        \"PHKA1\"       \"TNFRSF1A\"    \"LAPTM4A\"     \"PSME4\"      \n",
              " [111] \"PITX1\"       \"NUCKS1\"      \"VPS35\"       \"MAPK6\"       \"HDHD5\"      \n",
              " [116] \"LRP6\"        \"PFN2\"        \"MNT\"         \"ZXDC\"        \"ST6GALNAC1\" \n",
              " [121] \"WIPI1\"       \"ST6GALNAC2\"  \"NCK2\"        \"LMCD1\"       \"FAM50A\"     \n",
              " [126] \"CYBRD1\"      \"PDCD2\"       \"LNX1\"        \"ALDH3A2\"     \"SREBF1\"     \n",
              " [131] \"LLGL2\"       \"PPP2R3A\"     \"IGF2BP2\"     \"MAP3K13\"     \"TEAD2\"      \n",
              " [136] \"MGLL\"        \"SLC12A1\"     \"MYDGF\"       \"SEMA3C\"      \"RASAL2\"     \n",
              " [141] \"FNDC3B\"      \"PLD1\"        \"PLXNA2\"      \"TPD52\"       \"TRAF4\"      \n",
              " [146] \"MCAM\"        \"GTF3C1\"      \"SLC25A43\"    \"NEBL\"        \"HOXA9\"      \n",
              " [151] \"EDN1\"        \"CBFA2T2\"     \"BPIFB2\"      \"TNS1\"        \"OPHN1\"      \n",
              " [156] \"CRYBG3\"      \"MID2\"        \"DLGAP4\"      \"MAGI3\"       \"UBA5\"       \n",
              " [161] \"LRP2\"        \"AACS\"        \"CADPS2\"      \"ATP8B1\"      \"SMARCD3\"    \n",
              " [166] \"DLG3\"        \"SERTAD4\"     \"NFE2L1\"      \"DOP1A\"       \"ULK2\"       \n",
              " [171] \"GRHL2\"       \"SLC27A5\"     \"ZNF446\"      \"ZNF264\"      \"FAT1\"       \n",
              " [176] \"AGBL5\"       \"KIF3C\"       \"RAB10\"       \"CAD\"         \"CD59\"       \n",
              " [181] \"MYNN\"        \"MAP3K4\"      \"IGSF9\"       \"TTC39A\"      \"SEPHS1\"     \n",
              " [186] \"ITPKC\"       \"CEACAM6\"     \"TMED2\"       \"TRIP6\"       \"SF3B2\"      \n",
              " [191] \"GNAS\"        \"TFAP2C\"      \"PIR\"         \"GNA11\"       \"ASAP3\"      \n",
              " [196] \"FER1L4\"      \"SLC15A1\"     \"SMOX\"        \"NSFL1C\"      \"SLC4A11\"    \n",
              " [201] \"KIZ\"         \"ESF1\"        \"PXN\"         \"FUS\"         \"FXYD3\"      \n",
              " [206] \"MLF2\"        \"DHX32\"       \"BLVRB\"       \"PCBP4\"       \"DNAJB11\"    \n",
              " [211] \"AARS1\"       \"ITGA6\"       \"FH\"          \"PHGDH\"       \"VNN3P\"      \n",
              " [216] \"LRRFIP2\"     \"XYLB\"        \"GABRP\"       \"SUCO\"        \"EPB41L4B\"   \n",
              " [221] \"TDRD1\"       \"BAMBI\"       \"SRPK1\"       \"BRPF3\"       \"HSP90AB1\"   \n",
              " [226] \"ITPR3\"       \"ZNF184\"      \"DSP\"         \"TSPAN15\"     \"OCEL1\"      \n",
              " [231] \"CATSPERG\"    \"CDC34\"       \"MISP\"        \"RASSF7\"      \"TBC1D10A\"   \n",
              " [236] \"GGT1\"        \"GCAT\"        \"SOX10\"       \"SEPTIN3\"     \"SLC5A1\"     \n",
              " [241] \"TPTEP1\"      \"TCF20\"       \"LMF2\"        \"RASD2\"       \"RBFOX2\"     \n",
              " [246] \"BRD1\"        \"ZBED4\"       \"SIX4\"        \"APEX1\"       \"ARHGAP5\"    \n",
              " [251] \"DHRS2\"       \"PRORP\"       \"BRMS1L\"      \"PNN\"         \"PYGB\"       \n",
              " [256] \"ABHD12\"      \"IFT52\"       \"DNAJC5\"      \"PRELID3B\"    \"MTG2\"       \n",
              " [261] \"MRGBP\"       \"DIDO1\"       \"ARFGAP1\"     \"GMEB2\"       \"ARFRP1\"     \n",
              " [266] \"TRIB3\"       \"PLCB4\"       \"CRNKL1\"      \"MANBAL\"      \"JAG1\"       \n",
              " [271] \"WFDC2\"       \"AHCY\"        \"APMAP\"       \"MIB1\"        \"PSMD10\"     \n",
              " [276] \"PGRMC1\"      \"MID1\"        \"MOSPD1\"      \"AMMECR1\"     \"PLS3\"       \n",
              " [281] \"FMR1\"        \"SLC35A2\"     \"MAGT1\"       \"SMS\"         \"PHEX\"       \n",
              " [286] \"CD99L2\"      \"JADE3\"       \"CDK16\"       \"HTATSF1\"     \"VGLL1\"      \n",
              " [291] \"GABRE\"       \"MAGED2\"      \"PBDC1\"       \"KLF5\"        \"OLFM4\"      \n",
              " [296] \"ZNF629\"      \"MAPK3\"       \"ESRP2\"       \"HSDL1\"       \"NOMO3\"      \n",
              " [301] \"CRYM\"        \"EEF2K\"       \"GSPT1\"       \"ZNF174\"      \"CPPED1\"     \n",
              " [306] \"USP31\"       \"TOX3\"        \"TMC5\"        \"KNOP1\"       \"TJP1\"       \n",
              " [311] \"RHOV\"        \"CSPP1\"       \"ZFAND1\"      \"RIPK2\"       \"BPNT2\"      \n",
              " [316] \"SFRP1\"       \"LAPTM4B\"     \"NIPAL2\"      \"JPH1\"        \"RAB2A\"      \n",
              " [321] \"EIF3E\"       \"EMC2\"        \"ESRP1\"       \"NDRG1\"       \"SPAG1\"      \n",
              " [326] \"SNX16\"       \"SQLE\"        \"SH2D4A\"      \"SARS2\"       \"PTOV1\"      \n",
              " [331] \"FZR1\"        \"BBC3\"        \"MYH14\"       \"RPS19\"       \"CEACAM5\"    \n",
              " [336] \"CYTH2\"       \"CAPS\"        \"BCAT2\"       \"PPP2R1A\"     \"LSR\"        \n",
              " [341] \"SUGP1\"       \"ZNF574\"      \"ITGB8\"       \"MTPN\"        \"CAV2\"       \n",
              " [346] \"MET\"         \"HOXA3\"       \"LFNG\"        \"HOXA5\"       \"TSPAN12\"    \n",
              " [351] \"HIBADH\"      \"GRB10\"       \"ABHD11\"      \"COBL\"        \"STX1A\"      \n",
              " [356] \"GARS1\"       \"EPHB6\"       \"HSPB1\"       \"ZKSCAN1\"     \"WASL\"       \n",
              " [361] \"MOSPD3\"      \"RBM28\"       \"ZNHIT1\"      \"MEST\"        \"AGR2\"       \n",
              " [366] \"TBL2\"        \"PTGR1\"       \"AK1\"         \"KANK1\"       \"TYRP1\"      \n",
              " [371] \"MPDZ\"        \"SHB\"         \"ATRNL1\"      \"SEC23IP\"     \"NSMCE4A\"    \n",
              " [376] \"CCSER2\"      \"BMPR1A\"      \"LZTS2\"       \"ARHGAP21\"    \"ACBD5\"      \n",
              " [381] \"DKK1\"        \"GLRX3\"       \"CCDC6\"       \"KRT23\"       \"NUFIP2\"     \n",
              " [386] \"RPL19\"       \"FBXL20\"      \"RNF43\"       \"RAD51C\"      \"GALK1\"      \n",
              " [391] \"RASD1\"       \"VAT1\"        \"LRRC59\"      \"DUSP3\"       \"TNFAIP1\"    \n",
              " [396] \"PHF12\"       \"DCUN1D4\"     \"AREG\"        \"CPE\"         \"CLCN3\"      \n",
              " [401] \"AADAT\"       \"GALNT7\"      \"TRIM2\"       \"KLF3\"        \"PPARGC1A\"   \n",
              " [406] \"CRYAB\"       \"ATG2A\"       \"KMT5B\"       \"CCDC86\"      \"PRPF19\"     \n",
              " [411] \"FOLR1\"       \"SOX6\"        \"KRT18\"       \"PPM1H\"       \"PRR4\"       \n",
              " [416] \"DUSP16\"      \"CDKN1B\"      \"SCNN1A\"      \"LTBR\"        \"RAB5B\"      \n",
              " [421] \"GAPDH\"       \"CHPT1\"       \"TPI1\"        \"ENO2\"        \"ATN1\"       \n",
              " [426] \"LPCAT3\"      \"TDP2\"        \"FRK\"         \"TMEM14C\"     \"SMIM8\"      \n",
              " [431] \"TPD52L1\"     \"HINT3\"       \"NCOA7\"       \"KCTD20\"      \"SAYSD1\"     \n",
              " [436] \"BMP5\"        \"FBXL4\"       \"CCNC\"        \"E2F3\"        \"PTP4A1\"     \n",
              " [441] \"WASF1\"       \"ACOT13\"      \"FIG4\"        \"PERP\"        \"SLC39A7\"    \n",
              " [446] \"CUTA\"        \"QKI\"         \"BYSL\"        \"MRPL2\"       \"PTK7\"       \n",
              " [451] \"DUSP22\"      \"EXOC2\"       \"VEGFA\"       \"PRPF4B\"      \"TENT5A\"     \n",
              " [456] \"PRSS16\"      \"TENT4A\"      \"MSH3\"        \"GOLPH3\"      \"PRLR\"       \n",
              " [461] \"WWC1\"        \"SMAD5\"       \"ERGIC1\"      \"DBN1\"        \"HGD\"        \n",
              " [466] \"AMOTL2\"      \"NIT2\"        \"CEP70\"       \"SLC25A36\"    \"TFDP2\"      \n",
              " [471] \"LRRC31\"      \"HES1\"        \"TFG\"         \"IQCG\"        \"NCBP2\"      \n",
              " [476] \"C3orf52\"     \"FRMD4B\"      \"SLC41A3\"     \"ROPN1B\"      \"NEK11\"      \n",
              " [481] \"KLHL24\"      \"RTKN\"        \"CCL20\"       \"FAHD2A\"      \"SLC35F5\"    \n",
              " [486] \"STEAP3\"      \"EPB41L5\"     \"SF3B6\"       \"TP53I3\"      \"GPD2\"       \n",
              " [491] \"ACVR1\"       \"TANC1\"       \"MOGS\"        \"CLIP4\"       \"SPTBN1\"     \n",
              " [496] \"RTN4\"        \"GALNT3\"      \"IGFBP5\"      \"EFHD1\"       \"EHBP1\"      \n",
              " [501] \"FHL2\"        \"ABCB6\"       \"HDLBP\"       \"STRN\"        \"DLX2\"       \n",
              " [506] \"SDC1\"        \"COX7A2L\"     \"RND3\"        \"THADA\"       \"EPAS1\"      \n",
              " [511] \"ATP6V1B1\"    \"BCL9\"        \"DHCR24\"      \"MARK1\"       \"ERRFI1\"     \n",
              " [516] \"SCAMP3\"      \"RHOU\"        \"ARHGEF2\"     \"C1orf21\"     \"GADD45A\"    \n",
              " [521] \"CTH\"         \"EXOC8\"       \"RRAGC\"       \"SIPA1L2\"     \"ETV3\"       \n",
              " [526] \"ADGRL2\"      \"KDM5B\"       \"UAP1\"        \"CD46\"        \"PRPF3\"      \n",
              " [531] \"SLC2A1\"      \"EBNA1BP2\"    \"B4GALT2\"     \"PIK3R3\"      \"BLZF1\"      \n",
              " [536] \"SLC19A2\"     \"CNN3\"        \"PRDX6\"       \"IRF6\"        \"UTP25\"      \n",
              " [541] \"RCAN3\"       \"SLC35A3\"     \"ESYT2\"       \"POLR1G\"      \"CAMSAP2\"    \n",
              " [546] \"ATF6\"        \"AKAP7\"       \"RAB32\"       \"CCN2\"        \"MYL12B\"     \n",
              " [551] \"RPN2\"        \"STBD1\"       \"RARRES1\"     \"PPL\"         \"KLF9\"       \n",
              " [556] \"C1orf198\"    \"DYNC2I2\"     \"BSPRY\"       \"GALNT12\"     \"KDSR\"       \n",
              " [561] \"ONECUT2\"     \"ATL2\"        \"EPCAM\"       \"SLC17A5\"     \"AVPI1\"      \n",
              " [566] \"GOT1\"        \"MSX2\"        \"CCDC77\"      \"SMAD9\"       \"SERP1\"      \n",
              " [571] \"ARL1\"        \"SOCS2\"       \"CLU\"         \"CRISPLD1\"    \"RDH10\"      \n",
              " [576] \"TEX14\"       \"ZNF549\"      \"A1BG\"        \"ACVR2A\"      \"OCRL\"       \n",
              " [581] \"SERAC1\"      \"PRXL2A\"      \"HOXA7\"       \"ARL4A\"       \"KIAA1549\"   \n",
              " [586] \"CALD1\"       \"P4HA1\"       \"VPS26A\"      \"RNF11\"       \"BHLHE41\"    \n",
              " [591] \"PRDX4\"       \"GIPC1\"       \"ATP7B\"       \"NLN\"         \"HOXC13\"     \n",
              " [596] \"HOXC11\"      \"FAM199X\"     \"RAB9A\"       \"COQ8B\"       \"PFKFB2\"     \n",
              " [601] \"FAM210B\"     \"SLPI\"        \"SDC4\"        \"ATP5F1E\"     \"CHD6\"       \n",
              " [606] \"STAU1\"       \"PMEPA1\"      \"RNF114\"      \"MPHOSPH10\"   \"POF1B\"      \n",
              " [611] \"LYPD3\"       \"WRNIP1\"      \"BTN2A3P\"     \"XPO5\"        \"TBCC\"       \n",
              " [616] \"KLHDC3\"      \"GNMT\"        \"MEA1\"        \"SOX4\"        \"GLO1\"       \n",
              " [621] \"SSR1\"        \"RAB17\"       \"EREG\"        \"AHNAK\"       \"EFNB2\"      \n",
              " [626] \"SOX9\"        \"MSTO1\"       \"GTF3C4\"      \"SLC2A4RG\"    \"PPDPF\"      \n",
              " [631] \"MED1\"        \"TRIP10\"      \"SDCBP2\"      \"TMX4\"        \"STK35\"      \n",
              " [636] \"NRSN2\"       \"RRBP1\"       \"OVOL2\"       \"DSTN\"        \"ARMCX5\"     \n",
              " [641] \"ID1\"         \"ERGIC3\"      \"ROMO1\"       \"KDM5C\"       \"AMOT\"       \n",
              " [646] \"UROD\"        \"NR1D1\"       \"PRDX5\"       \"ATG14\"       \"TRMT5\"      \n",
              " [651] \"SLC10A3\"     \"HNRNPH2\"     \"ARMCX1\"      \"TIMM8A\"      \"CANX\"       \n",
              " [656] \"ATP13A4\"     \"TSPAN8\"      \"RAB3IP\"      \"FGFRL1\"      \"KLF2\"       \n",
              " [661] \"EMC6\"        \"PTPN12\"      \"GNAI1\"       \"SGCE\"        \"ADM2\"       \n",
              " [666] \"CDC42EP1\"    \"TST\"         \"LIF\"         \"RIBC2\"       \"KRT17\"      \n",
              " [671] \"PODXL\"       \"CALU\"        \"KLHDC10\"     \"MYO1B\"       \"GAD1\"       \n",
              " [676] \"ISLR\"        \"PALLD\"       \"PLD2\"        \"TXNDC17\"     \"KIF1C\"      \n",
              " [681] \"MTUS1\"       \"KLK10\"       \"KLK8\"        \"AJUBA\"       \"FOXA1\"      \n",
              " [686] \"EGLN3\"       \"FGF13\"       \"PGAP6\"       \"SAT1\"        \"SH3BP4\"     \n",
              " [691] \"LDLR\"        \"THEM6\"       \"KIF1A\"       \"GTPBP3\"      \"TULP4\"      \n",
              " [696] \"RSPH3\"       \"AFDN\"        \"ACTN4\"       \"GDF15\"       \"PGPEP1\"     \n",
              " [701] \"TRPM4\"       \"CRB3\"        \"H19\"         \"LAMA5\"       \"ASS1\"       \n",
              " [706] \"TRIM28\"      \"SESN2\"       \"SLC6A8\"      \"PRRG1\"       \"UBA1\"       \n",
              " [711] \"ULBP2\"       \"ACSS2\"       \"GSE1\"        \"RAB11FIP4\"   \"PDLIM4\"     \n",
              " [716] \"RPL27\"       \"NDFIP1\"      \"MAP1B\"       \"KHDRBS3\"     \"FMO5\"       \n",
              " [721] \"PRKAB2\"      \"PDHA1\"       \"ZNF304\"      \"LIN28A\"      \"LGALS3\"     \n",
              " [726] \"HSD17B7\"     \"ENOSF1\"      \"ARFIP2\"      \"SEC61G\"      \"ITGB4\"      \n",
              " [731] \"H3-3B\"       \"MATN2\"       \"ANKEF1\"      \"BTBD3\"       \"DAP3\"       \n",
              " [736] \"KHDC4\"       \"ARHGEF11\"    \"RAB25\"       \"IGHMBP2\"     \"PATJ\"       \n",
              " [741] \"MYH10\"       \"CHI3L1\"      \"SPART\"       \"BEX2\"        \"HSPBP1\"     \n",
              " [746] \"RTN3\"        \"MORC2\"       \"FAM83F\"      \"ACTR3B\"      \"TMEM254\"    \n",
              " [751] \"TTC9\"        \"IER3IP1\"     \"GSTM3\"       \"VAV3\"        \"SORT1\"      \n",
              " [756] \"NOTCH2\"      \"TRIM45\"      \"VTCN1\"       \"SLC38A2\"     \"YWHAQ\"      \n",
              " [761] \"GRHL1\"       \"SAA2\"        \"TMEM241\"     \"KCTD1\"       \"CABLES1\"    \n",
              " [766] \"EMP1\"        \"RTL8C\"       \"HOOK1\"       \"DSC2\"        \"DSG3\"       \n",
              " [771] \"DSC3\"        \"DTNA\"        \"FADS2\"       \"CLDN10\"      \"NREP\"       \n",
              " [776] \"GOLM1\"       \"ENTREP1\"     \"PSAT1\"       \"TBX3\"        \"HILPDA\"     \n",
              " [781] \"TES\"         \"CGA\"         \"EHF\"         \"FAIM2\"       \"KRT7\"       \n",
              " [786] \"ACVR1B\"      \"PKIB\"        \"RAB11FIP5\"   \"FHOD1\"       \"AGT\"        \n",
              " [791] \"KCNK1\"       \"URB2\"        \"ABCB10\"      \"NTPCR\"       \"TAF5L\"      \n",
              " [796] \"STX6\"        \"LAMC1\"       \"TTLL4\"       \"SERPINE2\"    \"CYP27A1\"    \n",
              " [801] \"COX5B\"       \"CKAP4\"       \"LMO7\"        \"RAC1\"        \"KDELR2\"     \n",
              " [806] \"TTYH3\"       \"RTP4\"        \"ACTL6A\"      \"RPS6KC1\"     \"ECPAS\"      \n",
              " [811] \"DAB2IP\"      \"CTSV\"        \"MYC\"         \"CCN3\"        \"FOXP4\"      \n",
              " [816] \"KLC4\"        \"KIF13A\"      \"ZSCAN9\"      \"TFAP2A\"      \"YIPF3\"      \n",
              " [821] \"SLC22A23\"    \"TUBB2A\"      \"BPHL\"        \"UQCC2\"       \"FLOT1\"      \n",
              " [826] \"ATAT1\"       \"MTCH1\"       \"FHDC1\"       \"ARRB1\"       \"ANKRD42\"    \n",
              " [831] \"SYTL2\"       \"MRPL15\"      \"MMP7\"        \"DCUN1D5\"     \"YAP1\"       \n",
              " [836] \"TRIM29\"      \"TMPRSS13\"    \"THBS1\"       \"PAK6\"        \"TTLL7\"      \n",
              " [841] \"FNBP1L\"      \"ARHGAP29\"    \"RPL7P9\"      \"CLCA2\"       \"IFT172\"     \n",
              " [846] \"CYP1B1\"      \"RAB1A\"       \"PREB\"        \"DTNB\"        \"MYOF\"       \n",
              " [851] \"TACC2\"       \"DBR1\"        \"OLA1\"        \"ITPRID2\"     \"NDST4\"      \n",
              " [856] \"SHROOM3\"     \"ANXA3\"       \"PPP3CA\"      \"ERP27\"       \"KIF21A\"     \n",
              " [861] \"TMEM117\"     \"C1RL\"        \"LRIG3\"       \"MARCHF9\"     \"DUSP6\"      \n",
              " [866] \"RITA1\"       \"FAM222A\"     \"LNX2\"        \"PTGR2\"       \"WARS1\"      \n",
              " [871] \"SORD\"        \"TSPAN3\"      \"TPM1\"        \"ABHD2\"       \"ZNF710\"     \n",
              " [876] \"FURIN\"       \"SLC5A2\"      \"CDR2\"        \"MARVELD3\"    \"ZFHX3\"      \n",
              " [881] \"GCSH\"        \"NOL3\"        \"MEAK7\"       \"RPS2\"        \"GAS8\"       \n",
              " [886] \"MED9\"        \"GFOD2\"       \"TOB1\"        \"SGSM2\"       \"PTRH2\"      \n",
              " [891] \"AFG3L2\"      \"IMPA2\"       \"RPRD1A\"      \"GATA6\"       \"PELP1\"      \n",
              " [896] \"RAB40B\"      \"FN3KRP\"      \"ZNF750\"      \"ELAC1\"       \"P3H4\"       \n",
              " [901] \"STAC2\"       \"PLPP2\"       \"APP\"         \"DOP1B\"       \"AKT1\"       \n",
              " [906] \"ZNF473\"      \"ZNF614\"      \"EPHA2\"       \"CNKSR1\"      \"MAP3K6\"     \n",
              " [911] \"CCN1\"        \"TINAGL1\"     \"PTPRF\"       \"LMO4\"        \"CTTNBP2NL\"  \n",
              " [916] \"ALDH9A1\"     \"ATP1B1\"      \"POGK\"        \"DCAF6\"       \"UCK2\"       \n",
              " [921] \"MGST3\"       \"NECTIN4\"     \"UFC1\"        \"RGS5\"        \"SDHC\"       \n",
              " [926] \"PFDN2\"       \"USP21\"       \"MRPL24\"      \"PIGM\"        \"HDGF\"       \n",
              " [931] \"XPR1\"        \"RGL1\"        \"PRUNE1\"      \"TUFT1\"       \"CGN\"        \n",
              " [936] \"SNX27\"       \"PIP5K1A\"     \"SELENBP1\"    \"ENSA\"        \"OAZ3\"       \n",
              " [941] \"GOLPH3L\"     \"DYRK3\"       \"ADAM15\"      \"JTB\"         \"SLC27A3\"    \n",
              " [946] \"SLC39A1\"     \"CREB3L4\"     \"EFNA3\"       \"GALNT2\"      \"MAP3K21\"    \n",
              " [951] \"ACP1\"        \"DEGS1\"       \"ARF1\"        \"CNIH4\"       \"GUK1\"       \n",
              " [956] \"CDC42BPA\"    \"MBOAT2\"      \"PSEN2\"       \"EPHX1\"       \"SOX13\"      \n",
              " [961] \"PLEKHA6\"     \"PDIA6\"       \"RHOB\"        \"ATP6V1C2\"    \"CALM2\"      \n",
              " [966] \"RPS27A\"      \"MEIS1\"       \"TEX261\"      \"MALL\"        \"TMEM177\"    \n",
              " [971] \"PKP4\"        \"GULP1\"       \"SUMF1\"       \"DIS3L2\"      \"ACKR2\"      \n",
              " [976] \"CTDSPL\"      \"PHLDB2\"      \"TMEM108\"     \"ILDR1\"       \"ECE2\"       \n",
              " [981] \"OCIAD2\"      \"SCD5\"        \"PYURF\"       \"USP53\"       \"NDUFS6\"     \n",
              " [986] \"SRD5A1\"      \"MYO10\"       \"PLK2\"        \"PAM\"         \"GTF2H2\"     \n",
              " [991] \"FEM1C\"       \"RNF145\"      \"NHP2\"        \"LRRTM2\"      \"CYP39A1\"    \n",
              " [996] \"TPBG\"        \"IRAK1BP1\"    \"FAXC\"        \"PNRC1\"       \"RNF217\"     \n",
              "[1001] \"DYNLT1\"      \"TMEM181\"     \"CREB5\"       \"EGFR\"        \"IGFBP3\"     \n",
              "[1006] \"MDH2\"        \"POMZP3\"      \"NIPSNAP2\"    \"ATXN7L1\"     \"EPHA1\"      \n",
              "[1011] \"CASK\"        \"ZNF711\"      \"CETN2\"       \"RPL10\"       \"SLC25A37\"   \n",
              "[1016] \"TERF1\"       \"RPL7\"        \"MAL2\"        \"EIF3H\"       \"NDUFB9\"     \n",
              "[1021] \"TATDN1\"      \"GSDMC\"       \"NFIB\"        \"CDKN2B\"      \"CDKN2A\"     \n",
              "[1026] \"ZNF462\"      \"PTGES\"       \"PROSER2\"     \"FAM171A1\"    \"ADD3\"       \n",
              "[1031] \"PLEKHS1\"     \"ADM\"         \"MPZL2\"       \"LSM14B\"      \"LTO1\"       \n",
              "[1036] \"ALDOA\"       \"HMGA2\"       \"TMCO3\"       \"LATS2\"       \"LYPD6B\"     \n",
              "[1041] \"PPP1R1C\"     \"CRIM1\"       \"ANK3\"        \"GXYLT1\"      \"MIPOL1\"     \n",
              "[1046] \"EXT2\"        \"MFSD6\"       \"ACSL1\"       \"SAV1\"        \"TDO2\"       \n",
              "[1051] \"CCL28\"       \"DST\"         \"BAG3\"        \"PTPN14\"      \"HSPB8\"      \n",
              "[1056] \"TCF7L1\"      \"ZNF776\"      \"TRIM36\"      \"PLEKHH2\"     \"GPD1L\"      \n",
              "[1061] \"CCNO\"        \"PTPRK\"       \"ZNF117\"      \"PART1\"       \"PLOD2\"      \n",
              "[1066] \"CDYL\"        \"CLGN\"        \"LURAP1L\"     \"CNKSR3\"      \"CEBPG\"      \n",
              "[1071] \"KCTD15\"      \"NUS1\"        \"RETREG1\"     \"TOMM70\"      \"ENPP3\"      \n",
              "[1076] \"MIA3\"        \"DISP1\"       \"ENAH\"        \"SH3RF1\"      \"SRSF12\"     \n",
              "[1081] \"SORBS2\"      \"ELOC\"        \"CXADR\"       \"ADAMTS1\"     \"PPP4R1\"     \n",
              "[1086] \"USP43\"       \"RAB6B\"       \"APOOL\"       \"GRAMD2B\"     \"DBI\"        \n",
              "[1091] \"NIFK\"        \"LARP1\"       \"PDIA4\"       \"PPARGC1B\"    \"SLC26A2\"    \n",
              "[1096] \"GRIP1\"       \"MCU\"         \"ART3\"        \"CLDN8\"       \"PCDH1\"      \n",
              "[1101] \"UQCRB\"       \"RPL30\"       \"TYSND1\"      \"ZFAND3\"      \"NPTN\"       \n",
              "[1106] \"KAT6B\"       \"GLYATL2\"     \"MAPK13\"      \"FBXO32\"      \"PRR14\"      \n",
              "[1111] \"MALSU1\"      \"BRPF1\"       \"ZFYVE9\"      \"SSBP3\"       \"CLDN12\"     \n",
              "[1116] \"FCSK\"        \"TMEM164\"     \"TAB3\"        \"UBN2\"        \"AP3S2\"      \n",
              "[1121] \"AGAP1\"       \"KRTCAP3\"     \"GRHL3\"       \"PTPDC1\"      \"TPRG1L\"     \n",
              "[1126] \"TMSB15A\"     \"MRAS\"        \"FAIM\"        \"TENT5B\"      \"TMSB15B\"    \n",
              "[1131] \"B4GALT5\"     \"SPATA2\"      \"PPP1R15B\"    \"DUSP23\"      \"F11R\"       \n",
              "[1136] \"PINK1\"       \"NDUFS2\"      \"CSRP1\"       \"RCAN1\"       \"CIART\"      \n",
              "[1141] \"CBR3\"        \"SIM2\"        \"PTMS\"        \"ADIPOR1\"     \"PSMD4\"      \n",
              "[1146] \"PSMB4\"       \"MED8\"        \"GPBP1L1\"     \"ZYX\"         \"ZBTB8A\"     \n",
              "[1151] \"NR2F6\"       \"TFF3\"        \"TFF1\"        \"TMPRSS3\"     \"NDUFV3\"     \n",
              "[1156] \"CBS\"         \"CSTB\"        \"RRP1\"        \"S100B\"       \"CACFD1\"     \n",
              "[1161] \"ZNF761\"      \"TAOK1\"       \"TLCD1\"       \"CRTC2\"       \"RUSC1\"      \n",
              "[1166] \"LMNA\"        \"UBQLN4\"      \"PPP1R35\"     \"AZGP1\"       \"LY6K\"       \n",
              "[1171] \"IER2\"        \"PPP1R16A\"    \"ALKBH4\"      \"SQSTM1\"      \"RPL8\"       \n",
              "[1176] \"MAML1\"       \"SCGB3A1\"     \"BDH1\"        \"PGAP3\"       \"ZNF577\"     \n",
              "[1181] \"MPP3\"        \"CXCL16\"      \"SPSB3\"       \"BICDL2\"      \"ZG16B\"      \n",
              "[1186] \"SHANK2\"      \"CLPB\"        \"ZFPL1\"       \"PDZK1IP1\"    \"PRKAA2\"     \n",
              "[1191] \"SELENON\"     \"AKR7A3\"      \"KIAA1522\"    \"BRINP3\"      \"ZNF496\"     \n",
              "[1196] \"DDR2\"        \"C1orf74\"     \"ATF3\"        \"IER5\"        \"BROX\"       \n",
              "[1201] \"ACP6\"        \"B3GALNT2\"    \"CAPN2\"       \"PEX13\"       \"CAPN13\"     \n",
              "[1206] \"LRATD1\"      \"CFAP36\"      \"ACTG2\"       \"COQ8A\"       \"INHBB\"      \n",
              "[1211] \"PDLIM5\"      \"BNIPL\"       \"VPS72\"       \"BOLA3\"       \"CDC42EP3\"   \n",
              "[1216] \"S100A11\"     \"NIPAL1\"      \"CLDN1\"       \"INAVA\"       \"NAXE\"       \n",
              "[1221] \"ATP1A1\"      \"LRRC58\"      \"ELF3\"        \"TMEM183A\"    \"TSACC\"      \n",
              "[1226] \"TMEM79\"      \"SSR2\"        \"NUAK2\"       \"PRKCI\"       \"WDFY3\"      \n",
              "[1231] \"PTPN13\"      \"GMPS\"        \"TIPARP\"      \"MTHFD2L\"     \"CXCL1\"      \n",
              "[1236] \"TM4SF18\"     \"RYK\"         \"ZNF513\"      \"TPRA1\"       \"ZC3H12A\"    \n",
              "[1241] \"DNALI1\"      \"LIPH\"        \"TMEM41A\"     \"IGF2BP2-AS1\" \"RFT1\"       \n",
              "[1246] \"UBXN7\"       \"PIGX\"        \"S100P\"       \"SGMS2\"       \"PGRMC2\"     \n",
              "[1251] \"PLXNB1\"      \"HSPA4L\"      \"GUCY1A1\"     \"GASK1B\"      \"FHIP1A\"     \n",
              "[1256] \"ICE1\"        \"TMEM184C\"    \"ITGA2\"       \"ADGRV1\"      \"CCDC112\"    \n",
              "[1261] \"F2RL1\"       \"SPINK1\"      \"GPX8\"        \"GJB7\"        \"FABP7\"      \n",
              "[1266] \"KCNK5\"       \"ZNF12\"       \"HEY1\"        \"ZNF704\"      \"CHMP4C\"     \n",
              "[1271] \"SBSPON\"      \"OSGIN2\"      \"SUN1\"        \"MICALL2\"     \"INTS1\"      \n",
              "[1276] \"FASTK\"       \"ALDH7A1\"     \"YWHAZ\"       \"PDP1\"        \"FAM219A\"    \n",
              "[1281] \"CPA6\"        \"KDM1B\"       \"RASEF\"       \"TRPV6\"       \"ZHX1\"       \n",
              "[1286] \"CLDN3\"       \"WNK2\"        \"AQP3\"        \"ARHGAP12\"    \"PGM2L1\"     \n",
              "[1291] \"GJB2\"        \"DEPP1\"       \"KLHDC2\"      \"KBTBD6\"      \"BEND7\"      \n",
              "[1296] \"VDAC2\"       \"COMTD1\"      \"ZNF503\"      \"ENOX2\"       \"BORCS5\"     \n",
              "[1301] \"NDRG2\"       \"CCDC186\"     \"HSPA12A\"     \"CACNB2\"      \"ARL5B\"      \n",
              "[1306] \"GPT2\"        \"SPINT1\"      \"CKB\"         \"BAG5\"        \"LARP6\"      \n",
              "[1311] \"PCBD1\"       \"USP54\"       \"CRABP1\"      \"DENND2B\"     \"ATMIN\"      \n",
              "[1316] \"WEE1\"        \"ZNF3\"        \"A2ML1\"       \"TMED3\"       \"HSP90B1\"    \n",
              "[1321] \"BEX3\"        \"PEX11A\"      \"MESP1\"       \"GLYATL1\"     \"STX3\"       \n",
              "[1326] \"PDIA3\"       \"NKX3-1\"      \"PBX3\"        \"PRR15L\"      \"CRK\"        \n",
              "[1331] \"CDK12\"       \"TBC1D16\"     \"MYO5B\"       \"STIM1\"       \"SMG8\"       \n",
              "[1336] \"MIDN\"        \"KMT2D\"       \"TUBA1C\"      \"ZNF701\"      \"TTYH1\"      \n",
              "[1341] \"LENG8\"       \"TRAPPC9\"     \"SPINT2\"      \"DAPK3\"       \"NXN\"        \n",
              "[1346] \"KLK5\"        \"KLK6\"        \"KLK11\"       \"KRT80\"       \"CD320\"      \n",
              "[1351] \"SPRYD3\"      \"NUDT8\"       \"HID1\"        \"TMEM68\"      \"VPS37C\"     \n",
              "[1356] \"FTH1\"        \"SLC3A2\"      \"ENTPD3\"      \"RAB4A\"       \"VASN\"       \n",
              "[1361] \"FAM83B\"      \"THAP9\"       \"RNF187\"      \"DDIT4\"       \"IRF2BP2\"    \n",
              "[1366] \"NT5DC2\"      \"MGAT2\"       \"PCMTD1\"      \"ARF4\"        \"BDKRB2\"     \n",
              "[1371] \"COG7\"        \"SNRNP48\"     \"ZSWIM1\"      \"ADAM9\"       \"NDUFS5\"     \n",
              "[1376] \"LRATD2\"      \"CNNM3\"       \"SHOX2\"       \"ZNF507\"      \"ZBTB49\"     \n",
              "[1381] \"KLK7\"        \"ZNF354A\"     \"TBC1D10B\"    \"EFNA1\"       \"SLC33A1\"    \n",
              "[1386] \"CXCL8\"       \"MMGT1\"       \"GJB1\"        \"APLF\"        \"CENPX\"      \n",
              "[1391] \"ASPSCR1\"     \"DUS1L\"       \"DCXR\"        \"ZNF32\"       \"PCDH7\"      \n",
              "[1396] \"REPS2\"       \"TOR1AIP2\"    \"TM4SF1\"      \"GUSB\"        \"ZNF747\"     \n",
              "[1401] \"ALCAM\"       \"YWHAG\"       \"NANP\"        \"ADPRM\"       \"SMAD1\"      \n",
              "[1406] \"SEMA3E\"      \"SLC30A1\"     \"VSTM2A\"      \"KRT8\"        \"KRT86\"      \n",
              "[1411] \"NPAS2\"       \"IRX2\"        \"SIX2\"        \"SOCS6\"       \"KCNS3\"      \n",
              "[1416] \"SDR16C5\"     \"PPM1D\"       \"MRFAP1L2\"    \"RIOX2\"       \"RNF139\"     \n",
              "[1421] \"TPT1-AS1\"    \"ZNF415\"      \"MFN1\"        \"FUT3\"        \"ZNF692\"     \n",
              "[1426] \"NETO2\"       \"FAM241B\"     \"UGT2B7\"      \"ZNF440\"      \"CANT1\"      \n",
              "[1431] \"CHD7\"        \"KRT19\"       \"KRT15\"       \"MRPL36\"      \"KRT20\"      \n",
              "[1436] \"ZNF561\"      \"LRRC8D\"      \"CLSTN1\"      \"ENC1\"        \"RPS7\"       \n",
              "[1441] \"ZNF217\"      \"ZNF57\"       \"KLF11\"       \"CYCS\"        \"CALB2\"      \n",
              "[1446] \"MRPL13\"      \"ID4\"         \"CEBPB\"       \"SERHL\"       \"TP53RK\"     \n",
              "[1451] \"BPGM\"        \"GNG12\"       \"GTPBP2\"      \"MAB21L4\"     \"MUCL1\"      \n",
              "[1456] \"SMPDL3A\"     \"RND1\"        \"OVOL1\"       \"PDP2\"        \"NADSYN1\"    \n",
              "[1461] \"DHCR7\"       \"VDAC2P5\"     \"FAM222B\"     \"HSPA6\"       \"MTX1\"       \n",
              "[1466] \"VANGL1\"      \"GOLGB1\"      \"PPP1R3B\"     \"MAP3K11\"     \"TRIB1\"      \n",
              "[1471] \"DAG1\"        \"ARV1\"        \"SAA1\"        \"NUDT4\"       \"TOMM20\"     \n",
              "[1476] \"JUP\"         \"EIF1\"        \"NET1\"        \"DPY19L1\"     \"GPR160\"     \n",
              "[1481] \"CBX2\"        \"MARCHF3\"     \"XXYLT1\"      \"UBXN2A\"      \"KLHL15\"     \n",
              "[1486] \"LEMD3\"       \"RGMB\"        \"GSTA3\"       \"TRMT10C\"     \"ZNHIT2\"     \n",
              "[1491] \"TNK1\"        \"PHLDA3\"      \"ATP2A2\"      \"ANKRD36C\"    \"GOLT1A\"     \n",
              "[1496] \"PAIP1P2\"     \"CTBP2\"       \"YPEL2\"       \"PSMD2\"       \"CSRP2\"      \n",
              "[1501] \"DDIT3\"       \"ANKRD30BP1\"  \"ZNF77\"       \"SFN\"         \"CTDNEP1\"    \n",
              "[1506] \"ETV4\"        \"ARL4D\"       \"DENND2C\"     \"ZNF613\"      \"NUPR1\"      \n",
              "[1511] \"YES1\"        \"GPX2\"        \"BNIP3\"       \"ZNF135\"      \"EID2\"       \n",
              "[1516] \"DNAJC30\"     \"SPRYD4\"      \"B3GNT5\"      \"CCDC121\"     \"RBIS\"       \n",
              "[1521] \"NCKAP5\"      \"IRX5\"        \"FAM91A1\"     \"TCIM\"        \"FUT2\"       \n",
              "[1526] \"FAM89B\"      \"SEC24C\"      \"TALDO1\"      \"ULK1\"        \"CASKIN2\"    \n",
              "[1531] \"PAWR\"        \"TGIF1\"       \"ZBTB33\"      \"IRX3\"        \"JUN\"        \n",
              "[1536] \"CRACR2B\"     \"CD151\"       \"SOX12\"       \"CENPBD1P\"    \"DMAP1\"      \n",
              "[1541] \"ALS2CL\"      \"MLF1\"        \"STAP2\"       \"CALML5\"      \"ERBB4\"      \n",
              "[1546] \"CTNNBIP1\"    \"STX19\"       \"C5orf46\"     \"DPY19L3\"     \"HYI\"        \n",
              "[1551] \"SELENOW\"     \"TMEM125\"     \"ZNF664\"      \"MAGED1\"      \"GATA2\"      \n",
              "[1556] \"ZBTB18\"      \"GCC1\"        \"ALOX15B\"     \"CDC42EP4\"    \"SERTAD2\"    \n",
              "[1561] \"SEPHS2\"      \"FAHD1\"       \"RCC1\"        \"TSPYL5\"      \"H2AC6\"      \n",
              "[1566] \"SRP9P1\"      \"H2BC4\"       \"OR2A4\"       \"YOD1\"        \"SHISA2\"     \n",
              "[1571] \"ANKRD30B\"    \"ARSJ\"        \"PPA1\"        \"HOXC10\"      \"PSMG4\"      \n",
              "[1576] \"PDIA3P1\"     \"SCRIB\"       \"GPR137C\"     \"LSMEM1\"      \"NQO1\"       \n",
              "[1581] \"SLC26A11\"    \"HIGD1A\"      \"ZNF707\"      \"H2AC25\"      \"TLCD5\"      \n",
              "[1586] \"FRAT2\"       \"SOX2\"        \"RAP2B\"       \"ZBTB2\"       \"RPL24P4\"    \n",
              "[1591] \"FDCSP\"       \"TNFSF15\"     \"PHLDA2\"      \"YIPF6\"       \"COPG1\"      \n",
              "[1596] \"CLDN7\"       \"IDH2\"        \"TMEM30B\"     \"TSEN54\"      \"LDOC1\"      \n",
              "[1601] \"EXT1\"        \"ATP6AP2\"     \"BACE2\"       \"SYNM\"        \"C8orf33\"    \n",
              "[1606] \"C1S\"         \"BGN\"         \"LIMK2\"       \"RWDD4\"       \"EPHB3\"      \n",
              "[1611] \"PLCB1\"       \"ANXA2\"       \"NGRN\"        \"C1orf116\"    \"CRIP2\"      \n",
              "[1616] \"ACBD3\"       \"HAPSTR1\"     \"RPL35A\"      \"PYCR1\"       \"ARHGEF37\"   \n",
              "[1621] \"RABIF\"       \"JRKL\"        \"RIPK4\"       \"OR7E38P\"     \"GTF2H2C\"    \n",
              "[1626] \"DGCR6\"       \"TRMT12\"      \"TRIM52\"      \"CMTM4\"       \"MACC1\"      \n",
              "[1631] \"TBL3\"        \"KREMEN1\"     \"RBM12B\"      \"SMTN\"        \"TMPRSS2\"    \n",
              "[1636] \"FAM120C\"     \"CRELD2\"      \"ALDH1A3\"     \"TACSTD2\"     \"SRPK3\"      \n",
              "[1641] \"EFNA5\"       \"SS18L1\"      \"COPB2\"       \"PTP4A3\"      \"SLITRK6\"    \n",
              "[1646] \"H2BC21\"      \"FAM110C\"     \"ZBTB7C\"      \"APOO\"        \"TMEM186\"    \n",
              "[1651] \"H1-10\"       \"MUC6\"        \"MAFF\"        \"SEMA4B\"      \"CIB1\"       \n",
              "[1656] \"EFCAB10\"     \"MANEAL\"      \"C6orf120\"    \"PURA\"        \"DDX51\"      \n",
              "[1661] \"NOMO2\"       \"NRBP2\"       \"TCEAL9\"      \"CD24P4\"      \"SH3BGR\"     \n",
              "[1666] \"KRT6B\"       \"SDHAP1\"      \"AHNAK2\"      \"PCGF3\"       \"P4HB\"       \n",
              "[1671] \"SHC4\"        \"MOSMO\"       \"WDR53\"       \"PCYT2\"       \"DNAH14\"     \n",
              "[1676] \"KLHDC8B\"     \"LEMD1\"       \"ZNF566\"      \"CYP2R1\"      \"MTARC1\"     \n",
              "[1681] \"BLOC1S4\"     \"ANKRD37\"     \"ZNF75D\"      \"KPNA4\"       \"PCLO\"       \n",
              "[1686] \"UBE2H\"       \"BCR\"         \"KRT16\"       \"KRT14\"       \"SHTN1\"      \n",
              "[1691] \"TSPYL4\"      \"MT1X\"        \"FAM9C\"       \"H1-2\"        \"EIF4EBP1\"   \n",
              "[1696] \"PABIR1\"      \"C6orf132\"    \"POTEE\"       \"PLA2G2A\"     \"SBK1\"       \n",
              "[1701] \"SRP72P2\"     \"RALGAPA2\"    \"S100A16\"     \"ZDHHC9\"      \"PRELP\"      \n",
              "[1706] \"ZDHHC11\"     \"ZNF292\"      \"NDUFA4\"      \"H1-0\"        \"TMEM120A\"   \n",
              "[1711] \"PRSS48\"      \"CLDN4\"       \"S100A13\"     \"ZNF33A\"      \"ZNF600\"     \n",
              "[1716] \"MAOA\"        \"S100A14\"     \"RPS2P46\"     \"CXCL17\"      \"SYCP2\"      \n",
              "[1721] \"MYBPC1\"      \"TMEM63A\"     \"GREB1\"       \"SUPT5H\"      \"XPNPEP3\"    \n",
              "[1726] \"PPIA\"        \"ZNF471\"      \"ZNF565\"      \"SPANXD\"      \"EPHB4\"      \n",
              "[1731] \"ZNF124\"      \"TSC22D2\"     \"YRDC\"        \"SIAH1\"       \"IPO4\"       \n",
              "[1736] \"AFAP1\"       \"SPTSSB\"      \"MYO6\"        \"HDAC2\"       \"POTEF\"      \n",
              "[1741] \"WNK3\"        \"ERI2\"        \"VKORC1L1\"    \"ZNF418\"      \"S100A2\"     \n",
              "[1746] \"TLE1\"        \"ZNF239\"      \"ILRUN\"       \"LAMB3\"       \"FLNA\"       \n",
              "[1751] \"METTL9\"      \"SERTAD1\"     \"MAFG\"        \"KIAA1671\"    \"IGF2R\"      \n",
              "[1756] \"SLC25A29\"    \"SND1\"        \"C6orf141\"    \"HMGA2-AS1\"   \"SVIL\"       \n",
              "[1761] \"MRPL21\"      \"RAB40C\"      \"ENTPD6\"      \"ZNF841\"      \"ZNF615\"     \n",
              "[1766] \"PARVA\"       \"S100A10\"     \"OCLN\"        \"ZNF790\"      \"H2BC12\"     \n",
              "[1771] \"S100A6\"      \"MPZL1\"       \"SPANXA1\"     \"MARCHF5\"     \"AKR1B10\"    \n",
              "[1776] \"ZNF649\"      \"MB\"          \"SOWAHC\"      \"ZNF251\"      \"GFPT1\"      \n",
              "[1781] \"TCAF1\"       \"ZXDB\"        \"ZNF480\"      \"SH3BGRL2\"    \"ZNF808\"     \n",
              "[1786] \"CNGA1\"       \"MAFK\"        \"ZNF789\"      \"PPIAP22\"     \"KLHL9\"      \n",
              "[1791] \"C6orf89\"     \"PAPSS2\"      \"MT-ND6\"      \"MT-CO2\"      \"MT-CYB\"     \n",
              "[1796] \"LDB1\"        \"F5\"          \"MTCO3P12\"    \"CDC42BPB\"    \"RPL10A\"     \n",
              "[1801] \"MT-ND2\"      \"MT-ND5\"      \"TMEM184B\"    \"MT-CO1\"      \"PNP\"        \n",
              "[1806] \"FOXJ3\"       \"OPA1\"        \"MT-ND3\"      \"MT-ND4\"      \"MT-ND1\"     \n",
              "[1811] \"MT-ATP6\"     \"RPL39\"       \"KIAA0753\"    \"ATG9A\"       \"MT-CO3\"     \n",
              "[1816] \"MFAP3L\"      \"7SK\"         \"COX20\"       \"CHML\"        \"H2BC18\"     \n",
              "[1821] \"SPANXA2\"     \"RTL8A\"       \"CT83\"        \"GIGYF2\"      \"RUFY2\"      \n",
              "[1826] \"MACO1\"       \"TCEA3\"       \"PFDN6\"       \"RING1\"       \"HSD17B8\"    \n",
              "[1831] \"AGPAT1\"      \"DXO\"         \"EHMT2\"       \"PKP4-AS1\"    \"SLC44A4\"    \n",
              "[1836] \"NEU1\"        \"HSPA1B\"      \"HSPA1A\"      \"VARS1\"       \"DHX16\"      \n",
              "[1841] \"C6orf136\"    \"PRR3\"        \"DDR1\"        \"ZNF616\"      \"RNF39\"      \n",
              "[1846] \"TBC1D8\"      \"GABBR1\"      \"SPDYC\"       \"RANBP17\"     \"DCTN1\"      \n",
              "[1851] \"ARHGEF34P\"   \"SPIRE2\"      \"AARD\"        \"TMEM231\"     \"TRIQK\"      \n",
              "[1856] \"LGR4\"        \"ADGRG1\"      \"MT1A\"        \"KRT81\"       \"CCDC85C\"    \n",
              "[1861] \"MUC19\"       \"ETFRF1\"      \"ITSN1\"       \"RNPS1\"       \"DNAJC19\"    \n",
              "[1866] \"JPT2\"        \"SERPINB5\"    \"DUXAP8\"      \"HACD2\"       \"MT-RNR2\"    \n",
              "[1871] \"DIO2\"        \"DIO1\"        \"MT-ND4L\"     \"COX20P1\"     \"BTF3L4P2\"   \n",
              "[1876] \"ARHGEF35\"    \"YWHAZP5\"     \"ERV3-1\"      \"RBMXL1\"      \"C8orf82\"    \n",
              "[1881] \"PPP1CB\"      \"SLC35F6\"     \"DDAH2\"       \"CENPBD2P\"    \"OLA1P1\"     \n",
              "[1886] \"UBD\"         \"CSNK1E\"      \"TMEM213\"     \"RPS3AP26\"    \"RPL7P1\"     \n",
              "[1891] \"TOMM6\"       \"TUBA5P\"      \"RPL13P12\"    \"TTC3P1\"      \"VPS16\"      \n",
              "[1896] \"GUSBP9\"      \"TMEM167B\"    \"LRRC37A14P\"  \"PPIAP31\"     \"YWHAZP10\"   \n",
              "[1901] \"MIF-AS1\"     \"FTH1P8\"      \"H2BC19P\"     \"CEBPD\"       \"ZNF880\"     \n",
              "[1906] \"TRIM16\"      \"FTH1P10\"     \"NUTM2A-AS1\"  \"VPS52\"       \"ZNF844\"     \n",
              "[1911] \"TINCR\"       \"UBE2FP1\"     \"LINC01133\"   \"EPIC1\"       \"MSL3P1\"     \n",
              "[1916] \"SMIM13\"      \"SNRPGP15\"    \"RPS27AP16\"   \"NPIPA3\"      \"GOLGA2P7\"   \n",
              "[1921] \"RPS12P26\"    \"DUXAP9\"      \"RBMS1P1\"     \"ATP13A4-AS1\" \"MTND2P28\"   \n",
              "[1926] \"MCRIP1\"      \"RUSC1-AS1\"   \"ZNF567-DT\"   \"WASH8P\"      \"GTF2H2B\"    \n",
              "[1931] \"NUP50-DT\"    \"TPI1P1\"      \"TMEM185B\"    \"FTH1P20\"     \"LINC01535\"  \n",
              "[1936] \"HSBP1L1\"     \"C14orf132\"   \"WDR46\"       \"AKR1B15\"     \"NPM1P30\"    \n",
              "[1941] \"LINC00578\"   \"GAPDHP1\"     \"MT-ATP8\"     \"PCAT6\"       \"ROCR\"       \n",
              "[1946] \"OR2A9P\"      \"PERPP2\"      \"MTCO2P12\"    \"LINC01315\"   \"TFAP2A-AS1\" \n",
              "[1951] \"RPL29P4\"     \"LINC01001\"   \"RPL10P3\"     \"MIR205HG\"    \"HSBP1\"      \n",
              "[1956] \"RPL7P32\"     \"LINC01436\"   \"HMGB1P7\"     \"RPS18\"       \"FAHD2CP\"    \n",
              "[1961] \"DLG3-AS1\"    \"RPS27AP5\"    \"ANXA2P2\"     \"FTH1P7\"      \"MHENCR\"     \n",
              "[1966] \"EMSLR\"       \"EEF1B2P3\"    \"LINC00665\"   \"PET117\"      \"RPS11P5\"    \n",
              "[1971] \"LINC00342\"   \"HCG25\"       \"GTF2IP4\"     \"H2BC15\"      \"RPL5P34\"    \n",
              "[1976] \"ZNF736\"      \"CCT6P3\"      \"JRK\"         \"GAS5\"        \"SOX9-AS1\"   \n",
              "[1981] \"FTH1P2\"      \"ZSCAN31\"     \"RPL39P3\"     \"MRPS10P1\"    \"LINC01278\"  \n",
              "[1986] \"FAM157A\"     \"CBR3-AS1\"    \"CKMT1B\"      \"NDUFA9P1\"    \"CECR7\"      \n",
              "[1991] \"LINC02984\"   \"DGUOK-AS1\"   \"LINC00649\"   \"MTCO1P12\"    \"RNF103\"     \n",
              "[1996] \"NME1\"        \"GET4\"        \"LY6G5B\"      \"RPL36AP44\"   \"SMKR1\"      \n",
              "[2001] \"CPHL1P\"      \"RPS2P5\"      \"TM4SF1-AS1\"  \"KRBOX1\"      \"PEDS1\"      \n",
              "[2006] \"PLCXD2\"      \"MIF\"         \"RPP21\"       \"LINC00635\"   \"ARPC1A\"     \n",
              "[2011] \"HYPK\"        \"PEG10\"       \"ARPIN\"       \"FTH1P4\"      \"EFNA4\"      \n",
              "[2016] \"CFB\"         \"NME2\"        \"HLA-L\"       \"OR2A7\"       \"GSTA1\"      \n",
              "[2021] \"ACY1\"        \"RPL13AP2\"    \"RPL7P23\"     \"TM4SF18-AS1\" \"OR2A1-AS1\"  \n",
              "[2026] \"RPL17P7\"     \"RNF139-DT\"   \"NEAT1\"       \"CRNDE\"       \"DRAIC\"      \n",
              "[2031] \"RAB30-DT\"    \"UBR5-DT\"     \"MIR4458HG\"   \"GASK1B-AS1\"  \"ABHD14A\"    \n",
              "[2036] \"MTATP6P1\"    \"COPB2-DT\"    \"TMEM150C\"    \"CASC9\"       \"ARPIN-AP3S2\"\n",
              "[2041] \"LINC02197\"   \"GMPSP1\"      \"CHCHD10\"     \"GMDS-DT\"     \"TMEM108-AS1\"\n",
              "[2046] \"RIPK2-DT\"    \"ZNF345\"      \"RTN3P1\"      \"MALAT1\"      \"GUSBP3\"     \n",
              "[2051] \"HOXA10\"      \"TUG1\"        \"ATXN7L3B\"    \"KRT8P3\"      \"CSNK2A3\"    \n",
              "[2056] \"FPGT\"        \"MEX3A\"       \"PRR13P2\"     \"CHMP1B\"      \"ZNF432\"     \n",
              "[2061] \"CYP2B7P\"     \"CNPY2\"       \"SRMP2\"       \"DNAJC19P9\"   \"MAP3K9-DT\"  \n",
              "[2066] \"ZNF710-AS1\"  \"LINC01833\"   \"SORD2P\"      \"HOXB7\"       \"NORAD\"      \n",
              "[2071] \"SNHG19\"      \"LINC02562\"   \"FTLP14\"      \"FAM157C\"     \"DSP-AS1\"    \n",
              "[2076] \"GAN\"         \"H2BC20P\"     \"LINC00662\"   \"MIA\"         \"LINC00667\"  \n",
              "[2081] \"RN7SL731P\"   \"GACAT2\"      \"NDUFV2-AS1\"  \"ZNF561-AS1\"  \"CHMP1B-AS1\" \n",
              "[2086] \"ZNF790-AS1\"  \"PARD6G-AS1\"  \"SNHG30\"      \"BSG-AS1\"     \"ZNF587B\"    \n",
              "[2091] \"KCNQ1OT1\"    \"ZNF528-AS1\"  \"NCBP2AS2\"    \"UBE2CP5\"     \"HERPUD2-AS1\"\n",
              "[2096] \"ITGB8-AS1\"   \"SRXN1\"       \"GTF2H5\"      \"CASC15\"      \"WASL-DT\"    \n",
              "[2101] \"ADIRF-AS1\"   \"MIOS-DT\"     \"LINC00938\"  "
            ]
          },
          "metadata": {}
        }
      ]
    },
    {
      "cell_type": "code",
      "source": [
        "length(geneSymbols)"
      ],
      "metadata": {
        "colab": {
          "base_uri": "https://localhost:8080/",
          "height": 34
        },
        "id": "NqOJk9X-8y_g",
        "outputId": "78e1e42c-37d5-4cc8-d541-598fa6dd4a50"
      },
      "execution_count": 40,
      "outputs": [
        {
          "output_type": "display_data",
          "data": {
            "text/html": [
              "2103"
            ],
            "text/markdown": "2103",
            "text/latex": "2103",
            "text/plain": [
              "[1] 2103"
            ]
          },
          "metadata": {}
        }
      ]
    },
    {
      "cell_type": "code",
      "source": [
        "entrez_genes <- as.character(mapIds(org.Hs.eg.db, geneSymbols, 'ENTREZID', 'SYMBOL'))"
      ],
      "metadata": {
        "colab": {
          "base_uri": "https://localhost:8080/"
        },
        "id": "emujJvoi82o1",
        "outputId": "8c8dd3aa-91c5-4e16-f011-759aed306dbf"
      },
      "execution_count": 41,
      "outputs": [
        {
          "output_type": "stream",
          "name": "stderr",
          "text": [
            "'select()' returned 1:1 mapping between keys and columns\n",
            "\n"
          ]
        }
      ]
    },
    {
      "cell_type": "code",
      "source": [
        "entrez_genes"
      ],
      "metadata": {
        "colab": {
          "base_uri": "https://localhost:8080/",
          "height": 329
        },
        "id": "SL9yJUZi89sN",
        "outputId": "5012982f-d3a6-41d1-9036-bc0fea4c9363"
      },
      "execution_count": 42,
      "outputs": [
        {
          "output_type": "display_data",
          "data": {
            "text/html": [
              "<style>\n",
              ".list-inline {list-style: none; margin:0; padding: 0}\n",
              ".list-inline>li {display: inline-block}\n",
              ".list-inline>li:not(:last-child)::after {content: \"\\00b7\"; padding: 0 .5ex}\n",
              "</style>\n",
              "<ol class=list-inline><li>'7105'</li><li>'57147'</li><li>'4800'</li><li>'889'</li><li>'79007'</li><li>'204'</li><li>'2288'</li><li>'54677'</li><li>'25998'</li><li>'3675'</li><li>'3920'</li><li>'10127'</li><li>'6376'</li><li>'51330'</li><li>'55971'</li><li>'55750'</li><li>'55001'</li><li>'9569'</li><li>'5080'</li><li>'115939'</li><li>'7005'</li><li>'6792'</li><li>'1534'</li><li>'10157'</li><li>'55200'</li><li>'4784'</li><li>'928'</li><li>'3077'</li><li>'3097'</li><li>'11313'</li><li>'10867'</li><li>'54799'</li><li>'9066'</li><li>'4057'</li><li>'57658'</li><li>'5238'</li><li>'112611'</li><li>'9052'</li><li>'10903'</li><li>'55349'</li><li>'25937'</li><li>'55734'</li><li>'4331'</li><li>'9821'</li><li>'51022'</li><li>'1244'</li><li>'58528'</li><li>'11231'</li><li>'3459'</li><li>'5606'</li><li>'26751'</li><li>'7414'</li><li>'54888'</li><li>'999'</li><li>'26064'</li><li>'11284'</li><li>'5874'</li><li>'3371'</li><li>'8538'</li><li>'9820'</li><li>'1495'</li><li>'5256'</li><li>'3309'</li><li>'1829'</li><li>'2824'</li><li>'1356'</li><li>'55173'</li><li>'4052'</li><li>'5954'</li><li>'81037'</li><li>'7984'</li><li>'5601'</li><li>'5291'</li><li>'84321'</li><li>'23593'</li><li>'5652'</li><li>'23223'</li><li>'3909'</li><li>'23095'</li><li>'2296'</li><li>'10079'</li><li>'23201'</li><li>'8908'</li><li>'5318'</li><li>'8975'</li><li>'3918'</li><li>'4084'</li><li>'8531'</li><li>'10787'</li><li>'1001'</li><li>'64951'</li><li>'81671'</li><li>'1747'</li><li>'9170'</li><li>'1117'</li><li>'23294'</li><li>'54887'</li><li>'2065'</li><li>'54763'</li><li>'10954'</li><li>'4638'</li><li>'9748'</li><li>'55810'</li><li>'2263'</li><li>'9650'</li><li>'1316'</li><li>'5255'</li><li>'7132'</li><li>'9741'</li><li>'23198'</li><li>'5307'</li><li>'64710'</li><li>'55737'</li><li>'5597'</li><li>'27440'</li><li>'4040'</li><li>'5217'</li><li>'4335'</li><li>'79364'</li><li>'55808'</li><li>'55062'</li><li>'10610'</li><li>'8440'</li><li>'29995'</li><li>'9130'</li><li>'79901'</li><li>'5134'</li><li>'84708'</li><li>'224'</li><li>'6720'</li><li>'3993'</li><li>'5523'</li><li>'10644'</li><li>'9175'</li><li>'8463'</li><li>'11343'</li><li>'6557'</li><li>'56005'</li><li>'10512'</li><li>'9462'</li><li>'64778'</li><li>'5337'</li><li>'5362'</li><li>'7163'</li><li>'9618'</li><li>'4162'</li><li>'2975'</li><li>'203427'</li><li>'10529'</li><li>'3205'</li><li>'1906'</li><li>'9139'</li><li>'80341'</li><li>'7145'</li><li>'4983'</li><li>'131544'</li><li>'11043'</li><li>'22839'</li><li>'260425'</li><li>'79876'</li><li>'4036'</li><li>'65985'</li><li>'93664'</li><li>'5205'</li><li>'6604'</li><li>'1741'</li><li>'56256'</li><li>'4779'</li><li>'23033'</li><li>'9706'</li><li>'79977'</li><li>'10998'</li><li>'55663'</li><li>'9422'</li><li>'2195'</li><li>'60509'</li><li>'3797'</li><li>'10890'</li><li>'790'</li><li>'966'</li><li>'55892'</li><li>'4216'</li><li>'57549'</li><li>'22996'</li><li>'22929'</li><li>'80271'</li><li>'4680'</li><li>'10959'</li><li>'7205'</li><li>'10992'</li><li>'2778'</li><li>'7022'</li><li>'8544'</li><li>'2767'</li><li>'55616'</li><li>'80307'</li><li>'6564'</li><li>'54498'</li><li>'55968'</li><li>'83959'</li><li>⋯</li><li>'1052'</li><li>'400713'</li><li>'10626'</li><li>'2502'</li><li>'728190'</li><li>'6293'</li><li>'284391'</li><li>'257000'</li><li>'100421436'</li><li>'100505633'</li><li>'284930'</li><li>'151507'</li><li>'221710'</li><li>'100130932'</li><li>'643358'</li><li>'642778'</li><li>'388152'</li><li>'100130495'</li><li>'503638'</li><li>'5938'</li><li>'101929198'</li><li>'100652939'</li><li>'348262'</li><li>'284618'</li><li>'101927621'</li><li>'100288778'</li><li>'653238'</li><li>'100506714'</li><li>'729708'</li><li>'79134'</li><li>'729009'</li><li>'101927667'</li><li>'440498'</li><li>'56967'</li><li>'9277'</li><li>'441282'</li><li>'101928904'</li><li>'100505566'</li><li>'2616'</li><li>NA</li><li>'100506696'</li><li>'102723505'</li><li>'441295'</li><li>'124903553'</li><li>'107075310'</li><li>'102723775'</li><li>'100130275'</li><li>'387101'</li><li>'100133161'</li><li>'619445'</li><li>'642587'</li><li>'3281'</li><li>'100130892'</li><li>'100996609'</li><li>'100420044'</li><li>'6222'</li><li>'729234'</li><li>'100873930'</li><li>'100271374'</li><li>'304'</li><li>'2500'</li><li>'100505771'</li><li>'101927746'</li><li>'644820'</li><li>'100506930'</li><li>'100303755'</li><li>'727826'</li><li>'150759'</li><li>'414765'</li><li>'100093631'</li><li>'8341'</li><li>'388907'</li><li>'728927'</li><li>'643180'</li><li>'8629'</li><li>'60674'</li><li>'400618'</li><li>'2497'</li><li>'64288'</li><li>'285785'</li><li>'359753'</li><li>'92249'</li><li>'728262'</li><li>'100506428'</li><li>'1159'</li><li>'266625'</li><li>'100130418'</li><li>'100507516'</li><li>'100874048'</li><li>'100506334'</li><li>'107075141'</li><li>'7844'</li><li>'4830'</li><li>'51608'</li><li>'58496'</li><li>'100132199'</li><li>'100287482'</li><li>'389160'</li><li>'100130562'</li><li>'100874091'</li><li>'100506243'</li><li>'387521'</li><li>'257068'</li><li>'4282'</li><li>'79897'</li><li>'151658'</li><li>'10552'</li><li>'25764'</li><li>'23089'</li><li>'348110'</li><li>'2499'</li><li>'1945'</li><li>'629'</li><li>'4831'</li><li>'3139'</li><li>'401427'</li><li>'2938'</li><li>'95'</li><li>'326278'</li><li>'648000'</li><li>'128193290'</li><li>'101928492'</li><li>'100132742'</li><li>'101927612'</li><li>'283131'</li><li>'643911'</li><li>'145837'</li><li>'100506233'</li><li>'101927221'</li><li>'100505738'</li><li>'285505'</li><li>'25864'</li><li>'106480796'</li><li>'100507291'</li><li>'441027'</li><li>'101805492'</li><li>'100526783'</li><li>'102724392'</li><li>'728564'</li><li>'400916'</li><li>'100508120'</li><li>'101927455'</li><li>NA</li><li>'25850'</li><li>'152905'</li><li>'378938'</li><li>'653188'</li><li>'3206'</li><li>'55000'</li><li>'552889'</li><li>'728638'</li><li>'283106'</li><li>'8790'</li><li>'92312'</li><li>'106480303'</li><li>'57132'</li><li>'9668'</li><li>'1556'</li><li>'10330'</li><li>'326269'</li><li>'644589'</li><li>'100506411'</li><li>'109729181'</li><li>'107985879'</li><li>'653381'</li><li>'3217'</li><li>'647979'</li><li>'100507303'</li><li>'105377283'</li><li>'100462794'</li><li>'100996541'</li><li>'101928076'</li><li>'8139'</li><li>'337873'</li><li>'148189'</li><li>'8190'</li><li>'339290'</li><li>'107048981'</li><li>'100287082'</li><li>'101927275'</li><li>'284385'</li><li>'109729129'</li><li>'284408'</li><li>'100130522'</li><li>'105371743'</li><li>'105372233'</li><li>'100293516'</li><li>'10984'</li><li>'102724105'</li><li>'152217'</li><li>'100874260'</li><li>'101930085'</li><li>'101927811'</li><li>'140809'</li><li>'404672'</li><li>'401237'</li><li>'116435299'</li><li>'100133190'</li><li>'101927391'</li><li>'400027'</li></ol>\n"
            ],
            "text/markdown": "1. '7105'\n2. '57147'\n3. '4800'\n4. '889'\n5. '79007'\n6. '204'\n7. '2288'\n8. '54677'\n9. '25998'\n10. '3675'\n11. '3920'\n12. '10127'\n13. '6376'\n14. '51330'\n15. '55971'\n16. '55750'\n17. '55001'\n18. '9569'\n19. '5080'\n20. '115939'\n21. '7005'\n22. '6792'\n23. '1534'\n24. '10157'\n25. '55200'\n26. '4784'\n27. '928'\n28. '3077'\n29. '3097'\n30. '11313'\n31. '10867'\n32. '54799'\n33. '9066'\n34. '4057'\n35. '57658'\n36. '5238'\n37. '112611'\n38. '9052'\n39. '10903'\n40. '55349'\n41. '25937'\n42. '55734'\n43. '4331'\n44. '9821'\n45. '51022'\n46. '1244'\n47. '58528'\n48. '11231'\n49. '3459'\n50. '5606'\n51. '26751'\n52. '7414'\n53. '54888'\n54. '999'\n55. '26064'\n56. '11284'\n57. '5874'\n58. '3371'\n59. '8538'\n60. '9820'\n61. '1495'\n62. '5256'\n63. '3309'\n64. '1829'\n65. '2824'\n66. '1356'\n67. '55173'\n68. '4052'\n69. '5954'\n70. '81037'\n71. '7984'\n72. '5601'\n73. '5291'\n74. '84321'\n75. '23593'\n76. '5652'\n77. '23223'\n78. '3909'\n79. '23095'\n80. '2296'\n81. '10079'\n82. '23201'\n83. '8908'\n84. '5318'\n85. '8975'\n86. '3918'\n87. '4084'\n88. '8531'\n89. '10787'\n90. '1001'\n91. '64951'\n92. '81671'\n93. '1747'\n94. '9170'\n95. '1117'\n96. '23294'\n97. '54887'\n98. '2065'\n99. '54763'\n100. '10954'\n101. '4638'\n102. '9748'\n103. '55810'\n104. '2263'\n105. '9650'\n106. '1316'\n107. '5255'\n108. '7132'\n109. '9741'\n110. '23198'\n111. '5307'\n112. '64710'\n113. '55737'\n114. '5597'\n115. '27440'\n116. '4040'\n117. '5217'\n118. '4335'\n119. '79364'\n120. '55808'\n121. '55062'\n122. '10610'\n123. '8440'\n124. '29995'\n125. '9130'\n126. '79901'\n127. '5134'\n128. '84708'\n129. '224'\n130. '6720'\n131. '3993'\n132. '5523'\n133. '10644'\n134. '9175'\n135. '8463'\n136. '11343'\n137. '6557'\n138. '56005'\n139. '10512'\n140. '9462'\n141. '64778'\n142. '5337'\n143. '5362'\n144. '7163'\n145. '9618'\n146. '4162'\n147. '2975'\n148. '203427'\n149. '10529'\n150. '3205'\n151. '1906'\n152. '9139'\n153. '80341'\n154. '7145'\n155. '4983'\n156. '131544'\n157. '11043'\n158. '22839'\n159. '260425'\n160. '79876'\n161. '4036'\n162. '65985'\n163. '93664'\n164. '5205'\n165. '6604'\n166. '1741'\n167. '56256'\n168. '4779'\n169. '23033'\n170. '9706'\n171. '79977'\n172. '10998'\n173. '55663'\n174. '9422'\n175. '2195'\n176. '60509'\n177. '3797'\n178. '10890'\n179. '790'\n180. '966'\n181. '55892'\n182. '4216'\n183. '57549'\n184. '22996'\n185. '22929'\n186. '80271'\n187. '4680'\n188. '10959'\n189. '7205'\n190. '10992'\n191. '2778'\n192. '7022'\n193. '8544'\n194. '2767'\n195. '55616'\n196. '80307'\n197. '6564'\n198. '54498'\n199. '55968'\n200. '83959'\n201. ⋯\n202. '1052'\n203. '400713'\n204. '10626'\n205. '2502'\n206. '728190'\n207. '6293'\n208. '284391'\n209. '257000'\n210. '100421436'\n211. '100505633'\n212. '284930'\n213. '151507'\n214. '221710'\n215. '100130932'\n216. '643358'\n217. '642778'\n218. '388152'\n219. '100130495'\n220. '503638'\n221. '5938'\n222. '101929198'\n223. '100652939'\n224. '348262'\n225. '284618'\n226. '101927621'\n227. '100288778'\n228. '653238'\n229. '100506714'\n230. '729708'\n231. '79134'\n232. '729009'\n233. '101927667'\n234. '440498'\n235. '56967'\n236. '9277'\n237. '441282'\n238. '101928904'\n239. '100505566'\n240. '2616'\n241. NA\n242. '100506696'\n243. '102723505'\n244. '441295'\n245. '124903553'\n246. '107075310'\n247. '102723775'\n248. '100130275'\n249. '387101'\n250. '100133161'\n251. '619445'\n252. '642587'\n253. '3281'\n254. '100130892'\n255. '100996609'\n256. '100420044'\n257. '6222'\n258. '729234'\n259. '100873930'\n260. '100271374'\n261. '304'\n262. '2500'\n263. '100505771'\n264. '101927746'\n265. '644820'\n266. '100506930'\n267. '100303755'\n268. '727826'\n269. '150759'\n270. '414765'\n271. '100093631'\n272. '8341'\n273. '388907'\n274. '728927'\n275. '643180'\n276. '8629'\n277. '60674'\n278. '400618'\n279. '2497'\n280. '64288'\n281. '285785'\n282. '359753'\n283. '92249'\n284. '728262'\n285. '100506428'\n286. '1159'\n287. '266625'\n288. '100130418'\n289. '100507516'\n290. '100874048'\n291. '100506334'\n292. '107075141'\n293. '7844'\n294. '4830'\n295. '51608'\n296. '58496'\n297. '100132199'\n298. '100287482'\n299. '389160'\n300. '100130562'\n301. '100874091'\n302. '100506243'\n303. '387521'\n304. '257068'\n305. '4282'\n306. '79897'\n307. '151658'\n308. '10552'\n309. '25764'\n310. '23089'\n311. '348110'\n312. '2499'\n313. '1945'\n314. '629'\n315. '4831'\n316. '3139'\n317. '401427'\n318. '2938'\n319. '95'\n320. '326278'\n321. '648000'\n322. '128193290'\n323. '101928492'\n324. '100132742'\n325. '101927612'\n326. '283131'\n327. '643911'\n328. '145837'\n329. '100506233'\n330. '101927221'\n331. '100505738'\n332. '285505'\n333. '25864'\n334. '106480796'\n335. '100507291'\n336. '441027'\n337. '101805492'\n338. '100526783'\n339. '102724392'\n340. '728564'\n341. '400916'\n342. '100508120'\n343. '101927455'\n344. NA\n345. '25850'\n346. '152905'\n347. '378938'\n348. '653188'\n349. '3206'\n350. '55000'\n351. '552889'\n352. '728638'\n353. '283106'\n354. '8790'\n355. '92312'\n356. '106480303'\n357. '57132'\n358. '9668'\n359. '1556'\n360. '10330'\n361. '326269'\n362. '644589'\n363. '100506411'\n364. '109729181'\n365. '107985879'\n366. '653381'\n367. '3217'\n368. '647979'\n369. '100507303'\n370. '105377283'\n371. '100462794'\n372. '100996541'\n373. '101928076'\n374. '8139'\n375. '337873'\n376. '148189'\n377. '8190'\n378. '339290'\n379. '107048981'\n380. '100287082'\n381. '101927275'\n382. '284385'\n383. '109729129'\n384. '284408'\n385. '100130522'\n386. '105371743'\n387. '105372233'\n388. '100293516'\n389. '10984'\n390. '102724105'\n391. '152217'\n392. '100874260'\n393. '101930085'\n394. '101927811'\n395. '140809'\n396. '404672'\n397. '401237'\n398. '116435299'\n399. '100133190'\n400. '101927391'\n401. '400027'\n\n\n",
            "text/latex": "\\begin{enumerate*}\n\\item '7105'\n\\item '57147'\n\\item '4800'\n\\item '889'\n\\item '79007'\n\\item '204'\n\\item '2288'\n\\item '54677'\n\\item '25998'\n\\item '3675'\n\\item '3920'\n\\item '10127'\n\\item '6376'\n\\item '51330'\n\\item '55971'\n\\item '55750'\n\\item '55001'\n\\item '9569'\n\\item '5080'\n\\item '115939'\n\\item '7005'\n\\item '6792'\n\\item '1534'\n\\item '10157'\n\\item '55200'\n\\item '4784'\n\\item '928'\n\\item '3077'\n\\item '3097'\n\\item '11313'\n\\item '10867'\n\\item '54799'\n\\item '9066'\n\\item '4057'\n\\item '57658'\n\\item '5238'\n\\item '112611'\n\\item '9052'\n\\item '10903'\n\\item '55349'\n\\item '25937'\n\\item '55734'\n\\item '4331'\n\\item '9821'\n\\item '51022'\n\\item '1244'\n\\item '58528'\n\\item '11231'\n\\item '3459'\n\\item '5606'\n\\item '26751'\n\\item '7414'\n\\item '54888'\n\\item '999'\n\\item '26064'\n\\item '11284'\n\\item '5874'\n\\item '3371'\n\\item '8538'\n\\item '9820'\n\\item '1495'\n\\item '5256'\n\\item '3309'\n\\item '1829'\n\\item '2824'\n\\item '1356'\n\\item '55173'\n\\item '4052'\n\\item '5954'\n\\item '81037'\n\\item '7984'\n\\item '5601'\n\\item '5291'\n\\item '84321'\n\\item '23593'\n\\item '5652'\n\\item '23223'\n\\item '3909'\n\\item '23095'\n\\item '2296'\n\\item '10079'\n\\item '23201'\n\\item '8908'\n\\item '5318'\n\\item '8975'\n\\item '3918'\n\\item '4084'\n\\item '8531'\n\\item '10787'\n\\item '1001'\n\\item '64951'\n\\item '81671'\n\\item '1747'\n\\item '9170'\n\\item '1117'\n\\item '23294'\n\\item '54887'\n\\item '2065'\n\\item '54763'\n\\item '10954'\n\\item '4638'\n\\item '9748'\n\\item '55810'\n\\item '2263'\n\\item '9650'\n\\item '1316'\n\\item '5255'\n\\item '7132'\n\\item '9741'\n\\item '23198'\n\\item '5307'\n\\item '64710'\n\\item '55737'\n\\item '5597'\n\\item '27440'\n\\item '4040'\n\\item '5217'\n\\item '4335'\n\\item '79364'\n\\item '55808'\n\\item '55062'\n\\item '10610'\n\\item '8440'\n\\item '29995'\n\\item '9130'\n\\item '79901'\n\\item '5134'\n\\item '84708'\n\\item '224'\n\\item '6720'\n\\item '3993'\n\\item '5523'\n\\item '10644'\n\\item '9175'\n\\item '8463'\n\\item '11343'\n\\item '6557'\n\\item '56005'\n\\item '10512'\n\\item '9462'\n\\item '64778'\n\\item '5337'\n\\item '5362'\n\\item '7163'\n\\item '9618'\n\\item '4162'\n\\item '2975'\n\\item '203427'\n\\item '10529'\n\\item '3205'\n\\item '1906'\n\\item '9139'\n\\item '80341'\n\\item '7145'\n\\item '4983'\n\\item '131544'\n\\item '11043'\n\\item '22839'\n\\item '260425'\n\\item '79876'\n\\item '4036'\n\\item '65985'\n\\item '93664'\n\\item '5205'\n\\item '6604'\n\\item '1741'\n\\item '56256'\n\\item '4779'\n\\item '23033'\n\\item '9706'\n\\item '79977'\n\\item '10998'\n\\item '55663'\n\\item '9422'\n\\item '2195'\n\\item '60509'\n\\item '3797'\n\\item '10890'\n\\item '790'\n\\item '966'\n\\item '55892'\n\\item '4216'\n\\item '57549'\n\\item '22996'\n\\item '22929'\n\\item '80271'\n\\item '4680'\n\\item '10959'\n\\item '7205'\n\\item '10992'\n\\item '2778'\n\\item '7022'\n\\item '8544'\n\\item '2767'\n\\item '55616'\n\\item '80307'\n\\item '6564'\n\\item '54498'\n\\item '55968'\n\\item '83959'\n\\item ⋯\n\\item '1052'\n\\item '400713'\n\\item '10626'\n\\item '2502'\n\\item '728190'\n\\item '6293'\n\\item '284391'\n\\item '257000'\n\\item '100421436'\n\\item '100505633'\n\\item '284930'\n\\item '151507'\n\\item '221710'\n\\item '100130932'\n\\item '643358'\n\\item '642778'\n\\item '388152'\n\\item '100130495'\n\\item '503638'\n\\item '5938'\n\\item '101929198'\n\\item '100652939'\n\\item '348262'\n\\item '284618'\n\\item '101927621'\n\\item '100288778'\n\\item '653238'\n\\item '100506714'\n\\item '729708'\n\\item '79134'\n\\item '729009'\n\\item '101927667'\n\\item '440498'\n\\item '56967'\n\\item '9277'\n\\item '441282'\n\\item '101928904'\n\\item '100505566'\n\\item '2616'\n\\item NA\n\\item '100506696'\n\\item '102723505'\n\\item '441295'\n\\item '124903553'\n\\item '107075310'\n\\item '102723775'\n\\item '100130275'\n\\item '387101'\n\\item '100133161'\n\\item '619445'\n\\item '642587'\n\\item '3281'\n\\item '100130892'\n\\item '100996609'\n\\item '100420044'\n\\item '6222'\n\\item '729234'\n\\item '100873930'\n\\item '100271374'\n\\item '304'\n\\item '2500'\n\\item '100505771'\n\\item '101927746'\n\\item '644820'\n\\item '100506930'\n\\item '100303755'\n\\item '727826'\n\\item '150759'\n\\item '414765'\n\\item '100093631'\n\\item '8341'\n\\item '388907'\n\\item '728927'\n\\item '643180'\n\\item '8629'\n\\item '60674'\n\\item '400618'\n\\item '2497'\n\\item '64288'\n\\item '285785'\n\\item '359753'\n\\item '92249'\n\\item '728262'\n\\item '100506428'\n\\item '1159'\n\\item '266625'\n\\item '100130418'\n\\item '100507516'\n\\item '100874048'\n\\item '100506334'\n\\item '107075141'\n\\item '7844'\n\\item '4830'\n\\item '51608'\n\\item '58496'\n\\item '100132199'\n\\item '100287482'\n\\item '389160'\n\\item '100130562'\n\\item '100874091'\n\\item '100506243'\n\\item '387521'\n\\item '257068'\n\\item '4282'\n\\item '79897'\n\\item '151658'\n\\item '10552'\n\\item '25764'\n\\item '23089'\n\\item '348110'\n\\item '2499'\n\\item '1945'\n\\item '629'\n\\item '4831'\n\\item '3139'\n\\item '401427'\n\\item '2938'\n\\item '95'\n\\item '326278'\n\\item '648000'\n\\item '128193290'\n\\item '101928492'\n\\item '100132742'\n\\item '101927612'\n\\item '283131'\n\\item '643911'\n\\item '145837'\n\\item '100506233'\n\\item '101927221'\n\\item '100505738'\n\\item '285505'\n\\item '25864'\n\\item '106480796'\n\\item '100507291'\n\\item '441027'\n\\item '101805492'\n\\item '100526783'\n\\item '102724392'\n\\item '728564'\n\\item '400916'\n\\item '100508120'\n\\item '101927455'\n\\item NA\n\\item '25850'\n\\item '152905'\n\\item '378938'\n\\item '653188'\n\\item '3206'\n\\item '55000'\n\\item '552889'\n\\item '728638'\n\\item '283106'\n\\item '8790'\n\\item '92312'\n\\item '106480303'\n\\item '57132'\n\\item '9668'\n\\item '1556'\n\\item '10330'\n\\item '326269'\n\\item '644589'\n\\item '100506411'\n\\item '109729181'\n\\item '107985879'\n\\item '653381'\n\\item '3217'\n\\item '647979'\n\\item '100507303'\n\\item '105377283'\n\\item '100462794'\n\\item '100996541'\n\\item '101928076'\n\\item '8139'\n\\item '337873'\n\\item '148189'\n\\item '8190'\n\\item '339290'\n\\item '107048981'\n\\item '100287082'\n\\item '101927275'\n\\item '284385'\n\\item '109729129'\n\\item '284408'\n\\item '100130522'\n\\item '105371743'\n\\item '105372233'\n\\item '100293516'\n\\item '10984'\n\\item '102724105'\n\\item '152217'\n\\item '100874260'\n\\item '101930085'\n\\item '101927811'\n\\item '140809'\n\\item '404672'\n\\item '401237'\n\\item '116435299'\n\\item '100133190'\n\\item '101927391'\n\\item '400027'\n\\end{enumerate*}\n",
            "text/plain": [
              "   [1] \"7105\"      \"57147\"     \"4800\"      \"889\"       \"79007\"     \"204\"      \n",
              "   [7] \"2288\"      \"54677\"     \"25998\"     \"3675\"      \"3920\"      \"10127\"    \n",
              "  [13] \"6376\"      \"51330\"     \"55971\"     \"55750\"     \"55001\"     \"9569\"     \n",
              "  [19] \"5080\"      \"115939\"    \"7005\"      \"6792\"      \"1534\"      \"10157\"    \n",
              "  [25] \"55200\"     \"4784\"      \"928\"       \"3077\"      \"3097\"      \"11313\"    \n",
              "  [31] \"10867\"     \"54799\"     \"9066\"      \"4057\"      \"57658\"     \"5238\"     \n",
              "  [37] \"112611\"    \"9052\"      \"10903\"     \"55349\"     \"25937\"     \"55734\"    \n",
              "  [43] \"4331\"      \"9821\"      \"51022\"     \"1244\"      \"58528\"     \"11231\"    \n",
              "  [49] \"3459\"      \"5606\"      \"26751\"     \"7414\"      \"54888\"     \"999\"      \n",
              "  [55] \"26064\"     \"11284\"     \"5874\"      \"3371\"      \"8538\"      \"9820\"     \n",
              "  [61] \"1495\"      \"5256\"      \"3309\"      \"1829\"      \"2824\"      \"1356\"     \n",
              "  [67] \"55173\"     \"4052\"      \"5954\"      \"81037\"     \"7984\"      \"5601\"     \n",
              "  [73] \"5291\"      \"84321\"     \"23593\"     \"5652\"      \"23223\"     \"3909\"     \n",
              "  [79] \"23095\"     \"2296\"      \"10079\"     \"23201\"     \"8908\"      \"5318\"     \n",
              "  [85] \"8975\"      \"3918\"      \"4084\"      \"8531\"      \"10787\"     \"1001\"     \n",
              "  [91] \"64951\"     \"81671\"     \"1747\"      \"9170\"      \"1117\"      \"23294\"    \n",
              "  [97] \"54887\"     \"2065\"      \"54763\"     \"10954\"     \"4638\"      \"9748\"     \n",
              " [103] \"55810\"     \"2263\"      \"9650\"      \"1316\"      \"5255\"      \"7132\"     \n",
              " [109] \"9741\"      \"23198\"     \"5307\"      \"64710\"     \"55737\"     \"5597\"     \n",
              " [115] \"27440\"     \"4040\"      \"5217\"      \"4335\"      \"79364\"     \"55808\"    \n",
              " [121] \"55062\"     \"10610\"     \"8440\"      \"29995\"     \"9130\"      \"79901\"    \n",
              " [127] \"5134\"      \"84708\"     \"224\"       \"6720\"      \"3993\"      \"5523\"     \n",
              " [133] \"10644\"     \"9175\"      \"8463\"      \"11343\"     \"6557\"      \"56005\"    \n",
              " [139] \"10512\"     \"9462\"      \"64778\"     \"5337\"      \"5362\"      \"7163\"     \n",
              " [145] \"9618\"      \"4162\"      \"2975\"      \"203427\"    \"10529\"     \"3205\"     \n",
              " [151] \"1906\"      \"9139\"      \"80341\"     \"7145\"      \"4983\"      \"131544\"   \n",
              " [157] \"11043\"     \"22839\"     \"260425\"    \"79876\"     \"4036\"      \"65985\"    \n",
              " [163] \"93664\"     \"5205\"      \"6604\"      \"1741\"      \"56256\"     \"4779\"     \n",
              " [169] \"23033\"     \"9706\"      \"79977\"     \"10998\"     \"55663\"     \"9422\"     \n",
              " [175] \"2195\"      \"60509\"     \"3797\"      \"10890\"     \"790\"       \"966\"      \n",
              " [181] \"55892\"     \"4216\"      \"57549\"     \"22996\"     \"22929\"     \"80271\"    \n",
              " [187] \"4680\"      \"10959\"     \"7205\"      \"10992\"     \"2778\"      \"7022\"     \n",
              " [193] \"8544\"      \"2767\"      \"55616\"     \"80307\"     \"6564\"      \"54498\"    \n",
              " [199] \"55968\"     \"83959\"     \"55857\"     \"51575\"     \"5829\"      \"2521\"     \n",
              " [205] \"5349\"      \"8079\"      \"55760\"     \"645\"       \"57060\"     \"51726\"    \n",
              " [211] \"16\"        \"3655\"      \"2271\"      \"26227\"     \"55350\"     \"9209\"     \n",
              " [217] \"9942\"      \"2568\"      \"51430\"     \"54566\"     \"56165\"     \"25805\"    \n",
              " [223] \"6732\"      \"27154\"     \"3326\"      \"3710\"      \"7738\"      \"1832\"     \n",
              " [229] \"23555\"     \"79629\"     \"57828\"     \"997\"       \"126353\"    \"8045\"     \n",
              " [235] \"83874\"     \"2678\"      \"23464\"     \"6663\"      \"55964\"     \"6523\"     \n",
              " [241] \"387590\"    \"6942\"      \"91289\"     \"23551\"     \"23543\"     \"23774\"    \n",
              " [247] \"9889\"      \"51804\"     \"328\"       \"394\"       \"10202\"     \"9692\"     \n",
              " [253] \"84312\"     \"5411\"      \"5834\"      \"26090\"     \"51098\"     \"80331\"    \n",
              " [259] \"51012\"     \"26164\"     \"55257\"     \"11083\"     \"55738\"     \"26205\"    \n",
              " [265] \"10139\"     \"57761\"     \"5332\"      \"51340\"     \"63905\"     \"182\"      \n",
              " [271] \"10406\"     \"191\"       \"57136\"     \"57534\"     \"5716\"      \"10857\"    \n",
              " [277] \"4281\"      \"56180\"     \"9949\"      \"5358\"      \"2332\"      \"7355\"     \n",
              " [283] \"84061\"     \"6611\"      \"5251\"      \"83692\"     \"9767\"      \"5127\"     \n",
              " [289] \"27336\"     \"51442\"     \"2564\"      \"10916\"     \"51260\"     \"688\"      \n",
              " [295] \"10562\"     \"23361\"     \"5595\"      \"80004\"     \"83693\"     \"408050\"   \n",
              " [301] \"1428\"      \"29904\"     \"2935\"      \"7727\"      \"55313\"     \"57478\"    \n",
              " [307] \"27324\"     \"79838\"     \"400506\"    \"7082\"      \"171177\"    \"79848\"    \n",
              " [313] \"79752\"     \"8767\"      \"54928\"     \"6422\"      \"55353\"     \"79815\"    \n",
              " [319] \"56704\"     \"5862\"      \"3646\"      \"9694\"      \"54845\"     \"10397\"    \n",
              " [325] \"6674\"      \"64089\"     \"6713\"      \"63898\"     \"54938\"     \"53635\"    \n",
              " [331] \"51343\"     \"27113\"     \"79784\"     \"6223\"      \"1048\"      \"9266\"     \n",
              " [337] \"828\"       \"587\"       \"5518\"      \"51599\"     \"57794\"     \"64763\"    \n",
              " [343] \"3696\"      \"136319\"    \"858\"       \"4233\"      \"3200\"      \"3955\"     \n",
              " [349] \"3202\"      \"23554\"     \"11112\"     \"2887\"      \"83451\"     \"23242\"    \n",
              " [355] \"6804\"      \"2617\"      \"2051\"      \"3315\"      \"7586\"      \"8976\"     \n",
              " [361] \"64598\"     \"55131\"     \"10467\"     \"4232\"      \"10551\"     \"26608\"    \n",
              " [367] \"22949\"     \"203\"       \"23189\"     \"7306\"      \"8777\"      \"6461\"     \n",
              " [373] \"26033\"     \"11196\"     \"54780\"     \"54462\"     \"657\"       \"84445\"    \n",
              " [379] \"57584\"     \"91452\"     \"22943\"     \"10539\"     \"8030\"      \"25984\"    \n",
              " [385] \"57532\"     \"6143\"      \"84961\"     \"54894\"     \"5889\"      \"2584\"     \n",
              " [391] \"51655\"     \"10493\"     \"55379\"     \"1845\"      \"7126\"      \"57649\"    \n",
              " [397] \"23142\"     \"374\"       \"1363\"      \"1182\"      \"51166\"     \"51809\"    \n",
              " [403] \"23321\"     \"51274\"     \"10891\"     \"1410\"      \"23130\"     \"51111\"    \n",
              " [409] \"79080\"     \"27339\"     \"2348\"      \"55553\"     \"3875\"      \"57460\"    \n",
              " [415] \"11272\"     \"80824\"     \"1027\"      \"6337\"      \"4055\"      \"5869\"     \n",
              " [421] \"2597\"      \"56994\"     \"7167\"      \"2026\"      \"1822\"      \"10162\"    \n",
              " [427] \"51567\"     \"2444\"      \"51522\"     \"57150\"     \"7164\"      \"135114\"   \n",
              " [433] \"135112\"    \"222658\"    \"55776\"     \"653\"       \"26235\"     \"892\"      \n",
              " [439] \"1871\"      \"7803\"      \"8936\"      \"55856\"     \"9896\"      \"64065\"    \n",
              " [445] \"7922\"      \"51596\"     \"9444\"      \"705\"       \"51069\"     \"5754\"     \n",
              " [451] \"56940\"     \"55770\"     \"7422\"      \"8899\"      \"55603\"     \"10279\"    \n",
              " [457] \"11044\"     \"4437\"      \"64083\"     \"5618\"      \"23286\"     \"4090\"     \n",
              " [463] \"57222\"     \"1627\"      \"3081\"      \"51421\"     \"56954\"     \"80321\"    \n",
              " [469] \"55186\"     \"7029\"      \"79782\"     \"3280\"      \"10342\"     \"84223\"    \n",
              " [475] \"22916\"     \"79669\"     \"23150\"     \"54946\"     \"152015\"    \"79858\"    \n",
              " [481] \"54800\"     \"6242\"      \"6364\"      \"51011\"     \"80255\"     \"55240\"    \n",
              " [487] \"57669\"     \"51639\"     \"9540\"      \"2820\"      \"90\"        \"85461\"    \n",
              " [493] \"7841\"      \"79745\"     \"6711\"      \"57142\"     \"2591\"      \"3488\"     \n",
              " [499] \"80303\"     \"23301\"     \"2274\"      \"10058\"     \"3069\"      \"6801\"     \n",
              " [505] \"1746\"      \"6382\"      \"9167\"      \"390\"       \"63892\"     \"2034\"     \n",
              " [511] \"525\"       \"607\"       \"1718\"      \"4139\"      \"54206\"     \"10067\"    \n",
              " [517] \"58480\"     \"9181\"      \"81563\"     \"1647\"      \"1491\"      \"149371\"   \n",
              " [523] \"64121\"     \"57568\"     \"2117\"      \"23266\"     \"10765\"     \"6675\"     \n",
              " [529] \"4179\"      \"9129\"      \"6513\"      \"10969\"     \"8704\"      \"8503\"     \n",
              " [535] \"8548\"      \"10560\"     \"1266\"      \"9588\"      \"3664\"      \"27042\"    \n",
              " [541] \"11123\"     \"23443\"     \"57488\"     \"10849\"     \"23271\"     \"22926\"    \n",
              " [547] \"9465\"      \"10981\"     \"1490\"      \"103910\"    \"6185\"      \"8987\"     \n",
              " [553] \"5918\"      \"5493\"      \"687\"       \"84886\"     \"89891\"     \"54836\"    \n",
              " [559] \"79695\"     \"2531\"      \"9480\"      \"64225\"     \"4072\"      \"26503\"    \n",
              " [565] \"60370\"     \"2805\"      \"4488\"      \"84318\"     \"4093\"      \"27230\"    \n",
              " [571] \"400\"       \"8835\"      \"1191\"      \"83690\"     \"157506\"    \"56155\"    \n",
              " [577] \"256051\"    \"1\"         \"92\"        \"4952\"      \"84947\"     \"84293\"    \n",
              " [583] \"3204\"      \"10124\"     \"57670\"     \"800\"       \"5033\"      \"9559\"     \n",
              " [589] \"26994\"     \"79365\"     \"10549\"     \"10755\"     \"540\"       \"57486\"    \n",
              " [595] \"3229\"      \"3227\"      \"139231\"    \"9367\"      \"79934\"     \"5208\"     \n",
              " [601] \"116151\"    \"6590\"      \"6385\"      \"514\"       \"84181\"     \"6780\"     \n",
              " [607] \"56937\"     \"55905\"     \"10199\"     \"79983\"     \"27076\"     \"56897\"    \n",
              " [613] \"54718\"     \"57510\"     \"6903\"      \"116138\"    \"27232\"     \"4201\"     \n",
              " [619] \"6659\"      \"2739\"      \"6745\"      \"64284\"     \"2069\"      \"79026\"    \n",
              " [625] \"1948\"      \"6662\"      \"55154\"     \"9329\"      \"56731\"     \"79144\"    \n",
              " [631] \"5469\"      \"9322\"      \"27111\"     \"56255\"     \"140901\"    \"80023\"    \n",
              " [637] \"6238\"      \"58495\"     \"11034\"     \"64860\"     \"3397\"      \"51614\"    \n",
              " [643] \"140823\"    \"8242\"      \"154796\"    \"7389\"      \"9572\"      \"25824\"    \n",
              " [649] \"22863\"     \"57570\"     \"8273\"      \"3188\"      \"51309\"     \"1678\"     \n",
              " [655] \"821\"       \"84239\"     \"7103\"      \"117177\"    \"53834\"     \"10365\"    \n",
              " [661] \"83460\"     \"5782\"      \"2770\"      \"8910\"      \"79924\"     \"11135\"    \n",
              " [667] \"7263\"      \"3976\"      \"26150\"     \"3872\"      \"5420\"      \"813\"      \n",
              " [673] \"23008\"     \"4430\"      \"2571\"      \"3671\"      \"23022\"     \"5338\"     \n",
              " [679] \"84817\"     \"10749\"     \"57509\"     \"5655\"      \"11202\"     \"84962\"    \n",
              " [685] \"3169\"      \"112399\"    \"2258\"      \"58986\"     \"6303\"      \"23677\"    \n",
              " [691] \"3949\"      \"51337\"     \"547\"       \"84705\"     \"56995\"     \"83861\"    \n",
              " [697] \"4301\"      \"81\"        \"9518\"      \"54858\"     \"54795\"     \"92359\"    \n",
              " [703] \"283120\"    \"3911\"      \"445\"       \"10155\"     \"83667\"     \"6535\"     \n",
              " [709] \"5638\"      \"7317\"      \"80328\"     \"55902\"     \"23199\"     \"84440\"    \n",
              " [715] \"8572\"      \"6155\"      \"80762\"     \"4131\"      \"10656\"     \"2330\"     \n",
              " [721] \"5565\"      \"5160\"      \"57343\"     \"79727\"     \"3958\"      \"51478\"    \n",
              " [727] \"55556\"     \"23647\"     \"23480\"     \"3691\"      \"3021\"      \"4147\"     \n",
              " [733] \"63926\"     \"22903\"     \"7818\"      \"22889\"     \"9826\"      \"57111\"    \n",
              " [739] \"3508\"      \"10207\"     \"4628\"      \"1116\"      \"23111\"     \"84707\"    \n",
              " [745] \"23640\"     \"10313\"     \"22880\"     \"113828\"    \"57180\"     \"80195\"    \n",
              " [751] \"23508\"     \"51124\"     \"2947\"      \"10451\"     \"6272\"      \"4853\"     \n",
              " [757] \"80263\"     \"79679\"     \"54407\"     \"10971\"     \"29841\"     \"6289\"     \n",
              " [763] \"85019\"     \"284252\"    \"91768\"     \"2012\"      \"8933\"      \"51361\"    \n",
              " [769] \"1824\"      \"1830\"      \"1825\"      \"1837\"      \"9415\"      \"9071\"     \n",
              " [775] \"9315\"      \"51280\"     \"9413\"      \"29968\"     \"6926\"      \"29923\"    \n",
              " [781] \"26136\"     \"1081\"      \"26298\"     \"23017\"     \"3855\"      \"91\"       \n",
              " [787] \"5570\"      \"26056\"     \"29109\"     \"183\"       \"3775\"      \"9816\"     \n",
              " [793] \"23456\"     \"84284\"     \"27097\"     \"10228\"     \"3915\"      \"9654\"     \n",
              " [799] \"5270\"      \"1593\"      \"1329\"      \"10970\"     \"4008\"      \"5879\"     \n",
              " [805] \"11014\"     \"80727\"     \"64108\"     \"86\"        \"26750\"     \"23392\"    \n",
              " [811] \"153090\"    \"1515\"      \"4609\"      \"4856\"      \"116113\"    \"89953\"    \n",
              " [817] \"63971\"     \"7746\"      \"7020\"      \"25844\"     \"63027\"     \"7280\"     \n",
              " [823] \"670\"       \"84300\"     \"10211\"     \"79969\"     \"23787\"     \"85462\"    \n",
              " [829] \"408\"       \"338699\"    \"54843\"     \"29088\"     \"4316\"      \"84259\"    \n",
              " [835] \"10413\"     \"23650\"     \"84000\"     \"7057\"      \"56924\"     \"79739\"    \n",
              " [841] \"54874\"     \"9411\"      \"653702\"    \"9635\"      \"26160\"     \"1545\"     \n",
              " [847] \"5861\"      \"10113\"     \"1838\"      \"26509\"     \"10579\"     \"51163\"    \n",
              " [853] \"29789\"     \"6744\"      \"64579\"     \"57619\"     \"306\"       \"5530\"     \n",
              " [859] \"121506\"    \"55605\"     \"84216\"     \"51279\"     \"121227\"    \"92979\"    \n",
              " [865] \"1848\"      \"84934\"     \"84915\"     \"222484\"    \"145482\"    \"7453\"     \n",
              " [871] \"6652\"      \"10099\"     \"7168\"      \"11057\"     \"374655\"    \"5045\"     \n",
              " [877] \"6524\"      \"1039\"      \"91862\"     \"463\"       \"2653\"      \"8996\"     \n",
              " [883] \"57707\"     \"6187\"      \"2622\"      \"55090\"     \"81577\"     \"10140\"    \n",
              " [889] \"9905\"      \"51651\"     \"10939\"     \"3613\"      \"55197\"     \"2627\"     \n",
              " [895] \"27043\"     \"10966\"     \"79672\"     \"79755\"     \"55520\"     \"10609\"    \n",
              " [901] \"342667\"    \"8612\"      \"351\"       \"9980\"      \"207\"       \"25888\"    \n",
              " [907] \"80110\"     \"1969\"      \"10256\"     \"9064\"      \"3491\"      \"64129\"    \n",
              " [913] \"5792\"      \"8543\"      \"55917\"     \"223\"       \"481\"       \"57645\"    \n",
              " [919] \"55827\"     \"7371\"      \"4259\"      \"81607\"     \"51506\"     \"8490\"     \n",
              " [925] \"6391\"      \"5202\"      \"27005\"     \"79590\"     \"93183\"     \"3068\"     \n",
              " [931] \"9213\"      \"23179\"     \"58497\"     \"7286\"      \"57530\"     \"81609\"    \n",
              " [937] \"8394\"      \"8991\"      \"2029\"      \"51686\"     \"55204\"     \"8444\"     \n",
              " [943] \"8751\"      \"10899\"     \"11000\"     \"27173\"     \"148327\"    \"1944\"     \n",
              " [949] \"2590\"      \"84451\"     \"52\"        \"8560\"      \"375\"       \"29097\"    \n",
              " [955] \"2987\"      \"8476\"      \"129642\"    \"5664\"      \"2052\"      \"9580\"     \n",
              " [961] \"22874\"     \"10130\"     \"388\"       \"245973\"    \"805\"       \"6233\"     \n",
              " [967] \"4211\"      \"113419\"    \"7851\"      \"80775\"     \"8502\"      \"51454\"    \n",
              " [973] \"285362\"    \"129563\"    \"1238\"      \"10217\"     \"90102\"     \"66000\"    \n",
              " [979] \"286676\"    \"9718\"      \"132299\"    \"79966\"     \"100996939\" \"54532\"    \n",
              " [985] \"4726\"      \"6715\"      \"4651\"      \"10769\"     \"5066\"      \"2966\"     \n",
              " [991] \"56929\"     \"153830\"    \"55651\"     \"26045\"     \"51302\"     \"7162\"     \n",
              " [997] \"134728\"    \"84553\"     \"10957\"     \"154214\"    \"6993\"      \"57583\"    \n",
              "[1003] \"9586\"      \"1956\"      \"3486\"      \"4191\"      \"22932\"     \"2631\"     \n",
              "[1009] \"222255\"    \"2041\"      \"8573\"      \"7552\"      \"1069\"      \"6134\"     \n",
              "[1015] \"51312\"     \"7013\"      \"6129\"      \"114569\"    \"8667\"      \"4715\"     \n",
              "[1021] \"83940\"     \"56169\"     \"4781\"      \"1030\"      \"1029\"      \"58499\"    \n",
              "[1027] \"9536\"      \"254427\"    \"221061\"    \"120\"       \"79949\"     \"133\"      \n",
              "[1033] \"10205\"     \"149986\"    \"220064\"    \"226\"       \"8091\"      \"55002\"    \n",
              "[1039] \"26524\"     \"130576\"    \"151242\"    \"51232\"     \"288\"       \"283464\"   \n",
              "[1045] \"145282\"    \"2132\"      \"54842\"     \"2180\"      \"60485\"     \"6999\"     \n",
              "[1051] \"56477\"     \"667\"       \"9531\"      \"5784\"      \"26353\"     \"83439\"    \n",
              "[1057] \"284309\"    \"55521\"     \"130271\"    \"23171\"     \"10309\"     \"5796\"     \n",
              "[1063] \"51351\"     \"25859\"     \"5352\"      \"9425\"      \"1047\"      \"286343\"   \n",
              "[1069] \"154043\"    \"1054\"      \"79047\"     \"116150\"    \"54463\"     \"9868\"     \n",
              "[1075] \"5169\"      \"375056\"    \"84976\"     \"55740\"     \"57630\"     \"135295\"   \n",
              "[1081] \"8470\"      \"6921\"      \"1525\"      \"9510\"      \"9989\"      \"124739\"   \n",
              "[1087] \"51560\"     \"139322\"    \"65983\"     \"1622\"      \"84365\"     \"23367\"    \n",
              "[1093] \"9601\"      \"133522\"    \"1836\"      \"23426\"     \"90550\"     \"419\"      \n",
              "[1099] \"9073\"      \"5097\"      \"7381\"      \"6156\"      \"219743\"    \"60685\"    \n",
              "[1105] \"27020\"     \"23522\"     \"219970\"    \"5603\"      \"114907\"    \"78994\"    \n",
              "[1111] \"115416\"    \"7862\"      \"9372\"      \"23648\"     \"9069\"      \"197258\"   \n",
              "[1117] \"84187\"     \"257397\"    \"254048\"    \"10239\"     \"116987\"    \"200634\"   \n",
              "[1123] \"57822\"     \"138639\"    \"127262\"    \"11013\"     \"22808\"     \"55179\"    \n",
              "[1129] \"115572\"    \"286527\"    \"9334\"      \"9825\"      \"84919\"     \"54935\"    \n",
              "[1135] \"50848\"     \"65018\"     \"4720\"      \"1465\"      \"1827\"      \"148523\"   \n",
              "[1141] \"874\"       \"6493\"      \"5763\"      \"51094\"     \"5710\"      \"5692\"     \n",
              "[1147] \"112950\"    \"60313\"     \"7791\"      \"653121\"    \"2063\"      \"7033\"     \n",
              "[1153] \"7031\"      \"64699\"     \"4731\"      \"875\"       \"1476\"      \"8568\"     \n",
              "[1159] \"6285\"      \"11094\"     \"388561\"    \"57551\"     \"116238\"    \"200186\"   \n",
              "[1165] \"23623\"     \"4000\"      \"56893\"     \"221908\"    \"563\"       \"54742\"    \n",
              "[1171] \"9592\"      \"84988\"     \"54784\"     \"8878\"      \"6132\"      \"9794\"     \n",
              "[1177] \"92304\"     \"622\"       \"93210\"     \"84765\"     \"4356\"      \"58191\"    \n",
              "[1183] \"90864\"     \"146439\"    \"124220\"    \"22941\"     \"81570\"     \"7542\"     \n",
              "[1189] \"10158\"     \"5563\"      \"57190\"     \"22977\"     NA          \"339479\"   \n",
              "[1195] \"84838\"     \"4921\"      \"148304\"    \"467\"       \"51278\"     \"148362\"   \n",
              "[1201] \"51205\"     \"148789\"    \"824\"       \"5194\"      \"92291\"     \"151354\"   \n",
              "[1207] \"112942\"    \"72\"        \"56997\"     \"3625\"      \"10611\"     \"149428\"   \n",
              "[1213] \"6944\"      \"388962\"    \"10602\"     \"6282\"      \"152519\"    \"9076\"     \n",
              "[1219] \"55765\"     \"128240\"    \"476\"       \"116064\"    \"1999\"      \"92703\"    \n",
              "[1225] \"128229\"    \"84283\"     \"6746\"      \"81788\"     \"5584\"      \"23001\"    \n",
              "[1231] \"5783\"      \"8833\"      \"25976\"     \"441024\"    \"2919\"      \"116441\"   \n",
              "[1237] \"6259\"      \"130557\"    \"131601\"    \"80149\"     \"7802\"      \"200879\"   \n",
              "[1243] \"90407\"     \"646600\"    \"91869\"     \"26043\"     \"54965\"     \"6286\"     \n",
              "[1249] \"166929\"    \"10424\"     \"5364\"      \"22824\"     \"2982\"      \"51313\"    \n",
              "[1255] \"729830\"    \"23379\"     \"55751\"     \"3673\"      \"84059\"     \"153733\"   \n",
              "[1261] \"2150\"      \"6690\"      \"493869\"    \"375519\"    \"2173\"      \"8645\"     \n",
              "[1267] \"7559\"      \"23462\"     \"619279\"    \"92421\"     \"157869\"    \"734\"      \n",
              "[1273] \"23353\"     \"79778\"     \"26173\"     \"10922\"     \"501\"       \"7534\"     \n",
              "[1279] \"54704\"     \"203259\"    \"57094\"     \"221656\"    \"158158\"    \"55503\"    \n",
              "[1285] \"11244\"     \"1365\"      \"65268\"     \"360\"       \"94134\"     \"283209\"   \n",
              "[1291] \"2706\"      \"11067\"     \"23588\"     \"89890\"     \"222389\"    \"7417\"     \n",
              "[1297] \"118881\"    \"84858\"     \"10495\"     \"118426\"    \"57447\"     \"55088\"    \n",
              "[1303] \"259217\"    \"783\"       \"221079\"    \"84706\"     \"6692\"      \"1152\"     \n",
              "[1309] \"9529\"      \"55323\"     \"5092\"      \"159195\"    \"1381\"      \"6764\"     \n",
              "[1315] \"23300\"     \"7465\"      \"7551\"      \"144568\"    \"23423\"     \"7184\"     \n",
              "[1321] \"27018\"     \"8800\"      \"55897\"     \"92292\"     \"6809\"      \"2923\"     \n",
              "[1327] \"4824\"      \"5090\"      \"79170\"     \"1398\"      \"51755\"     \"125058\"   \n",
              "[1333] \"4645\"      \"6786\"      \"55181\"     \"90007\"     \"8085\"      \"84790\"    \n",
              "[1339] \"55762\"     \"57348\"     \"114823\"    \"83696\"     \"10653\"     \"1613\"     \n",
              "[1345] \"64359\"     \"25818\"     \"5653\"      \"11012\"     \"144501\"    \"51293\"    \n",
              "[1351] \"84926\"     \"254552\"    \"283987\"    \"137695\"    \"55048\"     \"2495\"     \n",
              "[1357] \"6520\"      \"956\"       \"5867\"      \"114990\"    \"222584\"    \"79725\"    \n",
              "[1363] \"149603\"    \"54541\"     \"359948\"    \"64943\"     \"4247\"      \"115294\"   \n",
              "[1369] \"378\"       \"624\"       \"91949\"     \"154007\"    \"90204\"     \"8754\"     \n",
              "[1375] \"4725\"      \"157638\"    \"26505\"     \"6474\"      \"22847\"     \"166793\"   \n",
              "[1381] \"5650\"      \"6940\"      \"26000\"     \"1942\"      \"9197\"      \"3576\"     \n",
              "[1387] \"93380\"     \"2705\"      \"200558\"    \"201254\"    \"79058\"     \"64118\"    \n",
              "[1393] \"51181\"     \"7580\"      \"5099\"      \"9185\"      \"163590\"    \"4071\"     \n",
              "[1399] \"2990\"      \"65988\"     \"214\"       \"7532\"      \"140838\"    \"56985\"    \n",
              "[1405] \"4086\"      \"9723\"      \"7779\"      \"222008\"    \"3856\"      \"3892\"     \n",
              "[1411] \"4862\"      \"153572\"    \"10736\"     \"9306\"      \"3790\"      \"195814\"   \n",
              "[1417] \"8493\"      \"93622\"     \"84864\"     \"11236\"     \"100190939\" \"55786\"    \n",
              "[1423] \"55669\"     \"2525\"      \"55657\"     \"81831\"     \"219738\"    \"7364\"     \n",
              "[1429] \"126070\"    \"124583\"    \"55636\"     \"3880\"      \"3866\"      \"64979\"    \n",
              "[1435] \"54474\"     \"93134\"     \"55144\"     \"22883\"     \"8507\"      \"6201\"     \n",
              "[1441] \"7764\"      \"126295\"    \"8462\"      \"54205\"     \"794\"       \"28998\"    \n",
              "[1447] \"3400\"      \"1051\"      \"94009\"     \"112858\"    \"669\"       \"55970\"    \n",
              "[1453] \"54676\"     \"79919\"     \"118430\"    \"10924\"     \"27289\"     \"5017\"     \n",
              "[1459] \"57546\"     \"55191\"     \"1717\"      \"729317\"    \"55731\"     \"3310\"     \n",
              "[1465] \"4580\"      \"81839\"     \"2804\"      \"79660\"     \"4296\"      \"10221\"    \n",
              "[1471] \"1605\"      \"64801\"     \"6288\"      \"11163\"     \"9804\"      \"3728\"     \n",
              "[1477] \"10209\"     \"10276\"     \"23333\"     \"26996\"     \"84733\"     \"115123\"   \n",
              "[1483] \"152002\"    \"165324\"    \"80311\"     \"23592\"     \"285704\"    \"2940\"     \n",
              "[1489] \"54931\"     \"741\"       \"8711\"      \"23612\"     \"488\"       \"400986\"   \n",
              "[1495] \"127845\"    \"645139\"    \"1488\"      \"388403\"    \"5708\"      \"1466\"     \n",
              "[1501] \"1649\"      \"642460\"    \"58492\"     \"2810\"      \"23399\"     \"2118\"     \n",
              "[1507] \"379\"       \"163259\"    \"79898\"     \"26471\"     \"7525\"      \"2877\"     \n",
              "[1513] \"664\"       \"7694\"      \"163126\"    \"84277\"     \"283377\"    \"84002\"    \n",
              "[1519] \"79635\"     \"401466\"    \"344148\"    \"10265\"     \"157769\"    \"56892\"    \n",
              "[1525] \"2524\"      \"23625\"     \"9632\"      \"6888\"      \"8408\"      \"57513\"    \n",
              "[1531] \"5074\"      \"7050\"      \"10009\"     \"79191\"     \"3725\"      \"283229\"   \n",
              "[1537] \"977\"       \"6666\"      \"92806\"     \"55929\"     \"259173\"    \"4291\"     \n",
              "[1543] \"55620\"     \"51806\"     \"2066\"      \"56998\"     \"415117\"    \"389336\"   \n",
              "[1549] \"147991\"    \"81888\"     \"6415\"      \"128218\"    \"144348\"    \"9500\"     \n",
              "[1555] \"2624\"      \"10472\"     \"79571\"     \"247\"       \"23580\"     \"9792\"     \n",
              "[1561] \"22928\"     \"81889\"     \"1104\"      \"85453\"     \"8334\"      \"653226\"   \n",
              "[1567] \"8347\"      \"79541\"     \"55432\"     \"387914\"    \"374860\"    \"79642\"    \n",
              "[1573] \"5464\"      \"3226\"      \"389362\"    \"171423\"    \"23513\"     \"283554\"   \n",
              "[1579] \"286006\"    \"1728\"      \"284129\"    \"25994\"     \"286075\"    \"92815\"    \n",
              "[1585] \"219902\"    \"23401\"     \"6657\"      \"5912\"      \"57621\"     \"377381\"   \n",
              "[1591] \"260436\"    \"9966\"      \"7262\"      \"286451\"    \"22820\"     \"1366\"     \n",
              "[1597] \"3418\"      \"161291\"    \"283989\"    \"23641\"     \"2131\"      \"10159\"    \n",
              "[1603] \"25825\"     \"23336\"     \"65265\"     \"716\"       \"633\"       \"3985\"     \n",
              "[1609] \"201965\"    \"2049\"      \"23236\"     \"302\"       \"51335\"     \"79098\"    \n",
              "[1615] \"1397\"      \"64746\"     \"29035\"     \"6165\"      \"5831\"      \"389337\"   \n",
              "[1621] \"5877\"      \"8690\"      \"54101\"     \"389537\"    \"728340\"    \"8214\"     \n",
              "[1627] \"55039\"     \"84851\"     \"146223\"    \"346389\"    \"10607\"     \"83999\"    \n",
              "[1633] \"389677\"    \"6525\"      \"7113\"      \"54954\"     \"79174\"     \"220\"      \n",
              "[1639] \"4070\"      \"26576\"     \"1946\"      \"26039\"     \"9276\"      \"11156\"    \n",
              "[1645] \"84189\"     \"8349\"      \"642273\"    \"201501\"    \"79135\"     \"25880\"    \n",
              "[1651] \"8971\"      \"4588\"      \"23764\"     \"10509\"     \"10519\"     \"100130771\"\n",
              "[1657] \"149175\"    \"387263\"    \"5813\"      \"317781\"    \"283820\"    \"340371\"   \n",
              "[1663] \"51186\"     \"938\"       \"6450\"      \"3854\"      \"255812\"    \"113146\"   \n",
              "[1669] \"10336\"     \"5034\"      \"399694\"    \"730094\"    \"348793\"    \"5833\"     \n",
              "[1675] \"127602\"    \"200942\"    \"93273\"     \"84924\"     \"120227\"    \"64757\"    \n",
              "[1681] \"55330\"     \"353322\"    \"7626\"      \"3840\"      \"27445\"     \"7328\"     \n",
              "[1687] \"613\"       \"3868\"      \"3861\"      \"57698\"     \"23270\"     \"4501\"     \n",
              "[1693] \"171484\"    \"3006\"      \"1978\"      \"116224\"    \"647024\"    \"445582\"   \n",
              "[1699] \"5320\"      \"388228\"    \"153932\"    \"57186\"     \"140576\"    \"51114\"    \n",
              "[1705] \"5549\"      \"79844\"     \"23036\"     \"4697\"      \"3005\"      \"83862\"    \n",
              "[1711] \"345062\"    \"1364\"      \"6284\"      \"7581\"      \"162966\"    \"4128\"     \n",
              "[1717] \"57402\"     \"125208\"    \"284340\"    \"10388\"     \"4604\"      \"9725\"     \n",
              "[1723] \"9687\"      \"6829\"      \"63929\"     \"5478\"      \"57573\"     \"147929\"   \n",
              "[1729] \"64648\"     \"2050\"      \"7678\"      \"9819\"      \"79693\"     \"6477\"     \n",
              "[1735] \"79711\"     \"60312\"     \"165679\"    \"4646\"      \"3066\"      \"728378\"   \n",
              "[1741] \"65267\"     \"112479\"    \"154807\"    \"147686\"    \"6273\"      \"7088\"     \n",
              "[1747] \"8187\"      \"64771\"     \"3914\"      \"2316\"      \"51108\"     \"29950\"    \n",
              "[1753] \"4097\"      \"85379\"     \"3482\"      \"123096\"    \"27044\"     \"135398\"   \n",
              "[1759] \"100129940\" \"6840\"      \"219927\"    \"57799\"     \"955\"       \"284371\"   \n",
              "[1765] \"284370\"    \"55742\"     \"6281\"      \"100506658\" \"388536\"    \"85236\"    \n",
              "[1771] \"6277\"      \"9019\"      \"30014\"     \"54708\"     \"57016\"     \"65251\"    \n",
              "[1777] \"4151\"      \"65124\"     \"90987\"     \"2673\"      \"9747\"      \"158586\"   \n",
              "[1783] \"147657\"    \"83699\"     \"388558\"    \"1259\"      \"7975\"      \"285989\"   \n",
              "[1789] \"653214\"    \"55958\"     \"221477\"    \"9060\"      NA          NA         \n",
              "[1795] NA          \"8861\"      \"2153\"      \"107075270\" \"9578\"      \"4736\"     \n",
              "[1801] NA          NA          \"25829\"     NA          \"4860\"      \"22887\"    \n",
              "[1807] \"4976\"      NA          NA          NA          NA          \"6170\"     \n",
              "[1813] \"9851\"      \"79065\"     NA          \"9848\"      NA          \"116228\"   \n",
              "[1819] \"1122\"      \"440689\"    \"728712\"    \"26071\"     \"203413\"    \"26058\"    \n",
              "[1825] \"55680\"     \"55219\"     \"6920\"      \"10471\"     \"6015\"      \"7923\"     \n",
              "[1831] \"10554\"     \"1797\"      \"10919\"     \"100129029\" \"80736\"     \"4758\"     \n",
              "[1837] \"3304\"      \"3303\"      \"7407\"      \"8449\"      \"221545\"    \"80742\"    \n",
              "[1843] \"780\"       \"90317\"     \"80352\"     \"11138\"     \"2550\"      \"387778\"   \n",
              "[1849] \"64901\"     \"1639\"      \"728377\"    \"84501\"     \"441376\"    \"79583\"    \n",
              "[1855] \"286144\"    \"55366\"     \"9289\"      \"4489\"      \"3887\"      \"317762\"   \n",
              "[1861] \"283463\"    \"144363\"    \"6453\"      \"10921\"     \"131118\"    \"90861\"    \n",
              "[1867] \"5268\"      \"503637\"    \"201562\"    NA          \"1734\"      \"1733\"     \n",
              "[1873] NA          \"100507102\" \"653189\"    \"445328\"    \"86123\"     \"2086\"     \n",
              "[1879] \"494115\"    \"414919\"    \"5500\"      \"54978\"     \"23564\"     \"65996\"    \n",
              "[1885] \"246785\"    \"10537\"     \"1454\"      \"155006\"    \"644972\"    \"6174\"     \n",
              "[1891] \"100188893\" \"730222\"    \"388344\"    \"286495\"    \"64601\"     \"118126072\"\n",
              "[1897] \"56900\"     \"106479025\" \"439953\"    \"158781\"    \"284889\"    \"2501\"     \n",
              "[1903] \"337874\"    \"1052\"      \"400713\"    \"10626\"     \"2502\"      \"728190\"   \n",
              "[1909] \"6293\"      \"284391\"    \"257000\"    \"100421436\" \"100505633\" \"284930\"   \n",
              "[1915] \"151507\"    \"221710\"    \"100130932\" \"643358\"    \"642778\"    \"388152\"   \n",
              "[1921] \"100130495\" \"503638\"    \"5938\"      \"101929198\" \"100652939\" \"348262\"   \n",
              "[1927] \"284618\"    \"101927621\" \"100288778\" \"653238\"    \"100506714\" \"729708\"   \n",
              "[1933] \"79134\"     \"729009\"    \"101927667\" \"440498\"    \"56967\"     \"9277\"     \n",
              "[1939] \"441282\"    \"101928904\" \"100505566\" \"2616\"      NA          \"100506696\"\n",
              "[1945] \"102723505\" \"441295\"    \"124903553\" \"107075310\" \"102723775\" \"100130275\"\n",
              "[1951] \"387101\"    \"100133161\" \"619445\"    \"642587\"    \"3281\"      \"100130892\"\n",
              "[1957] \"100996609\" \"100420044\" \"6222\"      \"729234\"    \"100873930\" \"100271374\"\n",
              "[1963] \"304\"       \"2500\"      \"100505771\" \"101927746\" \"644820\"    \"100506930\"\n",
              "[1969] \"100303755\" \"727826\"    \"150759\"    \"414765\"    \"100093631\" \"8341\"     \n",
              "[1975] \"388907\"    \"728927\"    \"643180\"    \"8629\"      \"60674\"     \"400618\"   \n",
              "[1981] \"2497\"      \"64288\"     \"285785\"    \"359753\"    \"92249\"     \"728262\"   \n",
              "[1987] \"100506428\" \"1159\"      \"266625\"    \"100130418\" \"100507516\" \"100874048\"\n",
              "[1993] \"100506334\" \"107075141\" \"7844\"      \"4830\"      \"51608\"     \"58496\"    \n",
              "[1999] \"100132199\" \"100287482\" \"389160\"    \"100130562\" \"100874091\" \"100506243\"\n",
              "[2005] \"387521\"    \"257068\"    \"4282\"      \"79897\"     \"151658\"    \"10552\"    \n",
              "[2011] \"25764\"     \"23089\"     \"348110\"    \"2499\"      \"1945\"      \"629\"      \n",
              "[2017] \"4831\"      \"3139\"      \"401427\"    \"2938\"      \"95\"        \"326278\"   \n",
              "[2023] \"648000\"    \"128193290\" \"101928492\" \"100132742\" \"101927612\" \"283131\"   \n",
              "[2029] \"643911\"    \"145837\"    \"100506233\" \"101927221\" \"100505738\" \"285505\"   \n",
              "[2035] \"25864\"     \"106480796\" \"100507291\" \"441027\"    \"101805492\" \"100526783\"\n",
              "[2041] \"102724392\" \"728564\"    \"400916\"    \"100508120\" \"101927455\" NA         \n",
              "[2047] \"25850\"     \"152905\"    \"378938\"    \"653188\"    \"3206\"      \"55000\"    \n",
              "[2053] \"552889\"    \"728638\"    \"283106\"    \"8790\"      \"92312\"     \"106480303\"\n",
              "[2059] \"57132\"     \"9668\"      \"1556\"      \"10330\"     \"326269\"    \"644589\"   \n",
              "[2065] \"100506411\" \"109729181\" \"107985879\" \"653381\"    \"3217\"      \"647979\"   \n",
              "[2071] \"100507303\" \"105377283\" \"100462794\" \"100996541\" \"101928076\" \"8139\"     \n",
              "[2077] \"337873\"    \"148189\"    \"8190\"      \"339290\"    \"107048981\" \"100287082\"\n",
              "[2083] \"101927275\" \"284385\"    \"109729129\" \"284408\"    \"100130522\" \"105371743\"\n",
              "[2089] \"105372233\" \"100293516\" \"10984\"     \"102724105\" \"152217\"    \"100874260\"\n",
              "[2095] \"101930085\" \"101927811\" \"140809\"    \"404672\"    \"401237\"    \"116435299\"\n",
              "[2101] \"100133190\" \"101927391\" \"400027\"   "
            ]
          },
          "metadata": {}
        }
      ]
    },
    {
      "cell_type": "code",
      "source": [
        "kegg_pathways <- kegga(entrez_genes, organism = \"hsa\", adjust.method = \"BH\")"
      ],
      "metadata": {
        "id": "8paL-Pm79Az-"
      },
      "execution_count": 43,
      "outputs": []
    },
    {
      "cell_type": "code",
      "source": [
        "head(kegg_pathways)"
      ],
      "metadata": {
        "colab": {
          "base_uri": "https://localhost:8080/",
          "height": 286
        },
        "id": "Lpqdnjb39C5F",
        "outputId": "b0fd89de-39cf-4fbb-88af-88379587a350"
      },
      "execution_count": 44,
      "outputs": [
        {
          "output_type": "display_data",
          "data": {
            "text/html": [
              "<table class=\"dataframe\">\n",
              "<caption>A data.frame: 6 × 4</caption>\n",
              "<thead>\n",
              "\t<tr><th></th><th scope=col>Pathway</th><th scope=col>N</th><th scope=col>DE</th><th scope=col>P.DE</th></tr>\n",
              "\t<tr><th></th><th scope=col>&lt;chr&gt;</th><th scope=col>&lt;dbl&gt;</th><th scope=col>&lt;dbl&gt;</th><th scope=col>&lt;dbl&gt;</th></tr>\n",
              "</thead>\n",
              "<tbody>\n",
              "\t<tr><th scope=row>hsa00010</th><td>Glycolysis / Gluconeogenesis            </td><td>67</td><td>10</td><td>0.141549765</td></tr>\n",
              "\t<tr><th scope=row>hsa00020</th><td>Citrate cycle (TCA cycle)               </td><td>30</td><td> 5</td><td>0.186177921</td></tr>\n",
              "\t<tr><th scope=row>hsa00030</th><td>Pentose phosphate pathway               </td><td>31</td><td> 2</td><td>0.840007620</td></tr>\n",
              "\t<tr><th scope=row>hsa00040</th><td>Pentose and glucuronate interconversions</td><td>36</td><td> 7</td><td>0.068437972</td></tr>\n",
              "\t<tr><th scope=row>hsa00051</th><td>Fructose and mannose metabolism         </td><td>34</td><td> 9</td><td>0.005791747</td></tr>\n",
              "\t<tr><th scope=row>hsa00052</th><td>Galactose metabolism                    </td><td>32</td><td> 4</td><td>0.415718748</td></tr>\n",
              "</tbody>\n",
              "</table>\n"
            ],
            "text/markdown": "\nA data.frame: 6 × 4\n\n| <!--/--> | Pathway &lt;chr&gt; | N &lt;dbl&gt; | DE &lt;dbl&gt; | P.DE &lt;dbl&gt; |\n|---|---|---|---|---|\n| hsa00010 | Glycolysis / Gluconeogenesis             | 67 | 10 | 0.141549765 |\n| hsa00020 | Citrate cycle (TCA cycle)                | 30 |  5 | 0.186177921 |\n| hsa00030 | Pentose phosphate pathway                | 31 |  2 | 0.840007620 |\n| hsa00040 | Pentose and glucuronate interconversions | 36 |  7 | 0.068437972 |\n| hsa00051 | Fructose and mannose metabolism          | 34 |  9 | 0.005791747 |\n| hsa00052 | Galactose metabolism                     | 32 |  4 | 0.415718748 |\n\n",
            "text/latex": "A data.frame: 6 × 4\n\\begin{tabular}{r|llll}\n  & Pathway & N & DE & P.DE\\\\\n  & <chr> & <dbl> & <dbl> & <dbl>\\\\\n\\hline\n\thsa00010 & Glycolysis / Gluconeogenesis             & 67 & 10 & 0.141549765\\\\\n\thsa00020 & Citrate cycle (TCA cycle)                & 30 &  5 & 0.186177921\\\\\n\thsa00030 & Pentose phosphate pathway                & 31 &  2 & 0.840007620\\\\\n\thsa00040 & Pentose and glucuronate interconversions & 36 &  7 & 0.068437972\\\\\n\thsa00051 & Fructose and mannose metabolism          & 34 &  9 & 0.005791747\\\\\n\thsa00052 & Galactose metabolism                     & 32 &  4 & 0.415718748\\\\\n\\end{tabular}\n",
            "text/plain": [
              "         Pathway                                  N  DE P.DE       \n",
              "hsa00010 Glycolysis / Gluconeogenesis             67 10 0.141549765\n",
              "hsa00020 Citrate cycle (TCA cycle)                30  5 0.186177921\n",
              "hsa00030 Pentose phosphate pathway                31  2 0.840007620\n",
              "hsa00040 Pentose and glucuronate interconversions 36  7 0.068437972\n",
              "hsa00051 Fructose and mannose metabolism          34  9 0.005791747\n",
              "hsa00052 Galactose metabolism                     32  4 0.415718748"
            ]
          },
          "metadata": {}
        }
      ]
    },
    {
      "cell_type": "code",
      "source": [
        "head(kegg_pathways)\n",
        "summary(kegg_pathways)\n",
        "str(kegg_pathways)"
      ],
      "metadata": {
        "colab": {
          "base_uri": "https://localhost:8080/",
          "height": 504
        },
        "id": "0HAGCmh_9Fo9",
        "outputId": "6b6aacb5-c1ff-4ca3-9a49-2312997c9aa9"
      },
      "execution_count": 45,
      "outputs": [
        {
          "output_type": "display_data",
          "data": {
            "text/html": [
              "<table class=\"dataframe\">\n",
              "<caption>A data.frame: 6 × 4</caption>\n",
              "<thead>\n",
              "\t<tr><th></th><th scope=col>Pathway</th><th scope=col>N</th><th scope=col>DE</th><th scope=col>P.DE</th></tr>\n",
              "\t<tr><th></th><th scope=col>&lt;chr&gt;</th><th scope=col>&lt;dbl&gt;</th><th scope=col>&lt;dbl&gt;</th><th scope=col>&lt;dbl&gt;</th></tr>\n",
              "</thead>\n",
              "<tbody>\n",
              "\t<tr><th scope=row>hsa00010</th><td>Glycolysis / Gluconeogenesis            </td><td>67</td><td>10</td><td>0.141549765</td></tr>\n",
              "\t<tr><th scope=row>hsa00020</th><td>Citrate cycle (TCA cycle)               </td><td>30</td><td> 5</td><td>0.186177921</td></tr>\n",
              "\t<tr><th scope=row>hsa00030</th><td>Pentose phosphate pathway               </td><td>31</td><td> 2</td><td>0.840007620</td></tr>\n",
              "\t<tr><th scope=row>hsa00040</th><td>Pentose and glucuronate interconversions</td><td>36</td><td> 7</td><td>0.068437972</td></tr>\n",
              "\t<tr><th scope=row>hsa00051</th><td>Fructose and mannose metabolism         </td><td>34</td><td> 9</td><td>0.005791747</td></tr>\n",
              "\t<tr><th scope=row>hsa00052</th><td>Galactose metabolism                    </td><td>32</td><td> 4</td><td>0.415718748</td></tr>\n",
              "</tbody>\n",
              "</table>\n"
            ],
            "text/markdown": "\nA data.frame: 6 × 4\n\n| <!--/--> | Pathway &lt;chr&gt; | N &lt;dbl&gt; | DE &lt;dbl&gt; | P.DE &lt;dbl&gt; |\n|---|---|---|---|---|\n| hsa00010 | Glycolysis / Gluconeogenesis             | 67 | 10 | 0.141549765 |\n| hsa00020 | Citrate cycle (TCA cycle)                | 30 |  5 | 0.186177921 |\n| hsa00030 | Pentose phosphate pathway                | 31 |  2 | 0.840007620 |\n| hsa00040 | Pentose and glucuronate interconversions | 36 |  7 | 0.068437972 |\n| hsa00051 | Fructose and mannose metabolism          | 34 |  9 | 0.005791747 |\n| hsa00052 | Galactose metabolism                     | 32 |  4 | 0.415718748 |\n\n",
            "text/latex": "A data.frame: 6 × 4\n\\begin{tabular}{r|llll}\n  & Pathway & N & DE & P.DE\\\\\n  & <chr> & <dbl> & <dbl> & <dbl>\\\\\n\\hline\n\thsa00010 & Glycolysis / Gluconeogenesis             & 67 & 10 & 0.141549765\\\\\n\thsa00020 & Citrate cycle (TCA cycle)                & 30 &  5 & 0.186177921\\\\\n\thsa00030 & Pentose phosphate pathway                & 31 &  2 & 0.840007620\\\\\n\thsa00040 & Pentose and glucuronate interconversions & 36 &  7 & 0.068437972\\\\\n\thsa00051 & Fructose and mannose metabolism          & 34 &  9 & 0.005791747\\\\\n\thsa00052 & Galactose metabolism                     & 32 &  4 & 0.415718748\\\\\n\\end{tabular}\n",
            "text/plain": [
              "         Pathway                                  N  DE P.DE       \n",
              "hsa00010 Glycolysis / Gluconeogenesis             67 10 0.141549765\n",
              "hsa00020 Citrate cycle (TCA cycle)                30  5 0.186177921\n",
              "hsa00030 Pentose phosphate pathway                31  2 0.840007620\n",
              "hsa00040 Pentose and glucuronate interconversions 36  7 0.068437972\n",
              "hsa00051 Fructose and mannose metabolism          34  9 0.005791747\n",
              "hsa00052 Galactose metabolism                     32  4 0.415718748"
            ]
          },
          "metadata": {}
        },
        {
          "output_type": "display_data",
          "data": {
            "text/plain": [
              "   Pathway                N                DE             P.DE          \n",
              " Length:359         Min.   :   2.0   Min.   :  0.0   Min.   :0.0000008  \n",
              " Class :character   1st Qu.:  40.5   1st Qu.:  4.0   1st Qu.:0.0668292  \n",
              " Mode  :character   Median :  78.0   Median : 10.0   Median :0.2981487  \n",
              "                    Mean   : 103.0   Mean   : 12.9   Mean   :0.3984136  \n",
              "                    3rd Qu.: 137.0   3rd Qu.: 17.0   3rd Qu.:0.7183250  \n",
              "                    Max.   :1549.0   Max.   :190.0   Max.   :1.0000000  "
            ]
          },
          "metadata": {}
        },
        {
          "output_type": "stream",
          "name": "stdout",
          "text": [
            "'data.frame':\t359 obs. of  4 variables:\n",
            " $ Pathway: chr  \"Glycolysis / Gluconeogenesis\" \"Citrate cycle (TCA cycle)\" \"Pentose phosphate pathway\" \"Pentose and glucuronate interconversions\" ...\n",
            " $ N      : num  67 30 31 36 34 32 30 18 27 43 ...\n",
            " $ DE     : num  10 5 2 7 9 4 5 2 1 4 ...\n",
            " $ P.DE   : num  0.14155 0.18618 0.84001 0.06844 0.00579 ...\n"
          ]
        }
      ]
    },
    {
      "cell_type": "code",
      "source": [
        "# Assuming your data frame is named 'pathways_df'\n",
        "# Assign weights to each parameter\n",
        "weight_N <- 0.1\n",
        "weight_DE <- 1\n",
        "weight_P.DE <- -1\n",
        "\n",
        "# Calculate the combined score for each pathway\n",
        "kegg_pathways$combined_score <- weight_N * kegg_pathways$N +\n",
        "                              weight_DE * kegg_pathways$DE +\n",
        "                              weight_P.DE * kegg_pathways$P.DE\n",
        "\n",
        "# Sort the pathways based on their combined scores in descending order\n",
        "sorted_pathways <- kegg_pathways[order(kegg_pathways$combined_score, decreasing = TRUE), ]\n",
        "\n",
        "# Select the top 10 pathways with the highest combined scores\n",
        "top_20_pathways <- head(sorted_pathways, 20)"
      ],
      "metadata": {
        "id": "u9ersJy59Iul"
      },
      "execution_count": 46,
      "outputs": []
    },
    {
      "cell_type": "code",
      "source": [
        "top_20_pathways"
      ],
      "metadata": {
        "colab": {
          "base_uri": "https://localhost:8080/",
          "height": 725
        },
        "id": "ovAboM1U9PWK",
        "outputId": "3bcabe7d-1000-4ec4-c736-4ab85b09d69c"
      },
      "execution_count": 47,
      "outputs": [
        {
          "output_type": "display_data",
          "data": {
            "text/html": [
              "<table class=\"dataframe\">\n",
              "<caption>A data.frame: 20 × 5</caption>\n",
              "<thead>\n",
              "\t<tr><th></th><th scope=col>Pathway</th><th scope=col>N</th><th scope=col>DE</th><th scope=col>P.DE</th><th scope=col>combined_score</th></tr>\n",
              "\t<tr><th></th><th scope=col>&lt;chr&gt;</th><th scope=col>&lt;dbl&gt;</th><th scope=col>&lt;dbl&gt;</th><th scope=col>&lt;dbl&gt;</th><th scope=col>&lt;dbl&gt;</th></tr>\n",
              "</thead>\n",
              "<tbody>\n",
              "\t<tr><th scope=row>hsa01100</th><td>Metabolic pathways                               </td><td>1549</td><td>190</td><td>2.238635e-03</td><td>344.89776</td></tr>\n",
              "\t<tr><th scope=row>hsa05200</th><td>Pathways in cancer                               </td><td> 531</td><td> 76</td><td>1.284163e-03</td><td>129.09872</td></tr>\n",
              "\t<tr><th scope=row>hsa05022</th><td>Pathways of neurodegeneration - multiple diseases</td><td> 476</td><td> 64</td><td>1.230506e-02</td><td>111.58769</td></tr>\n",
              "\t<tr><th scope=row>hsa05168</th><td>Herpes simplex virus 1 infection                 </td><td> 513</td><td> 49</td><td>7.165467e-01</td><td> 99.58345</td></tr>\n",
              "\t<tr><th scope=row>hsa05010</th><td>Alzheimer disease                                </td><td> 384</td><td> 55</td><td>5.714924e-03</td><td> 93.39429</td></tr>\n",
              "\t<tr><th scope=row>hsa05014</th><td>Amyotrophic lateral sclerosis                    </td><td> 364</td><td> 48</td><td>3.736085e-02</td><td> 84.36264</td></tr>\n",
              "\t<tr><th scope=row>hsa04151</th><td>PI3K-Akt signaling pathway                       </td><td> 359</td><td> 48</td><td>3.020903e-02</td><td> 83.86979</td></tr>\n",
              "\t<tr><th scope=row>hsa05165</th><td>Human papillomavirus infection                   </td><td> 331</td><td> 43</td><td>5.727963e-02</td><td> 76.04272</td></tr>\n",
              "\t<tr><th scope=row>hsa04010</th><td>MAPK signaling pathway                           </td><td> 299</td><td> 44</td><td>7.927604e-03</td><td> 73.89207</td></tr>\n",
              "\t<tr><th scope=row>hsa05132</th><td>Salmonella infection                             </td><td> 247</td><td> 46</td><td>3.603165e-05</td><td> 70.69996</td></tr>\n",
              "\t<tr><th scope=row>hsa05016</th><td>Huntington disease                               </td><td> 306</td><td> 39</td><td>8.470163e-02</td><td> 69.51530</td></tr>\n",
              "\t<tr><th scope=row>hsa05131</th><td>Shigellosis                                      </td><td> 247</td><td> 41</td><td>1.130611e-03</td><td> 65.69887</td></tr>\n",
              "\t<tr><th scope=row>hsa05020</th><td>Prion disease                                    </td><td> 272</td><td> 38</td><td>2.773456e-02</td><td> 65.17227</td></tr>\n",
              "\t<tr><th scope=row>hsa05012</th><td>Parkinson disease                                </td><td> 266</td><td> 36</td><td>4.730755e-02</td><td> 62.55269</td></tr>\n",
              "\t<tr><th scope=row>hsa04144</th><td>Endocytosis                                      </td><td> 250</td><td> 36</td><td>2.089729e-02</td><td> 60.97910</td></tr>\n",
              "\t<tr><th scope=row>hsa05130</th><td>Pathogenic Escherichia coli infection            </td><td> 198</td><td> 41</td><td>7.042124e-06</td><td> 60.79999</td></tr>\n",
              "\t<tr><th scope=row>hsa04510</th><td>Focal adhesion                                   </td><td> 202</td><td> 40</td><td>2.741892e-05</td><td> 60.19997</td></tr>\n",
              "\t<tr><th scope=row>hsa04820</th><td>Cytoskeleton in muscle cells                     </td><td> 229</td><td> 37</td><td>3.116468e-03</td><td> 59.89688</td></tr>\n",
              "\t<tr><th scope=row>hsa04810</th><td>Regulation of actin cytoskeleton                 </td><td> 229</td><td> 36</td><td>5.544275e-03</td><td> 58.89446</td></tr>\n",
              "\t<tr><th scope=row>hsa05206</th><td>MicroRNAs in cancer                              </td><td> 310</td><td> 27</td><td>8.377035e-01</td><td> 57.16230</td></tr>\n",
              "</tbody>\n",
              "</table>\n"
            ],
            "text/markdown": "\nA data.frame: 20 × 5\n\n| <!--/--> | Pathway &lt;chr&gt; | N &lt;dbl&gt; | DE &lt;dbl&gt; | P.DE &lt;dbl&gt; | combined_score &lt;dbl&gt; |\n|---|---|---|---|---|---|\n| hsa01100 | Metabolic pathways                                | 1549 | 190 | 2.238635e-03 | 344.89776 |\n| hsa05200 | Pathways in cancer                                |  531 |  76 | 1.284163e-03 | 129.09872 |\n| hsa05022 | Pathways of neurodegeneration - multiple diseases |  476 |  64 | 1.230506e-02 | 111.58769 |\n| hsa05168 | Herpes simplex virus 1 infection                  |  513 |  49 | 7.165467e-01 |  99.58345 |\n| hsa05010 | Alzheimer disease                                 |  384 |  55 | 5.714924e-03 |  93.39429 |\n| hsa05014 | Amyotrophic lateral sclerosis                     |  364 |  48 | 3.736085e-02 |  84.36264 |\n| hsa04151 | PI3K-Akt signaling pathway                        |  359 |  48 | 3.020903e-02 |  83.86979 |\n| hsa05165 | Human papillomavirus infection                    |  331 |  43 | 5.727963e-02 |  76.04272 |\n| hsa04010 | MAPK signaling pathway                            |  299 |  44 | 7.927604e-03 |  73.89207 |\n| hsa05132 | Salmonella infection                              |  247 |  46 | 3.603165e-05 |  70.69996 |\n| hsa05016 | Huntington disease                                |  306 |  39 | 8.470163e-02 |  69.51530 |\n| hsa05131 | Shigellosis                                       |  247 |  41 | 1.130611e-03 |  65.69887 |\n| hsa05020 | Prion disease                                     |  272 |  38 | 2.773456e-02 |  65.17227 |\n| hsa05012 | Parkinson disease                                 |  266 |  36 | 4.730755e-02 |  62.55269 |\n| hsa04144 | Endocytosis                                       |  250 |  36 | 2.089729e-02 |  60.97910 |\n| hsa05130 | Pathogenic Escherichia coli infection             |  198 |  41 | 7.042124e-06 |  60.79999 |\n| hsa04510 | Focal adhesion                                    |  202 |  40 | 2.741892e-05 |  60.19997 |\n| hsa04820 | Cytoskeleton in muscle cells                      |  229 |  37 | 3.116468e-03 |  59.89688 |\n| hsa04810 | Regulation of actin cytoskeleton                  |  229 |  36 | 5.544275e-03 |  58.89446 |\n| hsa05206 | MicroRNAs in cancer                               |  310 |  27 | 8.377035e-01 |  57.16230 |\n\n",
            "text/latex": "A data.frame: 20 × 5\n\\begin{tabular}{r|lllll}\n  & Pathway & N & DE & P.DE & combined\\_score\\\\\n  & <chr> & <dbl> & <dbl> & <dbl> & <dbl>\\\\\n\\hline\n\thsa01100 & Metabolic pathways                                & 1549 & 190 & 2.238635e-03 & 344.89776\\\\\n\thsa05200 & Pathways in cancer                                &  531 &  76 & 1.284163e-03 & 129.09872\\\\\n\thsa05022 & Pathways of neurodegeneration - multiple diseases &  476 &  64 & 1.230506e-02 & 111.58769\\\\\n\thsa05168 & Herpes simplex virus 1 infection                  &  513 &  49 & 7.165467e-01 &  99.58345\\\\\n\thsa05010 & Alzheimer disease                                 &  384 &  55 & 5.714924e-03 &  93.39429\\\\\n\thsa05014 & Amyotrophic lateral sclerosis                     &  364 &  48 & 3.736085e-02 &  84.36264\\\\\n\thsa04151 & PI3K-Akt signaling pathway                        &  359 &  48 & 3.020903e-02 &  83.86979\\\\\n\thsa05165 & Human papillomavirus infection                    &  331 &  43 & 5.727963e-02 &  76.04272\\\\\n\thsa04010 & MAPK signaling pathway                            &  299 &  44 & 7.927604e-03 &  73.89207\\\\\n\thsa05132 & Salmonella infection                              &  247 &  46 & 3.603165e-05 &  70.69996\\\\\n\thsa05016 & Huntington disease                                &  306 &  39 & 8.470163e-02 &  69.51530\\\\\n\thsa05131 & Shigellosis                                       &  247 &  41 & 1.130611e-03 &  65.69887\\\\\n\thsa05020 & Prion disease                                     &  272 &  38 & 2.773456e-02 &  65.17227\\\\\n\thsa05012 & Parkinson disease                                 &  266 &  36 & 4.730755e-02 &  62.55269\\\\\n\thsa04144 & Endocytosis                                       &  250 &  36 & 2.089729e-02 &  60.97910\\\\\n\thsa05130 & Pathogenic Escherichia coli infection             &  198 &  41 & 7.042124e-06 &  60.79999\\\\\n\thsa04510 & Focal adhesion                                    &  202 &  40 & 2.741892e-05 &  60.19997\\\\\n\thsa04820 & Cytoskeleton in muscle cells                      &  229 &  37 & 3.116468e-03 &  59.89688\\\\\n\thsa04810 & Regulation of actin cytoskeleton                  &  229 &  36 & 5.544275e-03 &  58.89446\\\\\n\thsa05206 & MicroRNAs in cancer                               &  310 &  27 & 8.377035e-01 &  57.16230\\\\\n\\end{tabular}\n",
            "text/plain": [
              "         Pathway                                           N    DE \n",
              "hsa01100 Metabolic pathways                                1549 190\n",
              "hsa05200 Pathways in cancer                                 531  76\n",
              "hsa05022 Pathways of neurodegeneration - multiple diseases  476  64\n",
              "hsa05168 Herpes simplex virus 1 infection                   513  49\n",
              "hsa05010 Alzheimer disease                                  384  55\n",
              "hsa05014 Amyotrophic lateral sclerosis                      364  48\n",
              "hsa04151 PI3K-Akt signaling pathway                         359  48\n",
              "hsa05165 Human papillomavirus infection                     331  43\n",
              "hsa04010 MAPK signaling pathway                             299  44\n",
              "hsa05132 Salmonella infection                               247  46\n",
              "hsa05016 Huntington disease                                 306  39\n",
              "hsa05131 Shigellosis                                        247  41\n",
              "hsa05020 Prion disease                                      272  38\n",
              "hsa05012 Parkinson disease                                  266  36\n",
              "hsa04144 Endocytosis                                        250  36\n",
              "hsa05130 Pathogenic Escherichia coli infection              198  41\n",
              "hsa04510 Focal adhesion                                     202  40\n",
              "hsa04820 Cytoskeleton in muscle cells                       229  37\n",
              "hsa04810 Regulation of actin cytoskeleton                   229  36\n",
              "hsa05206 MicroRNAs in cancer                                310  27\n",
              "         P.DE         combined_score\n",
              "hsa01100 2.238635e-03 344.89776     \n",
              "hsa05200 1.284163e-03 129.09872     \n",
              "hsa05022 1.230506e-02 111.58769     \n",
              "hsa05168 7.165467e-01  99.58345     \n",
              "hsa05010 5.714924e-03  93.39429     \n",
              "hsa05014 3.736085e-02  84.36264     \n",
              "hsa04151 3.020903e-02  83.86979     \n",
              "hsa05165 5.727963e-02  76.04272     \n",
              "hsa04010 7.927604e-03  73.89207     \n",
              "hsa05132 3.603165e-05  70.69996     \n",
              "hsa05016 8.470163e-02  69.51530     \n",
              "hsa05131 1.130611e-03  65.69887     \n",
              "hsa05020 2.773456e-02  65.17227     \n",
              "hsa05012 4.730755e-02  62.55269     \n",
              "hsa04144 2.089729e-02  60.97910     \n",
              "hsa05130 7.042124e-06  60.79999     \n",
              "hsa04510 2.741892e-05  60.19997     \n",
              "hsa04820 3.116468e-03  59.89688     \n",
              "hsa04810 5.544275e-03  58.89446     \n",
              "hsa05206 8.377035e-01  57.16230     "
            ]
          },
          "metadata": {}
        }
      ]
    },
    {
      "cell_type": "code",
      "source": [
        "#Write the KEGG results to a file\n",
        "write.csv(as.data.frame(kegg_pathways), \"KEGG_results.csv\")\n",
        "write.csv(as.data.frame(top_20_pathways), \"KEGG_results_top20.csv\")"
      ],
      "metadata": {
        "id": "Vdpr_32M9Lu9"
      },
      "execution_count": 48,
      "outputs": []
    },
    {
      "cell_type": "code",
      "source": [],
      "metadata": {
        "id": "zSqO3LEs9N39"
      },
      "execution_count": null,
      "outputs": []
    }
  ],
  "metadata": {
    "colab": {
      "provenance": []
    },
    "kernelspec": {
      "display_name": "R",
      "name": "ir"
    },
    "language_info": {
      "name": "R"
    }
  },
  "nbformat": 4,
  "nbformat_minor": 0
}