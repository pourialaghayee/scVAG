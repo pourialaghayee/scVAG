{
  "cells": [
    {
      "cell_type": "code",
      "source": [
        "system(\"apt-get install libcairo2-dev\", intern = TRUE)"
      ],
      "metadata": {
        "id": "4pvJzivR-gG4",
        "colab": {
          "base_uri": "https://localhost:8080/",
          "height": 694
        },
        "outputId": "8f5eb386-1e8a-4867-a6f6-4b7f6659d900"
      },
      "execution_count": 1,
      "outputs": [
        {
          "output_type": "display_data",
          "data": {
            "text/html": [
              "<style>\n",
              ".list-inline {list-style: none; margin:0; padding: 0}\n",
              ".list-inline>li {display: inline-block}\n",
              ".list-inline>li:not(:last-child)::after {content: \"\\00b7\"; padding: 0 .5ex}\n",
              "</style>\n",
              "<ol class=list-inline><li>'Reading package lists...'</li><li>'Building dependency tree...'</li><li>'Reading state information...'</li><li>'The following additional packages will be installed:'</li><li><span style=white-space:pre-wrap>'  libblkid-dev libcairo-script-interpreter2 libffi-dev libglib2.0-dev libglib2.0-dev-bin libice-dev'</span></li><li><span style=white-space:pre-wrap>'  liblzo2-2 libmount-dev libpixman-1-dev libselinux1-dev libsepol-dev libsm-dev libxcb-render0-dev'</span></li><li><span style=white-space:pre-wrap>'  libxcb-shm0-dev'</span></li><li>'Suggested packages:'</li><li><span style=white-space:pre-wrap>'  libcairo2-doc libgirepository1.0-dev libglib2.0-doc libgdk-pixbuf2.0-bin | libgdk-pixbuf2.0-dev'</span></li><li><span style=white-space:pre-wrap>'  libxml2-utils libice-doc libsm-doc'</span></li><li>'The following NEW packages will be installed:'</li><li><span style=white-space:pre-wrap>'  libblkid-dev libcairo-script-interpreter2 libcairo2-dev libffi-dev libglib2.0-dev'</span></li><li><span style=white-space:pre-wrap>'  libglib2.0-dev-bin libice-dev liblzo2-2 libmount-dev libpixman-1-dev libselinux1-dev libsepol-dev'</span></li><li><span style=white-space:pre-wrap>'  libsm-dev libxcb-render0-dev libxcb-shm0-dev'</span></li><li>'0 upgraded, 15 newly installed, 0 to remove and 29 not upgraded.'</li><li>'Need to get 3,839 kB of archives.'</li><li>'After this operation, 19.8 MB of additional disk space will be used.'</li><li>'Get:1 http://archive.ubuntu.com/ubuntu jammy/main amd64 liblzo2-2 amd64 2.10-2build3 [53.7 kB]'</li><li>'Get:2 http://archive.ubuntu.com/ubuntu jammy/main amd64 libcairo-script-interpreter2 amd64 1.16.0-5ubuntu2 [62.0 kB]'</li><li>'Get:3 http://archive.ubuntu.com/ubuntu jammy/main amd64 libice-dev amd64 2:1.0.10-1build2 [51.4 kB]'</li><li>'Get:4 http://archive.ubuntu.com/ubuntu jammy/main amd64 libsm-dev amd64 2:1.2.3-1build2 [18.1 kB]'</li><li>'Get:5 http://archive.ubuntu.com/ubuntu jammy-updates/main amd64 libpixman-1-dev amd64 0.40.0-1ubuntu0.22.04.1 [280 kB]'</li><li>'Get:6 http://archive.ubuntu.com/ubuntu jammy/main amd64 libxcb-render0-dev amd64 1.14-3ubuntu3 [19.6 kB]'</li><li>'Get:7 http://archive.ubuntu.com/ubuntu jammy/main amd64 libxcb-shm0-dev amd64 1.14-3ubuntu3 [6,848 B]'</li><li>'Get:8 http://archive.ubuntu.com/ubuntu jammy/main amd64 libffi-dev amd64 3.4.2-4 [63.7 kB]'</li><li>'Get:9 http://archive.ubuntu.com/ubuntu jammy-updates/main amd64 libglib2.0-dev-bin amd64 2.72.4-0ubuntu2.2 [117 kB]'</li><li>'Get:10 http://archive.ubuntu.com/ubuntu jammy/main amd64 libblkid-dev amd64 2.37.2-4ubuntu3 [185 kB]'</li><li>'Get:11 http://archive.ubuntu.com/ubuntu jammy/main amd64 libsepol-dev amd64 3.3-1build1 [378 kB]'</li><li>'Get:12 http://archive.ubuntu.com/ubuntu jammy/main amd64 libselinux1-dev amd64 3.3-1build2 [158 kB]'</li><li>'Get:13 http://archive.ubuntu.com/ubuntu jammy/main amd64 libmount-dev amd64 2.37.2-4ubuntu3 [14.5 kB]'</li><li>'Get:14 http://archive.ubuntu.com/ubuntu jammy-updates/main amd64 libglib2.0-dev amd64 2.72.4-0ubuntu2.2 [1,739 kB]'</li><li>'Get:15 http://archive.ubuntu.com/ubuntu jammy/main amd64 libcairo2-dev amd64 1.16.0-5ubuntu2 [692 kB]'</li><li>'Fetched 3,839 kB in 2s (1,567 kB/s)'</li><li>'Selecting previously unselected package liblzo2-2:amd64.\\r'</li><li>'(Reading database ... \\r(Reading database ... 5%\\r(Reading database ... 10%\\r(Reading database ... 15%\\r(Reading database ... 20%\\r(Reading database ... 25%\\r(Reading database ... 30%\\r(Reading database ... 35%\\r(Reading database ... 40%\\r(Reading database ... 45%\\r(Reading database ... 50%\\r(Reading database ... 55%\\r(Reading database ... 60%\\r(Reading database ... 65%\\r(Reading database ... 70%\\r(Reading database ... 75%\\r(Reading database ... 80%\\r(Reading database ... 85%\\r(Reading database ... 90%\\r(Reading database ... 95%\\r(Reading database ... 100%\\r(Reading database ... 121658 files and directories currently installed.)\\r'</li><li>'Preparing to unpack .../00-liblzo2-2_2.10-2build3_amd64.deb ...\\r'</li><li>'Unpacking liblzo2-2:amd64 (2.10-2build3) ...\\r'</li><li>'Selecting previously unselected package libcairo-script-interpreter2:amd64.\\r'</li><li>'Preparing to unpack .../01-libcairo-script-interpreter2_1.16.0-5ubuntu2_amd64.deb ...\\r'</li><li>'Unpacking libcairo-script-interpreter2:amd64 (1.16.0-5ubuntu2) ...\\r'</li><li>'Selecting previously unselected package libice-dev:amd64.\\r'</li><li>'Preparing to unpack .../02-libice-dev_2%3a1.0.10-1build2_amd64.deb ...\\r'</li><li>'Unpacking libice-dev:amd64 (2:1.0.10-1build2) ...\\r'</li><li>'Selecting previously unselected package libsm-dev:amd64.\\r'</li><li>'Preparing to unpack .../03-libsm-dev_2%3a1.2.3-1build2_amd64.deb ...\\r'</li><li>'Unpacking libsm-dev:amd64 (2:1.2.3-1build2) ...\\r'</li><li>'Selecting previously unselected package libpixman-1-dev:amd64.\\r'</li><li>'Preparing to unpack .../04-libpixman-1-dev_0.40.0-1ubuntu0.22.04.1_amd64.deb ...\\r'</li><li>'Unpacking libpixman-1-dev:amd64 (0.40.0-1ubuntu0.22.04.1) ...\\r'</li><li>'Selecting previously unselected package libxcb-render0-dev:amd64.\\r'</li><li>'Preparing to unpack .../05-libxcb-render0-dev_1.14-3ubuntu3_amd64.deb ...\\r'</li><li>'Unpacking libxcb-render0-dev:amd64 (1.14-3ubuntu3) ...\\r'</li><li>'Selecting previously unselected package libxcb-shm0-dev:amd64.\\r'</li><li>'Preparing to unpack .../06-libxcb-shm0-dev_1.14-3ubuntu3_amd64.deb ...\\r'</li><li>'Unpacking libxcb-shm0-dev:amd64 (1.14-3ubuntu3) ...\\r'</li><li>'Selecting previously unselected package libffi-dev:amd64.\\r'</li><li>'Preparing to unpack .../07-libffi-dev_3.4.2-4_amd64.deb ...\\r'</li><li>'Unpacking libffi-dev:amd64 (3.4.2-4) ...\\r'</li><li>'Selecting previously unselected package libglib2.0-dev-bin.\\r'</li><li>'Preparing to unpack .../08-libglib2.0-dev-bin_2.72.4-0ubuntu2.2_amd64.deb ...\\r'</li><li>'Unpacking libglib2.0-dev-bin (2.72.4-0ubuntu2.2) ...\\r'</li><li>'Selecting previously unselected package libblkid-dev:amd64.\\r'</li><li>'Preparing to unpack .../09-libblkid-dev_2.37.2-4ubuntu3_amd64.deb ...\\r'</li><li>'Unpacking libblkid-dev:amd64 (2.37.2-4ubuntu3) ...\\r'</li><li>'Selecting previously unselected package libsepol-dev:amd64.\\r'</li><li>'Preparing to unpack .../10-libsepol-dev_3.3-1build1_amd64.deb ...\\r'</li><li>'Unpacking libsepol-dev:amd64 (3.3-1build1) ...\\r'</li><li>'Selecting previously unselected package libselinux1-dev:amd64.\\r'</li><li>'Preparing to unpack .../11-libselinux1-dev_3.3-1build2_amd64.deb ...\\r'</li><li>'Unpacking libselinux1-dev:amd64 (3.3-1build2) ...\\r'</li><li>'Selecting previously unselected package libmount-dev:amd64.\\r'</li><li>'Preparing to unpack .../12-libmount-dev_2.37.2-4ubuntu3_amd64.deb ...\\r'</li><li>'Unpacking libmount-dev:amd64 (2.37.2-4ubuntu3) ...\\r'</li><li>'Selecting previously unselected package libglib2.0-dev:amd64.\\r'</li><li>'Preparing to unpack .../13-libglib2.0-dev_2.72.4-0ubuntu2.2_amd64.deb ...\\r'</li><li>'Unpacking libglib2.0-dev:amd64 (2.72.4-0ubuntu2.2) ...\\r'</li><li>'Selecting previously unselected package libcairo2-dev:amd64.\\r'</li><li>'Preparing to unpack .../14-libcairo2-dev_1.16.0-5ubuntu2_amd64.deb ...\\r'</li><li>'Unpacking libcairo2-dev:amd64 (1.16.0-5ubuntu2) ...\\r'</li><li>'Setting up libglib2.0-dev-bin (2.72.4-0ubuntu2.2) ...\\r'</li><li>'Setting up libblkid-dev:amd64 (2.37.2-4ubuntu3) ...\\r'</li><li>'Setting up libpixman-1-dev:amd64 (0.40.0-1ubuntu0.22.04.1) ...\\r'</li><li>'Setting up libice-dev:amd64 (2:1.0.10-1build2) ...\\r'</li><li>'Setting up libsm-dev:amd64 (2:1.2.3-1build2) ...\\r'</li><li>'Setting up liblzo2-2:amd64 (2.10-2build3) ...\\r'</li><li>'Setting up libffi-dev:amd64 (3.4.2-4) ...\\r'</li><li>'Setting up libxcb-shm0-dev:amd64 (1.14-3ubuntu3) ...\\r'</li><li>'Setting up libsepol-dev:amd64 (3.3-1build1) ...\\r'</li><li>'Setting up libxcb-render0-dev:amd64 (1.14-3ubuntu3) ...\\r'</li><li>'Setting up libcairo-script-interpreter2:amd64 (1.16.0-5ubuntu2) ...\\r'</li><li>'Setting up libselinux1-dev:amd64 (3.3-1build2) ...\\r'</li><li>'Setting up libmount-dev:amd64 (2.37.2-4ubuntu3) ...\\r'</li><li>'Setting up libglib2.0-dev:amd64 (2.72.4-0ubuntu2.2) ...\\r'</li><li>'Processing triggers for libglib2.0-0:amd64 (2.72.4-0ubuntu2.2) ...\\r'</li><li>'Processing triggers for libc-bin (2.35-0ubuntu3.4) ...\\r'</li><li>'/sbin/ldconfig.real: /usr/local/lib/libtbbmalloc_proxy.so.2 is not a symbolic link\\r'</li><li>'\\r'</li><li>'/sbin/ldconfig.real: /usr/local/lib/libtbbbind_2_5.so.3 is not a symbolic link\\r'</li><li>'\\r'</li><li>'/sbin/ldconfig.real: /usr/local/lib/libtbbbind_2_0.so.3 is not a symbolic link\\r'</li><li>'\\r'</li><li>'/sbin/ldconfig.real: /usr/local/lib/libtbbmalloc.so.2 is not a symbolic link\\r'</li><li>'\\r'</li><li>'/sbin/ldconfig.real: /usr/local/lib/libtbb.so.12 is not a symbolic link\\r'</li><li>'\\r'</li><li>'/sbin/ldconfig.real: /usr/local/lib/libtbbbind.so.3 is not a symbolic link\\r'</li><li>'\\r'</li><li>'Processing triggers for man-db (2.10.2-1) ...\\r'</li><li>'Setting up libcairo2-dev:amd64 (1.16.0-5ubuntu2) ...\\r'</li></ol>\n"
            ],
            "text/markdown": "1. 'Reading package lists...'\n2. 'Building dependency tree...'\n3. 'Reading state information...'\n4. 'The following additional packages will be installed:'\n5. <span style=white-space:pre-wrap>'  libblkid-dev libcairo-script-interpreter2 libffi-dev libglib2.0-dev libglib2.0-dev-bin libice-dev'</span>\n6. <span style=white-space:pre-wrap>'  liblzo2-2 libmount-dev libpixman-1-dev libselinux1-dev libsepol-dev libsm-dev libxcb-render0-dev'</span>\n7. <span style=white-space:pre-wrap>'  libxcb-shm0-dev'</span>\n8. 'Suggested packages:'\n9. <span style=white-space:pre-wrap>'  libcairo2-doc libgirepository1.0-dev libglib2.0-doc libgdk-pixbuf2.0-bin | libgdk-pixbuf2.0-dev'</span>\n10. <span style=white-space:pre-wrap>'  libxml2-utils libice-doc libsm-doc'</span>\n11. 'The following NEW packages will be installed:'\n12. <span style=white-space:pre-wrap>'  libblkid-dev libcairo-script-interpreter2 libcairo2-dev libffi-dev libglib2.0-dev'</span>\n13. <span style=white-space:pre-wrap>'  libglib2.0-dev-bin libice-dev liblzo2-2 libmount-dev libpixman-1-dev libselinux1-dev libsepol-dev'</span>\n14. <span style=white-space:pre-wrap>'  libsm-dev libxcb-render0-dev libxcb-shm0-dev'</span>\n15. '0 upgraded, 15 newly installed, 0 to remove and 29 not upgraded.'\n16. 'Need to get 3,839 kB of archives.'\n17. 'After this operation, 19.8 MB of additional disk space will be used.'\n18. 'Get:1 http://archive.ubuntu.com/ubuntu jammy/main amd64 liblzo2-2 amd64 2.10-2build3 [53.7 kB]'\n19. 'Get:2 http://archive.ubuntu.com/ubuntu jammy/main amd64 libcairo-script-interpreter2 amd64 1.16.0-5ubuntu2 [62.0 kB]'\n20. 'Get:3 http://archive.ubuntu.com/ubuntu jammy/main amd64 libice-dev amd64 2:1.0.10-1build2 [51.4 kB]'\n21. 'Get:4 http://archive.ubuntu.com/ubuntu jammy/main amd64 libsm-dev amd64 2:1.2.3-1build2 [18.1 kB]'\n22. 'Get:5 http://archive.ubuntu.com/ubuntu jammy-updates/main amd64 libpixman-1-dev amd64 0.40.0-1ubuntu0.22.04.1 [280 kB]'\n23. 'Get:6 http://archive.ubuntu.com/ubuntu jammy/main amd64 libxcb-render0-dev amd64 1.14-3ubuntu3 [19.6 kB]'\n24. 'Get:7 http://archive.ubuntu.com/ubuntu jammy/main amd64 libxcb-shm0-dev amd64 1.14-3ubuntu3 [6,848 B]'\n25. 'Get:8 http://archive.ubuntu.com/ubuntu jammy/main amd64 libffi-dev amd64 3.4.2-4 [63.7 kB]'\n26. 'Get:9 http://archive.ubuntu.com/ubuntu jammy-updates/main amd64 libglib2.0-dev-bin amd64 2.72.4-0ubuntu2.2 [117 kB]'\n27. 'Get:10 http://archive.ubuntu.com/ubuntu jammy/main amd64 libblkid-dev amd64 2.37.2-4ubuntu3 [185 kB]'\n28. 'Get:11 http://archive.ubuntu.com/ubuntu jammy/main amd64 libsepol-dev amd64 3.3-1build1 [378 kB]'\n29. 'Get:12 http://archive.ubuntu.com/ubuntu jammy/main amd64 libselinux1-dev amd64 3.3-1build2 [158 kB]'\n30. 'Get:13 http://archive.ubuntu.com/ubuntu jammy/main amd64 libmount-dev amd64 2.37.2-4ubuntu3 [14.5 kB]'\n31. 'Get:14 http://archive.ubuntu.com/ubuntu jammy-updates/main amd64 libglib2.0-dev amd64 2.72.4-0ubuntu2.2 [1,739 kB]'\n32. 'Get:15 http://archive.ubuntu.com/ubuntu jammy/main amd64 libcairo2-dev amd64 1.16.0-5ubuntu2 [692 kB]'\n33. 'Fetched 3,839 kB in 2s (1,567 kB/s)'\n34. 'Selecting previously unselected package liblzo2-2:amd64.\\r'\n35. '(Reading database ... \\r(Reading database ... 5%\\r(Reading database ... 10%\\r(Reading database ... 15%\\r(Reading database ... 20%\\r(Reading database ... 25%\\r(Reading database ... 30%\\r(Reading database ... 35%\\r(Reading database ... 40%\\r(Reading database ... 45%\\r(Reading database ... 50%\\r(Reading database ... 55%\\r(Reading database ... 60%\\r(Reading database ... 65%\\r(Reading database ... 70%\\r(Reading database ... 75%\\r(Reading database ... 80%\\r(Reading database ... 85%\\r(Reading database ... 90%\\r(Reading database ... 95%\\r(Reading database ... 100%\\r(Reading database ... 121658 files and directories currently installed.)\\r'\n36. 'Preparing to unpack .../00-liblzo2-2_2.10-2build3_amd64.deb ...\\r'\n37. 'Unpacking liblzo2-2:amd64 (2.10-2build3) ...\\r'\n38. 'Selecting previously unselected package libcairo-script-interpreter2:amd64.\\r'\n39. 'Preparing to unpack .../01-libcairo-script-interpreter2_1.16.0-5ubuntu2_amd64.deb ...\\r'\n40. 'Unpacking libcairo-script-interpreter2:amd64 (1.16.0-5ubuntu2) ...\\r'\n41. 'Selecting previously unselected package libice-dev:amd64.\\r'\n42. 'Preparing to unpack .../02-libice-dev_2%3a1.0.10-1build2_amd64.deb ...\\r'\n43. 'Unpacking libice-dev:amd64 (2:1.0.10-1build2) ...\\r'\n44. 'Selecting previously unselected package libsm-dev:amd64.\\r'\n45. 'Preparing to unpack .../03-libsm-dev_2%3a1.2.3-1build2_amd64.deb ...\\r'\n46. 'Unpacking libsm-dev:amd64 (2:1.2.3-1build2) ...\\r'\n47. 'Selecting previously unselected package libpixman-1-dev:amd64.\\r'\n48. 'Preparing to unpack .../04-libpixman-1-dev_0.40.0-1ubuntu0.22.04.1_amd64.deb ...\\r'\n49. 'Unpacking libpixman-1-dev:amd64 (0.40.0-1ubuntu0.22.04.1) ...\\r'\n50. 'Selecting previously unselected package libxcb-render0-dev:amd64.\\r'\n51. 'Preparing to unpack .../05-libxcb-render0-dev_1.14-3ubuntu3_amd64.deb ...\\r'\n52. 'Unpacking libxcb-render0-dev:amd64 (1.14-3ubuntu3) ...\\r'\n53. 'Selecting previously unselected package libxcb-shm0-dev:amd64.\\r'\n54. 'Preparing to unpack .../06-libxcb-shm0-dev_1.14-3ubuntu3_amd64.deb ...\\r'\n55. 'Unpacking libxcb-shm0-dev:amd64 (1.14-3ubuntu3) ...\\r'\n56. 'Selecting previously unselected package libffi-dev:amd64.\\r'\n57. 'Preparing to unpack .../07-libffi-dev_3.4.2-4_amd64.deb ...\\r'\n58. 'Unpacking libffi-dev:amd64 (3.4.2-4) ...\\r'\n59. 'Selecting previously unselected package libglib2.0-dev-bin.\\r'\n60. 'Preparing to unpack .../08-libglib2.0-dev-bin_2.72.4-0ubuntu2.2_amd64.deb ...\\r'\n61. 'Unpacking libglib2.0-dev-bin (2.72.4-0ubuntu2.2) ...\\r'\n62. 'Selecting previously unselected package libblkid-dev:amd64.\\r'\n63. 'Preparing to unpack .../09-libblkid-dev_2.37.2-4ubuntu3_amd64.deb ...\\r'\n64. 'Unpacking libblkid-dev:amd64 (2.37.2-4ubuntu3) ...\\r'\n65. 'Selecting previously unselected package libsepol-dev:amd64.\\r'\n66. 'Preparing to unpack .../10-libsepol-dev_3.3-1build1_amd64.deb ...\\r'\n67. 'Unpacking libsepol-dev:amd64 (3.3-1build1) ...\\r'\n68. 'Selecting previously unselected package libselinux1-dev:amd64.\\r'\n69. 'Preparing to unpack .../11-libselinux1-dev_3.3-1build2_amd64.deb ...\\r'\n70. 'Unpacking libselinux1-dev:amd64 (3.3-1build2) ...\\r'\n71. 'Selecting previously unselected package libmount-dev:amd64.\\r'\n72. 'Preparing to unpack .../12-libmount-dev_2.37.2-4ubuntu3_amd64.deb ...\\r'\n73. 'Unpacking libmount-dev:amd64 (2.37.2-4ubuntu3) ...\\r'\n74. 'Selecting previously unselected package libglib2.0-dev:amd64.\\r'\n75. 'Preparing to unpack .../13-libglib2.0-dev_2.72.4-0ubuntu2.2_amd64.deb ...\\r'\n76. 'Unpacking libglib2.0-dev:amd64 (2.72.4-0ubuntu2.2) ...\\r'\n77. 'Selecting previously unselected package libcairo2-dev:amd64.\\r'\n78. 'Preparing to unpack .../14-libcairo2-dev_1.16.0-5ubuntu2_amd64.deb ...\\r'\n79. 'Unpacking libcairo2-dev:amd64 (1.16.0-5ubuntu2) ...\\r'\n80. 'Setting up libglib2.0-dev-bin (2.72.4-0ubuntu2.2) ...\\r'\n81. 'Setting up libblkid-dev:amd64 (2.37.2-4ubuntu3) ...\\r'\n82. 'Setting up libpixman-1-dev:amd64 (0.40.0-1ubuntu0.22.04.1) ...\\r'\n83. 'Setting up libice-dev:amd64 (2:1.0.10-1build2) ...\\r'\n84. 'Setting up libsm-dev:amd64 (2:1.2.3-1build2) ...\\r'\n85. 'Setting up liblzo2-2:amd64 (2.10-2build3) ...\\r'\n86. 'Setting up libffi-dev:amd64 (3.4.2-4) ...\\r'\n87. 'Setting up libxcb-shm0-dev:amd64 (1.14-3ubuntu3) ...\\r'\n88. 'Setting up libsepol-dev:amd64 (3.3-1build1) ...\\r'\n89. 'Setting up libxcb-render0-dev:amd64 (1.14-3ubuntu3) ...\\r'\n90. 'Setting up libcairo-script-interpreter2:amd64 (1.16.0-5ubuntu2) ...\\r'\n91. 'Setting up libselinux1-dev:amd64 (3.3-1build2) ...\\r'\n92. 'Setting up libmount-dev:amd64 (2.37.2-4ubuntu3) ...\\r'\n93. 'Setting up libglib2.0-dev:amd64 (2.72.4-0ubuntu2.2) ...\\r'\n94. 'Processing triggers for libglib2.0-0:amd64 (2.72.4-0ubuntu2.2) ...\\r'\n95. 'Processing triggers for libc-bin (2.35-0ubuntu3.4) ...\\r'\n96. '/sbin/ldconfig.real: /usr/local/lib/libtbbmalloc_proxy.so.2 is not a symbolic link\\r'\n97. '\\r'\n98. '/sbin/ldconfig.real: /usr/local/lib/libtbbbind_2_5.so.3 is not a symbolic link\\r'\n99. '\\r'\n100. '/sbin/ldconfig.real: /usr/local/lib/libtbbbind_2_0.so.3 is not a symbolic link\\r'\n101. '\\r'\n102. '/sbin/ldconfig.real: /usr/local/lib/libtbbmalloc.so.2 is not a symbolic link\\r'\n103. '\\r'\n104. '/sbin/ldconfig.real: /usr/local/lib/libtbb.so.12 is not a symbolic link\\r'\n105. '\\r'\n106. '/sbin/ldconfig.real: /usr/local/lib/libtbbbind.so.3 is not a symbolic link\\r'\n107. '\\r'\n108. 'Processing triggers for man-db (2.10.2-1) ...\\r'\n109. 'Setting up libcairo2-dev:amd64 (1.16.0-5ubuntu2) ...\\r'\n\n\n",
            "text/latex": "\\begin{enumerate*}\n\\item 'Reading package lists...'\n\\item 'Building dependency tree...'\n\\item 'Reading state information...'\n\\item 'The following additional packages will be installed:'\n\\item '  libblkid-dev libcairo-script-interpreter2 libffi-dev libglib2.0-dev libglib2.0-dev-bin libice-dev'\n\\item '  liblzo2-2 libmount-dev libpixman-1-dev libselinux1-dev libsepol-dev libsm-dev libxcb-render0-dev'\n\\item '  libxcb-shm0-dev'\n\\item 'Suggested packages:'\n\\item '  libcairo2-doc libgirepository1.0-dev libglib2.0-doc libgdk-pixbuf2.0-bin \\textbar{} libgdk-pixbuf2.0-dev'\n\\item '  libxml2-utils libice-doc libsm-doc'\n\\item 'The following NEW packages will be installed:'\n\\item '  libblkid-dev libcairo-script-interpreter2 libcairo2-dev libffi-dev libglib2.0-dev'\n\\item '  libglib2.0-dev-bin libice-dev liblzo2-2 libmount-dev libpixman-1-dev libselinux1-dev libsepol-dev'\n\\item '  libsm-dev libxcb-render0-dev libxcb-shm0-dev'\n\\item '0 upgraded, 15 newly installed, 0 to remove and 29 not upgraded.'\n\\item 'Need to get 3,839 kB of archives.'\n\\item 'After this operation, 19.8 MB of additional disk space will be used.'\n\\item 'Get:1 http://archive.ubuntu.com/ubuntu jammy/main amd64 liblzo2-2 amd64 2.10-2build3 {[}53.7 kB{]}'\n\\item 'Get:2 http://archive.ubuntu.com/ubuntu jammy/main amd64 libcairo-script-interpreter2 amd64 1.16.0-5ubuntu2 {[}62.0 kB{]}'\n\\item 'Get:3 http://archive.ubuntu.com/ubuntu jammy/main amd64 libice-dev amd64 2:1.0.10-1build2 {[}51.4 kB{]}'\n\\item 'Get:4 http://archive.ubuntu.com/ubuntu jammy/main amd64 libsm-dev amd64 2:1.2.3-1build2 {[}18.1 kB{]}'\n\\item 'Get:5 http://archive.ubuntu.com/ubuntu jammy-updates/main amd64 libpixman-1-dev amd64 0.40.0-1ubuntu0.22.04.1 {[}280 kB{]}'\n\\item 'Get:6 http://archive.ubuntu.com/ubuntu jammy/main amd64 libxcb-render0-dev amd64 1.14-3ubuntu3 {[}19.6 kB{]}'\n\\item 'Get:7 http://archive.ubuntu.com/ubuntu jammy/main amd64 libxcb-shm0-dev amd64 1.14-3ubuntu3 {[}6,848 B{]}'\n\\item 'Get:8 http://archive.ubuntu.com/ubuntu jammy/main amd64 libffi-dev amd64 3.4.2-4 {[}63.7 kB{]}'\n\\item 'Get:9 http://archive.ubuntu.com/ubuntu jammy-updates/main amd64 libglib2.0-dev-bin amd64 2.72.4-0ubuntu2.2 {[}117 kB{]}'\n\\item 'Get:10 http://archive.ubuntu.com/ubuntu jammy/main amd64 libblkid-dev amd64 2.37.2-4ubuntu3 {[}185 kB{]}'\n\\item 'Get:11 http://archive.ubuntu.com/ubuntu jammy/main amd64 libsepol-dev amd64 3.3-1build1 {[}378 kB{]}'\n\\item 'Get:12 http://archive.ubuntu.com/ubuntu jammy/main amd64 libselinux1-dev amd64 3.3-1build2 {[}158 kB{]}'\n\\item 'Get:13 http://archive.ubuntu.com/ubuntu jammy/main amd64 libmount-dev amd64 2.37.2-4ubuntu3 {[}14.5 kB{]}'\n\\item 'Get:14 http://archive.ubuntu.com/ubuntu jammy-updates/main amd64 libglib2.0-dev amd64 2.72.4-0ubuntu2.2 {[}1,739 kB{]}'\n\\item 'Get:15 http://archive.ubuntu.com/ubuntu jammy/main amd64 libcairo2-dev amd64 1.16.0-5ubuntu2 {[}692 kB{]}'\n\\item 'Fetched 3,839 kB in 2s (1,567 kB/s)'\n\\item 'Selecting previously unselected package liblzo2-2:amd64.\\textbackslash{}r'\n\\item '(Reading database ... \\textbackslash{}r(Reading database ... 5\\%\\textbackslash{}r(Reading database ... 10\\%\\textbackslash{}r(Reading database ... 15\\%\\textbackslash{}r(Reading database ... 20\\%\\textbackslash{}r(Reading database ... 25\\%\\textbackslash{}r(Reading database ... 30\\%\\textbackslash{}r(Reading database ... 35\\%\\textbackslash{}r(Reading database ... 40\\%\\textbackslash{}r(Reading database ... 45\\%\\textbackslash{}r(Reading database ... 50\\%\\textbackslash{}r(Reading database ... 55\\%\\textbackslash{}r(Reading database ... 60\\%\\textbackslash{}r(Reading database ... 65\\%\\textbackslash{}r(Reading database ... 70\\%\\textbackslash{}r(Reading database ... 75\\%\\textbackslash{}r(Reading database ... 80\\%\\textbackslash{}r(Reading database ... 85\\%\\textbackslash{}r(Reading database ... 90\\%\\textbackslash{}r(Reading database ... 95\\%\\textbackslash{}r(Reading database ... 100\\%\\textbackslash{}r(Reading database ... 121658 files and directories currently installed.)\\textbackslash{}r'\n\\item 'Preparing to unpack .../00-liblzo2-2\\_2.10-2build3\\_amd64.deb ...\\textbackslash{}r'\n\\item 'Unpacking liblzo2-2:amd64 (2.10-2build3) ...\\textbackslash{}r'\n\\item 'Selecting previously unselected package libcairo-script-interpreter2:amd64.\\textbackslash{}r'\n\\item 'Preparing to unpack .../01-libcairo-script-interpreter2\\_1.16.0-5ubuntu2\\_amd64.deb ...\\textbackslash{}r'\n\\item 'Unpacking libcairo-script-interpreter2:amd64 (1.16.0-5ubuntu2) ...\\textbackslash{}r'\n\\item 'Selecting previously unselected package libice-dev:amd64.\\textbackslash{}r'\n\\item 'Preparing to unpack .../02-libice-dev\\_2\\%3a1.0.10-1build2\\_amd64.deb ...\\textbackslash{}r'\n\\item 'Unpacking libice-dev:amd64 (2:1.0.10-1build2) ...\\textbackslash{}r'\n\\item 'Selecting previously unselected package libsm-dev:amd64.\\textbackslash{}r'\n\\item 'Preparing to unpack .../03-libsm-dev\\_2\\%3a1.2.3-1build2\\_amd64.deb ...\\textbackslash{}r'\n\\item 'Unpacking libsm-dev:amd64 (2:1.2.3-1build2) ...\\textbackslash{}r'\n\\item 'Selecting previously unselected package libpixman-1-dev:amd64.\\textbackslash{}r'\n\\item 'Preparing to unpack .../04-libpixman-1-dev\\_0.40.0-1ubuntu0.22.04.1\\_amd64.deb ...\\textbackslash{}r'\n\\item 'Unpacking libpixman-1-dev:amd64 (0.40.0-1ubuntu0.22.04.1) ...\\textbackslash{}r'\n\\item 'Selecting previously unselected package libxcb-render0-dev:amd64.\\textbackslash{}r'\n\\item 'Preparing to unpack .../05-libxcb-render0-dev\\_1.14-3ubuntu3\\_amd64.deb ...\\textbackslash{}r'\n\\item 'Unpacking libxcb-render0-dev:amd64 (1.14-3ubuntu3) ...\\textbackslash{}r'\n\\item 'Selecting previously unselected package libxcb-shm0-dev:amd64.\\textbackslash{}r'\n\\item 'Preparing to unpack .../06-libxcb-shm0-dev\\_1.14-3ubuntu3\\_amd64.deb ...\\textbackslash{}r'\n\\item 'Unpacking libxcb-shm0-dev:amd64 (1.14-3ubuntu3) ...\\textbackslash{}r'\n\\item 'Selecting previously unselected package libffi-dev:amd64.\\textbackslash{}r'\n\\item 'Preparing to unpack .../07-libffi-dev\\_3.4.2-4\\_amd64.deb ...\\textbackslash{}r'\n\\item 'Unpacking libffi-dev:amd64 (3.4.2-4) ...\\textbackslash{}r'\n\\item 'Selecting previously unselected package libglib2.0-dev-bin.\\textbackslash{}r'\n\\item 'Preparing to unpack .../08-libglib2.0-dev-bin\\_2.72.4-0ubuntu2.2\\_amd64.deb ...\\textbackslash{}r'\n\\item 'Unpacking libglib2.0-dev-bin (2.72.4-0ubuntu2.2) ...\\textbackslash{}r'\n\\item 'Selecting previously unselected package libblkid-dev:amd64.\\textbackslash{}r'\n\\item 'Preparing to unpack .../09-libblkid-dev\\_2.37.2-4ubuntu3\\_amd64.deb ...\\textbackslash{}r'\n\\item 'Unpacking libblkid-dev:amd64 (2.37.2-4ubuntu3) ...\\textbackslash{}r'\n\\item 'Selecting previously unselected package libsepol-dev:amd64.\\textbackslash{}r'\n\\item 'Preparing to unpack .../10-libsepol-dev\\_3.3-1build1\\_amd64.deb ...\\textbackslash{}r'\n\\item 'Unpacking libsepol-dev:amd64 (3.3-1build1) ...\\textbackslash{}r'\n\\item 'Selecting previously unselected package libselinux1-dev:amd64.\\textbackslash{}r'\n\\item 'Preparing to unpack .../11-libselinux1-dev\\_3.3-1build2\\_amd64.deb ...\\textbackslash{}r'\n\\item 'Unpacking libselinux1-dev:amd64 (3.3-1build2) ...\\textbackslash{}r'\n\\item 'Selecting previously unselected package libmount-dev:amd64.\\textbackslash{}r'\n\\item 'Preparing to unpack .../12-libmount-dev\\_2.37.2-4ubuntu3\\_amd64.deb ...\\textbackslash{}r'\n\\item 'Unpacking libmount-dev:amd64 (2.37.2-4ubuntu3) ...\\textbackslash{}r'\n\\item 'Selecting previously unselected package libglib2.0-dev:amd64.\\textbackslash{}r'\n\\item 'Preparing to unpack .../13-libglib2.0-dev\\_2.72.4-0ubuntu2.2\\_amd64.deb ...\\textbackslash{}r'\n\\item 'Unpacking libglib2.0-dev:amd64 (2.72.4-0ubuntu2.2) ...\\textbackslash{}r'\n\\item 'Selecting previously unselected package libcairo2-dev:amd64.\\textbackslash{}r'\n\\item 'Preparing to unpack .../14-libcairo2-dev\\_1.16.0-5ubuntu2\\_amd64.deb ...\\textbackslash{}r'\n\\item 'Unpacking libcairo2-dev:amd64 (1.16.0-5ubuntu2) ...\\textbackslash{}r'\n\\item 'Setting up libglib2.0-dev-bin (2.72.4-0ubuntu2.2) ...\\textbackslash{}r'\n\\item 'Setting up libblkid-dev:amd64 (2.37.2-4ubuntu3) ...\\textbackslash{}r'\n\\item 'Setting up libpixman-1-dev:amd64 (0.40.0-1ubuntu0.22.04.1) ...\\textbackslash{}r'\n\\item 'Setting up libice-dev:amd64 (2:1.0.10-1build2) ...\\textbackslash{}r'\n\\item 'Setting up libsm-dev:amd64 (2:1.2.3-1build2) ...\\textbackslash{}r'\n\\item 'Setting up liblzo2-2:amd64 (2.10-2build3) ...\\textbackslash{}r'\n\\item 'Setting up libffi-dev:amd64 (3.4.2-4) ...\\textbackslash{}r'\n\\item 'Setting up libxcb-shm0-dev:amd64 (1.14-3ubuntu3) ...\\textbackslash{}r'\n\\item 'Setting up libsepol-dev:amd64 (3.3-1build1) ...\\textbackslash{}r'\n\\item 'Setting up libxcb-render0-dev:amd64 (1.14-3ubuntu3) ...\\textbackslash{}r'\n\\item 'Setting up libcairo-script-interpreter2:amd64 (1.16.0-5ubuntu2) ...\\textbackslash{}r'\n\\item 'Setting up libselinux1-dev:amd64 (3.3-1build2) ...\\textbackslash{}r'\n\\item 'Setting up libmount-dev:amd64 (2.37.2-4ubuntu3) ...\\textbackslash{}r'\n\\item 'Setting up libglib2.0-dev:amd64 (2.72.4-0ubuntu2.2) ...\\textbackslash{}r'\n\\item 'Processing triggers for libglib2.0-0:amd64 (2.72.4-0ubuntu2.2) ...\\textbackslash{}r'\n\\item 'Processing triggers for libc-bin (2.35-0ubuntu3.4) ...\\textbackslash{}r'\n\\item '/sbin/ldconfig.real: /usr/local/lib/libtbbmalloc\\_proxy.so.2 is not a symbolic link\\textbackslash{}r'\n\\item '\\textbackslash{}r'\n\\item '/sbin/ldconfig.real: /usr/local/lib/libtbbbind\\_2\\_5.so.3 is not a symbolic link\\textbackslash{}r'\n\\item '\\textbackslash{}r'\n\\item '/sbin/ldconfig.real: /usr/local/lib/libtbbbind\\_2\\_0.so.3 is not a symbolic link\\textbackslash{}r'\n\\item '\\textbackslash{}r'\n\\item '/sbin/ldconfig.real: /usr/local/lib/libtbbmalloc.so.2 is not a symbolic link\\textbackslash{}r'\n\\item '\\textbackslash{}r'\n\\item '/sbin/ldconfig.real: /usr/local/lib/libtbb.so.12 is not a symbolic link\\textbackslash{}r'\n\\item '\\textbackslash{}r'\n\\item '/sbin/ldconfig.real: /usr/local/lib/libtbbbind.so.3 is not a symbolic link\\textbackslash{}r'\n\\item '\\textbackslash{}r'\n\\item 'Processing triggers for man-db (2.10.2-1) ...\\textbackslash{}r'\n\\item 'Setting up libcairo2-dev:amd64 (1.16.0-5ubuntu2) ...\\textbackslash{}r'\n\\end{enumerate*}\n",
            "text/plain": [
              "  [1] \"Reading package lists...\"                                                                                                                                                                                                                                                                                                                                                                                                                                                                                                                                                                                                                                      \n",
              "  [2] \"Building dependency tree...\"                                                                                                                                                                                                                                                                                                                                                                                                                                                                                                                                                                                                                                   \n",
              "  [3] \"Reading state information...\"                                                                                                                                                                                                                                                                                                                                                                                                                                                                                                                                                                                                                                  \n",
              "  [4] \"The following additional packages will be installed:\"                                                                                                                                                                                                                                                                                                                                                                                                                                                                                                                                                                                                          \n",
              "  [5] \"  libblkid-dev libcairo-script-interpreter2 libffi-dev libglib2.0-dev libglib2.0-dev-bin libice-dev\"                                                                                                                                                                                                                                                                                                                                                                                                                                                                                                                                                           \n",
              "  [6] \"  liblzo2-2 libmount-dev libpixman-1-dev libselinux1-dev libsepol-dev libsm-dev libxcb-render0-dev\"                                                                                                                                                                                                                                                                                                                                                                                                                                                                                                                                                            \n",
              "  [7] \"  libxcb-shm0-dev\"                                                                                                                                                                                                                                                                                                                                                                                                                                                                                                                                                                                                                                             \n",
              "  [8] \"Suggested packages:\"                                                                                                                                                                                                                                                                                                                                                                                                                                                                                                                                                                                                                                           \n",
              "  [9] \"  libcairo2-doc libgirepository1.0-dev libglib2.0-doc libgdk-pixbuf2.0-bin | libgdk-pixbuf2.0-dev\"                                                                                                                                                                                                                                                                                                                                                                                                                                                                                                                                                             \n",
              " [10] \"  libxml2-utils libice-doc libsm-doc\"                                                                                                                                                                                                                                                                                                                                                                                                                                                                                                                                                                                                                          \n",
              " [11] \"The following NEW packages will be installed:\"                                                                                                                                                                                                                                                                                                                                                                                                                                                                                                                                                                                                                 \n",
              " [12] \"  libblkid-dev libcairo-script-interpreter2 libcairo2-dev libffi-dev libglib2.0-dev\"                                                                                                                                                                                                                                                                                                                                                                                                                                                                                                                                                                           \n",
              " [13] \"  libglib2.0-dev-bin libice-dev liblzo2-2 libmount-dev libpixman-1-dev libselinux1-dev libsepol-dev\"                                                                                                                                                                                                                                                                                                                                                                                                                                                                                                                                                           \n",
              " [14] \"  libsm-dev libxcb-render0-dev libxcb-shm0-dev\"                                                                                                                                                                                                                                                                                                                                                                                                                                                                                                                                                                                                                \n",
              " [15] \"0 upgraded, 15 newly installed, 0 to remove and 29 not upgraded.\"                                                                                                                                                                                                                                                                                                                                                                                                                                                                                                                                                                                              \n",
              " [16] \"Need to get 3,839 kB of archives.\"                                                                                                                                                                                                                                                                                                                                                                                                                                                                                                                                                                                                                             \n",
              " [17] \"After this operation, 19.8 MB of additional disk space will be used.\"                                                                                                                                                                                                                                                                                                                                                                                                                                                                                                                                                                                          \n",
              " [18] \"Get:1 http://archive.ubuntu.com/ubuntu jammy/main amd64 liblzo2-2 amd64 2.10-2build3 [53.7 kB]\"                                                                                                                                                                                                                                                                                                                                                                                                                                                                                                                                                                \n",
              " [19] \"Get:2 http://archive.ubuntu.com/ubuntu jammy/main amd64 libcairo-script-interpreter2 amd64 1.16.0-5ubuntu2 [62.0 kB]\"                                                                                                                                                                                                                                                                                                                                                                                                                                                                                                                                          \n",
              " [20] \"Get:3 http://archive.ubuntu.com/ubuntu jammy/main amd64 libice-dev amd64 2:1.0.10-1build2 [51.4 kB]\"                                                                                                                                                                                                                                                                                                                                                                                                                                                                                                                                                           \n",
              " [21] \"Get:4 http://archive.ubuntu.com/ubuntu jammy/main amd64 libsm-dev amd64 2:1.2.3-1build2 [18.1 kB]\"                                                                                                                                                                                                                                                                                                                                                                                                                                                                                                                                                             \n",
              " [22] \"Get:5 http://archive.ubuntu.com/ubuntu jammy-updates/main amd64 libpixman-1-dev amd64 0.40.0-1ubuntu0.22.04.1 [280 kB]\"                                                                                                                                                                                                                                                                                                                                                                                                                                                                                                                                        \n",
              " [23] \"Get:6 http://archive.ubuntu.com/ubuntu jammy/main amd64 libxcb-render0-dev amd64 1.14-3ubuntu3 [19.6 kB]\"                                                                                                                                                                                                                                                                                                                                                                                                                                                                                                                                                      \n",
              " [24] \"Get:7 http://archive.ubuntu.com/ubuntu jammy/main amd64 libxcb-shm0-dev amd64 1.14-3ubuntu3 [6,848 B]\"                                                                                                                                                                                                                                                                                                                                                                                                                                                                                                                                                         \n",
              " [25] \"Get:8 http://archive.ubuntu.com/ubuntu jammy/main amd64 libffi-dev amd64 3.4.2-4 [63.7 kB]\"                                                                                                                                                                                                                                                                                                                                                                                                                                                                                                                                                                    \n",
              " [26] \"Get:9 http://archive.ubuntu.com/ubuntu jammy-updates/main amd64 libglib2.0-dev-bin amd64 2.72.4-0ubuntu2.2 [117 kB]\"                                                                                                                                                                                                                                                                                                                                                                                                                                                                                                                                           \n",
              " [27] \"Get:10 http://archive.ubuntu.com/ubuntu jammy/main amd64 libblkid-dev amd64 2.37.2-4ubuntu3 [185 kB]\"                                                                                                                                                                                                                                                                                                                                                                                                                                                                                                                                                          \n",
              " [28] \"Get:11 http://archive.ubuntu.com/ubuntu jammy/main amd64 libsepol-dev amd64 3.3-1build1 [378 kB]\"                                                                                                                                                                                                                                                                                                                                                                                                                                                                                                                                                              \n",
              " [29] \"Get:12 http://archive.ubuntu.com/ubuntu jammy/main amd64 libselinux1-dev amd64 3.3-1build2 [158 kB]\"                                                                                                                                                                                                                                                                                                                                                                                                                                                                                                                                                           \n",
              " [30] \"Get:13 http://archive.ubuntu.com/ubuntu jammy/main amd64 libmount-dev amd64 2.37.2-4ubuntu3 [14.5 kB]\"                                                                                                                                                                                                                                                                                                                                                                                                                                                                                                                                                         \n",
              " [31] \"Get:14 http://archive.ubuntu.com/ubuntu jammy-updates/main amd64 libglib2.0-dev amd64 2.72.4-0ubuntu2.2 [1,739 kB]\"                                                                                                                                                                                                                                                                                                                                                                                                                                                                                                                                            \n",
              " [32] \"Get:15 http://archive.ubuntu.com/ubuntu jammy/main amd64 libcairo2-dev amd64 1.16.0-5ubuntu2 [692 kB]\"                                                                                                                                                                                                                                                                                                                                                                                                                                                                                                                                                         \n",
              " [33] \"Fetched 3,839 kB in 2s (1,567 kB/s)\"                                                                                                                                                                                                                                                                                                                                                                                                                                                                                                                                                                                                                           \n",
              " [34] \"Selecting previously unselected package liblzo2-2:amd64.\\r\"                                                                                                                                                                                                                                                                                                                                                                                                                                                                                                                                                                                                    \n",
              " [35] \"(Reading database ... \\r(Reading database ... 5%\\r(Reading database ... 10%\\r(Reading database ... 15%\\r(Reading database ... 20%\\r(Reading database ... 25%\\r(Reading database ... 30%\\r(Reading database ... 35%\\r(Reading database ... 40%\\r(Reading database ... 45%\\r(Reading database ... 50%\\r(Reading database ... 55%\\r(Reading database ... 60%\\r(Reading database ... 65%\\r(Reading database ... 70%\\r(Reading database ... 75%\\r(Reading database ... 80%\\r(Reading database ... 85%\\r(Reading database ... 90%\\r(Reading database ... 95%\\r(Reading database ... 100%\\r(Reading database ... 121658 files and directories currently installed.)\\r\"\n",
              " [36] \"Preparing to unpack .../00-liblzo2-2_2.10-2build3_amd64.deb ...\\r\"                                                                                                                                                                                                                                                                                                                                                                                                                                                                                                                                                                                             \n",
              " [37] \"Unpacking liblzo2-2:amd64 (2.10-2build3) ...\\r\"                                                                                                                                                                                                                                                                                                                                                                                                                                                                                                                                                                                                                \n",
              " [38] \"Selecting previously unselected package libcairo-script-interpreter2:amd64.\\r\"                                                                                                                                                                                                                                                                                                                                                                                                                                                                                                                                                                                 \n",
              " [39] \"Preparing to unpack .../01-libcairo-script-interpreter2_1.16.0-5ubuntu2_amd64.deb ...\\r\"                                                                                                                                                                                                                                                                                                                                                                                                                                                                                                                                                                       \n",
              " [40] \"Unpacking libcairo-script-interpreter2:amd64 (1.16.0-5ubuntu2) ...\\r\"                                                                                                                                                                                                                                                                                                                                                                                                                                                                                                                                                                                          \n",
              " [41] \"Selecting previously unselected package libice-dev:amd64.\\r\"                                                                                                                                                                                                                                                                                                                                                                                                                                                                                                                                                                                                   \n",
              " [42] \"Preparing to unpack .../02-libice-dev_2%3a1.0.10-1build2_amd64.deb ...\\r\"                                                                                                                                                                                                                                                                                                                                                                                                                                                                                                                                                                                      \n",
              " [43] \"Unpacking libice-dev:amd64 (2:1.0.10-1build2) ...\\r\"                                                                                                                                                                                                                                                                                                                                                                                                                                                                                                                                                                                                           \n",
              " [44] \"Selecting previously unselected package libsm-dev:amd64.\\r\"                                                                                                                                                                                                                                                                                                                                                                                                                                                                                                                                                                                                    \n",
              " [45] \"Preparing to unpack .../03-libsm-dev_2%3a1.2.3-1build2_amd64.deb ...\\r\"                                                                                                                                                                                                                                                                                                                                                                                                                                                                                                                                                                                        \n",
              " [46] \"Unpacking libsm-dev:amd64 (2:1.2.3-1build2) ...\\r\"                                                                                                                                                                                                                                                                                                                                                                                                                                                                                                                                                                                                             \n",
              " [47] \"Selecting previously unselected package libpixman-1-dev:amd64.\\r\"                                                                                                                                                                                                                                                                                                                                                                                                                                                                                                                                                                                              \n",
              " [48] \"Preparing to unpack .../04-libpixman-1-dev_0.40.0-1ubuntu0.22.04.1_amd64.deb ...\\r\"                                                                                                                                                                                                                                                                                                                                                                                                                                                                                                                                                                            \n",
              " [49] \"Unpacking libpixman-1-dev:amd64 (0.40.0-1ubuntu0.22.04.1) ...\\r\"                                                                                                                                                                                                                                                                                                                                                                                                                                                                                                                                                                                               \n",
              " [50] \"Selecting previously unselected package libxcb-render0-dev:amd64.\\r\"                                                                                                                                                                                                                                                                                                                                                                                                                                                                                                                                                                                           \n",
              " [51] \"Preparing to unpack .../05-libxcb-render0-dev_1.14-3ubuntu3_amd64.deb ...\\r\"                                                                                                                                                                                                                                                                                                                                                                                                                                                                                                                                                                                   \n",
              " [52] \"Unpacking libxcb-render0-dev:amd64 (1.14-3ubuntu3) ...\\r\"                                                                                                                                                                                                                                                                                                                                                                                                                                                                                                                                                                                                      \n",
              " [53] \"Selecting previously unselected package libxcb-shm0-dev:amd64.\\r\"                                                                                                                                                                                                                                                                                                                                                                                                                                                                                                                                                                                              \n",
              " [54] \"Preparing to unpack .../06-libxcb-shm0-dev_1.14-3ubuntu3_amd64.deb ...\\r\"                                                                                                                                                                                                                                                                                                                                                                                                                                                                                                                                                                                      \n",
              " [55] \"Unpacking libxcb-shm0-dev:amd64 (1.14-3ubuntu3) ...\\r\"                                                                                                                                                                                                                                                                                                                                                                                                                                                                                                                                                                                                         \n",
              " [56] \"Selecting previously unselected package libffi-dev:amd64.\\r\"                                                                                                                                                                                                                                                                                                                                                                                                                                                                                                                                                                                                   \n",
              " [57] \"Preparing to unpack .../07-libffi-dev_3.4.2-4_amd64.deb ...\\r\"                                                                                                                                                                                                                                                                                                                                                                                                                                                                                                                                                                                                 \n",
              " [58] \"Unpacking libffi-dev:amd64 (3.4.2-4) ...\\r\"                                                                                                                                                                                                                                                                                                                                                                                                                                                                                                                                                                                                                    \n",
              " [59] \"Selecting previously unselected package libglib2.0-dev-bin.\\r\"                                                                                                                                                                                                                                                                                                                                                                                                                                                                                                                                                                                                 \n",
              " [60] \"Preparing to unpack .../08-libglib2.0-dev-bin_2.72.4-0ubuntu2.2_amd64.deb ...\\r\"                                                                                                                                                                                                                                                                                                                                                                                                                                                                                                                                                                               \n",
              " [61] \"Unpacking libglib2.0-dev-bin (2.72.4-0ubuntu2.2) ...\\r\"                                                                                                                                                                                                                                                                                                                                                                                                                                                                                                                                                                                                        \n",
              " [62] \"Selecting previously unselected package libblkid-dev:amd64.\\r\"                                                                                                                                                                                                                                                                                                                                                                                                                                                                                                                                                                                                 \n",
              " [63] \"Preparing to unpack .../09-libblkid-dev_2.37.2-4ubuntu3_amd64.deb ...\\r\"                                                                                                                                                                                                                                                                                                                                                                                                                                                                                                                                                                                       \n",
              " [64] \"Unpacking libblkid-dev:amd64 (2.37.2-4ubuntu3) ...\\r\"                                                                                                                                                                                                                                                                                                                                                                                                                                                                                                                                                                                                          \n",
              " [65] \"Selecting previously unselected package libsepol-dev:amd64.\\r\"                                                                                                                                                                                                                                                                                                                                                                                                                                                                                                                                                                                                 \n",
              " [66] \"Preparing to unpack .../10-libsepol-dev_3.3-1build1_amd64.deb ...\\r\"                                                                                                                                                                                                                                                                                                                                                                                                                                                                                                                                                                                           \n",
              " [67] \"Unpacking libsepol-dev:amd64 (3.3-1build1) ...\\r\"                                                                                                                                                                                                                                                                                                                                                                                                                                                                                                                                                                                                              \n",
              " [68] \"Selecting previously unselected package libselinux1-dev:amd64.\\r\"                                                                                                                                                                                                                                                                                                                                                                                                                                                                                                                                                                                              \n",
              " [69] \"Preparing to unpack .../11-libselinux1-dev_3.3-1build2_amd64.deb ...\\r\"                                                                                                                                                                                                                                                                                                                                                                                                                                                                                                                                                                                        \n",
              " [70] \"Unpacking libselinux1-dev:amd64 (3.3-1build2) ...\\r\"                                                                                                                                                                                                                                                                                                                                                                                                                                                                                                                                                                                                           \n",
              " [71] \"Selecting previously unselected package libmount-dev:amd64.\\r\"                                                                                                                                                                                                                                                                                                                                                                                                                                                                                                                                                                                                 \n",
              " [72] \"Preparing to unpack .../12-libmount-dev_2.37.2-4ubuntu3_amd64.deb ...\\r\"                                                                                                                                                                                                                                                                                                                                                                                                                                                                                                                                                                                       \n",
              " [73] \"Unpacking libmount-dev:amd64 (2.37.2-4ubuntu3) ...\\r\"                                                                                                                                                                                                                                                                                                                                                                                                                                                                                                                                                                                                          \n",
              " [74] \"Selecting previously unselected package libglib2.0-dev:amd64.\\r\"                                                                                                                                                                                                                                                                                                                                                                                                                                                                                                                                                                                               \n",
              " [75] \"Preparing to unpack .../13-libglib2.0-dev_2.72.4-0ubuntu2.2_amd64.deb ...\\r\"                                                                                                                                                                                                                                                                                                                                                                                                                                                                                                                                                                                   \n",
              " [76] \"Unpacking libglib2.0-dev:amd64 (2.72.4-0ubuntu2.2) ...\\r\"                                                                                                                                                                                                                                                                                                                                                                                                                                                                                                                                                                                                      \n",
              " [77] \"Selecting previously unselected package libcairo2-dev:amd64.\\r\"                                                                                                                                                                                                                                                                                                                                                                                                                                                                                                                                                                                                \n",
              " [78] \"Preparing to unpack .../14-libcairo2-dev_1.16.0-5ubuntu2_amd64.deb ...\\r\"                                                                                                                                                                                                                                                                                                                                                                                                                                                                                                                                                                                      \n",
              " [79] \"Unpacking libcairo2-dev:amd64 (1.16.0-5ubuntu2) ...\\r\"                                                                                                                                                                                                                                                                                                                                                                                                                                                                                                                                                                                                         \n",
              " [80] \"Setting up libglib2.0-dev-bin (2.72.4-0ubuntu2.2) ...\\r\"                                                                                                                                                                                                                                                                                                                                                                                                                                                                                                                                                                                                       \n",
              " [81] \"Setting up libblkid-dev:amd64 (2.37.2-4ubuntu3) ...\\r\"                                                                                                                                                                                                                                                                                                                                                                                                                                                                                                                                                                                                         \n",
              " [82] \"Setting up libpixman-1-dev:amd64 (0.40.0-1ubuntu0.22.04.1) ...\\r\"                                                                                                                                                                                                                                                                                                                                                                                                                                                                                                                                                                                              \n",
              " [83] \"Setting up libice-dev:amd64 (2:1.0.10-1build2) ...\\r\"                                                                                                                                                                                                                                                                                                                                                                                                                                                                                                                                                                                                          \n",
              " [84] \"Setting up libsm-dev:amd64 (2:1.2.3-1build2) ...\\r\"                                                                                                                                                                                                                                                                                                                                                                                                                                                                                                                                                                                                            \n",
              " [85] \"Setting up liblzo2-2:amd64 (2.10-2build3) ...\\r\"                                                                                                                                                                                                                                                                                                                                                                                                                                                                                                                                                                                                               \n",
              " [86] \"Setting up libffi-dev:amd64 (3.4.2-4) ...\\r\"                                                                                                                                                                                                                                                                                                                                                                                                                                                                                                                                                                                                                   \n",
              " [87] \"Setting up libxcb-shm0-dev:amd64 (1.14-3ubuntu3) ...\\r\"                                                                                                                                                                                                                                                                                                                                                                                                                                                                                                                                                                                                        \n",
              " [88] \"Setting up libsepol-dev:amd64 (3.3-1build1) ...\\r\"                                                                                                                                                                                                                                                                                                                                                                                                                                                                                                                                                                                                             \n",
              " [89] \"Setting up libxcb-render0-dev:amd64 (1.14-3ubuntu3) ...\\r\"                                                                                                                                                                                                                                                                                                                                                                                                                                                                                                                                                                                                     \n",
              " [90] \"Setting up libcairo-script-interpreter2:amd64 (1.16.0-5ubuntu2) ...\\r\"                                                                                                                                                                                                                                                                                                                                                                                                                                                                                                                                                                                         \n",
              " [91] \"Setting up libselinux1-dev:amd64 (3.3-1build2) ...\\r\"                                                                                                                                                                                                                                                                                                                                                                                                                                                                                                                                                                                                          \n",
              " [92] \"Setting up libmount-dev:amd64 (2.37.2-4ubuntu3) ...\\r\"                                                                                                                                                                                                                                                                                                                                                                                                                                                                                                                                                                                                         \n",
              " [93] \"Setting up libglib2.0-dev:amd64 (2.72.4-0ubuntu2.2) ...\\r\"                                                                                                                                                                                                                                                                                                                                                                                                                                                                                                                                                                                                     \n",
              " [94] \"Processing triggers for libglib2.0-0:amd64 (2.72.4-0ubuntu2.2) ...\\r\"                                                                                                                                                                                                                                                                                                                                                                                                                                                                                                                                                                                          \n",
              " [95] \"Processing triggers for libc-bin (2.35-0ubuntu3.4) ...\\r\"                                                                                                                                                                                                                                                                                                                                                                                                                                                                                                                                                                                                      \n",
              " [96] \"/sbin/ldconfig.real: /usr/local/lib/libtbbmalloc_proxy.so.2 is not a symbolic link\\r\"                                                                                                                                                                                                                                                                                                                                                                                                                                                                                                                                                                          \n",
              " [97] \"\\r\"                                                                                                                                                                                                                                                                                                                                                                                                                                                                                                                                                                                                                                                            \n",
              " [98] \"/sbin/ldconfig.real: /usr/local/lib/libtbbbind_2_5.so.3 is not a symbolic link\\r\"                                                                                                                                                                                                                                                                                                                                                                                                                                                                                                                                                                              \n",
              " [99] \"\\r\"                                                                                                                                                                                                                                                                                                                                                                                                                                                                                                                                                                                                                                                            \n",
              "[100] \"/sbin/ldconfig.real: /usr/local/lib/libtbbbind_2_0.so.3 is not a symbolic link\\r\"                                                                                                                                                                                                                                                                                                                                                                                                                                                                                                                                                                              \n",
              "[101] \"\\r\"                                                                                                                                                                                                                                                                                                                                                                                                                                                                                                                                                                                                                                                            \n",
              "[102] \"/sbin/ldconfig.real: /usr/local/lib/libtbbmalloc.so.2 is not a symbolic link\\r\"                                                                                                                                                                                                                                                                                                                                                                                                                                                                                                                                                                                \n",
              "[103] \"\\r\"                                                                                                                                                                                                                                                                                                                                                                                                                                                                                                                                                                                                                                                            \n",
              "[104] \"/sbin/ldconfig.real: /usr/local/lib/libtbb.so.12 is not a symbolic link\\r\"                                                                                                                                                                                                                                                                                                                                                                                                                                                                                                                                                                                     \n",
              "[105] \"\\r\"                                                                                                                                                                                                                                                                                                                                                                                                                                                                                                                                                                                                                                                            \n",
              "[106] \"/sbin/ldconfig.real: /usr/local/lib/libtbbbind.so.3 is not a symbolic link\\r\"                                                                                                                                                                                                                                                                                                                                                                                                                                                                                                                                                                                  \n",
              "[107] \"\\r\"                                                                                                                                                                                                                                                                                                                                                                                                                                                                                                                                                                                                                                                            \n",
              "[108] \"Processing triggers for man-db (2.10.2-1) ...\\r\"                                                                                                                                                                                                                                                                                                                                                                                                                                                                                                                                                                                                               \n",
              "[109] \"Setting up libcairo2-dev:amd64 (1.16.0-5ubuntu2) ...\\r\"                                                                                                                                                                                                                                                                                                                                                                                                                                                                                                                                                                                                        "
            ]
          },
          "metadata": {}
        }
      ]
    },
    {
      "cell_type": "code",
      "source": [
        "install.packages(\"BiocManager\")"
      ],
      "metadata": {
        "colab": {
          "base_uri": "https://localhost:8080/"
        },
        "id": "5DebPJWITzjG",
        "outputId": "dbbe3803-2279-44b1-9128-59c77a081c2c"
      },
      "execution_count": 2,
      "outputs": [
        {
          "output_type": "stream",
          "name": "stderr",
          "text": [
            "Installing package into ‘/usr/local/lib/R/site-library’\n",
            "(as ‘lib’ is unspecified)\n",
            "\n"
          ]
        }
      ]
    },
    {
      "cell_type": "code",
      "execution_count": 3,
      "metadata": {
        "colab": {
          "base_uri": "https://localhost:8080/"
        },
        "id": "7wGau6mzq3nT",
        "outputId": "09870686-a070-4c97-f6f3-9ebede9b0f36"
      },
      "outputs": [
        {
          "output_type": "stream",
          "name": "stderr",
          "text": [
            "'getOption(\"repos\")' replaces Bioconductor standard repositories, see\n",
            "'help(\"repositories\", package = \"BiocManager\")' for details.\n",
            "Replacement repositories:\n",
            "    CRAN: https://cran.rstudio.com\n",
            "\n",
            "Bioconductor version 3.18 (BiocManager 1.30.22), R 4.3.2 (2023-10-31)\n",
            "\n",
            "Installing package(s) 'BiocVersion', 'Cairo', 'ggrastr', 'scater'\n",
            "\n",
            "also installing the dependencies ‘zlibbioc’, ‘bitops’, ‘formatR’, ‘XVector’, ‘sparseMatrixStats’, ‘RCurl’, ‘GenomeInfoDbData’, ‘abind’, ‘lambda.r’, ‘futile.options’, ‘sitmo’, ‘beeswarm’, ‘vipor’, ‘GenomicRanges’, ‘Rcpp’, ‘DelayedMatrixStats’, ‘Biobase’, ‘IRanges’, ‘GenomeInfoDb’, ‘S4Arrays’, ‘SparseArray’, ‘matrixStats’, ‘RcppHNSW’, ‘ScaledMatrix’, ‘irlba’, ‘rsvd’, ‘futile.logger’, ‘snow’, ‘BH’, ‘gridExtra’, ‘RcppEigen’, ‘FNN’, ‘RcppAnnoy’, ‘RcppProgress’, ‘dqrng’, ‘ggbeeswarm’, ‘png’, ‘SingleCellExperiment’, ‘scuttle’, ‘BiocGenerics’, ‘S4Vectors’, ‘SummarizedExperiment’, ‘DelayedArray’, ‘MatrixGenerics’, ‘beachmat’, ‘BiocNeighbors’, ‘BiocSingular’, ‘BiocParallel’, ‘viridis’, ‘Rtsne’, ‘RcppML’, ‘uwot’, ‘pheatmap’, ‘ggrepel’\n",
            "\n",
            "\n",
            "Old packages: 'bit', 'curl', 'DBI', 'devtools', 'digest', 'gargle', 'glue',\n",
            "  'highr', 'isoband', 'openssl', 'pkgload', 'ps', 'ragg', 'readr', 'reprex',\n",
            "  'rlang', 'roxygen2', 'textshaping', 'timechange', 'uuid', 'whisker', 'withr',\n",
            "  'boot', 'MASS', 'Matrix', 'nlme'\n",
            "\n"
          ]
        }
      ],
      "source": [
        "BiocManager::install(c(\"Cairo\", \"ggrastr\", \"scater\"))"
      ]
    },
    {
      "cell_type": "code",
      "source": [
        "BiocManager::install(\"CATALYST\")"
      ],
      "metadata": {
        "colab": {
          "base_uri": "https://localhost:8080/"
        },
        "id": "vTVy6NxX-zH4",
        "outputId": "8699c87d-2619-4600-de8a-770fb8a5e04e"
      },
      "execution_count": 4,
      "outputs": [
        {
          "output_type": "stream",
          "name": "stderr",
          "text": [
            "'getOption(\"repos\")' replaces Bioconductor standard repositories, see\n",
            "'help(\"repositories\", package = \"BiocManager\")' for details.\n",
            "Replacement repositories:\n",
            "    CRAN: https://cran.rstudio.com\n",
            "\n",
            "Bioconductor version 3.18 (BiocManager 1.30.22), R 4.3.2 (2023-10-31)\n",
            "\n",
            "Installing package(s) 'CATALYST'\n",
            "\n",
            "also installing the dependencies ‘numDeriv’, ‘SparseM’, ‘MatrixModels’, ‘minqa’, ‘nloptr’, ‘zoo’, ‘corrplot’, ‘rjson’, ‘iterators’, ‘carData’, ‘pbkrtest’, ‘quantreg’, ‘lme4’, ‘mvtnorm’, ‘TH.data’, ‘sandwich’, ‘Rhdf5lib’, ‘tweenr’, ‘polyclip’, ‘ggsci’, ‘ggsignif’, ‘polynom’, ‘rstatix’, ‘GlobalOptions’, ‘shape’, ‘GetoptLong’, ‘clue’, ‘foreach’, ‘doParallel’, ‘ALL’, ‘car’, ‘gtools’, ‘multcomp’, ‘plotrix’, ‘cytolib’, ‘RProtoBufLib’, ‘igraph’, ‘colorRamps’, ‘ggforce’, ‘ggnewscale’, ‘ggpubr’, ‘XML’, ‘plyr’, ‘circlize’, ‘ComplexHeatmap’, ‘ConsensusClusterPlus’, ‘cowplot’, ‘drc’, ‘flowCore’, ‘FlowSOM’, ‘ggridges’, ‘nnls’, ‘reshape2’\n",
            "\n",
            "\n",
            "Old packages: 'bit', 'curl', 'DBI', 'devtools', 'digest', 'gargle', 'glue',\n",
            "  'highr', 'isoband', 'openssl', 'pkgload', 'ps', 'ragg', 'readr', 'reprex',\n",
            "  'rlang', 'roxygen2', 'textshaping', 'timechange', 'uuid', 'whisker', 'withr',\n",
            "  'boot', 'MASS', 'Matrix', 'nlme'\n",
            "\n"
          ]
        }
      ]
    },
    {
      "cell_type": "code",
      "execution_count": 5,
      "metadata": {
        "id": "RgW8VCU3fkeY",
        "colab": {
          "base_uri": "https://localhost:8080/"
        },
        "outputId": "aa8b6929-29d5-45c0-cdc4-e206c5fe81a7"
      },
      "outputs": [
        {
          "output_type": "stream",
          "name": "stderr",
          "text": [
            "Loading required package: SingleCellExperiment\n",
            "\n",
            "Loading required package: SummarizedExperiment\n",
            "\n",
            "Loading required package: MatrixGenerics\n",
            "\n",
            "Loading required package: matrixStats\n",
            "\n",
            "\n",
            "Attaching package: ‘MatrixGenerics’\n",
            "\n",
            "\n",
            "The following objects are masked from ‘package:matrixStats’:\n",
            "\n",
            "    colAlls, colAnyNAs, colAnys, colAvgsPerRowSet, colCollapse,\n",
            "    colCounts, colCummaxs, colCummins, colCumprods, colCumsums,\n",
            "    colDiffs, colIQRDiffs, colIQRs, colLogSumExps, colMadDiffs,\n",
            "    colMads, colMaxs, colMeans2, colMedians, colMins, colOrderStats,\n",
            "    colProds, colQuantiles, colRanges, colRanks, colSdDiffs, colSds,\n",
            "    colSums2, colTabulates, colVarDiffs, colVars, colWeightedMads,\n",
            "    colWeightedMeans, colWeightedMedians, colWeightedSds,\n",
            "    colWeightedVars, rowAlls, rowAnyNAs, rowAnys, rowAvgsPerColSet,\n",
            "    rowCollapse, rowCounts, rowCummaxs, rowCummins, rowCumprods,\n",
            "    rowCumsums, rowDiffs, rowIQRDiffs, rowIQRs, rowLogSumExps,\n",
            "    rowMadDiffs, rowMads, rowMaxs, rowMeans2, rowMedians, rowMins,\n",
            "    rowOrderStats, rowProds, rowQuantiles, rowRanges, rowRanks,\n",
            "    rowSdDiffs, rowSds, rowSums2, rowTabulates, rowVarDiffs, rowVars,\n",
            "    rowWeightedMads, rowWeightedMeans, rowWeightedMedians,\n",
            "    rowWeightedSds, rowWeightedVars\n",
            "\n",
            "\n",
            "Loading required package: GenomicRanges\n",
            "\n",
            "Loading required package: stats4\n",
            "\n",
            "Loading required package: BiocGenerics\n",
            "\n",
            "\n",
            "Attaching package: ‘BiocGenerics’\n",
            "\n",
            "\n",
            "The following objects are masked from ‘package:stats’:\n",
            "\n",
            "    IQR, mad, sd, var, xtabs\n",
            "\n",
            "\n",
            "The following objects are masked from ‘package:base’:\n",
            "\n",
            "    anyDuplicated, aperm, append, as.data.frame, basename, cbind,\n",
            "    colnames, dirname, do.call, duplicated, eval, evalq, Filter, Find,\n",
            "    get, grep, grepl, intersect, is.unsorted, lapply, Map, mapply,\n",
            "    match, mget, order, paste, pmax, pmax.int, pmin, pmin.int,\n",
            "    Position, rank, rbind, Reduce, rownames, sapply, setdiff, sort,\n",
            "    table, tapply, union, unique, unsplit, which.max, which.min\n",
            "\n",
            "\n",
            "Loading required package: S4Vectors\n",
            "\n",
            "\n",
            "Attaching package: ‘S4Vectors’\n",
            "\n",
            "\n",
            "The following object is masked from ‘package:utils’:\n",
            "\n",
            "    findMatches\n",
            "\n",
            "\n",
            "The following objects are masked from ‘package:base’:\n",
            "\n",
            "    expand.grid, I, unname\n",
            "\n",
            "\n",
            "Loading required package: IRanges\n",
            "\n",
            "Loading required package: GenomeInfoDb\n",
            "\n",
            "Loading required package: Biobase\n",
            "\n",
            "Welcome to Bioconductor\n",
            "\n",
            "    Vignettes contain introductory material; view with\n",
            "    'browseVignettes()'. To cite Bioconductor, see\n",
            "    'citation(\"Biobase\")', and for packages 'citation(\"pkgname\")'.\n",
            "\n",
            "\n",
            "\n",
            "Attaching package: ‘Biobase’\n",
            "\n",
            "\n",
            "The following object is masked from ‘package:MatrixGenerics’:\n",
            "\n",
            "    rowMedians\n",
            "\n",
            "\n",
            "The following objects are masked from ‘package:matrixStats’:\n",
            "\n",
            "    anyMissing, rowMedians\n",
            "\n",
            "\n",
            "Loading required package: scuttle\n",
            "\n",
            "Loading required package: ggplot2\n",
            "\n"
          ]
        }
      ],
      "source": [
        "library(reshape2)\n",
        "library(CATALYST)\n",
        "library(scater)"
      ]
    },
    {
      "cell_type": "code",
      "execution_count": 6,
      "metadata": {
        "id": "ZB44exFDsXH4"
      },
      "outputs": [],
      "source": [
        "# Your ARI data\n",
        "ARI_data <- read.table(text = \"Method\tKlein\tRomanov\tChung\tPbmc\tBjörklund\tMouse\tZeisel\tPetropolus\tBrain_Mouse\tNeuron_5K\tBiase\tAdult_Mouse_Heart_5k\tHuman_TBNK_Antibody\tHuman_PBMCs_500\tAVG_Result\n",
        "scVAG\t0.863\t0.612\t0.365\t0.676\t0.82\t0.499\t0.578\t0.567\t0.814\t0.463\t1\t0.674\t0.763\t0.525\t0.659\n",
        "SC3\t0.831\t0.551\t0.025\t0.643\t0.721\t0.616\t0.822\t0.538\t0.754\t0.327\t0.948\t0.616\t0.502\t0.496\t0.599\n",
        "scGAC\t0.835\t0.569\t0.303\t0.613\t0.785\t0.393\t0.52\t0.439\t0.744\t0.385\t1\t0.654\t0.637\t0.47\t0.596\n",
        "scASGC\t0.801 0.454 0.301 0.664 0.336 0.521 0.829 0.12 0.662 0.359 1 0.588 0.641 0.747 0.573\n",
        "scGNN\t0.601\t0.283\t0.298\t0.562\t0.438\t0.362\t0.495\t0.282\t0.306\t0.236\t0.33\t0.489\t0.314\t0.317\t0.38\n",
        "Seurat\t0.836\t0.426\t0.209\t0.623\t0.587\t0.571\t0.494\t0.322\t0.41\t0.249\t1\t0.609\t0.733\t0.772\t0.56\n",
        "DESC\t0.808\t0.403\t0.215\t0.687\t0.412\t0.593\t0.473\t0.318\t0.535\t0.239\t0.594\t0.621\t0.535\t0.496\t0.495\", header = TRUE)"
      ]
    },
    {
      "cell_type": "code",
      "execution_count": 7,
      "metadata": {
        "id": "3zV0uhBAuZAk"
      },
      "outputs": [],
      "source": [
        "NMI_data <- read.table(text = \"Method\tKlein\tRomanov\tChung\tPbmc\tBjörklund\tMouse\tZeisel\tPetropolus\tBrain_Mouse\tNeuron_5K\tBiase\tAdult_Mouse_Heart_5k\tHuman_TBNK_Antibody\tHuman_PBMCs_500\tAVG_Result\n",
        "scVAG\t0.895\t0.567\t0.494\t0.78\t0.794\t0.708\t0.686\t0.655\t0.809\t0.49\t1\t0.819\t0.759\t0.637\t0.721\n",
        "SC3\t0.859\t0.53\t0.31\t0.737\t0.718\t0.757\t0.076\t0.627\t0.696\t0.315\t0.929\t0.705\t0.649\t0.648\t0.611\n",
        "scGAC\t0.856\t0.553\t0.446\t0.76\t0.742\t0.664\t0.624\t0.583\t0.708\t0.427\t1\t0.783\t0.736\t0.627\t0.679\n",
        "scASGC\t0.824 0.514 0.427 0.762 0.46 0.699 0.783 0.3 0.63 0.608 1 0.656 0.668 0.767 0.65\n",
        "scGNN\t0.68\t0.33\t0.469\t0.683\t0.547\t0.635\t0.635\t0.384\t0.486\t0.425\t0.443\t0.636\t0.508\t0.5\t0.526\n",
        "Seurat\t0.856\t0.641\t0.47\t0.746\t0.61\t0.762\t0.661\t0.523\t0.579\t0.324\t1\t0.738\t0.769\t0.801\t0.677\n",
        "DESC\t0.784\t0.589\t0.493\t0.757\t0.5\t0.752\t0.593\t0.555\t0.588\t0.364\t0.641\t0.734\t0.658\t0.605\t0.615\", header = TRUE)"
      ]
    },
    {
      "cell_type": "code",
      "source": [
        "# Reshape the data for plotting\n",
        "plot_data <- tidyr::gather(ARI_data, key = \"Datasets\", value = \"ARI\", -Method)\n",
        "\n",
        "# Manually set the order of levels for Datasets\n",
        "desired_order_datasets <- c (\"Chung\", \"Mouse\", \"Neuron_5K\", \"Human_PBMCs_500\" ,\"Petropolus\",\"Zeisel\", \"Romanov\", \"Pbmc\", \"Adult_Mouse_Heart_5k\", \"Human_TBNK_Antibody\", \"Björklund\",\"Brain_Mouse\", \"Klein\", \"Biase\" ,\"AVG_Result\")\n",
        "plot_data$Datasets <- factor(plot_data$Datasets, levels = desired_order_datasets)\n",
        "\n",
        "# Manually set the order of levels for Method\n",
        "desired_order_method <- c( \"scGNN\", \"DESC\",\"Seurat\", \"SC3\", \"scASGC\",\"scGAC\",\"scVAG\")\n",
        "plot_data$Method <- factor(plot_data$Method, levels = desired_order_method)\n",
        "\n",
        "# Create a dot plot using ggplot2 with squares as points\n",
        "library(ggplot2)\n",
        "\n",
        "plot1 <- ggplot(plot_data, aes(x = Datasets, y = Method, col = ARI, size = ARI)) +\n",
        "  geom_point(shape = 15) +  # Use shape = 15 for squares\n",
        "  scale_color_gradientn(\"ARI\", breaks = seq(0, 1, 0.1), colors = viridis::viridis(100000)) +  # Adjust the color scale\n",
        "  scale_size_continuous(range = c(0, 5),\n",
        "                         labels = formatC(seq(0, 1, 0.25), 2, format = \"f\")) +\n",
        "  guides(\n",
        "    color = guide_colorbar(order = 1),\n",
        "    size = guide_legend(\"% cells with expr. above\\n global marker median\")\n",
        "  ) +\n",
        "  coord_equal() +\n",
        "  theme_linedraw() +\n",
        "  theme(\n",
        "    panel.grid = element_blank(),\n",
        "    panel.border = element_rect(color = \"black\", fill = NA),  # Add border to the panel\n",
        "    axis.text.x = element_text(angle = 45, hjust = 1)\n",
        "  )\n",
        "\n",
        "# Save the plot in SVG format with full resolution\n",
        "ggsave(filename = \"ARI_Dot.svg\", plot = plot1, device = \"svg\", dpi = 500)"
      ],
      "metadata": {
        "colab": {
          "base_uri": "https://localhost:8080/"
        },
        "id": "Zq6cRkwvRCPm",
        "outputId": "7e0e3259-2fa9-4f1e-af2c-cfa709433b32"
      },
      "execution_count": 8,
      "outputs": [
        {
          "output_type": "stream",
          "name": "stderr",
          "text": [
            "\u001b[1m\u001b[22mSaving 6.67 x 6.67 in image\n"
          ]
        }
      ]
    },
    {
      "cell_type": "code",
      "source": [
        "# Reshape the data for plotting\n",
        "plot_data <- tidyr::gather(NMI_data, key = \"Datasets\", value = \"NMI\", -Method)\n",
        "\n",
        "# Manually set the order of levels for Datasets\n",
        "desired_order_datasets <- c (\"Chung\", \"Mouse\", \"Neuron_5K\", \"Human_PBMCs_500\" ,\"Petropolus\",\"Zeisel\", \"Romanov\", \"Pbmc\", \"Adult_Mouse_Heart_5k\", \"Human_TBNK_Antibody\", \"Björklund\",\"Brain_Mouse\", \"Klein\", \"Biase\" ,\"AVG_Result\")\n",
        "plot_data$Datasets <- factor(plot_data$Datasets, levels = desired_order_datasets)\n",
        "\n",
        "# Manually set the order of levels for Method\n",
        "desired_order_method <- c( \"scGNN\", \"DESC\",\"Seurat\", \"SC3\", \"scASGC\",\"scGAC\",\"scVAG\")\n",
        "plot_data$Method <- factor(plot_data$Method, levels = desired_order_method)\n",
        "\n",
        "# Create a dot plot using ggplot2 with squares as points\n",
        "library(ggplot2)\n",
        "\n",
        "plot1 <- ggplot(plot_data, aes(x = Datasets, y = Method, col = NMI, size = NMI)) +\n",
        "  geom_point(shape = 15) +  # Use shape = 15 for squares\n",
        "  scale_color_gradientn(\"NMI\", breaks = seq(0, 1, 0.1), colors = viridis::viridis(100000)) +  # Adjust the color scale\n",
        "  scale_size_continuous(range = c(0, 5),\n",
        "                         labels = formatC(seq(0, 1, 0.25), 2, format = \"f\")) +\n",
        "  guides(\n",
        "    color = guide_colorbar(order = 1),\n",
        "    size = guide_legend(\"% cells with expr. above\\n global marker median\")\n",
        "  ) +\n",
        "  coord_equal() +\n",
        "  theme_linedraw() +\n",
        "  theme(\n",
        "    panel.grid = element_blank(),\n",
        "    panel.border = element_rect(color = \"black\", fill = NA),  # Add border to the panel\n",
        "    axis.text.x = element_text(angle = 45, hjust = 1)\n",
        "  )\n",
        "\n",
        "# Save the plot in SVG format with full resolution\n",
        "ggsave(filename = \"NMI_Dot.svg\", plot = plot1, device = \"svg\", dpi = 500)"
      ],
      "metadata": {
        "colab": {
          "base_uri": "https://localhost:8080/"
        },
        "id": "2rhF87xBEVRG",
        "outputId": "d67e4272-b9c9-4016-c63f-fdf7f1f05bde"
      },
      "execution_count": 9,
      "outputs": [
        {
          "output_type": "stream",
          "name": "stderr",
          "text": [
            "\u001b[1m\u001b[22mSaving 6.67 x 6.67 in image\n"
          ]
        }
      ]
    },
    {
      "cell_type": "code",
      "execution_count": 13,
      "metadata": {
        "colab": {
          "base_uri": "https://localhost:8080/"
        },
        "id": "_w5pMIx3wzO4",
        "outputId": "cfd027d4-9621-425b-9245-a19a330aa03d"
      },
      "outputs": [
        {
          "output_type": "stream",
          "name": "stderr",
          "text": [
            "\u001b[1m\u001b[22mSaving 6.67 x 6.67 in image\n"
          ]
        }
      ],
      "source": [
        "# Reshape the data for plotting\n",
        "library(tidyr)\n",
        "plot_data <- tidyr::gather(ARI_data, key = \"Datasets\", value = \"ARI\", -Method)\n",
        "\n",
        "# Manually re-order the levels of Method to swap scVAG and Seurat\n",
        "plot_data$Method <- factor(plot_data$Method, levels = c(\"SC3\", \"scGNN\", \"DESC\", \"scASGC\", \"Seurat\", \"scGAC\",\"scVAG\"))\n",
        "# Manually set the order of levels for Datasets\n",
        "desired_order <- c(\"Chung\", \"Mouse\", \"Neuron_5K\", \"Human_PBMCs_500\" ,\"Petropolus\",\"Zeisel\", \"Romanov\", \"Pbmc\", \"Adult_Mouse_Heart_5k\", \"Human_TBNK_Antibody\", \"Björklund\",\"Brain_Mouse\", \"Klein\", \"Biase\" ,\"AVG_Result\")\n",
        "plot_data$Datasets <- factor(plot_data$Datasets, levels = desired_order)\n",
        "\n",
        "# Create an enhanced heatmap-like plot with ggplot2\n",
        "library(ggplot2)\n",
        "\n",
        "plot3 <- ggplot(plot_data, aes(x = Method, y = Datasets, fill = ARI)) +\n",
        "  geom_tile(color = \"white\") +\n",
        "  scale_fill_gradient2(name = \"ARI\", breaks = seq(0, 1, 0.1),\n",
        "                       low = \"blue\", mid = \"white\", high = \"red\",\n",
        "                       midpoint = 0.5, guide = \"colorbar\") +\n",
        "  geom_text(aes(label = sprintf(\"%.2f\", ARI)), vjust = 1) +\n",
        "  theme_minimal() +\n",
        "  theme(\n",
        "    axis.text.x = element_text(angle = 45, hjust = 1),\n",
        "    axis.title.x = element_blank(),\n",
        "    legend.position = \"right\",\n",
        "    panel.grid = element_blank(),\n",
        "    panel.border = element_rect(color = \"black\", fill = NA, size = 0.5)\n",
        "  )\n",
        "ggsave(filename = \"ARI_hit.svg\", plot = plot3, device = \"svg\", dpi = 500)"
      ]
    },
    {
      "cell_type": "code",
      "source": [
        "# Reshape the data for plotting\n",
        "library(tidyr)\n",
        "plot_data <- tidyr::gather(NMI_data, key = \"Datasets\", value = \"NMI\", -Method)\n",
        "\n",
        "# Manually re-order the levels of Method to swap scVAG and Seurat\n",
        "plot_data$Method <- factor(plot_data$Method, levels = c(\"SC3\", \"scGNN\", \"DESC\", \"scASGC\", \"Seurat\", \"scGAC\",\"scVAG\"))\n",
        "# Manually set the order of levels for Datasets\n",
        "desired_order <- c(\"Chung\", \"Mouse\", \"Neuron_5K\", \"Human_PBMCs_500\" ,\"Petropolus\",\"Zeisel\", \"Romanov\", \"Pbmc\", \"Adult_Mouse_Heart_5k\", \"Human_TBNK_Antibody\", \"Björklund\",\"Brain_Mouse\", \"Klein\", \"Biase\" ,\"AVG_Result\")\n",
        "plot_data$Datasets <- factor(plot_data$Datasets, levels = desired_order)\n",
        "\n",
        "# Create an enhanced heatmap-like plot with ggplot2\n",
        "library(ggplot2)\n",
        "\n",
        "plot3 <- ggplot(plot_data, aes(x = Method, y = Datasets, fill = NMI)) +\n",
        "  geom_tile(color = \"white\") +\n",
        "  scale_fill_gradient2(name = \"NMI\", breaks = seq(0, 1, 0.1),\n",
        "                       low = \"blue\", mid = \"white\", high = \"red\",\n",
        "                       midpoint = 0.5, guide = \"colorbar\") +\n",
        "  geom_text(aes(label = sprintf(\"%.2f\", NMI)), vjust = 1) +\n",
        "  theme_minimal() +\n",
        "  theme(\n",
        "    axis.text.x = element_text(angle = 45, hjust = 1),\n",
        "    axis.title.x = element_blank(),\n",
        "    legend.position = \"right\",\n",
        "    panel.grid = element_blank(),\n",
        "    panel.border = element_rect(color = \"black\", fill = NA, size = 0.5)\n",
        "  )\n",
        "ggsave(filename = \"NMI_hit.svg\", plot = plot3, device = \"svg\", dpi = 500)"
      ],
      "metadata": {
        "colab": {
          "base_uri": "https://localhost:8080/"
        },
        "id": "i7swlb-C_tYi",
        "outputId": "5c6991ff-06d6-41ac-9b26-b70d4bee427e"
      },
      "execution_count": 11,
      "outputs": [
        {
          "output_type": "stream",
          "name": "stderr",
          "text": [
            "\u001b[1m\u001b[22mSaving 6.67 x 6.67 in image\n"
          ]
        }
      ]
    },
    {
      "cell_type": "code",
      "source": [],
      "metadata": {
        "id": "Naeo6TyKH4Oh"
      },
      "execution_count": 12,
      "outputs": []
    }
  ],
  "metadata": {
    "colab": {
      "provenance": []
    },
    "kernelspec": {
      "display_name": "R",
      "name": "ir"
    },
    "language_info": {
      "name": "R"
    }
  },
  "nbformat": 4,
  "nbformat_minor": 0
}