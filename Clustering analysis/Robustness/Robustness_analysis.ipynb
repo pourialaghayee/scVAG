{
  "cells": [
    {
      "cell_type": "code",
      "source": [
        "system(\"apt-get install libcairo2-dev\", intern = TRUE)"
      ],
      "metadata": {
        "id": "4pvJzivR-gG4",
        "colab": {
          "base_uri": "https://localhost:8080/",
          "height": 34
        },
        "outputId": "42c50f1c-3697-4530-9708-4aa11cd1c403"
      },
      "execution_count": 1,
      "outputs": [
        {
          "output_type": "display_data",
          "data": {
            "text/html": [
              "<style>\n",
              ".list-inline {list-style: none; margin:0; padding: 0}\n",
              ".list-inline>li {display: inline-block}\n",
              ".list-inline>li:not(:last-child)::after {content: \"\\00b7\"; padding: 0 .5ex}\n",
              "</style>\n",
              "<ol class=list-inline><li>'Reading package lists...'</li><li>'Building dependency tree...'</li><li>'Reading state information...'</li><li>'libcairo2-dev is already the newest version (1.16.0-5ubuntu2).'</li><li>'0 upgraded, 0 newly installed, 0 to remove and 24 not upgraded.'</li></ol>\n"
            ],
            "text/markdown": "1. 'Reading package lists...'\n2. 'Building dependency tree...'\n3. 'Reading state information...'\n4. 'libcairo2-dev is already the newest version (1.16.0-5ubuntu2).'\n5. '0 upgraded, 0 newly installed, 0 to remove and 24 not upgraded.'\n\n\n",
            "text/latex": "\\begin{enumerate*}\n\\item 'Reading package lists...'\n\\item 'Building dependency tree...'\n\\item 'Reading state information...'\n\\item 'libcairo2-dev is already the newest version (1.16.0-5ubuntu2).'\n\\item '0 upgraded, 0 newly installed, 0 to remove and 24 not upgraded.'\n\\end{enumerate*}\n",
            "text/plain": [
              "[1] \"Reading package lists...\"                                       \n",
              "[2] \"Building dependency tree...\"                                    \n",
              "[3] \"Reading state information...\"                                   \n",
              "[4] \"libcairo2-dev is already the newest version (1.16.0-5ubuntu2).\" \n",
              "[5] \"0 upgraded, 0 newly installed, 0 to remove and 24 not upgraded.\""
            ]
          },
          "metadata": {}
        }
      ]
    },
    {
      "cell_type": "code",
      "source": [
        "install.packages(\"BiocManager\")"
      ],
      "metadata": {
        "colab": {
          "base_uri": "https://localhost:8080/"
        },
        "id": "5DebPJWITzjG",
        "outputId": "299e3d0e-878f-4414-94e0-b750bafa4bb3"
      },
      "execution_count": 3,
      "outputs": [
        {
          "output_type": "stream",
          "name": "stderr",
          "text": [
            "Installing package into ‘/usr/local/lib/R/site-library’\n",
            "(as ‘lib’ is unspecified)\n",
            "\n"
          ]
        }
      ]
    },
    {
      "cell_type": "code",
      "execution_count": 4,
      "metadata": {
        "colab": {
          "base_uri": "https://localhost:8080/"
        },
        "id": "7wGau6mzq3nT",
        "outputId": "a37a6f2e-a5e7-40ce-cf02-145691c381c7"
      },
      "outputs": [
        {
          "output_type": "stream",
          "name": "stderr",
          "text": [
            "'getOption(\"repos\")' replaces Bioconductor standard repositories, see\n",
            "'help(\"repositories\", package = \"BiocManager\")' for details.\n",
            "Replacement repositories:\n",
            "    CRAN: https://cran.rstudio.com\n",
            "\n",
            "Bioconductor version 3.18 (BiocManager 1.30.22), R 4.3.2 (2023-10-31)\n",
            "\n",
            "Installing package(s) 'BiocVersion', 'Cairo', 'ggrastr', 'scater'\n",
            "\n",
            "also installing the dependencies ‘zlibbioc’, ‘bitops’, ‘formatR’, ‘XVector’, ‘sparseMatrixStats’, ‘RCurl’, ‘GenomeInfoDbData’, ‘abind’, ‘lambda.r’, ‘futile.options’, ‘sitmo’, ‘beeswarm’, ‘vipor’, ‘GenomicRanges’, ‘Rcpp’, ‘DelayedMatrixStats’, ‘Biobase’, ‘IRanges’, ‘GenomeInfoDb’, ‘S4Arrays’, ‘SparseArray’, ‘matrixStats’, ‘RcppHNSW’, ‘ScaledMatrix’, ‘irlba’, ‘rsvd’, ‘futile.logger’, ‘snow’, ‘BH’, ‘gridExtra’, ‘RcppEigen’, ‘FNN’, ‘RcppAnnoy’, ‘RcppProgress’, ‘dqrng’, ‘ggbeeswarm’, ‘png’, ‘SingleCellExperiment’, ‘scuttle’, ‘BiocGenerics’, ‘S4Vectors’, ‘SummarizedExperiment’, ‘DelayedArray’, ‘MatrixGenerics’, ‘beachmat’, ‘BiocNeighbors’, ‘BiocSingular’, ‘BiocParallel’, ‘viridis’, ‘Rtsne’, ‘RcppML’, ‘uwot’, ‘pheatmap’, ‘ggrepel’\n",
            "\n",
            "\n",
            "Old packages: 'bit', 'brew', 'brio', 'cli', 'curl', 'data.table', 'DBI',\n",
            "  'desc', 'devtools', 'gargle', 'highr', 'isoband', 'openssl', 'pkgbuild',\n",
            "  'processx', 'ragg', 'roxygen2', 'stringi', 'svglite', 'textshaping',\n",
            "  'whisker', 'yaml', 'boot', 'cluster', 'mgcv', 'nlme'\n",
            "\n"
          ]
        }
      ],
      "source": [
        "BiocManager::install(c(\"Cairo\", \"ggrastr\", \"scater\"))"
      ]
    },
    {
      "cell_type": "code",
      "source": [
        "BiocManager::install(\"CATALYST\")"
      ],
      "metadata": {
        "colab": {
          "base_uri": "https://localhost:8080/"
        },
        "id": "vTVy6NxX-zH4",
        "outputId": "198e3f92-7483-4f9b-df11-19747101d1ea"
      },
      "execution_count": 5,
      "outputs": [
        {
          "output_type": "stream",
          "name": "stderr",
          "text": [
            "'getOption(\"repos\")' replaces Bioconductor standard repositories, see\n",
            "'help(\"repositories\", package = \"BiocManager\")' for details.\n",
            "Replacement repositories:\n",
            "    CRAN: https://cran.rstudio.com\n",
            "\n",
            "Bioconductor version 3.18 (BiocManager 1.30.22), R 4.3.2 (2023-10-31)\n",
            "\n",
            "Installing package(s) 'CATALYST'\n",
            "\n",
            "also installing the dependencies ‘numDeriv’, ‘SparseM’, ‘MatrixModels’, ‘minqa’, ‘nloptr’, ‘zoo’, ‘corrplot’, ‘rjson’, ‘iterators’, ‘carData’, ‘pbkrtest’, ‘quantreg’, ‘lme4’, ‘mvtnorm’, ‘TH.data’, ‘sandwich’, ‘Rhdf5lib’, ‘tweenr’, ‘polyclip’, ‘ggsci’, ‘ggsignif’, ‘polynom’, ‘rstatix’, ‘GlobalOptions’, ‘shape’, ‘GetoptLong’, ‘clue’, ‘foreach’, ‘doParallel’, ‘ALL’, ‘car’, ‘gtools’, ‘multcomp’, ‘plotrix’, ‘cytolib’, ‘RProtoBufLib’, ‘igraph’, ‘colorRamps’, ‘ggforce’, ‘ggnewscale’, ‘ggpubr’, ‘XML’, ‘plyr’, ‘circlize’, ‘ComplexHeatmap’, ‘ConsensusClusterPlus’, ‘cowplot’, ‘drc’, ‘flowCore’, ‘FlowSOM’, ‘ggridges’, ‘nnls’, ‘reshape2’\n",
            "\n",
            "\n",
            "Old packages: 'bit', 'brew', 'brio', 'cli', 'curl', 'data.table', 'DBI',\n",
            "  'desc', 'devtools', 'gargle', 'highr', 'isoband', 'openssl', 'pkgbuild',\n",
            "  'processx', 'ragg', 'roxygen2', 'stringi', 'svglite', 'textshaping',\n",
            "  'whisker', 'yaml', 'boot', 'cluster', 'mgcv', 'nlme'\n",
            "\n"
          ]
        }
      ]
    },
    {
      "cell_type": "code",
      "execution_count": 6,
      "metadata": {
        "id": "RgW8VCU3fkeY",
        "colab": {
          "base_uri": "https://localhost:8080/"
        },
        "outputId": "2ae455e0-94c2-4cc6-d456-8d8831d11ca7"
      },
      "outputs": [
        {
          "output_type": "stream",
          "name": "stderr",
          "text": [
            "Loading required package: SingleCellExperiment\n",
            "\n",
            "Loading required package: SummarizedExperiment\n",
            "\n",
            "Loading required package: MatrixGenerics\n",
            "\n",
            "Loading required package: matrixStats\n",
            "\n",
            "\n",
            "Attaching package: ‘MatrixGenerics’\n",
            "\n",
            "\n",
            "The following objects are masked from ‘package:matrixStats’:\n",
            "\n",
            "    colAlls, colAnyNAs, colAnys, colAvgsPerRowSet, colCollapse,\n",
            "    colCounts, colCummaxs, colCummins, colCumprods, colCumsums,\n",
            "    colDiffs, colIQRDiffs, colIQRs, colLogSumExps, colMadDiffs,\n",
            "    colMads, colMaxs, colMeans2, colMedians, colMins, colOrderStats,\n",
            "    colProds, colQuantiles, colRanges, colRanks, colSdDiffs, colSds,\n",
            "    colSums2, colTabulates, colVarDiffs, colVars, colWeightedMads,\n",
            "    colWeightedMeans, colWeightedMedians, colWeightedSds,\n",
            "    colWeightedVars, rowAlls, rowAnyNAs, rowAnys, rowAvgsPerColSet,\n",
            "    rowCollapse, rowCounts, rowCummaxs, rowCummins, rowCumprods,\n",
            "    rowCumsums, rowDiffs, rowIQRDiffs, rowIQRs, rowLogSumExps,\n",
            "    rowMadDiffs, rowMads, rowMaxs, rowMeans2, rowMedians, rowMins,\n",
            "    rowOrderStats, rowProds, rowQuantiles, rowRanges, rowRanks,\n",
            "    rowSdDiffs, rowSds, rowSums2, rowTabulates, rowVarDiffs, rowVars,\n",
            "    rowWeightedMads, rowWeightedMeans, rowWeightedMedians,\n",
            "    rowWeightedSds, rowWeightedVars\n",
            "\n",
            "\n",
            "Loading required package: GenomicRanges\n",
            "\n",
            "Loading required package: stats4\n",
            "\n",
            "Loading required package: BiocGenerics\n",
            "\n",
            "\n",
            "Attaching package: ‘BiocGenerics’\n",
            "\n",
            "\n",
            "The following objects are masked from ‘package:stats’:\n",
            "\n",
            "    IQR, mad, sd, var, xtabs\n",
            "\n",
            "\n",
            "The following objects are masked from ‘package:base’:\n",
            "\n",
            "    anyDuplicated, aperm, append, as.data.frame, basename, cbind,\n",
            "    colnames, dirname, do.call, duplicated, eval, evalq, Filter, Find,\n",
            "    get, grep, grepl, intersect, is.unsorted, lapply, Map, mapply,\n",
            "    match, mget, order, paste, pmax, pmax.int, pmin, pmin.int,\n",
            "    Position, rank, rbind, Reduce, rownames, sapply, setdiff, sort,\n",
            "    table, tapply, union, unique, unsplit, which.max, which.min\n",
            "\n",
            "\n",
            "Loading required package: S4Vectors\n",
            "\n",
            "\n",
            "Attaching package: ‘S4Vectors’\n",
            "\n",
            "\n",
            "The following object is masked from ‘package:utils’:\n",
            "\n",
            "    findMatches\n",
            "\n",
            "\n",
            "The following objects are masked from ‘package:base’:\n",
            "\n",
            "    expand.grid, I, unname\n",
            "\n",
            "\n",
            "Loading required package: IRanges\n",
            "\n",
            "Loading required package: GenomeInfoDb\n",
            "\n",
            "Loading required package: Biobase\n",
            "\n",
            "Welcome to Bioconductor\n",
            "\n",
            "    Vignettes contain introductory material; view with\n",
            "    'browseVignettes()'. To cite Bioconductor, see\n",
            "    'citation(\"Biobase\")', and for packages 'citation(\"pkgname\")'.\n",
            "\n",
            "\n",
            "\n",
            "Attaching package: ‘Biobase’\n",
            "\n",
            "\n",
            "The following object is masked from ‘package:MatrixGenerics’:\n",
            "\n",
            "    rowMedians\n",
            "\n",
            "\n",
            "The following objects are masked from ‘package:matrixStats’:\n",
            "\n",
            "    anyMissing, rowMedians\n",
            "\n",
            "\n",
            "Loading required package: scuttle\n",
            "\n",
            "Loading required package: ggplot2\n",
            "\n"
          ]
        }
      ],
      "source": [
        "library(reshape2)\n",
        "library(CATALYST)\n",
        "library(scater)"
      ]
    },
    {
      "cell_type": "code",
      "execution_count": 7,
      "metadata": {
        "id": "ZB44exFDsXH4"
      },
      "outputs": [],
      "source": [
        "# Your ARI data\n",
        "ARI_data <- read.table(text = \"Method\tKlein\tRomanov\tChung\tPbmc\tBjörklund\tMouse\tZeisel\tPetropolus\tBrain_Mouse\tNeuron_5K\tBiase\tAdult_Mouse_Heart_5k\tHuman_TBNK_Antibody\tHuman_PBMCs_500\tAVG_Result\n",
        "scVAG\t0.863\t0.612\t0.365\t0.676\t0.82\t0.499\t0.578\t0.567\t0.814\t0.463\t1\t0.674\t0.763\t0.525\t0.659\n",
        "SC3\t0.831\t0.551\t0.025\t0.643\t0.721\t0.616\t0.822\t0.538\t0.754\t0.327\t0.948\t0.616\t0.502\t0.496\t0.599\n",
        "scGAC\t0.835\t0.569\t0.303\t0.613\t0.785\t0.393\t0.52\t0.439\t0.744\t0.385\t1\t0.654\t0.637\t0.47\t0.596\n",
        "scGNN\t0.601\t0.283\t0.298\t0.562\t0.438\t0.362\t0.495\t0.282\t0.306\t0.236\t0.33\t0.489\t0.314\t0.317\t0.38\n",
        "Seurat\t0.836\t0.426\t0.209\t0.623\t0.587\t0.571\t0.494\t0.322\t0.41\t0.249\t1\t0.609\t0.733\t0.772\t0.56\n",
        "DESC\t0.808\t0.403\t0.215\t0.687\t0.412\t0.593\t0.473\t0.318\t0.535\t0.239\t0.594\t0.621\t0.535\t0.496\t0.495\", header = TRUE)"
      ]
    },
    {
      "cell_type": "code",
      "execution_count": 8,
      "metadata": {
        "id": "3zV0uhBAuZAk"
      },
      "outputs": [],
      "source": [
        "NMI_data <- read.table(text = \"Method\tKlein\tRomanov\tChung\tPbmc\tBjörklund\tMouse\tZeisel\tPetropolus\tBrain_Mouse\tNeuron_5K\tBiase\tAdult_Mouse_Heart_5k\tHuman_TBNK_Antibody\tHuman_PBMCs_500\tAVG_Result\n",
        "scVAG\t0.895\t0.567\t0.494\t0.78\t0.794\t0.708\t0.686\t0.655\t0.809\t0.49\t1\t0.819\t0.759\t0.637\t0.721\n",
        "SC3\t0.859\t0.53\t0.31\t0.737\t0.718\t0.757\t0.076\t0.627\t0.696\t0.315\t0.929\t0.705\t0.649\t0.648\t0.611\n",
        "scGAC\t0.856\t0.553\t0.446\t0.76\t0.742\t0.664\t0.624\t0.583\t0.708\t0.427\t1\t0.783\t0.736\t0.627\t0.679\n",
        "scGNN\t0.68\t0.33\t0.469\t0.683\t0.547\t0.635\t0.635\t0.384\t0.486\t0.425\t0.443\t0.636\t0.508\t0.5\t0.526\n",
        "Seurat\t0.856\t0.641\t0.47\t0.746\t0.61\t0.762\t0.661\t0.523\t0.579\t0.324\t1\t0.738\t0.769\t0.801\t0.677\n",
        "DESC\t0.784\t0.589\t0.493\t0.757\t0.5\t0.752\t0.593\t0.555\t0.588\t0.364\t0.641\t0.734\t0.658\t0.605\t0.615\", header = TRUE)"
      ]
    },
    {
      "cell_type": "code",
      "source": [
        "# Reshape the data for plotting\n",
        "plot_data <- tidyr::gather(ARI_data, key = \"Datasets\", value = \"ARI\", -Method)\n",
        "\n",
        "# Manually set the order of levels for Datasets\n",
        "desired_order_datasets <- c (\"Chung\", \"Mouse\", \"Neuron_5K\", \"Human_PBMCs_500\" ,\"Petropolus\",\"Zeisel\", \"Romanov\", \"Pbmc\", \"Adult_Mouse_Heart_5k\", \"Human_TBNK_Antibody\", \"Björklund\",\"Brain_Mouse\", \"Klein\", \"Biase\" ,\"AVG_Result\")\n",
        "plot_data$Datasets <- factor(plot_data$Datasets, levels = desired_order_datasets)\n",
        "\n",
        "# Manually set the order of levels for Method\n",
        "desired_order_method <- c( \"scGNN\", \"DESC\",\"Seurat\", \"SC3\",\"scGAC\",\"scVAG\")\n",
        "plot_data$Method <- factor(plot_data$Method, levels = desired_order_method)\n",
        "\n",
        "# Create a dot plot using ggplot2 with squares as points\n",
        "library(ggplot2)\n",
        "\n",
        "plot1 <- ggplot(plot_data, aes(x = Datasets, y = Method, col = ARI, size = ARI)) +\n",
        "  geom_point(shape = 15) +  # Use shape = 15 for squares\n",
        "  scale_color_gradientn(\"ARI\", breaks = seq(0, 1, 0.1), colors = viridis::viridis(100000)) +  # Adjust the color scale\n",
        "  scale_size_continuous(range = c(0, 5),\n",
        "                         labels = formatC(seq(0, 1, 0.25), 2, format = \"f\")) +\n",
        "  guides(\n",
        "    color = guide_colorbar(order = 1),\n",
        "    size = guide_legend(\"% cells with expr. above\\n global marker median\")\n",
        "  ) +\n",
        "  coord_equal() +\n",
        "  theme_linedraw() +\n",
        "  theme(\n",
        "    panel.grid = element_blank(),\n",
        "    panel.border = element_rect(color = \"black\", fill = NA),  # Add border to the panel\n",
        "    axis.text.x = element_text(angle = 45, hjust = 1)\n",
        "  )\n",
        "\n",
        "# Save the plot in SVG format with full resolution\n",
        "ggsave(filename = \"ARI_Dot.svg\", plot = plot1, device = \"svg\", dpi = 500)"
      ],
      "metadata": {
        "colab": {
          "base_uri": "https://localhost:8080/"
        },
        "id": "Zq6cRkwvRCPm",
        "outputId": "2a472a05-2719-4b03-fcc8-7c3c605f7288"
      },
      "execution_count": 9,
      "outputs": [
        {
          "output_type": "stream",
          "name": "stderr",
          "text": [
            "\u001b[1m\u001b[22mSaving 6.67 x 6.67 in image\n"
          ]
        }
      ]
    },
    {
      "cell_type": "code",
      "source": [
        "# Reshape the data for plotting\n",
        "plot_data <- tidyr::gather(NMI_data, key = \"Datasets\", value = \"NMI\", -Method)\n",
        "\n",
        "# Manually set the order of levels for Datasets\n",
        "desired_order_datasets <- c (\"Chung\", \"Mouse\", \"Neuron_5K\", \"Human_PBMCs_500\" ,\"Petropolus\",\"Zeisel\", \"Romanov\", \"Pbmc\", \"Adult_Mouse_Heart_5k\", \"Human_TBNK_Antibody\", \"Björklund\",\"Brain_Mouse\", \"Klein\", \"Biase\" ,\"AVG_Result\")\n",
        "plot_data$Datasets <- factor(plot_data$Datasets, levels = desired_order_datasets)\n",
        "\n",
        "# Manually set the order of levels for Method\n",
        "desired_order_method <- c( \"scGNN\", \"DESC\",\"Seurat\", \"SC3\",\"scGAC\",\"scVAG\")\n",
        "plot_data$Method <- factor(plot_data$Method, levels = desired_order_method)\n",
        "\n",
        "# Create a dot plot using ggplot2 with squares as points\n",
        "library(ggplot2)\n",
        "\n",
        "plot1 <- ggplot(plot_data, aes(x = Datasets, y = Method, col = NMI, size = NMI)) +\n",
        "  geom_point(shape = 15) +  # Use shape = 15 for squares\n",
        "  scale_color_gradientn(\"NMI\", breaks = seq(0, 1, 0.1), colors = viridis::viridis(100000)) +  # Adjust the color scale\n",
        "  scale_size_continuous(range = c(0, 5),\n",
        "                         labels = formatC(seq(0, 1, 0.25), 2, format = \"f\")) +\n",
        "  guides(\n",
        "    color = guide_colorbar(order = 1),\n",
        "    size = guide_legend(\"% cells with expr. above\\n global marker median\")\n",
        "  ) +\n",
        "  coord_equal() +\n",
        "  theme_linedraw() +\n",
        "  theme(\n",
        "    panel.grid = element_blank(),\n",
        "    panel.border = element_rect(color = \"black\", fill = NA),  # Add border to the panel\n",
        "    axis.text.x = element_text(angle = 45, hjust = 1)\n",
        "  )\n",
        "\n",
        "# Save the plot in SVG format with full resolution\n",
        "ggsave(filename = \"NMI_Dot.svg\", plot = plot1, device = \"svg\", dpi = 500)"
      ],
      "metadata": {
        "colab": {
          "base_uri": "https://localhost:8080/"
        },
        "id": "2rhF87xBEVRG",
        "outputId": "8851898f-e904-45c3-b2ad-231072069184"
      },
      "execution_count": 10,
      "outputs": [
        {
          "output_type": "stream",
          "name": "stderr",
          "text": [
            "\u001b[1m\u001b[22mSaving 6.67 x 6.67 in image\n"
          ]
        }
      ]
    },
    {
      "cell_type": "code",
      "execution_count": 13,
      "metadata": {
        "colab": {
          "base_uri": "https://localhost:8080/"
        },
        "id": "_w5pMIx3wzO4",
        "outputId": "c020c783-98ec-4b62-b843-3c4fb73ce9c4"
      },
      "outputs": [
        {
          "output_type": "stream",
          "name": "stderr",
          "text": [
            "\u001b[1m\u001b[22mSaving 6.67 x 6.67 in image\n"
          ]
        }
      ],
      "source": [
        "# Reshape the data for plotting\n",
        "library(tidyr)\n",
        "plot_data <- tidyr::gather(ARI_data, key = \"Datasets\", value = \"ARI\", -Method)\n",
        "\n",
        "# Manually re-order the levels of Method to swap scVAG and Seurat\n",
        "plot_data$Method <- factor(plot_data$Method, levels = c(\"SC3\", \"scGNN\", \"DESC\", \"Seurat\", \"scGAC\",\"scVAG\"))\n",
        "# Manually set the order of levels for Datasets\n",
        "desired_order <- c(\"Chung\", \"Mouse\", \"Neuron_5K\", \"Human_PBMCs_500\" ,\"Petropolus\",\"Zeisel\", \"Romanov\", \"Pbmc\", \"Adult_Mouse_Heart_5k\", \"Human_TBNK_Antibody\", \"Björklund\",\"Brain_Mouse\", \"Klein\", \"Biase\" ,\"AVG_Result\")\n",
        "plot_data$Datasets <- factor(plot_data$Datasets, levels = desired_order)\n",
        "\n",
        "# Create an enhanced heatmap-like plot with ggplot2\n",
        "library(ggplot2)\n",
        "\n",
        "plot3 <- ggplot(plot_data, aes(x = Method, y = Datasets, fill = ARI)) +\n",
        "  geom_tile(color = \"white\") +\n",
        "  scale_fill_gradient2(name = \"ARI\", breaks = seq(0, 1, 0.1),\n",
        "                       low = \"blue\", mid = \"white\", high = \"red\",\n",
        "                       midpoint = 0.5, guide = \"colorbar\") +\n",
        "  geom_text(aes(label = sprintf(\"%.2f\", ARI)), vjust = 1) +\n",
        "  theme_minimal() +\n",
        "  theme(\n",
        "    axis.text.x = element_text(angle = 45, hjust = 1),\n",
        "    axis.title.x = element_blank(),\n",
        "    legend.position = \"right\",\n",
        "    panel.grid = element_blank(),\n",
        "    panel.border = element_rect(color = \"black\", fill = NA, size = 0.5)\n",
        "  )\n",
        "ggsave(filename = \"ARI_hit.svg\", plot = plot3, device = \"svg\", dpi = 500)"
      ]
    },
    {
      "cell_type": "code",
      "source": [
        "# Reshape the data for plotting\n",
        "library(tidyr)\n",
        "plot_data <- tidyr::gather(NMI_data, key = \"Datasets\", value = \"NMI\", -Method)\n",
        "\n",
        "# Manually re-order the levels of Method to swap scVAG and Seurat\n",
        "plot_data$Method <- factor(plot_data$Method, levels = c(\"SC3\", \"scGNN\", \"DESC\", \"Seurat\", \"scGAC\",\"scVAG\"))\n",
        "# Manually set the order of levels for Datasets\n",
        "desired_order <- c(\"Chung\", \"Mouse\", \"Neuron_5K\", \"Human_PBMCs_500\" ,\"Petropolus\",\"Zeisel\", \"Romanov\", \"Pbmc\", \"Adult_Mouse_Heart_5k\", \"Human_TBNK_Antibody\", \"Björklund\",\"Brain_Mouse\", \"Klein\", \"Biase\" ,\"AVG_Result\")\n",
        "plot_data$Datasets <- factor(plot_data$Datasets, levels = desired_order)\n",
        "\n",
        "# Create an enhanced heatmap-like plot with ggplot2\n",
        "library(ggplot2)\n",
        "\n",
        "plot3 <- ggplot(plot_data, aes(x = Method, y = Datasets, fill = NMI)) +\n",
        "  geom_tile(color = \"white\") +\n",
        "  scale_fill_gradient2(name = \"NMI\", breaks = seq(0, 1, 0.1),\n",
        "                       low = \"blue\", mid = \"white\", high = \"red\",\n",
        "                       midpoint = 0.5, guide = \"colorbar\") +\n",
        "  geom_text(aes(label = sprintf(\"%.2f\", NMI)), vjust = 1) +\n",
        "  theme_minimal() +\n",
        "  theme(\n",
        "    axis.text.x = element_text(angle = 45, hjust = 1),\n",
        "    axis.title.x = element_blank(),\n",
        "    legend.position = \"right\",\n",
        "    panel.grid = element_blank(),\n",
        "    panel.border = element_rect(color = \"black\", fill = NA, size = 0.5)\n",
        "  )\n",
        "ggsave(filename = \"NMI_hit.svg\", plot = plot3, device = \"svg\", dpi = 500)"
      ],
      "metadata": {
        "colab": {
          "base_uri": "https://localhost:8080/"
        },
        "id": "i7swlb-C_tYi",
        "outputId": "759f69ad-14ac-4d7f-8b50-54837d1fe596"
      },
      "execution_count": 12,
      "outputs": [
        {
          "output_type": "stream",
          "name": "stderr",
          "text": [
            "\u001b[1m\u001b[22mSaving 6.67 x 6.67 in image\n"
          ]
        }
      ]
    },
    {
      "cell_type": "code",
      "source": [],
      "metadata": {
        "id": "Naeo6TyKH4Oh"
      },
      "execution_count": null,
      "outputs": []
    }
  ],
  "metadata": {
    "colab": {
      "provenance": []
    },
    "kernelspec": {
      "display_name": "R",
      "name": "ir"
    },
    "language_info": {
      "name": "R"
    }
  },
  "nbformat": 4,
  "nbformat_minor": 0
}